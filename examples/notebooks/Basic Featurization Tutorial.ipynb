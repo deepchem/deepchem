{
  "nbformat": 4,
  "nbformat_minor": 0,
  "metadata": {
    "colab": {
      "provenance": []
    },
    "kernelspec": {
      "name": "python3",
      "display_name": "Python 3"
    },
    "language_info": {
      "name": "python"
    }
  },
  "cells": [
    {
      "cell_type": "code",
      "execution_count": 1,
      "metadata": {
        "colab": {
          "base_uri": "https://localhost:8080/"
        },
        "id": "DFVmOthJnUpn",
        "outputId": "2581b548-55d5-4aa3-a818-f3ecd495ca13"
      },
      "outputs": [
        {
          "output_type": "stream",
          "name": "stdout",
          "text": [
            "Collecting deepchem\n",
            "  Downloading deepchem-2.8.0-py3-none-any.whl.metadata (2.0 kB)\n",
            "Collecting rdkit-pypi\n",
            "  Downloading rdkit_pypi-2022.9.5-cp311-cp311-manylinux_2_17_x86_64.manylinux2014_x86_64.whl.metadata (3.9 kB)\n",
            "Requirement already satisfied: matplotlib in /usr/local/lib/python3.11/dist-packages (3.10.0)\n",
            "Requirement already satisfied: joblib in /usr/local/lib/python3.11/dist-packages (from deepchem) (1.4.2)\n",
            "Requirement already satisfied: numpy>=1.21 in /usr/local/lib/python3.11/dist-packages (from deepchem) (2.0.2)\n",
            "Requirement already satisfied: pandas in /usr/local/lib/python3.11/dist-packages (from deepchem) (2.2.2)\n",
            "Requirement already satisfied: scikit-learn in /usr/local/lib/python3.11/dist-packages (from deepchem) (1.6.1)\n",
            "Requirement already satisfied: sympy in /usr/local/lib/python3.11/dist-packages (from deepchem) (1.13.1)\n",
            "Requirement already satisfied: scipy>=1.10.1 in /usr/local/lib/python3.11/dist-packages (from deepchem) (1.14.1)\n",
            "Collecting rdkit (from deepchem)\n",
            "  Downloading rdkit-2024.9.6-cp311-cp311-manylinux_2_28_x86_64.whl.metadata (4.0 kB)\n",
            "Requirement already satisfied: Pillow in /usr/local/lib/python3.11/dist-packages (from rdkit-pypi) (11.1.0)\n",
            "Requirement already satisfied: contourpy>=1.0.1 in /usr/local/lib/python3.11/dist-packages (from matplotlib) (1.3.1)\n",
            "Requirement already satisfied: cycler>=0.10 in /usr/local/lib/python3.11/dist-packages (from matplotlib) (0.12.1)\n",
            "Requirement already satisfied: fonttools>=4.22.0 in /usr/local/lib/python3.11/dist-packages (from matplotlib) (4.56.0)\n",
            "Requirement already satisfied: kiwisolver>=1.3.1 in /usr/local/lib/python3.11/dist-packages (from matplotlib) (1.4.8)\n",
            "Requirement already satisfied: packaging>=20.0 in /usr/local/lib/python3.11/dist-packages (from matplotlib) (24.2)\n",
            "Requirement already satisfied: pyparsing>=2.3.1 in /usr/local/lib/python3.11/dist-packages (from matplotlib) (3.2.1)\n",
            "Requirement already satisfied: python-dateutil>=2.7 in /usr/local/lib/python3.11/dist-packages (from matplotlib) (2.8.2)\n",
            "Requirement already satisfied: six>=1.5 in /usr/local/lib/python3.11/dist-packages (from python-dateutil>=2.7->matplotlib) (1.17.0)\n",
            "Requirement already satisfied: pytz>=2020.1 in /usr/local/lib/python3.11/dist-packages (from pandas->deepchem) (2025.1)\n",
            "Requirement already satisfied: tzdata>=2022.7 in /usr/local/lib/python3.11/dist-packages (from pandas->deepchem) (2025.1)\n",
            "Requirement already satisfied: threadpoolctl>=3.1.0 in /usr/local/lib/python3.11/dist-packages (from scikit-learn->deepchem) (3.6.0)\n",
            "Requirement already satisfied: mpmath<1.4,>=1.1.0 in /usr/local/lib/python3.11/dist-packages (from sympy->deepchem) (1.3.0)\n",
            "Downloading deepchem-2.8.0-py3-none-any.whl (1.0 MB)\n",
            "\u001b[2K   \u001b[90m━━━━━━━━━━━━━━━━━━━━━━━━━━━━━━━━━━━━━━━━\u001b[0m \u001b[32m1.0/1.0 MB\u001b[0m \u001b[31m11.0 MB/s\u001b[0m eta \u001b[36m0:00:00\u001b[0m\n",
            "\u001b[?25hDownloading rdkit_pypi-2022.9.5-cp311-cp311-manylinux_2_17_x86_64.manylinux2014_x86_64.whl (29.4 MB)\n",
            "\u001b[2K   \u001b[90m━━━━━━━━━━━━━━━━━━━━━━━━━━━━━━━━━━━━━━━━\u001b[0m \u001b[32m29.4/29.4 MB\u001b[0m \u001b[31m15.0 MB/s\u001b[0m eta \u001b[36m0:00:00\u001b[0m\n",
            "\u001b[?25hDownloading rdkit-2024.9.6-cp311-cp311-manylinux_2_28_x86_64.whl (34.3 MB)\n",
            "\u001b[2K   \u001b[90m━━━━━━━━━━━━━━━━━━━━━━━━━━━━━━━━━━━━━━━━\u001b[0m \u001b[32m34.3/34.3 MB\u001b[0m \u001b[31m10.2 MB/s\u001b[0m eta \u001b[36m0:00:00\u001b[0m\n",
            "\u001b[?25hInstalling collected packages: rdkit-pypi, rdkit, deepchem\n",
            "Successfully installed deepchem-2.8.0 rdkit-2024.9.6 rdkit-pypi-2022.9.5\n"
          ]
        }
      ],
      "source": [
        "!pip install deepchem rdkit-pypi matplotlib"
      ]
    },
    {
      "cell_type": "code",
      "source": [
        "import deepchem as dc\n",
        "import numpy as np\n",
        "from rdkit import Chem\n",
        "from rdkit.Chem import Descriptors\n",
        "from deepchem.feat import Featurizer, OneHotFeaturizer, RawFeaturizer, UserDefinedFeaturizer\n",
        "import matplotlib.pyplot as plt\n",
        "\n",
        "print(\"DeepChem version:\", dc.__version__)"
      ],
      "metadata": {
        "colab": {
          "base_uri": "https://localhost:8080/"
        },
        "id": "KeP6dz1znaui",
        "outputId": "1c4915ff-9b59-4260-8686-9a37cc11a98b"
      },
      "execution_count": 2,
      "outputs": [
        {
          "output_type": "stream",
          "name": "stderr",
          "text": [
            "WARNING:deepchem.feat.molecule_featurizers.rdkit_descriptors:No normalization for SPS. Feature removed!\n",
            "WARNING:deepchem.feat.molecule_featurizers.rdkit_descriptors:No normalization for AvgIpc. Feature removed!\n",
            "WARNING:deepchem.feat.molecule_featurizers.rdkit_descriptors:No normalization for NumAmideBonds. Feature removed!\n",
            "WARNING:deepchem.feat.molecule_featurizers.rdkit_descriptors:No normalization for NumAtomStereoCenters. Feature removed!\n",
            "WARNING:deepchem.feat.molecule_featurizers.rdkit_descriptors:No normalization for NumBridgeheadAtoms. Feature removed!\n",
            "WARNING:deepchem.feat.molecule_featurizers.rdkit_descriptors:No normalization for NumHeterocycles. Feature removed!\n",
            "WARNING:deepchem.feat.molecule_featurizers.rdkit_descriptors:No normalization for NumSpiroAtoms. Feature removed!\n",
            "WARNING:deepchem.feat.molecule_featurizers.rdkit_descriptors:No normalization for NumUnspecifiedAtomStereoCenters. Feature removed!\n",
            "WARNING:deepchem.feat.molecule_featurizers.rdkit_descriptors:No normalization for Phi. Feature removed!\n",
            "\u001b[34m\u001b[1mwandb\u001b[0m: \u001b[33mWARNING\u001b[0m W&B installed but not logged in.  Run `wandb login` or set the WANDB_API_KEY env variable.\n",
            "WARNING:tensorflow:From /usr/local/lib/python3.11/dist-packages/tensorflow/python/util/deprecation.py:588: calling function (from tensorflow.python.eager.polymorphic_function.polymorphic_function) with experimental_relax_shapes is deprecated and will be removed in a future version.\n",
            "Instructions for updating:\n",
            "experimental_relax_shapes is deprecated, use reduce_retracing instead\n",
            "\u001b[34m\u001b[1mwandb\u001b[0m: \u001b[33mWARNING\u001b[0m W&B installed but not logged in.  Run `wandb login` or set the WANDB_API_KEY env variable.\n",
            "WARNING:deepchem.models.torch_models:Skipped loading modules with pytorch-geometric dependency, missing a dependency. No module named 'torch_geometric'\n",
            "WARNING:deepchem.models:Skipped loading modules with pytorch-geometric dependency, missing a dependency. cannot import name 'DMPNN' from 'deepchem.models.torch_models' (/usr/local/lib/python3.11/dist-packages/deepchem/models/torch_models/__init__.py)\n",
            "WARNING:deepchem.models:Skipped loading modules with pytorch-lightning dependency, missing a dependency. No module named 'lightning'\n",
            "WARNING:deepchem.models:Skipped loading some Jax models, missing a dependency. No module named 'haiku'\n"
          ]
        },
        {
          "output_type": "stream",
          "name": "stdout",
          "text": [
            "DeepChem version: 2.8.0\n"
          ]
        }
      ]
    },
    {
      "cell_type": "markdown",
      "source": [
        "# Simple Sample Dataset"
      ],
      "metadata": {
        "id": "T7JPiHlaneCW"
      }
    },
    {
      "cell_type": "code",
      "source": [
        "# 15 diverse organic molecules with different functional groups\n",
        "smiles_list = [\n",
        "    'CCO',  # Ethanol\n",
        "    'C=O',  # Formaldehyde\n",
        "    'C1CCCCC1',  # Cyclohexane\n",
        "    'c1ccccc1',  # Benzene\n",
        "    'CN1C=NC2=C1C=CC=N2',  # Caffeine\n",
        "    'CC(C)C(=O)O',  # Ibuprofen\n",
        "    'C1=CC(=C(C=C1O)O)',  # Catechol\n",
        "    'NC(=O)C(Cl)Cl',  # Chloroacetamide\n",
        "    'C(C(=O)O)N',  # Glycine\n",
        "    'C1C=CC=CC=1',  # 1,3-Cyclopentadiene\n",
        "    'O=S(=O)(O)c1ccc(cc1)N',  # Sulfanilamide\n",
        "    'C[C@H](O)CO',  # (R)-Glyceraldehyde\n",
        "    'C1C=CC=C1',  # Cyclopentene\n",
        "    'CC(=O)N(C)C',  # N,N-Dimethylacetamide\n",
        "    'C1CC1',  # Cyclopropane\n",
        "]\n",
        "\n",
        "# Create RDKit molecules and calculate some properties for UserDefinedFeaturizer\n",
        "mols = []\n",
        "custom_features = []\n",
        "for smiles in smiles_list:\n",
        "    mol = Chem.MolFromSmiles(smiles)\n",
        "    mols.append(mol)\n",
        "\n",
        "    # Calculate custom features\n",
        "    num_atoms = mol.GetNumAtoms()\n",
        "    mol_weight = Descriptors.MolWt(mol)\n",
        "    num_rings = Chem.rdMolDescriptors.CalcNumRings(mol)\n",
        "    custom_features.append([num_atoms, mol_weight, num_rings])"
      ],
      "metadata": {
        "id": "HRQg0o2PnhTm"
      },
      "execution_count": 3,
      "outputs": []
    },
    {
      "cell_type": "markdown",
      "source": [
        "# Featurizer Base Class Demonstration"
      ],
      "metadata": {
        "id": "JWKzWpCOnjTb"
      }
    },
    {
      "cell_type": "code",
      "source": [
        "class AtomCountFeaturizer(Featurizer):\n",
        "    \"\"\"Custom featurizer inheriting from base class\"\"\"\n",
        "    def _featurize(self, mol):\n",
        "        return [mol.GetNumAtoms()]\n",
        "\n",
        "# Usage example\n",
        "basic_featurizer = AtomCountFeaturizer()\n",
        "atom_counts = basic_featurizer.featurize(mols)\n",
        "\n",
        "print(\"\\nCustom Featurizer Results:\")\n",
        "for smi, count in zip(smiles_list, atom_counts):\n",
        "    print(f\"{smi}: {count[0]} atoms\")"
      ],
      "metadata": {
        "colab": {
          "base_uri": "https://localhost:8080/"
        },
        "id": "u6_uDTgenlQn",
        "outputId": "0f8c3865-bba3-4f5a-ecff-144efbf9c643"
      },
      "execution_count": 4,
      "outputs": [
        {
          "output_type": "stream",
          "name": "stdout",
          "text": [
            "\n",
            "Custom Featurizer Results:\n",
            "CCO: 3 atoms\n",
            "C=O: 2 atoms\n",
            "C1CCCCC1: 6 atoms\n",
            "c1ccccc1: 6 atoms\n",
            "CN1C=NC2=C1C=CC=N2: 10 atoms\n",
            "CC(C)C(=O)O: 6 atoms\n",
            "C1=CC(=C(C=C1O)O): 8 atoms\n",
            "NC(=O)C(Cl)Cl: 6 atoms\n",
            "C(C(=O)O)N: 5 atoms\n",
            "C1C=CC=CC=1: 6 atoms\n",
            "O=S(=O)(O)c1ccc(cc1)N: 11 atoms\n",
            "C[C@H](O)CO: 5 atoms\n",
            "C1C=CC=C1: 5 atoms\n",
            "CC(=O)N(C)C: 6 atoms\n",
            "C1CC1: 3 atoms\n"
          ]
        }
      ]
    },
    {
      "cell_type": "markdown",
      "source": [
        "# OneHotFeaturizer"
      ],
      "metadata": {
        "id": "lESEK3TJn5rx"
      }
    },
    {
      "cell_type": "code",
      "source": [
        "# Initialize with a more comprehensive character set\n",
        "# Using the default ZINC_CHARSET which covers most organic molecules\n",
        "onehot_featurizer = OneHotFeaturizer(max_length=30)  # Increased max_length for larger molecules\n",
        "\n",
        "# Featurize both SMILES strings and molecules\n",
        "try:\n",
        "    smiles_encodings = onehot_featurizer.featurize(smiles_list)\n",
        "    mol_encodings = onehot_featurizer.featurize(mols)\n",
        "\n",
        "    # Check for any failed featurizations\n",
        "    failed_indices = [i for i, enc in enumerate(smiles_encodings) if enc.size == 0]\n",
        "    if failed_indices:\n",
        "        print(f\"Warning: Failed to featurize molecules at indices: {failed_indices}\")\n",
        "        print(\"Problematic SMILES:\", [smiles_list[i] for i in failed_indices])\n",
        "\n",
        "    # Visualization - only plot successful encodings\n",
        "    success_indices = [i for i, enc in enumerate(smiles_encodings) if enc.size > 0]\n",
        "    if success_indices:\n",
        "        plt.figure(figsize=(12,6))\n",
        "        plt.imshow(smiles_encodings[4], cmap='Blues')  # Caffeine encoding\n",
        "        plt.title(\"OneHot Encoding for Caffeine\")\n",
        "        plt.xlabel(\"Character Position\")\n",
        "        plt.ylabel(\"Character Index\")\n",
        "        plt.colorbar(label='Activation')\n",
        "        plt.show()\n",
        "\n",
        "        # Untransform demonstration\n",
        "        reconstructed_smiles = [onehot_featurizer.untransform(enc) for enc in smiles_encodings if enc.size > 0]\n",
        "        original_smiles = [smiles_list[i] for i in range(len(smiles_list)) if smiles_encodings[i].size > 0]\n",
        "\n",
        "        print(\"\\nReconstruction Accuracy:\")\n",
        "        for orig, rec in zip(original_smiles, reconstructed_smiles):\n",
        "            print(f\"Original: {orig:30s} Reconstructed: {rec}\")\n",
        "    else:\n",
        "        print(\"Error: All featurizations failed!\")\n",
        "\n",
        "except Exception as e:\n",
        "    print(f\"Featurization failed with error: {str(e)}\")\n",
        "    print(\"Common causes:\")\n",
        "    print(\"- SMILES contains characters not in the charset\")\n",
        "    print(\"- Molecule is too large for max_length\")\n",
        "    print(\"- Invalid SMILES strings\")"
      ],
      "metadata": {
        "colab": {
          "base_uri": "https://localhost:8080/",
          "height": 868
        },
        "id": "E2HJSdVZn6n-",
        "outputId": "527b3a08-8e34-4123-cea8-c48548319289"
      },
      "execution_count": 5,
      "outputs": [
        {
          "output_type": "display_data",
          "data": {
            "text/plain": [
              "<Figure size 1200x600 with 2 Axes>"
            ],
            "image/png": "[encoded data removed]"
          },
          "metadata": {}
        },
        {
          "output_type": "stream",
          "name": "stdout",
          "text": [
            "\n",
            "Reconstruction Accuracy:\n",
            "Original: CCO                            Reconstructed: CCO\n",
            "Original: C=O                            Reconstructed: C=O\n",
            "Original: C1CCCCC1                       Reconstructed: C1CCCCC1\n",
            "Original: c1ccccc1                       Reconstructed: c1ccccc1\n",
            "Original: CN1C=NC2=C1C=CC=N2             Reconstructed: CN1C=NC2=C1C=CC=N2\n",
            "Original: CC(C)C(=O)O                    Reconstructed: CC(C)C(=O)O\n",
            "Original: C1=CC(=C(C=C1O)O)              Reconstructed: C1=CC(=C(C=C1O)O)\n",
            "Original: NC(=O)C(Cl)Cl                  Reconstructed: NC(=O)C(Cl)Cl\n",
            "Original: C(C(=O)O)N                     Reconstructed: C(C(=O)O)N\n",
            "Original: C1C=CC=CC=1                    Reconstructed: C1C=CC=CC=1\n",
            "Original: O=S(=O)(O)c1ccc(cc1)N          Reconstructed: O=S(=O)(O)c1ccc(cc1)N\n",
            "Original: C[C@H](O)CO                    Reconstructed: C[C@H](O)CO\n",
            "Original: C1C=CC=C1                      Reconstructed: C1C=CC=C1\n",
            "Original: CC(=O)N(C)C                    Reconstructed: CC(=O)N(C)C\n",
            "Original: C1CC1                          Reconstructed: C1CC1\n"
          ]
        }
      ]
    },
    {
      "cell_type": "markdown",
      "source": [
        "# RawFeaturizer"
      ],
      "metadata": {
        "id": "1zWQHWLYoEIr"
      }
    },
    {
      "cell_type": "code",
      "source": [
        "from rdkit import Chem\n",
        "from deepchem.feat import RawFeaturizer\n",
        "import warnings\n",
        "\n",
        "# Filter out RDKit warnings to clean up output\n",
        "warnings.filterwarnings(\"ignore\", category=UserWarning, module='rdkit')\n",
        "\n",
        "# Create featurizer instances\n",
        "smiles_featurizer = RawFeaturizer(smiles=True)\n",
        "mol_featurizer = RawFeaturizer(smiles=False)\n",
        "\n",
        "# Convert between representations with error handling\n",
        "try:\n",
        "    print(\"\\nConverting molecules to SMILES:\")\n",
        "    smiles_from_mols = smiles_featurizer.featurize(mols)\n",
        "    for mol, smiles in zip(mols, smiles_from_mols):\n",
        "        print(f\"Mol: {Chem.MolToSmiles(mol)} → SMILES: {smiles}\")\n",
        "\n",
        "    print(\"\\nConverting SMILES to molecules:\")\n",
        "    mols_from_smiles = mol_featurizer.featurize(smiles_list)\n",
        "    for smi, mol in zip(smiles_list, mols_from_smiles):\n",
        "        print(f\"SMILES: {smi} → Mol: {Chem.MolToSmiles(mol) if mol else 'Invalid'}\")\n",
        "\n",
        "except Exception as e:\n",
        "    print(f\"Error during conversion: {str(e)}\")\n",
        "\n",
        "# Round-trip validation with safety checks\n",
        "print(\"\\nRound-trip Validation:\")\n",
        "original = smiles_list[3]\n",
        "if len(mols_from_smiles) > 3 and mols_from_smiles[3] is not None:\n",
        "    round_trip = Chem.MolToSmiles(mols_from_smiles[3])\n",
        "    print(f\"Original: {original}\\nRound-trip: {round_trip}\")\n",
        "else:\n",
        "    print(f\"Failed to process SMILES: {original}\")\n",
        "\n",
        "# Invalid SMILES handling with detailed diagnostics\n",
        "print(\"\\nInvalid SMILES Handling:\")\n",
        "invalid_smiles = ['C1CC', 'O=C=O', 'CC(=O)N(C)C']  # Last one is valid for comparison\n",
        "\n",
        "for smi in invalid_smiles:\n",
        "    try:\n",
        "        mol = Chem.MolFromSmiles(smi)\n",
        "        if mol is None:\n",
        "            print(f\"SMILES '{smi}' is invalid - RDKit failed to parse\")\n",
        "            continue\n",
        "\n",
        "        # Try canonicalization\n",
        "        canon_smi = Chem.MolToSmiles(mol)\n",
        "        print(f\"SMILES '{smi}' → Canonical: {canon_smi}\")\n",
        "\n",
        "    except Exception as e:\n",
        "        print(f\"Error processing SMILES '{smi}': {str(e)}\")\n",
        "\n",
        "# Now test with RawFeaturizer\n",
        "print(\"\\nTesting RawFeaturizer with invalid SMILES:\")\n",
        "results = mol_featurizer.featurize(invalid_smiles)\n",
        "for smi, result in zip(invalid_smiles, results):\n",
        "    status = \"Success\" if result is not None else \"Failed\"\n",
        "    print(f\"SMILES '{smi}': {status}\")\n",
        "    if result:\n",
        "        print(f\"  → Result: {Chem.MolToSmiles(result)}\")"
      ],
      "metadata": {
        "colab": {
          "base_uri": "https://localhost:8080/"
        },
        "id": "Swge-V76oGFA",
        "outputId": "4d573fc2-2b03-4f12-b7a6-d3c6fd501099"
      },
      "execution_count": 6,
      "outputs": [
        {
          "output_type": "stream",
          "name": "stderr",
          "text": [
            "[00:52:23] SMILES Parse Error: unclosed ring for input: 'C1CC'\n",
            "[00:52:23] SMILES Parse Error: unclosed ring for input: 'C1CC'\n",
            "WARNING:deepchem.feat.base_classes:Failed to featurize datapoint 0, None. Appending empty array\n",
            "WARNING:deepchem.feat.base_classes:Exception message: Python argument types in\n",
            "    rdkit.Chem.rdmolfiles.CanonicalRankAtoms(NoneType)\n",
            "did not match C++ signature:\n",
            "    CanonicalRankAtoms(RDKit::ROMol mol, bool breakTies=True, bool includeChirality=True, bool includeIsotopes=True, bool includeAtomMaps=True, bool includeChiralPresence=False)\n",
            "WARNING:deepchem.feat.base_classes:Exception message: setting an array element with a sequence. The requested array has an inhomogeneous shape after 1 dimensions. The detected shape was (3,) + inhomogeneous part.\n"
          ]
        },
        {
          "output_type": "stream",
          "name": "stdout",
          "text": [
            "\n",
            "Converting molecules to SMILES:\n",
            "Mol: CCO → SMILES: CCO\n",
            "Mol: C=O → SMILES: C=O\n",
            "Mol: C1CCCCC1 → SMILES: C1CCCCC1\n",
            "Mol: c1ccccc1 → SMILES: c1ccccc1\n",
            "Mol: Cn1cnc2ncccc21 → SMILES: Cn1cnc2ncccc21\n",
            "Mol: CC(C)C(=O)O → SMILES: CC(C)C(=O)O\n",
            "Mol: Oc1cccc(O)c1 → SMILES: Oc1cccc(O)c1\n",
            "Mol: NC(=O)C(Cl)Cl → SMILES: NC(=O)C(Cl)Cl\n",
            "Mol: NCC(=O)O → SMILES: NCC(=O)O\n",
            "Mol: c1ccccc1 → SMILES: c1ccccc1\n",
            "Mol: Nc1ccc(S(=O)(=O)O)cc1 → SMILES: Nc1ccc(S(=O)(=O)O)cc1\n",
            "Mol: C[C@H](O)CO → SMILES: C[C@H](O)CO\n",
            "Mol: C1=CCC=C1 → SMILES: C1=CCC=C1\n",
            "Mol: CC(=O)N(C)C → SMILES: CC(=O)N(C)C\n",
            "Mol: C1CC1 → SMILES: C1CC1\n",
            "\n",
            "Converting SMILES to molecules:\n",
            "SMILES: CCO → Mol: CCO\n",
            "SMILES: C=O → Mol: C=O\n",
            "SMILES: C1CCCCC1 → Mol: C1CCCCC1\n",
            "SMILES: c1ccccc1 → Mol: c1ccccc1\n",
            "SMILES: CN1C=NC2=C1C=CC=N2 → Mol: Cn1cnc2ncccc21\n",
            "SMILES: CC(C)C(=O)O → Mol: CC(C)C(=O)O\n",
            "SMILES: C1=CC(=C(C=C1O)O) → Mol: Oc1cccc(O)c1\n",
            "SMILES: NC(=O)C(Cl)Cl → Mol: NC(=O)C(Cl)Cl\n",
            "SMILES: C(C(=O)O)N → Mol: NCC(=O)O\n",
            "SMILES: C1C=CC=CC=1 → Mol: c1ccccc1\n",
            "SMILES: O=S(=O)(O)c1ccc(cc1)N → Mol: Nc1ccc(S(=O)(=O)O)cc1\n",
            "SMILES: C[C@H](O)CO → Mol: C[C@H](O)CO\n",
            "SMILES: C1C=CC=C1 → Mol: C1=CCC=C1\n",
            "SMILES: CC(=O)N(C)C → Mol: CC(=O)N(C)C\n",
            "SMILES: C1CC1 → Mol: C1CC1\n",
            "\n",
            "Round-trip Validation:\n",
            "Original: c1ccccc1\n",
            "Round-trip: c1ccccc1\n",
            "\n",
            "Invalid SMILES Handling:\n",
            "SMILES 'C1CC' is invalid - RDKit failed to parse\n",
            "SMILES 'O=C=O' → Canonical: O=C=O\n",
            "SMILES 'CC(=O)N(C)C' → Canonical: CC(=O)N(C)C\n",
            "\n",
            "Testing RawFeaturizer with invalid SMILES:\n",
            "SMILES 'C1CC': Success\n",
            "SMILES 'O=C=O': Success\n",
            "  → Result: O=C=O\n",
            "SMILES 'CC(=O)N(C)C': Success\n",
            "  → Result: CC(=O)N(C)C\n"
          ]
        },
        {
          "output_type": "stream",
          "name": "stderr",
          "text": [
            "<ipython-input-6-606f2aac9658>:60: DeprecationWarning: The truth value of an empty array is ambiguous. Returning False, but in future this will result in an error. Use `array.size > 0` to check that an array is not empty.\n",
            "  if result:\n"
          ]
        }
      ]
    },
    {
      "cell_type": "markdown",
      "source": [
        "# UserDefinedFeaturizer"
      ],
      "metadata": {
        "id": "-UFWDMfOoJlX"
      }
    },
    {
      "cell_type": "code",
      "source": [
        "# Create a NumpyDataset with custom features\n",
        "dataset = dc.data.NumpyDataset(\n",
        "    X=np.array(custom_features, dtype=np.float32),\n",
        "    ids=smiles_list\n",
        ")\n",
        "\n",
        "# For tracking feature names, we'll create a separate dictionary\n",
        "feature_names = ['num_atoms', 'mol_weight', 'num_rings']\n",
        "\n",
        "# Initialize featurizer - note this is just for demonstration since we're using precomputed features\n",
        "user_featurizer = UserDefinedFeaturizer(feature_fields=feature_names)\n",
        "\n",
        "# Show feature statistics with proper labels\n",
        "print(\"\\nCustom Feature Statistics:\")\n",
        "print(f\"Average molecular weight ({feature_names[1]}): {np.mean(dataset.X[:, 1]):.2f}\")\n",
        "print(f\"Max ring count ({feature_names[2]}): {np.max(dataset.X[:, 2])}\")\n",
        "\n",
        "# Visualization with proper labels\n",
        "plt.figure(figsize=(8,5))\n",
        "plt.scatter(dataset.X[:,0], dataset.X[:,1], c=dataset.X[:,2])\n",
        "plt.xlabel(feature_names[0])\n",
        "plt.ylabel(feature_names[1])\n",
        "plt.title('Custom Feature Space')\n",
        "plt.colorbar(label=feature_names[2])\n",
        "plt.show()\n",
        "\n",
        "# If you need to track feature names with the dataset, you can add them as metadata:\n",
        "dataset.metadata = {'feature_names': feature_names}\n",
        "print(\"\\nFeature names stored in metadata:\", dataset.metadata['feature_names'])"
      ],
      "metadata": {
        "colab": {
          "base_uri": "https://localhost:8080/",
          "height": 594
        },
        "id": "aCz9Is-eoLWn",
        "outputId": "7d7f1fa1-8e6a-49f1-8992-04850d9fbc1e"
      },
      "execution_count": 7,
      "outputs": [
        {
          "output_type": "stream",
          "name": "stdout",
          "text": [
            "\n",
            "Custom Feature Statistics:\n",
            "Average molecular weight (mol_weight): 86.37\n",
            "Max ring count (num_rings): 2.0\n"
          ]
        },
        {
          "output_type": "display_data",
          "data": {
            "text/plain": [
              "<Figure size 800x500 with 2 Axes>"
            ],
            "image/png": "[encoded data removed]"
          },
          "metadata": {}
        },
        {
          "output_type": "stream",
          "name": "stdout",
          "text": [
            "\n",
            "Feature names stored in metadata: ['num_atoms', 'mol_weight', 'num_rings']\n"
          ]
        }
      ]
    }
  ]
}