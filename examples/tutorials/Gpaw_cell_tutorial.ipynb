{
 "cells": [
  {
   "cell_type": "markdown",
   "metadata": {},
   "source": [
    "# **GPAW Tutorial for DeepChem**\n",
    "\n",
    "Author : Rakshit Kr. Singh : [Website](https://sudo-rsingh.github.io/) : [LinkedIn](https://www.linkedin.com/in/rakshit-singh-ai/) : [GitHub](https://github.com/sudo-rsingh)"
   ]
  },
  {
   "cell_type": "markdown",
   "metadata": {},
   "source": [
    "## **Introduction**\n",
    "\n",
    "GPAW (Grid-Based Projector-Augmented Wave Method) [1] is a Python-based software for performing density functional theory (DFT) calculations. DFT is widely used in computational materials science to calculate electronic structure, total energy, forces, and other properties of materials at the atomic scale. This tutorial guides you through performing unit cell calculations with GPAW and explains all relevant concepts.\n",
    "\n",
    "### **Understanding Density Functional Theory (DFT)**\n",
    "\n",
    "Density Functional Theory (DFT) [2] is a quantum mechanical modeling method used in computational chemistry and physics to investigate the electronic structure of many-body systems, particularly atoms, molecules, and solids. It is a crucial tool for understanding and predicting the properties of materials, from the behavior of individual atoms to the macroscopic properties of solid-state materials.\n",
    "\n",
    "The central idea of DFT is that the properties of a many-electron system can be determined by knowing the electron density, rather than the many-body wavefunction. In other words, instead of calculating the full wavefunction of a system (which is a complex and computationally expensive task), DFT simplifies the problem by focusing on the electron density, which is a function of just three spatial coordinates, not all the individual positions of the electrons.\n",
    "\n",
    "#### **DFT is grounded in two theorems proposed by Hohenberg and Kohn in 1964**:\n",
    "\n",
    "- **First Theorem**: The ground-state properties of a many-electron system are uniquely determined by the electron density.\n",
    "- **Second Theorem**: The electron density that minimizes the total energy of the system is the true ground-state density.\n",
    "\n",
    "While the Hohenberg-Kohn theorems [3] show the existence of a functional for the total energy, the exact form of this functional is not known. However, Kohn and Sham developed a practical approach in 1965 that approximates the ground-state electron density and energy using a set of non-interacting reference systems. The solution involves solving a set of Kohn-Sham equations that describe the behavior of non-interacting electrons under an effective potential, which includes the effects of electron-electron interactions.\n",
    "\n",
    "In physics and quantum chemistry, specifically density functional theory, the Kohn–Sham equation is the non-interacting Schrödinger equation (more clearly, Schrödinger-like equation) of a fictitious system (the \"Kohn–Sham system\") of non-interacting particles (typically electrons) that generate the same density as any given system of interacting particles.\n",
    "\n",
    "**This eigenvalue equation is the typical representation of the Kohn–Sham equations**:\n",
    "\n",
    "$$ \\left[ -\\frac{\\hbar^2}{2m} \\nabla^2 + V_\\text{eff}(\\mathbf{r}) \\right] \\psi_i(\\mathbf{r}) = \\epsilon_i \\psi_i(\\mathbf{r}) $$\n",
    "\n",
    "where $ V_{eff}(r) $ is the effective potential that includes both the external potential and the electron-electron interaction effects.\n"
   ]
  },
  {
   "cell_type": "markdown",
   "metadata": {},
   "source": [
    "## **Setup**\n",
    "\n",
    "To install and set up GPAW, you need to ensure that all its dependencies, including libraries for numerical computations and compilers, are properly installed. The steps below outline a typical installation process:\n",
    "\n",
    "1. **Install Required Libraries**: Use conda to install essential libraries like libxc and blas, which are crucial for GPAW's computational routines.\n",
    "2. **System Updates and Compiler Installation**: Update the system's package list and install the GCC compiler, as it is required for compiling GPAW.\n",
    "3. **Install GPAW**: Install GPAW directly from its GitLab repository using pip. Alternatively, you can use pip install gpaw for the latest stable version.\n",
    "4. **Installation of PAW datasets**: After installation, run the following command to download necessary auxiliary data for GPAW."
   ]
  },
  {
   "cell_type": "code",
   "execution_count": null,
   "metadata": {},
   "outputs": [],
   "source": [
    "%conda install conda-forge::libxc\n",
    "%conda install -c conda-forge blas\n",
    "%apt update\n",
    "%apt install gcc\n",
    "%pip install git+https://gitlab.com/gpaw/gpaw.git  #pip install gpaw\n",
    "%gpaw install-data ."
   ]
  },
  {
   "cell_type": "markdown",
   "metadata": {},
   "source": [
    "## **Setting up Computational Environment (ASE) and defining Unit Cell Structure**\n",
    "\n",
    "The **Atomic Simulation Environment (ASE)** is a Python library for setting up, running, and analyzing atomistic simulations across various computational tools, including DFT codes like GPAW, VASP, and Quantum ESPRESSO. It allows users to create and manipulate atomic structures, perform geometry optimizations, molecular dynamics simulations, and compute properties like energies, forces, and vibrational spectra. ASE's core revolves around the **Atoms** object, which represents atomic systems, and **Calculators**, which interface with external simulation engines. It supports building crystals, surfaces, and clusters while enabling custom workflows through Python scripting. With its flexibility, extensibility, and integration of visualization and analysis tools, ASE is widely used for material science, catalysis, and chemical reaction studies.\n",
    "\n",
    "A unit cell is the smallest repeating structural unit of a crystal lattice that represents the overall symmetry and structure of the crystal. By repeating the unit cell in three-dimensional space, the entire crystal lattice can be reconstructed. Understanding unit cells is fundamental in crystallography, materials science, and solid-state physics.\n",
    "\n",
    "**Diamond Structure**: Silicon atoms form a tetrahedral network with a face-centered cubic (FCC) lattice, characteristic of semiconductors like Si and Ge.\n",
    "\n",
    "Structures could be one of sc, fcc, bcc, tetragonal, bct, hcp, rhombohedral, orthorhombic, mcl, diamond, zincblende, rocksalt, cesiumchloride, fluorite or wurtzite."
   ]
  },
  {
   "cell_type": "code",
   "execution_count": 5,
   "metadata": {},
   "outputs": [],
   "source": [
    "from ase.build import bulk\n",
    "\n",
    "\n",
    "# Create silicon crystal\n",
    "si = bulk('Si', 'diamond', a=5.43)"
   ]
  },
  {
   "cell_type": "markdown",
   "metadata": {},
   "source": [
    "### **Visualising Si Crystal with nglviewer**\n",
    "\n",
    "Nglview provides an interactive 3D visualization tool that integrates seamlessly with Jupyter Notebooks. You can use it to explore the atomic structure of the silicon (Si) crystal in real-time."
   ]
  },
  {
   "cell_type": "code",
   "execution_count": 9,
   "metadata": {},
   "outputs": [
    {
     "data": {
      "application/vnd.jupyter.widget-view+json": {
       "model_id": "8172ba49dd06462888aa1d67dad0ce67",
       "version_major": 2,
       "version_minor": 0
      },
      "text/plain": [
       "NGLWidget()"
      ]
     },
     "metadata": {},
     "output_type": "display_data"
    }
   ],
   "source": [
    "import nglview as nv\n",
    "\n",
    "# Convert to nglview-compatible object and visualize\n",
    "view = nv.show_ase(si)\n",
    "view.add_unitcell()\n",
    "view\n"
   ]
  },
  {
   "cell_type": "markdown",
   "metadata": {},
   "source": [
    "### **Custom Unit Cell**\n",
    "\n",
    "To define a unit cell manually, specify its lattice vectors and atomic positions:\n",
    "\n",
    "- **Lattice Vectors**: These define the periodicity of the unit cell. The example shows a cubic cell with equal edge lengths.\n",
    "- **Fractional Coordinates**: These are normalized to the cell dimensions, making the definition scalable.\n",
    "- **Periodic Boundary Conditions (PBC)**: Essential for simulating bulk properties by eliminating surface effects."
   ]
  },
  {
   "cell_type": "code",
   "execution_count": 20,
   "metadata": {},
   "outputs": [],
   "source": [
    "from ase import Atoms\n",
    "\n",
    "\n",
    "# Define lattice vectors\n",
    "a = 5.43  # Lattice constant\n",
    "cell = [(a, 0, 0),\n",
    "        (0, a, 0),\n",
    "        (0, 0, a)]\n",
    "\n",
    "# Define atomic positions (fractional coordinates)\n",
    "positions = [(0, 0, 0),\n",
    "             (0.25, 0.25, 0.25)]\n",
    "\n",
    "# Create structure\n",
    "atoms = Atoms('Si2',\n",
    "              scaled_positions=positions,\n",
    "              cell=cell,\n",
    "              pbc=True)  # Periodic boundary conditions"
   ]
  },
  {
   "cell_type": "markdown",
   "metadata": {},
   "source": [
    "## **Setting up GPAW Calculator for DFT Calculations**\n",
    "\n",
    "GPAW (Grid-based Projector Augmented Wave) is an open-source Python library for performing density functional theory (DFT) calculations. It uses real-space grids and the projector augmented wave (PAW) method to achieve high accuracy in electronic structure calculations for molecules, surfaces, and bulk materials. GPAW supports various computational modes, including real-space grids, plane waves, and linear combinations of atomic orbitals (LCAO), making it versatile for different system sizes and properties. It integrates seamlessly with the Atomic Simulation Environment (ASE) for structure creation, manipulation, and simulation workflows. GPAW can calculate electronic properties such as band structures, density of states, and optical spectra, and it supports parallelization for large-scale simulations. Its flexibility, combined with Python-based scripting, makes it a powerful tool for computational material science and chemistry research.\n",
    "\n",
    "- **Exchange-Correlation Functional (PBE):** The Perdew-Burke-Ernzerhof (PBE) functional is a widely used approximation in DFT that balances accuracy and computational efficiency for various systems.\n",
    "- **k-Point Mesh:** The k-points discretize the Brillouin zone, ensuring accurate integration of electronic states. A denser mesh improves accuracy but increases computational cost.\n"
   ]
  },
  {
   "cell_type": "code",
   "execution_count": 21,
   "metadata": {},
   "outputs": [],
   "source": [
    "from gpaw import GPAW\n",
    "\n",
    "\n",
    "# Define calculator parameters\n",
    "calc = GPAW(mode='pw',        # Plane-wave mode\n",
    "            xc='PBE',         # Exchange-correlation functional\n",
    "            kpts=(4, 4, 4),   # k-point mesh\n",
    "            txt='output.txt') # Output file\n",
    "\n",
    "# Adding calculator to the ase environment\n",
    "si.calc = calc"
   ]
  },
  {
   "cell_type": "markdown",
   "metadata": {},
   "source": [
    "## **Ground State Energy calculation**\n",
    "\n",
    "The ground state energy represents the minimum energy configuration of a system, obtained by solving the Kohn-Sham equations within Density Functional Theory (DFT). In GPAW, this is achieved by defining a structure and setting up a calculator with appropriate parameters such as exchange-correlation functional, k-point sampling, and energy cutoff.\n",
    "\n",
    "The energy of a crystal structure, as calculated by simulation tools like ASE, typically refers to its **total potential energy** under the given conditions. This energy provides insights into the stability of the structure, as well as its physical and chemical properties.\n",
    "\n",
    "### Physical Meaning of the Energy\n",
    "1. **Total Potential Energy**: This represents the energy required to assemble the crystal from isolated atoms. It is influenced by:\n",
    "   - **Bonding**: Stronger, more stable bonds reduce the total energy.\n",
    "   - **Lattice Configuration**: The arrangement of atoms in the unit cell affects the energy.\n",
    "   - **Interactions**: Includes van der Waals forces, covalent bonds, ionic interactions, etc.\n",
    "\n",
    "2. **Reference Point for Stability**:\n",
    "   - Lower energy = more stable configuration.\n",
    "   - Higher energy = less stable configuration or metastable state.\n",
    "\n",
    "\n",
    "### How to Interpret the Energy of Silicon\n",
    "- **Very Negative Energy**: If the energy is significantly negative, it suggests that the silicon crystal is stable. Silicon in its diamond cubic structure is known to be a stable allotrope at room temperature.\n",
    "- **Comparison with Other Phases**: The stability can also be compared to other polymorphs or allotropes. For example:\n",
    "  - Amorphous silicon has higher energy (less stable).\n",
    "  - Other hypothetical phases may have even higher energies.\n",
    "\n",
    "- **Temperature and Pressure**: Stability is context-dependent. Under extreme conditions (high temperature or pressure), other structures might become more favorable.\n",
    "\n",
    "\n",
    "### Considerations:\n",
    "1. **Energy per Atom**: To compare stability across systems, express the energy in terms of **energy per atom** or **energy per unit cell**.\n",
    "2. **Relative Stability**: Compare the calculated energy with the known values for stable silicon at the same conditions.\n",
    "3. **Zero-Point Energy**: Quantum mechanical effects like zero-point energy may slightly adjust the absolute value, especially at low temperatures."
   ]
  },
  {
   "cell_type": "code",
   "execution_count": 22,
   "metadata": {},
   "outputs": [
    {
     "data": {
      "text/plain": [
       "-10.788084128067034"
      ]
     },
     "execution_count": 22,
     "metadata": {},
     "output_type": "execute_result"
    }
   ],
   "source": [
    "# Get total energy\n",
    "si.get_potential_energy()"
   ]
  },
  {
   "cell_type": "markdown",
   "metadata": {},
   "source": [
    "## **Cell Manipulation**\n",
    "\n",
    "### **Changing Cell Parameters**\n",
    "\n",
    "You can scale or modify the lattice vectors to simulate thermal expansion or structural distortions:\n",
    "\n",
    "- **Scaling**: Uniformly increases the cell size, useful for studying volumetric strain or thermal expansion.\n",
    "- **Directional** Modification: Alters a specific dimension, enabling the simulation of uniaxial stress or strain."
   ]
  },
  {
   "cell_type": "code",
   "execution_count": 23,
   "metadata": {},
   "outputs": [],
   "source": [
    "# Scale the cell\n",
    "atoms.set_cell(atoms.get_cell() * 1.02, scale_atoms=True)\n",
    "\n",
    "# Change a specific lattice vector\n",
    "cell = atoms.get_cell()\n",
    "cell[0] *= 1.1  # Stretch along x-axis\n",
    "atoms.set_cell(cell, scale_atoms=True)"
   ]
  },
  {
   "cell_type": "markdown",
   "metadata": {},
   "source": [
    "### **Strain Applications**\n",
    "\n",
    "Strain engineering modifies material properties by adjusting lattice parameters:\n",
    "\n",
    "- Strain tensors describe the deformation of a unit cell. Biaxial strain alters two dimensions while maintaining the third, common in thin-film studies."
   ]
  },
  {
   "cell_type": "code",
   "execution_count": 26,
   "metadata": {},
   "outputs": [
    {
     "data": {
      "text/plain": [
       "Atoms(symbols='Si2', pbc=True, cell=[6.2143092, 5.649372, 5.5386])"
      ]
     },
     "execution_count": 26,
     "metadata": {},
     "output_type": "execute_result"
    }
   ],
   "source": [
    "import numpy as np\n",
    "\n",
    "\n",
    "def apply_strain(atoms, strain_tensor):\n",
    "    \"\"\"Apply strain to unit cell\"\"\"\n",
    "    cell = atoms.get_cell()\n",
    "    strained_cell = np.dot(cell, strain_tensor)\n",
    "    atoms.set_cell(strained_cell, scale_atoms=True)\n",
    "\n",
    "# Example: Apply 2% biaxial strain\n",
    "strain = np.eye(3)\n",
    "strain[0,0] = strain[1,1] = 1.02\n",
    "apply_strain(atoms, strain)\n",
    "\n",
    "atoms"
   ]
  },
  {
   "cell_type": "markdown",
   "metadata": {},
   "source": [
    "## **Cell Optimization**\n",
    "\n",
    "Cell optimization is the process of adjusting the atomic positions and lattice parameters of a system to find the equilibrium structure with the lowest total energy. This is essential for accurately predicting material properties, as it ensures the simulated structure reflects its most stable configuration under given conditions. Cell optimization involves minimizing forces on atoms and the stress on the unit cell.\n",
    "\n",
    "In GPAW, cell optimization can be performed using optimizers from the Atomic Simulation Environment (ASE), such as BFGS or LBFGS, which iteratively adjust the cell and atomic positions.\n",
    "\n",
    "During optimization, forces acting on atoms are reduced below a specified threshold (e.g., 0.01 eV/Å), and the stress tensor is minimized to ensure mechanical equilibrium of the cell. This process is critical for studying materials under strain, phase transitions, and mechanical properties."
   ]
  },
  {
   "cell_type": "code",
   "execution_count": 32,
   "metadata": {},
   "outputs": [
    {
     "name": "stdout",
     "output_type": "stream",
     "text": [
      "      Step     Time          Energy          fmax\n",
      "BFGS:    0 20:54:32      -10.788377        0.291028\n",
      "BFGS:    1 20:54:33      -10.791563        0.216154\n",
      "BFGS:    2 20:54:35      -10.795613        0.008368\n",
      "BFGS:    3 20:54:37      -10.795619        0.000254\n",
      "BFGS:    4 20:54:39      -10.795619        0.000000\n",
      "Optimized cell: Cell([[-1.064167253964874e-18, 2.737613984722096, 2.737613984722096], [2.737613984722096, 1.723637505385204e-18, 2.737613984722096], [2.737613984722096, 2.737613984722096, 7.493170327501914e-19]])\n",
      "Optimized energy: -10.795367 eV\n"
     ]
    }
   ],
   "source": [
    "from gpaw import GPAW\n",
    "from ase.build import bulk\n",
    "from ase.optimize import BFGS\n",
    "from ase.filters import UnitCellFilter\n",
    "\n",
    "# Create a silicon crystal\n",
    "si = bulk('Si', 'diamond', a=5.43)\n",
    "\n",
    "# Define the calculator\n",
    "calc = GPAW(mode='pw',        # Plane-wave mode\n",
    "            xc='PBE',         # Exchange-correlation functional\n",
    "            kpts=(4, 4, 4),   # k-point mesh\n",
    "            txt=\"output.txt\")\n",
    "si.calc = calc\n",
    "\n",
    "# Apply a unit cell filter to allow both atomic and cell optimization\n",
    "ucf = UnitCellFilter(si)\n",
    "\n",
    "# Run the optimization\n",
    "opt = BFGS(ucf, trajectory='cell_optimization.traj')\n",
    "opt.run(fmax=0.0001)  # Convergence criterion for forces (eV/Å)\n",
    "\n",
    "# Get the optimized cell and energy\n",
    "optimized_cell = si.get_cell()\n",
    "optimized_energy = si.get_potential_energy()\n",
    "print(f\"Optimized cell: {optimized_cell}\")\n",
    "print(f\"Optimized energy: {optimized_energy:.6f} eV\")"
   ]
  },
  {
   "cell_type": "markdown",
   "metadata": {},
   "source": [
    "## **Symmetry Considerations**\n",
    "\n",
    "Symmetry plays a crucial role in computational materials science, significantly reducing the computational cost and improving the accuracy of simulations. By exploiting the inherent symmetry of a crystal structure, the number of atoms in the unit cell and the k-points in the Brillouin zone can be minimized while preserving the physical properties of the system. Symmetry also ensures that the results are consistent with the physical constraints of the material.\n",
    "\n",
    "In simulations, symmetries are often described using **space groups**, which encode the symmetry operations of a crystal, such as rotations, reflections, and translations. GPAW, in conjunction with ASE, can leverage symmetry to construct crystal structures efficiently.\n",
    "\n",
    "### **Benefits of Symmetry Considerations:**\n",
    "- **Reduced Computational Cost:** Fewer atoms and k-points need to be calculated due to symmetry constraints.\n",
    "- **Enhanced Accuracy:** Symmetry ensures that the computed properties are consistent with the physical laws governing the system.\n",
    "- **Simplified Analysis:** Results such as electronic band structures are easier to interpret when symmetry is preserved.\n",
    "\n",
    "### **Applications of Symmetry in DFT:**\n",
    "- **Electronic Band Structure:** Symmetry simplifies the calculation of electronic states and reduces the k-point sampling needed.\n",
    "- **Mechanical Properties:** Symmetry constraints help in studying anisotropic properties like elasticity and piezoelectricity.\n",
    "- **Phase Transitions:** Symmetry breaking or enhancement can be studied to predict phase changes.\n",
    "\n",
    "Understanding and incorporating symmetry is essential for efficient and accurate simulations in computational material science."
   ]
  },
  {
   "cell_type": "code",
   "execution_count": 34,
   "metadata": {},
   "outputs": [
    {
     "name": "stdout",
     "output_type": "stream",
     "text": [
      "Total energy with symmetry consideration: -43.152283 eV\n"
     ]
    }
   ],
   "source": [
    "from ase.spacegroup import crystal\n",
    "from gpaw import GPAW\n",
    "\n",
    "# Create a silicon crystal with symmetry\n",
    "si = crystal('Si',  # Element\n",
    "             basis=[(0, 0, 0)],  # Atomic positions in fractional coordinates\n",
    "             spacegroup=227,     # Fd-3m space group for diamond structure\n",
    "             cellpar=[5.43, 5.43, 5.43, 90, 90, 90])  # Cell parameters\n",
    "\n",
    "# Define the calculator\n",
    "calc = GPAW(mode='pw', xc='PBE', kpts=(4, 4, 4), txt=\"output.txt\")\n",
    "si.calc = calc\n",
    "\n",
    "# Calculate total energy\n",
    "energy = si.get_potential_energy()\n",
    "print(f\"Total energy with symmetry consideration: {energy:.6f} eV\")"
   ]
  },
  {
   "cell_type": "markdown",
   "metadata": {},
   "source": [
    "## References\n",
    "\n",
    "1. Jens Jørgen Mortensen, Ask Hjorth Larsen, Mikael Kuisma et al. GPAW: An open Python package for electronic structure calculations featured J. Chem. Phys. 160, 092503 (2024)\n",
    "2. Lee C, Yang W, Parr RG. Development of the Colle-Salvetti correlation-energy formula into a functional of the electron density. Phys Rev B Condens Matter. 1988 Jan 15;37(2):785-789. doi: 10.1103/physrevb.37.785. PMID: 9944570."
   ]
  },
  {
   "cell_type": "markdown",
   "metadata": {},
   "source": [
    "## **Citing This Tutorial**\n",
    "\n",
    "If you found this tutorial useful please consider citing it using the provided BibTeX.\n",
    "\n",
    "```bibtex\n",
    "@manual{\n",
    " title={GPAW Unit Cell Tutorial},\n",
    " organization={DeepChem},\n",
    " author={Singh, Rakshit kr.},\n",
    " howpublished = {\\url{https://github.com/deepchem/deepchem/blob/master/examples/tutorials/ODE_Solving.ipynb}}, \n",
    " year={2025}, \n",
    "} \n",
    "```"
   ]
  },
  {
   "cell_type": "markdown",
   "metadata": {},
   "source": [
    "## **Congratulations! Time to join the Community!**\n",
    "\n",
    "Congratulations on completing this tutorial notebook! If you enjoyed working through the tutorial, and want to continue working with DeepChem, we encourage you to finish the rest of the tutorials in this series. You can also help the DeepChem community in the following ways:\n",
    "\n",
    "\n",
    "### **Star DeepChem on [GitHub](https://github.com/deepchem/deepchem)**\n",
    "This helps build awareness of the DeepChem project and the tools for open source drug discovery that we're trying to build.\n",
    "\n",
    "\n",
    "### **Join the DeepChem Discord**\n",
    "The DeepChem [Discord](https://discord.gg/SxSzjRRDMA) hosts a number of scientists, developers, and enthusiasts interested in deep learning for the life sciences. Join the conversation!"
   ]
  }
 ],
 "metadata": {
  "kernelspec": {
   "display_name": "gpaw",
   "language": "python",
   "name": "python3"
  },
  "language_info": {
   "codemirror_mode": {
    "name": "ipython",
    "version": 3
   },
   "file_extension": ".py",
   "mimetype": "text/x-python",
   "name": "python",
   "nbconvert_exporter": "python",
   "pygments_lexer": "ipython3",
   "version": "3.12.8"
  }
 },
 "nbformat": 4,
 "nbformat_minor": 2
}
