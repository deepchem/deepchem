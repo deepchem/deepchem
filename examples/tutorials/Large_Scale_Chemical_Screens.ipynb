{
  "cells": [
    {
      "cell_type": "markdown",
      "metadata": {
        "id": "4OMg_Lrk-Mdb"
      },
      "source": [
        "#  Screening Zinc For HIV Inhibition"
      ]
    },
    {
      "cell_type": "markdown",
      "metadata": {
        "id": "pl6kfnsY-Mdd"
      },
      "source": [
        "In this tutorial we will walk through how to efficiently screen a large compound library with DeepChem (ZINC).  Screening a large compound library using machine learning is a CPU bound pleasingly parrellel problem.  The actual code examples I will use assume the resources available are a single very big machine (like an AWS c5.18xlarge), but should be readily swappable for other systmes (like a super computing cluster).  At a high level what we will do is...\n",
        "\n",
        "1. Create a Machine Learning Model Over Labeled Data\n",
        "2. Transform ZINC into \"Work-Units\"\n",
        "3. Create an inference script which runs predictions over a \"Work-Unit\"\n",
        "4. Load \"Work-Unit\" into a \"Work Queue\"\n",
        "5. Consume work units from \"Work Queue\"\n",
        "6. Gather Results\n",
        "\n",
        "This tutorial is unlike the previous tutorials in that it's designed to be run on AWS rather than on Google Colab. That's because we'll need access to a large machine with many cores to do this computation efficiently. We'll try to provide details about how to do this throughout the tutorial.\n",
        "\n",
        "# 1. Train Model On Labelled Data\n",
        "\n",
        "We are just going to knock out a simple model here.  In a real world problem you will probably try several models and do a little hyper parameter searching."
      ]
    },
    {
      "cell_type": "code",
      "source": [
        "!pip install --pre deepchem"
      ],
      "metadata": {
        "colab": {
          "base_uri": "https://localhost:8080/"
        },
        "id": "NykhCIlu-Sby",
        "outputId": "f036ddba-a81e-49d5-e0da-ca4e65f5216e"
      },
      "execution_count": null,
      "outputs": [
        {
          "output_type": "stream",
          "name": "stdout",
          "text": [
            "\u001b[33mWARNING: Ignoring invalid distribution -cipy (/usr/local/lib/python3.10/dist-packages)\u001b[0m\u001b[33m\n",
            "\u001b[0mCollecting deepchem\n",
            "  Downloading deepchem-2.7.2.dev20240322175253-py3-none-any.whl (1.0 MB)\n",
            "\u001b[2K     \u001b[90m━━━━━━━━━━━━━━━━━━━━━━━━━━━━━━━━━━━━━━━━\u001b[0m \u001b[32m1.0/1.0 MB\u001b[0m \u001b[31m13.8 MB/s\u001b[0m eta \u001b[36m0:00:00\u001b[0m\n",
            "\u001b[?25hRequirement already satisfied: joblib in /usr/local/lib/python3.10/dist-packages (from deepchem) (1.3.2)\n",
            "Requirement already satisfied: numpy>=1.21 in /usr/local/lib/python3.10/dist-packages (from deepchem) (1.24.4)\n",
            "Requirement already satisfied: pandas in /usr/local/lib/python3.10/dist-packages (from deepchem) (1.5.3)\n",
            "Requirement already satisfied: scikit-learn in /usr/local/lib/python3.10/dist-packages (from deepchem) (1.2.2)\n",
            "Requirement already satisfied: sympy in /usr/local/lib/python3.10/dist-packages (from deepchem) (1.12)\n",
            "Collecting scipy>=1.10.1 (from deepchem)\n",
            "  Downloading scipy-1.13.0rc1-cp310-cp310-manylinux_2_17_x86_64.manylinux2014_x86_64.whl (38.5 MB)\n",
            "\u001b[2K     \u001b[90m━━━━━━━━━━━━━━━━━━━━━━━━━━━━━━━━━━━━━━━━\u001b[0m \u001b[32m38.5/38.5 MB\u001b[0m \u001b[31m15.9 MB/s\u001b[0m eta \u001b[36m0:00:00\u001b[0m\n",
            "\u001b[?25hCollecting rdkit (from deepchem)\n",
            "  Using cached rdkit-2023.9.5-cp310-cp310-manylinux_2_17_x86_64.manylinux2014_x86_64.whl (34.4 MB)\n",
            "Requirement already satisfied: python-dateutil>=2.8.1 in /usr/local/lib/python3.10/dist-packages (from pandas->deepchem) (2.8.2)\n",
            "Requirement already satisfied: pytz>=2020.1 in /usr/local/lib/python3.10/dist-packages (from pandas->deepchem) (2023.4)\n",
            "Requirement already satisfied: Pillow in /usr/local/lib/python3.10/dist-packages (from rdkit->deepchem) (9.4.0)\n",
            "Requirement already satisfied: threadpoolctl>=2.0.0 in /usr/local/lib/python3.10/dist-packages (from scikit-learn->deepchem) (3.3.0)\n",
            "Requirement already satisfied: mpmath>=0.19 in /usr/local/lib/python3.10/dist-packages (from sympy->deepchem) (1.3.0)\n",
            "Requirement already satisfied: six>=1.5 in /usr/local/lib/python3.10/dist-packages (from python-dateutil>=2.8.1->pandas->deepchem) (1.16.0)\n",
            "\u001b[33mWARNING: Ignoring invalid distribution -cipy (/usr/local/lib/python3.10/dist-packages)\u001b[0m\u001b[33m\n",
            "\u001b[0mInstalling collected packages: scipy, rdkit, deepchem\n",
            "Successfully installed deepchem-2.7.2.dev20240322175253 rdkit-2023.9.5 scipy-1.13.0rc1\n"
          ]
        }
      ]
    },
    {
      "cell_type": "code",
      "execution_count": null,
      "metadata": {
        "colab": {
          "base_uri": "https://localhost:8080/"
        },
        "id": "hKVj6t_i-Mdf",
        "outputId": "3df5ed77-0919-42e2-9142-35bb795702f0"
      },
      "outputs": [
        {
          "output_type": "stream",
          "name": "stderr",
          "text": [
            "WARNING:deepchem.feat.molecule_featurizers.rdkit_descriptors:No normalization for SPS. Feature removed!\n",
            "WARNING:deepchem.feat.molecule_featurizers.rdkit_descriptors:No normalization for AvgIpc. Feature removed!\n",
            "WARNING:tensorflow:From /usr/local/lib/python3.10/dist-packages/tensorflow/python/util/deprecation.py:588: calling function (from tensorflow.python.eager.polymorphic_function.polymorphic_function) with experimental_relax_shapes is deprecated and will be removed in a future version.\n",
            "Instructions for updating:\n",
            "experimental_relax_shapes is deprecated, use reduce_retracing instead\n",
            "WARNING:deepchem.models.torch_models:Skipped loading modules with pytorch-geometric dependency, missing a dependency. No module named 'torch_geometric'\n",
            "WARNING:deepchem.models:Skipped loading modules with pytorch-geometric dependency, missing a dependency. cannot import name 'DMPNN' from 'deepchem.models.torch_models' (/usr/local/lib/python3.10/dist-packages/deepchem/models/torch_models/__init__.py)\n",
            "WARNING:deepchem.models:Skipped loading modules with pytorch-lightning dependency, missing a dependency. No module named 'lightning'\n",
            "WARNING:deepchem.models:Skipped loading some Jax models, missing a dependency. No module named 'haiku'\n"
          ]
        }
      ],
      "source": [
        "from deepchem.molnet.load_function import hiv_datasets"
      ]
    },
    {
      "cell_type": "code",
      "execution_count": null,
      "metadata": {
        "colab": {
          "base_uri": "https://localhost:8080/"
        },
        "id": "C4ZRadLh-Mdg",
        "outputId": "2c46ae51-37f8-4878-a7d5-bf1d3d041d68"
      },
      "outputs": [
        {
          "output_type": "stream",
          "name": "stderr",
          "text": [
            "[10:23:53] WARNING: not removing hydrogen atom without neighbors\n",
            "[10:23:53] WARNING: not removing hydrogen atom without neighbors\n",
            "[10:24:28] WARNING: not removing hydrogen atom without neighbors\n",
            "[10:24:28] WARNING: not removing hydrogen atom without neighbors\n"
          ]
        },
        {
          "output_type": "execute_result",
          "data": {
            "text/plain": [
              "0.7950128173828125"
            ]
          },
          "metadata": {},
          "execution_count": 4
        }
      ],
      "source": [
        "from deepchem.models import GraphConvModel\n",
        "from deepchem.data import NumpyDataset\n",
        "from sklearn.metrics import average_precision_score\n",
        "import numpy as np\n",
        "\n",
        "tasks, all_datasets, transformers = hiv_datasets.load_hiv(featurizer=\"GraphConv\")\n",
        "train, valid, test = [NumpyDataset.from_DiskDataset(x) for x in all_datasets]\n",
        "model = GraphConvModel(1, mode=\"classification\")\n",
        "model.fit(train)"
      ]
    },
    {
      "cell_type": "code",
      "execution_count": null,
      "metadata": {
        "colab": {
          "base_uri": "https://localhost:8080/"
        },
        "id": "Qme0UsEf-Mdh",
        "outputId": "9ca3234f-5b2f-461f-f3ff-22d3c7c94b45"
      },
      "outputs": [
        {
          "output_type": "stream",
          "name": "stdout",
          "text": [
            "Average Precision Score:0.28393357297245714\n",
            "Hit Rate Top 100: 0.33\n"
          ]
        }
      ],
      "source": [
        "y_true = np.squeeze(valid.y)\n",
        "y_pred = model.predict(valid)[:,0,1]\n",
        "print(\"Average Precision Score:%s\" % average_precision_score(y_true, y_pred))\n",
        "sorted_results = sorted(zip(y_pred, y_true), reverse=True)\n",
        "hit_rate_100 = sum(x[1] for x in sorted_results[:100]) / 100\n",
        "print(\"Hit Rate Top 100: %s\" % hit_rate_100)"
      ]
    },
    {
      "cell_type": "markdown",
      "metadata": {
        "id": "PFJZnXe9-Mdh"
      },
      "source": [
        "## Retrain Model Over Full Dataset For The Screen"
      ]
    },
    {
      "cell_type": "code",
      "execution_count": null,
      "metadata": {
        "colab": {
          "base_uri": "https://localhost:8080/"
        },
        "id": "e0m208zO-Mdh",
        "outputId": "88f36aaf-f948-4af9-9c08-a44d292988b4"
      },
      "outputs": [
        {
          "output_type": "stream",
          "name": "stderr",
          "text": [
            "WARNING:deepchem.molnet.load_function.molnet_loader:'split' is deprecated.  Use 'splitter' instead.\n",
            "[10:30:23] WARNING: not removing hydrogen atom without neighbors\n",
            "[10:30:23] WARNING: not removing hydrogen atom without neighbors\n"
          ]
        },
        {
          "output_type": "execute_result",
          "data": {
            "text/plain": [
              "1.0660490036010741"
            ]
          },
          "metadata": {},
          "execution_count": 6
        }
      ],
      "source": [
        "tasks, all_datasets, transformers = hiv_datasets.load_hiv(featurizer=\"GraphConv\", split=None)\n",
        "\n",
        "model = GraphConvModel(1, mode=\"classification\", model_dir=\"/tmp/zinc/screen_model\")\n",
        "model.fit(all_datasets[0])"
      ]
    },
    {
      "cell_type": "markdown",
      "metadata": {
        "id": "-ktrtN1Y-Mdi"
      },
      "source": [
        "# 2. Create Work-Units\n",
        "\n",
        "1. Download All of ZINC15.\n",
        "\n",
        "Go to http://zinc15.docking.org/tranches/home and download all non-empty tranches in .smi format.\n",
        "I found it easiest to download the wget script and then run the wget script.\n",
        "For the rest of this tutorial I will assume zinc was downloaded to /tmp/zinc.\n",
        "\n",
        "\n",
        "The way zinc downloads the data isn't great for inference.  We want \"Work-Units\" which a single CPU can execute that takes a resonable amount of time (10 minutes to an hour).  To accomplish this we are going to split the zinc data into files each with 500 thousand lines.\n",
        "\n",
        "\n",
        "```bash\n",
        "mkdir /tmp/zinc/screen\n",
        "find /tmp/zinc -name '*.smi' -exec cat {} \\; | grep -iv \"smiles\" \\\n",
        "     | split -l 500000 /tmp/zinc/screen/segment\n",
        "```\n",
        "\n",
        "This bash command\n",
        "1. Finds all smi files\n",
        "2. prints to stdout the contents of the file\n",
        "3. removes header lines\n",
        "4. splits into multiple files in /tmp/zinc/screen that are 500k molecules long"
      ]
    },
    {
      "cell_type": "markdown",
      "metadata": {
        "id": "JXhD3ma8-Mdi"
      },
      "source": [
        "## 3. Creat Inference Script\n",
        "\n",
        "Now that we have work unit we need to construct a program which ingests a work unit and logs the result.  It is important that the logging mechanism is thread safe!\n",
        "For this example we will get the work unit via a file-path, and log the result to a file.\n",
        "An easy extensions to distribute over multiple computers would be to get the work unit via a url, and log the results to a distributed queue.\n",
        "\n",
        "Here is what mine looks like\n",
        "\n",
        "inference.py\n",
        "```python\n",
        "import sys\n",
        "import deepchem as dc\n",
        "import numpy as np\n",
        "from rdkit import Chem\n",
        "import pickle\n",
        "import os\n",
        "\n",
        "\n",
        "def create_dataset(fname, batch_size=50000):\n",
        "    featurizer = dc.feat.ConvMolFeaturizer()\n",
        "    fin = open(fname)\n",
        "    mols, orig_lines = [], []\n",
        "    for line in fin:\n",
        "        line = line.strip().split()\n",
        "        try:\n",
        "            mol = Chem.MolFromSmiles(line[0])\n",
        "            if mol is None:\n",
        "                continue\n",
        "            mols.append(mol)\n",
        "            orig_lines.append(line)\n",
        "        except:\n",
        "            pass\n",
        "        if len(mols) > 0 and len(mols) % batch_size == 0:\n",
        "            features = featurizer.featurize(mols)\n",
        "            y = np.ones(shape=(len(mols), 1))\n",
        "            ds = dc.data.NumpyDataset(features, y)\n",
        "            yield ds, orig_lines\n",
        "            mols, orig_lines = [], []\n",
        "    if len(mols) > 0:\n",
        "        features = featurizer.featurize(mols)\n",
        "        y = np.ones(shape=(len(mols), 1))\n",
        "        ds = dc.data.NumpyDataset(features, y)\n",
        "        yield ds, orig_lines\n",
        "\n",
        "\n",
        "def evaluate(fname):\n",
        "    fout_name = \"%s_out.smi\" % fname\n",
        "    model = dc.models.TensorGraph.load_from_dir('screen_model')\n",
        "    for ds, lines in create_dataset(fname):\n",
        "        y_pred = np.squeeze(model.predict(ds), axis=1)\n",
        "        with open(fout_name, 'a') as fout:\n",
        "            for index, line in enumerate(lines):\n",
        "                line.append(y_pred[index][1])\n",
        "                line = [str(x) for x in line]\n",
        "                line = \"\\t\".join(line)\n",
        "                fout.write(\"%s\\n\" % line)\n",
        "\n",
        "\n",
        "if __name__ == \"__main__\":\n",
        "    evaluate(sys.argv[1])\n",
        "```"
      ]
    },
    {
      "cell_type": "markdown",
      "metadata": {
        "id": "4YSx9sak-Mdj"
      },
      "source": [
        "# 4. Load \"Work-Unit\" into a \"Work Queue\"\n",
        "\n",
        "We are going to use a flat file as our distribution mechanism.  It will be a bash script calling our inference script for every work unit.  If you are at an academic institution this would be queing your jobs in pbs/qsub/slurm.  An option for cloud computing would be rabbitmq or kafka."
      ]
    },
    {
      "cell_type": "code",
      "execution_count": null,
      "metadata": {
        "id": "F8wVW7b6-Mdj"
      },
      "outputs": [],
      "source": [
        "import os\n",
        "work_units = os.listdir('/tmp/zinc/screen')\n",
        "with open('/tmp/zinc/work_queue.sh', 'w') as fout:\n",
        "    fout.write(\"#!/bin/bash\\n\")\n",
        "    for work_unit in work_units:\n",
        "        full_path = os.path.join('/tmp/zinc', work_unit)\n",
        "        fout.write(\"python inference.py %s\" % full_path)"
      ]
    },
    {
      "cell_type": "markdown",
      "metadata": {
        "id": "ejAa_ezN-Mdj"
      },
      "source": [
        "# 5. Consume work units from \"distribution mechanism\"\n",
        "\n",
        "We will consume work units from our work queue using a very simple Process Pool.  It takes lines from our \"Work Queue\" and runs them, running as many processes in parrallel as we have cpus.  If  you are using a supercomputing cluster system like pbs/qsub/slurm it will take care of this for you.  The key is to use one CPU per work unit to get highest throughput.  We accomplish that here using the linux utility \"taskset\".\n",
        "\n",
        "Using an c5.18xlarge on aws this will finish overnight.\n",
        "\n",
        "process_pool.py\n",
        "```python\n",
        "import multiprocessing\n",
        "import sys\n",
        "from multiprocessing.pool import Pool\n",
        "\n",
        "import delegator\n",
        "\n",
        "\n",
        "def run_command(args):\n",
        "  q, command = args\n",
        "  cpu_id = q.get()\n",
        "  try:\n",
        "    command = \"taskset -c %s %s\" % (cpu_id, command)\n",
        "    print(\"running %s\" % command)\n",
        "    c = delegator.run(command)\n",
        "    print(c.err)\n",
        "    print(c.out)\n",
        "  except Exception as e:\n",
        "    print(e)\n",
        "  q.put(cpu_id)\n",
        "\n",
        "\n",
        "def main(n_processors, command_file):\n",
        "  commands = [x.strip() for x in open(command_file).readlines()]\n",
        "  commands = list(filter(lambda x: not x.startswith(\"#\"), commands))\n",
        "  q = multiprocessing.Manager().Queue()\n",
        "  for i in range(n_processors):\n",
        "    q.put(i)\n",
        "  argslist = [(q, x) for x in commands]\n",
        "  pool = Pool(processes=n_processors)\n",
        "  pool.map(run_command, argslist)\n",
        "\n",
        "\n",
        "if __name__ == \"__main__\":\n",
        "  processors = multiprocessing.cpu_count()\n",
        "  main(processors, sys.argv[1])\n",
        "```\n",
        "\n",
        "\n",
        "```bash\n",
        ">> python process_pool.py /tmp/zinc/work_queue.sh\n",
        "```"
      ]
    },
    {
      "cell_type": "markdown",
      "metadata": {
        "id": "VX2DIqKu-Mdk"
      },
      "source": [
        "# 6. Gather Results\n",
        "Since we logged our results to \\*_out.smi we now need to gather all of them up and sort them by our predictions.  The resulting file wile be > 40GB.  To analyze the data further you can use dask, or put the data in a rdkit postgres cartridge.\n",
        "\n",
        "Here I show how to join the and sort the data to get the \"best\" results.\n",
        "\n",
        "```bash\n",
        "find /tmp/zinc -name '*_out.smi' -exec cat {} \\; > /tmp/zinc/screen/results.smi\n",
        "sort -rg -k 3,3 /tmp/zinc/screen/results.smi > /tmp/zinc/screen/sorted_results.smi\n",
        "# Put the top 100k scoring molecules in their own file\n",
        "head -n 50000 /tmp/zinc/screen/sorted_results.smi > /tmp/zinc/screen/top_100k.smi\n",
        "```\n",
        "\n",
        "/tmp/zinc/screen/top_100k.smi is now a small enough file to investigate using standard tools like pandas."
      ]
    },
    {
      "cell_type": "code",
      "execution_count": null,
      "metadata": {
        "id": "8EeA9r8--Mdk"
      },
      "outputs": [],
      "source": [
        "from rdkit import Chem\n",
        "from rdkit.Chem.Draw import IPythonConsole\n",
        "from IPython.display import SVG\n",
        "from rdkit.Chem.Draw import rdMolDraw2D\n",
        "best_mols = [Chem.MolFromSmiles(x.strip().split()[0]) for x in open('/tmp/zinc/screen/top_100k.smi').readlines()[:100]]\n",
        "best_scores = [x.strip().split()[2] for x in open('/tmp/zinc/screen/top_100k.smi').readlines()[:100]]"
      ]
    },
    {
      "cell_type": "code",
      "execution_count": null,
      "metadata": {
        "id": "l4R2t4MA-Mdk",
        "outputId": "3c229dc4-9ba9-4743-e908-b0b32aaecd96"
      },
      "outputs": [
        {
          "name": "stdout",
          "output_type": "stream",
          "text": [
            "0.98874843\n"
          ]
        },
        {
          "data": {
            "image/png": "[encoded data removed]",
            "text/plain": [
              "<rdkit.Chem.rdchem.Mol at 0x7f9394ebf940>"
            ]
          },
          "execution_count": 10,
          "metadata": {},
          "output_type": "execute_result"
        }
      ],
      "source": [
        "print(best_scores[0])\n",
        "best_mols[0]"
      ]
    },
    {
      "cell_type": "code",
      "execution_count": null,
      "metadata": {
        "id": "IhL4dxIP-Mdl",
        "outputId": "c7688029-6c78-40a0-fb12-6ba51f520215"
      },
      "outputs": [
        {
          "name": "stdout",
          "output_type": "stream",
          "text": [
            "0.98874843\n"
          ]
        },
        {
          "data": {
            "image/png": "[encoded data removed]",
            "text/plain": [
              "<rdkit.Chem.rdchem.Mol at 0x7f9394e7abc0>"
            ]
          },
          "execution_count": 11,
          "metadata": {},
          "output_type": "execute_result"
        }
      ],
      "source": [
        "print(best_scores[0])\n",
        "best_mols[1]"
      ]
    },
    {
      "cell_type": "code",
      "execution_count": null,
      "metadata": {
        "id": "sD_tNjJF-Mdl",
        "outputId": "748a4ec6-312e-42cf-a8b2-ebefc90d2d85"
      },
      "outputs": [
        {
          "name": "stdout",
          "output_type": "stream",
          "text": [
            "0.98874843\n"
          ]
        },
        {
          "data": {
            "image/png": "[encoded data removed]",
            "text/plain": [
              "<rdkit.Chem.rdchem.Mol at 0x7f9394e818f0>"
            ]
          },
          "execution_count": 12,
          "metadata": {},
          "output_type": "execute_result"
        }
      ],
      "source": [
        "print(best_scores[0])\n",
        "best_mols[2]"
      ]
    },
    {
      "cell_type": "code",
      "execution_count": null,
      "metadata": {
        "id": "N8IPL09Z-Mdl",
        "outputId": "2ae69472-a115-434b-cc83-43e7b2a2b289"
      },
      "outputs": [
        {
          "name": "stdout",
          "output_type": "stream",
          "text": [
            "0.98874843\n"
          ]
        },
        {
          "data": {
            "image/png": "[encoded data removed]",
            "text/plain": [
              "<rdkit.Chem.rdchem.Mol at 0x7f9394e81990>"
            ]
          },
          "execution_count": 13,
          "metadata": {},
          "output_type": "execute_result"
        }
      ],
      "source": [
        "print(best_scores[0])\n",
        "best_mols[3]"
      ]
    },
    {
      "cell_type": "markdown",
      "metadata": {
        "id": "quigSP2W-Mdl"
      },
      "source": [
        "The screen seems to favor molecules with one or multiple sulfur trioxides. The top scoring molecules also have low diversity.  When creating a \"buy list\" we want to optimize for more things than just activity, for instance diversity and drug like MPO."
      ]
    },
    {
      "cell_type": "code",
      "execution_count": null,
      "metadata": {
        "id": "61fSiFtu-Mdm"
      },
      "outputs": [],
      "source": [
        "#We use the code from https://github.com/PatWalters/rd_filters, detailed explanation is here: http://practicalcheminformatics.blogspot.com/2018/08/filtering-chemical-libraries.html\n",
        "#We will run the PAINS filter on best_mols as suggested by Issue 1355 (https://github.com/deepchem/deepchem/issues/1355)\n",
        "import os\n",
        "\n",
        "import pandas as pd\n",
        "from rdkit import Chem\n",
        "from rdkit.Chem.Descriptors import MolWt, MolLogP, NumHDonors, NumHAcceptors, TPSA\n",
        "from rdkit.Chem.rdMolDescriptors import CalcNumRotatableBonds\n",
        "\n",
        "#First we get the rules from alert_collection.csv and then filter to get PAINS filter\n",
        "rule_df = pd.read_csv(os.path.join(os.path.abspath(''), 'assets', 'alert_collection.csv'))\n",
        "rule_df = rule_df[rule_df['rule_set_name']=='PAINS']\n",
        "rule_list = []\n",
        "for rule_id, smarts, max_val, desc in rule_df[[\"rule_id\", \"smarts\", \"max\", \"description\"]].values.tolist():\n",
        "    smarts_mol = Chem.MolFromSmarts(smarts)\n",
        "    if smarts_mol:\n",
        "        rule_list.append((smarts_mol, max_val, desc))\n",
        "\n",
        "def evaluate(smile):\n",
        "    mol = Chem.MolFromSmiles(smile)\n",
        "    if mol is None:\n",
        "        return [smile, \"INVALID\", -999, -999, -999, -999, -999, -999]\n",
        "    desc_list = [MolWt(mol), MolLogP(mol), NumHDonors(mol), NumHAcceptors(mol), TPSA(mol), CalcNumRotatableBonds(mol)]\n",
        "    for patt, max_val, desc in rule_list:\n",
        "        if len(mol.GetSubstructMatches(patt)) > max_val:\n",
        "            return [smiles, desc + \" > %d\" % (max_val)] +desc_list\n",
        "    return [smiles, \"OK\"]+desc_list\n",
        "\n",
        "smiles = [x.strip().split()[0] for x in open('/tmp/zinc/screen/top_100k.smi').readlines()[:100]] # obtain the smiles\n",
        "res = list(map(evaluate, smiles)) # here we apply the PAINS filter\n",
        "\n",
        "df = pd.DataFrame(res, columns=[\"SMILES\", \"FILTER\", \"MW\", \"LogP\", \"HBD\", \"HBA\", \"TPSA\", \"Rot\"])\n",
        "df_ok = df[\n",
        "    (df.FILTER == \"OK\") &\n",
        "    df.MW.between(*[0, 500]) & # MW\n",
        "    df.LogP.between(*[-5, 5]) & #LogP\n",
        "    df.HBD.between(*[0, 5]) & #HBD\n",
        "    df.HBA.between(*[0, 10]) & #HBA\n",
        "    df.TPSA.between(*[0, 200]) & #TPSA\n",
        "    df.Rot.between(*[0, 10]) #Rot\n",
        "    ]"
      ]
    },
    {
      "cell_type": "markdown",
      "metadata": {
        "id": "yprcq1h3-Mdm"
      },
      "source": [
        "# Congratulations! Time to join the Community!\n",
        "\n",
        "Congratulations on completing this tutorial notebook! If you enjoyed working through the tutorial, and want to continue working with DeepChem, we encourage you to finish the rest of the tutorials in this series. You can also help the DeepChem community in the following ways:\n",
        "\n",
        "## Star DeepChem on [GitHub](https://github.com/deepchem/deepchem)\n",
        "This helps build awareness of the DeepChem project and the tools for open source drug discovery that we're trying to build.\n",
        "\n",
        "## Join the DeepChem Gitter\n",
        "The DeepChem [Gitter](https://gitter.im/deepchem/Lobby) hosts a number of scientists, developers, and enthusiasts interested in deep learning for the life sciences. Join the conversation!"
      ]
    }
  ],
  "metadata": {
    "kernelspec": {
      "display_name": "Python 3",
      "language": "python",
      "name": "python3"
    },
    "language_info": {
      "codemirror_mode": {
        "name": "ipython",
        "version": 3
      },
      "file_extension": ".py",
      "mimetype": "text/x-python",
      "name": "python",
      "nbconvert_exporter": "python",
      "pygments_lexer": "ipython3",
      "version": "3.7.6"
    },
    "colab": {
      "provenance": []
    }
  },
  "nbformat": 4,
  "nbformat_minor": 0
}