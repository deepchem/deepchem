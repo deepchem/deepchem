{
  "nbformat": 4,
  "nbformat_minor": 0,
  "metadata": {
    "colab": {
      "provenance": []
    },
    "kernelspec": {
      "name": "python3",
      "display_name": "Python 3"
    },
    "language_info": {
      "name": "python"
    }
  },
  "cells": [
    {
      "cell_type": "markdown",
      "source": [
        "[![Open In Colab](https://colab.research.google.com/assets/colab-badge.svg)](https://colab.research.google.com/github/deepchem/deepchem/blob/master/examples/tutorials/Introduction_to_FerminetElectronFeature_layer.ipynb)"
      ],
      "metadata": {
        "id": "I7xoE73DDruR"
      }
    },
    {
      "cell_type": "markdown",
      "source": [
        "# **Tutorial: Understanding FerminetElectronFeature layer in the Ferminet Model**\n",
        "\n",
        "In this tutorial, we will explore the `FerminetElectronFeature` layer, a crucial component of the Ferminet model used in quantum chemistry. This layer facilitates electron interactions within molecular systems, contributing to the accuracy of quantum chemical simulations.\n",
        "\n",
        "# **Overview**:\n",
        "\n",
        "1. Introduction to the Ferminet Model\n",
        "2. Understanding FerminetElectronFeature Layer\n",
        "3. Implementation Details\n",
        "4. Example Usage\n",
        "\n",
        "## **1. Introduction to the Ferminet Model:**\n",
        "\n",
        "The Ferminet model is a cutting-edge approach in quantum chemistry aimed at accurately predicting molecular properties. It leverages advanced neural network architectures to capture complex electron interactions within molecular systems, thus enabling precise quantum chemical calculations.\n",
        "\n",
        "## **2. Understanding FerminetElectronFeature Layer:**\n",
        "\n",
        "The `FerminetElectronFeature` class is a specialized module within the Ferminet model designed to handle electron interactions. It consists of several layers that process one-electron and two-electron features, incorporating them into the model to enhance prediction accuracy.\n",
        "\n",
        "### **Components of FerminetElectronFeature:**\n",
        "\n",
        "- Initialization Parameters: Defines the dimensions and characteristics of the layers.\n",
        "- Linear Layers (v and w): Handle the transformation of electron features.\n",
        "- Projection Module: Facilitates the integration of electron features into the model.\n",
        "- Forward Pass: Processes one-electron and two-electron features through the layers.\n",
        "\n",
        "## **3. Implementation Details:**\n",
        "\n",
        "Let's delve into the implementation details of the `FerminetElectronFeature` class:\n",
        "\n",
        "\n",
        "### **1. Initialization Parameters:**\n",
        "\n",
        "Upon initialization, the `FerminetElectronFeature` class takes several parameters:\n",
        "\n",
        "- `n_one`: A list of integers representing the dimensions of each layer's output for one-electron features.\n",
        "- `n_two`: A list of integers representing the dimensions of each layer's output for two-electron features.\n",
        "- `no_of_atoms`: An integer indicating the number of atoms in the molecule system.\n",
        "- `batch_size`: An integer indicating the number of batches for the input provided.\n",
        "- `total_electron`: An integer indicating the total number of electrons in the molecule system.\n",
        "- `spin`: A list containing the number of up-spin and down-spin electrons.\n",
        "\n",
        "### **2. Linear Layers (v and w)**:\n",
        "\n",
        "The class initializes two sets of linear layers, `v` and `w`, which are responsible for transforming the electron features during the forward pass. These layers have weights and biases that are initialized using Xavier uniform method for the weights and random assignment for the biases.\n",
        "\n",
        "### **3. Projection Module:**\n",
        "\n",
        "The projection module consists of two linear layers, one for one-electron features and another for two-electron features. These layers integrate the electron features into the model by combining them with the output of the linear layers (`v` and `w`).\n",
        "\n",
        "### **4. Forward Pass:**\n",
        "\n",
        "\n",
        "**Parameters:**\n",
        "- one_electron: torch.Tensor\n",
        "    - Input one-electron features with shape (batch_size, num_electrons, num_atoms * 4). The input to\n",
        "the one-electron stream is both the difference in position between each electron and nucleus rᵢ − Rᵢ and the distance |rᵢ − Rᵢ|.\n",
        "- two_electron: torch.Tensor\n",
        "    - Input two-electron features with shape (batch_size, num_electrons, num_electrons, 4). The input to\n",
        "the two-electron stream is similarly the differences rᵢ−rⱼ\n",
        "and distances |rᵢ − rⱼ|.\n",
        "\n",
        "During the forward pass, the input one-electron and two-electron features are processed through the layers as follows:\n",
        "\n",
        "- Calculate the average of one-electron features for up-spin and down-spin.\n",
        "- Calculate the average of two-electron features for up-spin and down-spin for each electron.\n",
        "- Concatenate the one-electron features with the calculated averages to form the input feature vector.\n",
        "- Pass the input feature vector through the linear layer `v` followed by a tanh activation function to compute the output.\n",
        "- Pass the two-electron features through the linear layer `w` followed by a tanh activation function to compute the output.\n",
        "- A residual connection is also added between layers of the same\n",
        "shape, for both one and two electron streams.\n",
        "\n",
        "This process is repeated for each layer and each electron in the molecule system.\n",
        "\n",
        "**Returns:**\n",
        "- one_electron: torch.Tensor\n",
        "    - Processed one-electron features with shape (batch_size, num_electrons, n_one_shape).\n",
        "- two_electron: torch.Tensor\n",
        "    - Processed two-electron features with shape (batch_size, num_electrons, num_electrons, n_two_shape)."
      ],
      "metadata": {
        "id": "3unB7V4ohJTZ"
      }
    },
    {
      "cell_type": "markdown",
      "source": [
        "### You can check the complete implementation of FerminetElectronFeature layer here : https://github.com/deepchem/deepchem/blob/master/deepchem/models/torch_models/layers.py\n",
        "\n",
        "### For more details, you can refer to this paper: https://arxiv.org/abs/1909.02487"
      ],
      "metadata": {
        "id": "dvmarhPohHpF"
      }
    },
    {
      "cell_type": "markdown",
      "source": [
        "## Example Usage"
      ],
      "metadata": {
        "id": "SYEKNIcghk02"
      }
    },
    {
      "cell_type": "code",
      "source": [
        "!pip install --pre deepchem"
      ],
      "metadata": {
        "colab": {
          "base_uri": "https://localhost:8080/"
        },
        "id": "CQb8za4Zhqo6",
        "outputId": "679ab133-2a1f-45bb-bf29-b557a0af1715"
      },
      "execution_count": 1,
      "outputs": [
        {
          "output_type": "stream",
          "name": "stdout",
          "text": [
            "Collecting deepchem\n",
            "  Downloading deepchem-2.7.2.dev20240326195015-py3-none-any.whl (1.0 MB)\n",
            "\u001b[2K     \u001b[90m━━━━━━━━━━━━━━━━━━━━━━━━━━━━━━━━━━━━━━━━\u001b[0m \u001b[32m1.0/1.0 MB\u001b[0m \u001b[31m5.1 MB/s\u001b[0m eta \u001b[36m0:00:00\u001b[0m\n",
            "\u001b[?25hRequirement already satisfied: joblib in /usr/local/lib/python3.10/dist-packages (from deepchem) (1.3.2)\n",
            "Requirement already satisfied: numpy>=1.21 in /usr/local/lib/python3.10/dist-packages (from deepchem) (1.25.2)\n",
            "Requirement already satisfied: pandas in /usr/local/lib/python3.10/dist-packages (from deepchem) (1.5.3)\n",
            "Requirement already satisfied: scikit-learn in /usr/local/lib/python3.10/dist-packages (from deepchem) (1.2.2)\n",
            "Requirement already satisfied: sympy in /usr/local/lib/python3.10/dist-packages (from deepchem) (1.12)\n",
            "Requirement already satisfied: scipy>=1.10.1 in /usr/local/lib/python3.10/dist-packages (from deepchem) (1.11.4)\n",
            "Collecting rdkit (from deepchem)\n",
            "  Downloading rdkit-2023.9.5-cp310-cp310-manylinux_2_17_x86_64.manylinux2014_x86_64.whl (34.4 MB)\n",
            "\u001b[2K     \u001b[90m━━━━━━━━━━━━━━━━━━━━━━━━━━━━━━━━━━━━━━━━\u001b[0m \u001b[32m34.4/34.4 MB\u001b[0m \u001b[31m14.6 MB/s\u001b[0m eta \u001b[36m0:00:00\u001b[0m\n",
            "\u001b[?25hRequirement already satisfied: python-dateutil>=2.8.1 in /usr/local/lib/python3.10/dist-packages (from pandas->deepchem) (2.8.2)\n",
            "Requirement already satisfied: pytz>=2020.1 in /usr/local/lib/python3.10/dist-packages (from pandas->deepchem) (2023.4)\n",
            "Requirement already satisfied: Pillow in /usr/local/lib/python3.10/dist-packages (from rdkit->deepchem) (9.4.0)\n",
            "Requirement already satisfied: threadpoolctl>=2.0.0 in /usr/local/lib/python3.10/dist-packages (from scikit-learn->deepchem) (3.4.0)\n",
            "Requirement already satisfied: mpmath>=0.19 in /usr/local/lib/python3.10/dist-packages (from sympy->deepchem) (1.3.0)\n",
            "Requirement already satisfied: six>=1.5 in /usr/local/lib/python3.10/dist-packages (from python-dateutil>=2.8.1->pandas->deepchem) (1.16.0)\n",
            "Installing collected packages: rdkit, deepchem\n",
            "Successfully installed deepchem-2.7.2.dev20240326195015 rdkit-2023.9.5\n"
          ]
        }
      ]
    },
    {
      "cell_type": "code",
      "source": [
        "!pip install torch_geometric"
      ],
      "metadata": {
        "colab": {
          "base_uri": "https://localhost:8080/"
        },
        "id": "k9MURDOQh5hh",
        "outputId": "34eee5b8-1a6c-4a95-d909-dfc1f795dc27"
      },
      "execution_count": 2,
      "outputs": [
        {
          "output_type": "stream",
          "name": "stdout",
          "text": [
            "Collecting torch_geometric\n",
            "  Downloading torch_geometric-2.5.2-py3-none-any.whl (1.1 MB)\n",
            "\u001b[2K     \u001b[90m━━━━━━━━━━━━━━━━━━━━━━━━━━━━━━━━━━━━━━━━\u001b[0m \u001b[32m1.1/1.1 MB\u001b[0m \u001b[31m5.7 MB/s\u001b[0m eta \u001b[36m0:00:00\u001b[0m\n",
            "\u001b[?25hRequirement already satisfied: tqdm in /usr/local/lib/python3.10/dist-packages (from torch_geometric) (4.66.2)\n",
            "Requirement already satisfied: numpy in /usr/local/lib/python3.10/dist-packages (from torch_geometric) (1.25.2)\n",
            "Requirement already satisfied: scipy in /usr/local/lib/python3.10/dist-packages (from torch_geometric) (1.11.4)\n",
            "Requirement already satisfied: fsspec in /usr/local/lib/python3.10/dist-packages (from torch_geometric) (2023.6.0)\n",
            "Requirement already satisfied: jinja2 in /usr/local/lib/python3.10/dist-packages (from torch_geometric) (3.1.3)\n",
            "Requirement already satisfied: aiohttp in /usr/local/lib/python3.10/dist-packages (from torch_geometric) (3.9.3)\n",
            "Requirement already satisfied: requests in /usr/local/lib/python3.10/dist-packages (from torch_geometric) (2.31.0)\n",
            "Requirement already satisfied: pyparsing in /usr/local/lib/python3.10/dist-packages (from torch_geometric) (3.1.2)\n",
            "Requirement already satisfied: scikit-learn in /usr/local/lib/python3.10/dist-packages (from torch_geometric) (1.2.2)\n",
            "Requirement already satisfied: psutil>=5.8.0 in /usr/local/lib/python3.10/dist-packages (from torch_geometric) (5.9.5)\n",
            "Requirement already satisfied: aiosignal>=1.1.2 in /usr/local/lib/python3.10/dist-packages (from aiohttp->torch_geometric) (1.3.1)\n",
            "Requirement already satisfied: attrs>=17.3.0 in /usr/local/lib/python3.10/dist-packages (from aiohttp->torch_geometric) (23.2.0)\n",
            "Requirement already satisfied: frozenlist>=1.1.1 in /usr/local/lib/python3.10/dist-packages (from aiohttp->torch_geometric) (1.4.1)\n",
            "Requirement already satisfied: multidict<7.0,>=4.5 in /usr/local/lib/python3.10/dist-packages (from aiohttp->torch_geometric) (6.0.5)\n",
            "Requirement already satisfied: yarl<2.0,>=1.0 in /usr/local/lib/python3.10/dist-packages (from aiohttp->torch_geometric) (1.9.4)\n",
            "Requirement already satisfied: async-timeout<5.0,>=4.0 in /usr/local/lib/python3.10/dist-packages (from aiohttp->torch_geometric) (4.0.3)\n",
            "Requirement already satisfied: MarkupSafe>=2.0 in /usr/local/lib/python3.10/dist-packages (from jinja2->torch_geometric) (2.1.5)\n",
            "Requirement already satisfied: charset-normalizer<4,>=2 in /usr/local/lib/python3.10/dist-packages (from requests->torch_geometric) (3.3.2)\n",
            "Requirement already satisfied: idna<4,>=2.5 in /usr/local/lib/python3.10/dist-packages (from requests->torch_geometric) (3.6)\n",
            "Requirement already satisfied: urllib3<3,>=1.21.1 in /usr/local/lib/python3.10/dist-packages (from requests->torch_geometric) (2.0.7)\n",
            "Requirement already satisfied: certifi>=2017.4.17 in /usr/local/lib/python3.10/dist-packages (from requests->torch_geometric) (2024.2.2)\n",
            "Requirement already satisfied: joblib>=1.1.1 in /usr/local/lib/python3.10/dist-packages (from scikit-learn->torch_geometric) (1.3.2)\n",
            "Requirement already satisfied: threadpoolctl>=2.0.0 in /usr/local/lib/python3.10/dist-packages (from scikit-learn->torch_geometric) (3.4.0)\n",
            "Installing collected packages: torch_geometric\n",
            "Successfully installed torch_geometric-2.5.2\n"
          ]
        }
      ]
    },
    {
      "cell_type": "code",
      "source": [
        "import deepchem as dc\n",
        "import torch\n",
        "from deepchem.models.torch_models.layers import FerminetElectronFeature"
      ],
      "metadata": {
        "id": "Fwx2Ij2CiQAV"
      },
      "execution_count": 4,
      "outputs": []
    },
    {
      "cell_type": "code",
      "source": [
        "electron_layer = FerminetElectronFeature([32,32,32],[16,16,16], 4, 8, 10, [5,5])\n",
        "one_electron_test = torch.randn(8, 10, 4*4)\n",
        "two_electron_test = torch.randn(8, 10, 10, 4)\n",
        "one, two = electron_layer.forward(one_electron_test, two_electron_test)\n",
        "print(\"one-electron shape\",one.size())\n",
        "print(\"two-electron_shape\",two.size())"
      ],
      "metadata": {
        "colab": {
          "base_uri": "https://localhost:8080/"
        },
        "id": "WuiLu4sh23ga",
        "outputId": "f2b390f4-4e41-4fee-d1dc-fd1757ed5d8c"
      },
      "execution_count": 5,
      "outputs": [
        {
          "output_type": "stream",
          "name": "stdout",
          "text": [
            "one-electron shape torch.Size([8, 10, 32])\n",
            "two-electron_shape torch.Size([8, 10, 10, 16])\n"
          ]
        }
      ]
    },
    {
      "cell_type": "markdown",
      "source": [
        "- In the original paper, authors used n_one = [256, 256, 256, 256] and n_two = [32, 32, 32, 32]. You can experiment with different number of layers as well as with hidden units.\n",
        "- The one_electron_test and two_electron_test are calculated by the Ferminet class originally as described in the parameters section of Forward Pass"
      ],
      "metadata": {
        "id": "rwy91bwx25P9"
      }
    },
    {
      "cell_type": "markdown",
      "source": [
        "# Congratulations! Time to join the Community!\n",
        "\n",
        "Congratulations on completing this tutorial notebook! If you enjoyed working through the tutorial, and want to continue working with DeepChem, we encourage you to finish the rest of the tutorials in this series. You can also help the DeepChem community in the following ways:\n",
        "\n",
        "\n",
        "## Star DeepChem on [GitHub](https://github.com/deepchem/deepchem)\n",
        "This helps build awareness of the DeepChem project and the tools for open source drug discovery that we're trying to build.\n",
        "\n",
        "\n",
        "## Join the DeepChem Gitter\n",
        "The DeepChem [Gitter](https://gitter.im/deepchem/Lobby) hosts a number of scientists, developers, and enthusiasts interested in deep learning for the life sciences. Join the conversation!"
      ],
      "metadata": {
        "id": "mx0D6LvGmPC6"
      }
    }
  ]
}