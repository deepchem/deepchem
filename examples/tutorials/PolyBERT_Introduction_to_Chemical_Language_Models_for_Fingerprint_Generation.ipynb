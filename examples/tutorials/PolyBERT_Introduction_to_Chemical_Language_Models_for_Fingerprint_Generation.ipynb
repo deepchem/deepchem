{
  "cells": [
    {
      "cell_type": "markdown",
      "metadata": {
        "id": "3XQZGcZNb2jR"
      },
      "source": [
        "## PolyBERT: Introduction to Chemical Language Models for Fingerprint Generation\n",
        "By Debasish Mohanty"
      ]
    },
    {
      "cell_type": "markdown",
      "metadata": {
        "id": "NYxIpu7tcF_0"
      },
      "source": [
        "### Table of Content\n",
        "1. [Introduction](#intro)\n",
        "2. [Overview of PSMILES and Fingerprints](#overview)\n",
        "3. [Understanding PolyBERT Latent Space](#polybertlspace)\n",
        "4. [Implementing PolyBERT using HuggingFace](#hfimplement)\n",
        "5. [Similarity Predictions Using Fingerprint](#similarpred)\n",
        "6. [Summary](#sum)\n",
        "7. [Reference](#ref)"
      ]
    },
    {
      "cell_type": "markdown",
      "metadata": {
        "id": "TwXifdUwcSvW"
      },
      "source": [
        "### 1. Introduction <a id=\"intro\"></a>"
      ]
    },
    {
      "cell_type": "markdown",
      "metadata": {
        "id": "RYMg81QkeeqB"
      },
      "source": [
        "This article introduces PolyBERT, an innovative machine learning approach to polymer informatics inspired by natural language processing techniques. PolyBERT enables researchers to efficiently and accurately search for optimal polymer candidates within this vast chemical space. By employing fingerprints PolyBERT translates polymer chemical structures into a machine-interpretable vector.\n",
        "The PolyBERT can have various applications from chem-informatics to multitask property predictions. It can be employed in different pipelines to generate or predict relevant polymer molecules and properties as shown in Figure -1."
      ]
    },
    {
      "cell_type": "markdown",
      "metadata": {
        "id": "yD8w6nqusd50"
      },
      "source": [
        "![polybert_intro](https://media.springernature.com/lw685/springer-static/image/art%3A10.1038%2Fs41467-023-39868-6/MediaObjects/41467_2023_39868_Fig1_HTML.png?as=webp)\n",
        "\n",
        "**Figure - 1 :** The pipelines and applications of PolyBERT `[1]`"
      ]
    },
    {
      "cell_type": "markdown",
      "metadata": {
        "id": "S-U6kF5SjeFV"
      },
      "source": [
        "### 2. Overview of PSMILES and Fingerprints <a id=\"overview\"></a>"
      ]
    },
    {
      "cell_type": "markdown",
      "metadata": {
        "id": "cJAKEpsXsne-"
      },
      "source": [
        "Polymer SMILES (PSMILES) `[1]` is an extension of the Simplified Molecular Input Line Entry System (SMILES) notation, specifically designed to represent polymer structures. While traditional SMILES is used for small organic molecules, PSMILES accounts for the repeating units characteristic of polymers. This notation uses the wildcard `[*]` to indicate the points where the polymer chain extends, enabling the representation of large macromolecules in a concise and machine-readable format.\n",
        "\n",
        "Key Features of PSMILES:\n",
        "- **Repeating Units**: PSMILES captures the repeating units in a polymer, essential for understanding polymer behavior and properties.\n",
        "- **Wildcard Symbol `[*]`**: Marks the connection points of the polymer's repeating unit.\n",
        "- **Computational Use**: Facilitates the analysis, storage, and sharing of polymer data in cheminformatics and materials science.\n",
        "\n",
        "PSMILES provides a standardized way to describe polymers, making it easier to perform computational studies and design new materials with specific properties."
      ]
    },
    {
      "cell_type": "markdown",
      "metadata": {
        "id": "hppYYzpQx48q"
      },
      "source": [
        "Chemical fingerprints are binary or integer vectors that represent the presence or absence of specific substructures or patterns within a molecule. These fingerprints serve as molecular descriptors, summarizing a molecule’s structure in a format that is suitable for computational tasks such as similarity searches, clustering, and machine learning applications.\n",
        "\n",
        "Key Features of Chemical Fingerprints:\n",
        "\n",
        "- **Similarity Search:** Identifying compounds with similar structures.\n",
        "- **Clustering and Classification:** Grouping molecules based on structural similarities.\n",
        "- **Machine Learning:** Used as input features in predictive models for drug discovery and materials science.\n",
        "\n",
        "Chemical fingerprints are powerful tools for transforming molecular structures into data that can be efficiently processed and analyzed, making them essential in modern cheminformatics."
      ]
    },
    {
      "cell_type": "markdown",
      "metadata": {
        "id": "MZrP72ZO0jG0"
      },
      "source": [
        "PSMILES are beneficial for streamlined data processing and sequential machine learning models, whereas fingerprints provide a wide range of scientific utilities, from searching for similar molecules to facilitating material discovery. In this tutorial, we have demonstrated how to generate equivalent fingerprints (using transformer latent space) from PSMILES string representations."
      ]
    },
    {
      "cell_type": "markdown",
      "metadata": {
        "id": "CFh0q9ZijdsO"
      },
      "source": [
        "### 3. PolyBERT Latent Space <a id=\"polybertlspace\"></a>"
      ]
    },
    {
      "cell_type": "markdown",
      "metadata": {
        "id": "n_bKkjyQ3ZQo"
      },
      "source": [
        "Latent space refers to a lower-dimensional representation of data, where complex information is encoded in a more compact form. In the context of transformers, latent space is where the model captures essential features and patterns of input data, like PSMILES strings, after processing through several layers. This space allows the model to focus on important relationships and characteristics that are useful for tasks like predicting properties, clustering, or generating new data.\n",
        "\n",
        "[PolyBERT](https://www.nature.com/articles/s41467-023-39868-6) `[1]` is a chemical language model developed upon DeBERTa architecture. [DeBERTa](https://arxiv.org/abs/2006.03654) (Decoding-enhanced BERT with Disentangled Attention)`[2]` is an advanced transformer architecture that improves how information is processed. Unlike standard transformers, DeBERTa disentangles the position of words (or atoms in a molecule) and their content, leading to more accurate representations. When PolyBERT uses the DeBERTa architecture, it leverages these improvements to better understand and generate the latent space for polymers, making it more effective in tasks like generating chemical fingerprints or predicting molecular properties.\n",
        "\n",
        "PolyBERT leverages the latent space of the DeBERTa architecture to attain the functionalities of fingerprints. PolyBERT specifically uses fingerprint of **600** dimensions making the prediction and clustering tasks highly accurate. Once implemented, the fingerprints can be mapped with properties of the polymers to do multi-task predictions."
      ]
    },
    {
      "cell_type": "markdown",
      "metadata": {
        "id": "oET2xow1j9Z6"
      },
      "source": [
        "### 4. Implementing PolyBERT using HuggingFace <a id=\"hfimplement\"></a>"
      ]
    },
    {
      "cell_type": "markdown",
      "metadata": {
        "id": "hqOBuXXfPYxy"
      },
      "source": [
        "The tokenizer and the model weights of the PolyBERT can be found in [HuggingFace](https://huggingface.co/kuelumbus/polyBERT) model repository. For our case we will take two PSMILES i.e. PolyEthylene (PE) and PolyVinylAlcohol(PVA) represented as `[*]CC[*]`, `[*]COC[*]` respectively. We will use PolyBERT to generate fingerprints for both PSMILES using following steps.\n",
        "\n",
        "1. Load the tokenizer and model weights for PolyBERT\n",
        "2. Tokenize the PSMILES and generate the fingerprint\n",
        "3. Performing the mean-pooling (to normalize the fingerprint value)\n"
      ]
    },
    {
      "cell_type": "markdown",
      "metadata": {
        "id": "CIbv7yHqSxvg"
      },
      "source": [
        "#### Imports"
      ]
    },
    {
      "cell_type": "code",
      "execution_count": 2,
      "metadata": {
        "colab": {
          "base_uri": "https://localhost:8080/"
        },
        "collapsed": true,
        "id": "LRgWjM1WS1_4",
        "outputId": "9660f8d4-613d-4adb-d1a8-474e798ebf56"
      },
      "outputs": [],
      "source": [
        "! pip install rdkit-pypi transformers\n",
        "from transformers import AutoTokenizer, AutoModel\n",
        "import torch\n",
        "from rdkit import Chem\n",
        "from rdkit.Chem import Draw\n",
        "import matplotlib.pyplot as plt"
      ]
    },
    {
      "cell_type": "markdown",
      "metadata": {
        "id": "86uQPg_QWOkY"
      },
      "source": [
        "#### Visualizing Polymers"
      ]
    },
    {
      "cell_type": "code",
      "execution_count": 3,
      "metadata": {
        "colab": {
          "base_uri": "https://localhost:8080/",
          "height": 235
        },
        "id": "j8-FrAsnT2hR",
        "outputId": "63c45ae2-858e-44d9-f785-70e010e26dcd"
      },
      "outputs": [
        {
          "data": {
            "image/png": "[encoded data removed]",
            "text/plain": [
              "<Figure size 500x500 with 2 Axes>"
            ]
          },
          "metadata": {},
          "output_type": "display_data"
        }
      ],
      "source": [
        "smiles_list = [\"[*]CC[*]\", \"[*]COC[*]\"]\n",
        "mol_list = [Chem.MolFromSmiles(smiles) for smiles in smiles_list]\n",
        "\n",
        "def show_mols(mols: list, labels: list, figsize=(5,5)):\n",
        "    \"\"\"\n",
        "    This function is used to display a list of molecules using matplotlib.\n",
        "    \"\"\"\n",
        "    if len(mols) > 1:\n",
        "        fig, ax = plt.subplots(1, len(mols), figsize=figsize)\n",
        "        for i in range(len(mols)):\n",
        "            mol = mols[i]\n",
        "            label = labels[i]\n",
        "            img = Draw.MolToImage(mol)\n",
        "            ax[i].imshow(img)\n",
        "            ax[i].set_title(label)\n",
        "            ax[i].axis('off')\n",
        "            ax[i].set_aspect('equal')\n",
        "    else:\n",
        "        mol = mols[0]\n",
        "        label = labels[0]\n",
        "        img = Draw.MolToImage(mol)\n",
        "        plt.imshow(img)\n",
        "        plt.title(label)\n",
        "        plt.axis('off')\n",
        "    plt.show()\n",
        "\n",
        "\n",
        "show_mols(mol_list, [\"Polyethylene\", \"Polyvinylalcohol\"])\n"
      ]
    },
    {
      "cell_type": "markdown",
      "metadata": {
        "id": "kTcQDGERTnbO"
      },
      "source": [
        "#### Generating Fingerprints"
      ]
    },
    {
      "cell_type": "markdown",
      "metadata": {},
      "source": [
        "Initially, we will load tokenizer and model weights for PolyBERT using HuggingFace transformer library."
      ]
    },
    {
      "cell_type": "code",
      "execution_count": 7,
      "metadata": {},
      "outputs": [
        {
          "name": "stderr",
          "output_type": "stream",
          "text": [
            "d:\\own\\career\\open_source\\env_files\\lib\\site-packages\\transformers\\tokenization_utils_base.py:1601: FutureWarning: `clean_up_tokenization_spaces` was not set. It will be set to `True` by default. This behavior will be depracted in transformers v4.45, and will be then set to `False` by default. For more details check this issue: https://github.com/huggingface/transformers/issues/31884\n",
            "  warnings.warn(\n"
          ]
        }
      ],
      "source": [
        "# Step - 0: Load the tokenizer and model weights for PolyBERT\n",
        "\n",
        "# Load model from HuggingFace Hub\n",
        "tokenizer = AutoTokenizer.from_pretrained('kuelumbus/polyBERT')\n",
        "polyBERT = AutoModel.from_pretrained('kuelumbus/polyBERT')"
      ]
    },
    {
      "cell_type": "markdown",
      "metadata": {},
      "source": [
        "Once initialized, we can define our PSMILES string and make the finger print predictions as follows."
      ]
    },
    {
      "cell_type": "code",
      "execution_count": 13,
      "metadata": {},
      "outputs": [
        {
          "name": "stdout",
          "output_type": "stream",
          "text": [
            "model output >> BaseModelOutput(last_hidden_state=tensor([[[-0.3600, -0.1442, -0.9196,  ..., -0.5034,  0.5028,  1.2998],\n",
            "         [-0.3190,  0.0676, -0.9040,  ..., -0.3021,  0.5724,  1.2594],\n",
            "         [-0.0568, -0.4151,  0.0570,  ..., -0.3222,  0.4901,  1.7791],\n",
            "         ...,\n",
            "         [ 0.0989,  0.1656, -0.0327,  ..., -0.3214, -0.0025,  0.6070],\n",
            "         [-0.2276,  0.3628, -0.5948,  ..., -0.8587,  0.1078,  0.0966],\n",
            "         [ 0.2695,  0.6533,  0.5087,  ..., -0.1991, -0.1496,  0.5560]],\n",
            "\n",
            "        [[-0.4281,  0.6151, -0.6989,  ..., -0.4487,  0.4334,  1.0624],\n",
            "         [-0.4327,  0.7250, -0.7236,  ..., -0.4047,  0.4732,  1.0544],\n",
            "         [-0.3124,  0.1882,  0.1288,  ..., -0.6645,  0.2649,  1.5900],\n",
            "         ...,\n",
            "         [ 0.0755,  0.8277, -0.1443,  ..., -0.1048,  0.1284,  0.3646],\n",
            "         [-0.3230,  1.1286,  0.3890,  ..., -0.7890,  0.2660,  1.9148],\n",
            "         [-0.3051,  0.0756,  0.1737,  ..., -0.8654, -0.0336,  0.7049]]]), hidden_states=None, attentions=None)\n",
            "output shape >> torch.Size([2, 8, 600])\n"
          ]
        }
      ],
      "source": [
        "# Step - 2: Tokenize the PSMILES and generate the fingerprint\n",
        "# Sentences we want sentence embeddings for\n",
        "psmiles_strings = [\"[*]CC[*]\", \"[*]COC[*]\"]\n",
        "\n",
        "# Tokenize sentences\n",
        "encoded_input = tokenizer(psmiles_strings, padding=True, truncation=True, return_tensors='pt')\n",
        "\n",
        "# Compute token embeddings\n",
        "with torch.no_grad():\n",
        "    model_output = polyBERT(**encoded_input)\n",
        "    print(\"model output >>\", model_output)\n",
        "    print(\"output shape >>\", model_output.last_hidden_state.shape)"
      ]
    },
    {
      "cell_type": "markdown",
      "metadata": {},
      "source": [
        "The model output is 3 dimensional, while the fingerprint has to be of shape `1 X 600`. The first array in the output contains all the token embedding. To normalize the output, we will clip the values same as the Attention Mask. Then we will form a finalized vector by find mean of 8 token embedding layers ( as the shape is `2 X 8 X 600`). This process is called Mean Pooling. The same has been implemented as follows."
      ]
    },
    {
      "cell_type": "code",
      "execution_count": 4,
      "metadata": {
        "colab": {
          "base_uri": "https://localhost:8080/"
        },
        "id": "KvnpL-jjbdGD",
        "outputId": "2d1afa72-9bf9-486f-941a-0f87a8af50eb"
      },
      "outputs": [
        {
          "name": "stderr",
          "output_type": "stream",
          "text": [
            "d:\\own\\career\\open_source\\env_files\\lib\\site-packages\\huggingface_hub\\file_download.py:159: UserWarning: `huggingface_hub` cache-system uses symlinks by default to efficiently store duplicated files but your machine does not support them in C:\\Users\\USERNAME\\.cache\\huggingface\\hub\\models--kuelumbus--polyBERT. Caching files will still work but in a degraded version that might require more space on your disk. This warning can be disabled by setting the `HF_HUB_DISABLE_SYMLINKS_WARNING` environment variable. For more details, see https://huggingface.co/docs/huggingface_hub/how-to-cache#limitations.\n",
            "To support symlinks on Windows, you either need to activate Developer Mode or to run Python as an administrator. In order to see activate developer mode, see this article: https://docs.microsoft.com/en-us/windows/apps/get-started/enable-your-device-for-development\n",
            "  warnings.warn(message)\n",
            "d:\\own\\career\\open_source\\env_files\\lib\\site-packages\\transformers\\tokenization_utils_base.py:1601: FutureWarning: `clean_up_tokenization_spaces` was not set. It will be set to `True` by default. This behavior will be depracted in transformers v4.45, and will be then set to `False` by default. For more details check this issue: https://github.com/huggingface/transformers/issues/31884\n",
            "  warnings.warn(\n",
            "Asking to truncate to max_length but no maximum length is provided and the model has no predefined maximum length. Default to no truncation.\n"
          ]
        },
        {
          "name": "stdout",
          "output_type": "stream",
          "text": [
            "Fingerprints:\n",
            "tensor([[-0.1186,  0.1891, -0.5370,  ..., -0.8715,  0.2979,  0.6712],\n",
            "        [-0.3981,  0.4833, -0.2797,  ..., -0.5428,  0.2027,  0.9449]])\n"
          ]
        }
      ],
      "source": [
        "\n",
        "# Step - 3: Performing the mean-pooling (to normalize the fingerprint value)\n",
        "\n",
        "#Mean Pooling - Take attention mask into account for correct averaging\n",
        "def mean_pooling(model_output, attention_mask):\n",
        "    token_embeddings = model_output[0] #First element of model_output contains all token embeddings\n",
        "    input_mask_expanded = attention_mask.unsqueeze(-1).expand(token_embeddings.size()).float()\n",
        "    return torch.sum(token_embeddings * input_mask_expanded, 1) / torch.clamp(input_mask_expanded.sum(1), min=1e-9)\n",
        "\n",
        "# Perform pooling. In this case, mean pooling.\n",
        "fingerprints = mean_pooling(model_output, encoded_input['attention_mask'])\n",
        "\n",
        "print(\"Fingerprints:\")\n",
        "print(fingerprints)\n"
      ]
    },
    {
      "cell_type": "markdown",
      "metadata": {
        "id": "73Ju_yGCWnID"
      },
      "source": [
        "We can notice two-dimensional tensors that hold the fingerprint for each polymer. Let's vailidate the dimension if those have the required dimension as specified."
      ]
    },
    {
      "cell_type": "code",
      "execution_count": 5,
      "metadata": {
        "colab": {
          "base_uri": "https://localhost:8080/"
        },
        "id": "8wtCV_yzXBFf",
        "outputId": "0c92fe26-a9e3-40eb-cb73-fcf0ffd4f51f"
      },
      "outputs": [
        {
          "name": "stdout",
          "output_type": "stream",
          "text": [
            "torch.Size([600])\n",
            "torch.Size([600])\n"
          ]
        }
      ],
      "source": [
        "for f in fingerprints:\n",
        "    print(f.shape)"
      ]
    },
    {
      "cell_type": "markdown",
      "metadata": {
        "id": "LEGwO9QQXo7r"
      },
      "source": [
        "As per the above output, we can see dimension is `1 X 600` same as mentioned in section 3. Now we can use these vector to predict similarity between 2 polymers."
      ]
    },
    {
      "cell_type": "markdown",
      "metadata": {
        "id": "3pDQu7QEk3LR"
      },
      "source": [
        "### 5. Similarity Predictions Using Fingerprint <a id=\"similarpred\"></a>"
      ]
    },
    {
      "cell_type": "markdown",
      "metadata": {
        "id": "z7nhokBwY9IM"
      },
      "source": [
        "There are various algorithms to find similarity between different high dimensional vectors. We will be using **cosine similarity** for our use case.Cosine similarity is a measure of how similar two vectors are, regardless of their size. Imagine each vector as an arrow pointing in space. Cosine similarity compares the angle between these arrows, not their length. If the angle is small (close to 0°), the vectors are similar; if the angle is large (close to 90°), they are less similar. We can visualize the same using following image.\n",
        "\n",
        "![similarity](https://storage.googleapis.com/lds-media/images/cosine-similarity-vectors.original.jpg)\n",
        "\n",
        "\n",
        "In simple terms, cosine similarity tells us how much two items \"point\" in the same direction, making it useful for comparing things like text documents or molecular fingerprints where exact values matter less than overall patterns."
      ]
    },
    {
      "cell_type": "code",
      "execution_count": 6,
      "metadata": {
        "colab": {
          "base_uri": "https://localhost:8080/"
        },
        "id": "vN0ndpq0ijgm",
        "outputId": "2798d1bf-e4c9-48f7-cb53-8f9c3f6a5293"
      },
      "outputs": [
        {
          "name": "stdout",
          "output_type": "stream",
          "text": [
            "\n",
            "Cosine Similarity between fingerprints: '[*]CC[*]' and '[*]COC[*]' is \n",
            "0.8462606072425842\n"
          ]
        }
      ],
      "source": [
        "import torch.nn.functional as F\n",
        "# Compute cosine similarity between the first and second fingerprint\n",
        "cosine_sim = F.cosine_similarity(fingerprints[0].unsqueeze(0), fingerprints[1].unsqueeze(0))\n",
        "\n",
        "print(f\"\\nCosine Similarity between fingerprints: '{psmiles_strings[0]}' and '{psmiles_strings[1]}' is \")\n",
        "print(cosine_sim.item())"
      ]
    },
    {
      "cell_type": "markdown",
      "metadata": {
        "id": "gcJR1znBcmgN"
      },
      "source": [
        "By determining the cosine similarity of the fingerprint vectors, we found that polyethylene `([*]CC[*])` is similar to polyvinylalcohol `([*]COC[*])` by 85%."
      ]
    },
    {
      "cell_type": "markdown",
      "metadata": {
        "id": "MvqTzEjOk7ku"
      },
      "source": [
        "### 6. Summary <a id=\"sum\"></a>"
      ]
    },
    {
      "cell_type": "markdown",
      "metadata": {
        "id": "YwDAUZP1gpP6"
      },
      "source": [
        "The tutorial provides an in-depth exploration of PolyBERT, a state-of-the-art machine learning model designed to advance polymer informatics by leveraging natural language processing techniques. PolyBERT enables efficient and precise exploration of the vast chemical space of polymers, facilitating the identification of materials with specific properties. The model uses transformers latent space to convert polymer chemical structures into machine-readable vectors, known as fingerprints, which are crucial for various computational tasks.\n",
        "\n",
        "Key sections of the article include:\n",
        "\n",
        "1. **Introduction:** The introduction outlines the challenges in polymer discovery and introduces PolyBERT as a novel solution, highlighting its applications in cheminformatics and multi-task property prediction.\n",
        "\n",
        "2. **Overview of PSMILES and Fingerprints:** This section discusses Polymer SMILES (PSMILES), a specialized notation for representing polymer structures, and chemical fingerprints, which are essential for tasks like similarity searches and machine learning.\n",
        "\n",
        "3. **Understanding PolyBERT Latent Space:** PolyBERT's latent space, based on the DeBERTa architecture, is explained as a lower-dimensional representation that captures the essential features of polymer structures. This space is crucial for generating accurate fingerprints and performing prediction tasks.\n",
        "\n",
        "4. **Implementing PolyBERT Using HuggingFace:** The implementation section guides readers through using the HuggingFace library to generate fingerprints for polymers, using specific PSMILES strings as examples.\n",
        "\n",
        "5. **Similarity Predictions Using Fingerprint:** The article demonstrates how to compute cosine similarity between fingerprint vectors, illustrating how PolyBERT can assess the similarity between different polymers.\n",
        "\n",
        "By combining the advanced capabilities of transformer models with the unique challenges of polymer informatics, PolyBERT represents a significant leap forward in the field, offering scalable solutions for material discovery and prediction."
      ]
    },
    {
      "cell_type": "markdown",
      "metadata": {
        "id": "Qqla9MHjk-av"
      },
      "source": [
        "### 7. Reference <a id=\"ref\"></a>"
      ]
    },
    {
      "cell_type": "markdown",
      "metadata": {
        "id": "1n6qbQKZ7KUU"
      },
      "source": [
        "1. [Kuenneth, Christopher, and Rampi Ramprasad. \"polyBERT: a chemical language model to enable fully machine-driven ultrafast polymer informatics.\" Nature Communications 14.1 (2023): 4099.](https://www.nature.com/articles/s41467-023-39868-6)\n",
        "2. [He, Pengcheng, et al. \"Deberta: Decoding-enhanced bert with disentangled attention.\" arXiv preprint arXiv:2006.03654 (2020).](https://arxiv.org/abs/2006.03654)"
      ]
    },
    {
      "cell_type": "markdown",
      "metadata": {},
      "source": [
        "# Congratulations! Time to join the Community!\n",
        "\n",
        "Congratulations on completing this tutorial notebook! If you enjoyed working through the tutorial, and want to continue working with DeepChem, we encourage you to finish the rest of the tutorials in this series. You can also help the DeepChem community in the following ways:\n",
        "\n",
        "## Star DeepChem on [GitHub](https://github.com/deepchem/deepchem)\n",
        "This helps build awareness of the DeepChem project and the tools for open source drug discovery that we're trying to build.\n",
        "\n",
        "## Join the DeepChem Gitter\n",
        "The DeepChem [Gitter](https://gitter.im/deepchem/Lobby) hosts a number of scientists, developers, and enthusiasts interested in deep learning for the life sciences. Join the conversation!\n",
        "\n",
        "## Join the DeepChem Discord\n",
        "The DeepChem [Discord](https://discord.gg/cGzwCdrUqS) hosts a number of scientists, developers, and enthusiasts interested in deep learning for the life sciences. Join the conversation!"
      ]
    },
    {
      "cell_type": "markdown",
      "metadata": {},
      "source": [
        "## Citing This Tutorial\n",
        "If you found this tutorial useful please consider citing it using the provided BibTeX."
      ]
    },
    {
      "cell_type": "code",
      "execution_count": null,
      "metadata": {},
      "outputs": [],
      "source": [
        "@manual{Intro1,\n",
        " title={PolyBERT: Introduction to Chemical Language Models for Fingerprint Generation},\n",
        " organization={DeepChem},\n",
        " author={Mohanty, Debasish},\n",
        " howpublished = {\\url{https://github.com/deepchem/deepchem/blob/master/examples/tutorials/PolyBERT___Introduction_to_Chemical_Language_Models_for_Fingerprint_Generation.ipynb}},\n",
        " year={2024},\n",
        "}"
      ]
    }
  ],
  "metadata": {
    "colab": {
      "provenance": []
    },
    "kernelspec": {
      "display_name": "Python 3",
      "name": "python3"
    },
    "language_info": {
      "codemirror_mode": {
        "name": "ipython",
        "version": 3
      },
      "file_extension": ".py",
      "mimetype": "text/x-python",
      "name": "python",
      "nbconvert_exporter": "python",
      "pygments_lexer": "ipython3",
      "version": "3.10.11"
    }
  },
  "nbformat": 4,
  "nbformat_minor": 0
}
