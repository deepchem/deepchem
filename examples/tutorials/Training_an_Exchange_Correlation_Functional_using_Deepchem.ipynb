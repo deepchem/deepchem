{
 "cells": [
  {
   "cell_type": "markdown",
   "id": "44a425d0",
   "metadata": {},
   "source": [
    "# Training an Exchange Correlation Functional using Deepchem\n",
    "\n",
    "Author : Advika Vidhyadhiraja ([Linkedin](www.linkedin.com/in/advikavidhyadhiraja)) and Rakshit Kr. Singh ([Linkedin](https://www.linkedin.com/in/rakshit-singh-ai/))\n",
    "\n",
    "[![Open In Colab](https://colab.research.google.com/assets/colab-badge.svg)](https://colab.research.google.com/drive/1MDEvTitrBreK-Pf0a_F7rNzt-8X7j97g?usp=sharing) "
   ]
  },
  {
   "cell_type": "markdown",
   "id": "40a5d2de",
   "metadata": {},
   "source": [
    "## Brief introduction to Density Functional Theory\n",
    "\n",
    "Density-functional theory (DFT) is a theory used to calculate the electronic structure of atoms, molecules, and solids. Its objective is to use the fundamental laws of quantum mechanics to quantitatively comprehend the properties of materials. There are serious limitations to the tradional methods used to approximate solutions to the Schrödinger equation of N interacting electrons moving in an external potential. Whereas in DFT, instead of the many-body wave function, the density (n(r)) is a function of three spatial coordinates."
   ]
  },
  {
   "cell_type": "markdown",
   "id": "61c387b3",
   "metadata": {},
   "source": [
    "## Understanding Exchange Correlation Functionals \n",
    "\n",
    "The many-body electronic ground state can be described using single-particle equations and an effective potential thanks to the Kohn-Sham theory. The exchange-correlation potential, which accounts for many-body effects, the Hartree potential, which describes the electrostatic electron-electron interaction, and the ionic potential resulting from the atomic cores make up the effective potential. The difference between the total exact energy and the total of the rest of the energy terms (such as kinetic energy), is known as the exchange-correlation energy. The exchange-correlation functional is obtained by calculating the functional derivate of the XC energy w.r.t the\n",
    "electron density function.\n",
    "\n",
    "The energy contributors in DFT can be representated as :\n",
    "\n",
    "$$E_{total} = E_{Kinetic} + E_{electrostatic interactions} + E_{xc}$$\n",
    "\n",
    "The first term (Kinetic energy) is calculated using a fictitious non-interacting system. The second term is the electrostatic interactions between electrons and nuclear cores. A potential energy surface is derived using the Born-Oppenheimer approximation to account for the electrostatic repulsion between the nuclear cores.\n",
    "\n",
    "The most commonly used and simplest class of XC functionals are the Local-density approximations (LDA). The LDA assumes variations of the density to be gradual, i.e, it is  based on the homogeneous electron gas model. Which is why it is regarded as the simplest approach to the exchange correlation functional. This class of functionals depend only upon the value of the electronic density at each point in space.\n",
    "\n",
    "The next point in the Jacob's ladder of XC functionals is the Generalized Gradient Approximation (GGA) class, which includes both the\n",
    "density and its gradient."
   ]
  },
  {
   "cell_type": "markdown",
   "id": "be6ccda6",
   "metadata": {},
   "source": [
    "## Setup "
   ]
  },
  {
   "cell_type": "code",
   "execution_count": null,
   "id": "d9f2cbc0",
   "metadata": {},
   "outputs": [],
   "source": [
    "!pip install --pre deepchem\n",
    "!conda install conda-forge::pylibxc\n",
    "!pip install pyscf"
   ]
  },
  {
   "cell_type": "markdown",
   "id": "51c5497f",
   "metadata": {},
   "source": [
    "## Datasets\n",
    "\n",
    "There are four types of data points used to train XCModel: atomization energy (AE) calculations, ionization poten- tial (IP) calculations, density profile regulations and den- sity matrix calculations. The ground truth values for the first two types are obtained from NIST databases (Kasim & Vinko, 2021), and the rest are calculated by perform- ing CCSD calculations (using PYSCF). Users do not need to enter the equations used to calculate the total energy for AE and IP data points. We have implemented a DFTYamlLoader class in DeepChem that loads and prepares data, and featurizes the data into standard molecular"
   ]
  },
  {
   "cell_type": "markdown",
   "id": "e8c9b355",
   "metadata": {},
   "source": [
    "## DFTYamlLoader and DFT data classes \n",
    "\n",
    "The DFTEntry data class creates and initialises DFTEntry objects from the dataset. This object contains information about the various systems in the datapoint (atoms, molecules and ions) along with the ground truth values. A system in an entry object contains \"moldesc\", \"basis\" and \"spin\" of all the atoms/molecules. These values are to be entered in the DQC or PYSCF format. The systems needs to be entered in a specific order, i.e ; the main atom/molecule needs to be the first element. (This is for objects containing equations, such as ae and ie entry objects). Spin and charge of the system are optional parameters and are considered '0' if not specified. The system number refers to the number of times the systems is present in the molecule - this is for polyatomic molecules and the default value is 1. For example ; system number of Hydrogen in water is 2."
   ]
  },
  {
   "cell_type": "code",
   "execution_count": 4,
   "id": "573309a6",
   "metadata": {},
   "outputs": [
    {
     "data": {
      "text/plain": [
       "[<deepchem.feat.dft_data.DFTSystem at 0x76e182a83d10>]"
      ]
     },
     "execution_count": 4,
     "metadata": {},
     "output_type": "execute_result"
    }
   ],
   "source": [
    "# Example: creating a DFTEntry object \n",
    "from deepchem.feat.dft_data import DFTEntry\n",
    "e_type= 'dm'\n",
    "true_val= 'deepchem/data/tests/dftHF_output.npy'\n",
    "systems = [{'moldesc': 'H 0.86625 0 0; F -0.86625 0 0','basis': '6-311++G(3df,3pd)'}]\n",
    "dm_entry_for_HF = DFTEntry.create(e_type, true_val, systems)\n",
    "\n",
    "#list of systems in an entry object\n",
    "dm_entry_for_HF.get_systems()"
   ]
  },
  {
   "cell_type": "markdown",
   "id": "f374c95f",
   "metadata": {},
   "source": [
    "## Calculating ground truth values \n",
    "\n",
    "For the AE and IE entry types, we use pre- calculated values from the NIST databases. For the DM and Dens datatypes, we calcute the true values using a non-DFT method called CCSD. (we use the PYSCF library to do so) \n",
    "\n",
    "In this example, we will calculate the initial density matrix for Hydrogen Fluoride. "
   ]
  },
  {
   "cell_type": "code",
   "execution_count": 1,
   "id": "6991ba4a",
   "metadata": {},
   "outputs": [
    {
     "name": "stdout",
     "output_type": "stream",
     "text": [
      "converged SCF energy = -100.057640174912  <S^2> = 1.4595258e-10  2S+1 = 1\n"
     ]
    },
    {
     "name": "stderr",
     "output_type": "stream",
     "text": [
      "<class 'pyscf.cc.uccsd.UCCSD'> does not have attributes  converged\n"
     ]
    },
    {
     "name": "stdout",
     "output_type": "stream",
     "text": [
      "E(UCCSD) = -100.3581800968686  E_corr = -0.3005399219564532\n"
     ]
    }
   ],
   "source": [
    "import torch\n",
    "import numpy as np\n",
    "from pyscf import gto, scf, cc\n",
    "\n",
    "\n",
    "# create a pyscf mol \n",
    "mol = gto.M(atom= 'H 0.86625 0 0; F -0.86625 0 0', basis='6-311++G(3df,3pd)' ,unit=\"Bohr\")\n",
    "mf  = scf.UHF(mol).run()\n",
    "mcc = cc.UCCSD(mf)\n",
    "mcc.kernel()\n",
    "\n",
    "# obtain the total density matrix\n",
    "modm = mcc.make_rdm1()\n",
    "aodm0 = np.dot(mf.mo_coeff[0], np.dot(modm[0], mf.mo_coeff[0].T))\n",
    "aodm1 = np.dot(mf.mo_coeff[1], np.dot(modm[1], mf.mo_coeff[1].T))\n",
    "aodm = aodm0 + aodm1\n",
    "\n",
    "# save the value in a .npy file\n",
    "dm = torch.as_tensor(aodm, dtype=torch.double)\n",
    "outfile = \"output.npy\"\n",
    "np.save(outfile, dm)"
   ]
  },
  {
   "cell_type": "markdown",
   "id": "627a2c3d",
   "metadata": {},
   "source": [
    "#### An example of the data type format: \n",
    "\n",
    "```yaml\n",
    "- e_type : 'ae'\n",
    "  true_val : '0.09194410469'\n",
    "  systems : [{\n",
    "\t'moldesc' : 'Li 1.5070 0 0; H -1.5070 0 0',\n",
    "\t'basis' : '6-311++G(3df,3pd)'\n",
    "  }, {\n",
    "\t'moldesc' : 'Li 0 0 0',\n",
    "\t'basis' : '6-311++G(3df,3pd)',\n",
    "\t'spin' : 1\n",
    "  }, {\n",
    "\t'moldesc' : 'H 0 0 0',\n",
    "\t'basis' : '6-311++G(3df,3pd)',\n",
    "\t'spin' : 1\n",
    "  }]\n",
    "\n",
    "```\n",
    "\n",
    "These values are stored in .yaml files. In case of 'dens' and 'dm', the true value will be replaced by the .npy file name containing the ccsd values."
   ]
  },
  {
   "cell_type": "markdown",
   "id": "9a74b7d2",
   "metadata": {},
   "source": [
    "### Featurizing and loading the dataset \n",
    "\n",
    "After we have built the data file, we will load it and featurize using the DFTYamlLoader class."
   ]
  },
  {
   "cell_type": "code",
   "execution_count": 4,
   "id": "39a7edd2",
   "metadata": {},
   "outputs": [],
   "source": [
    "from deepchem.data.data_loader import DFTYamlLoader\n",
    "#name of the yaml file\n",
    "inputs = 'assets/dft_tutorial.yaml'\n",
    "data = DFTYamlLoader()\n",
    "dataset = data.create_dataset(inputs)"
   ]
  },
  {
   "cell_type": "markdown",
   "id": "dfd6f0c5",
   "metadata": {},
   "source": [
    "## Layers\n",
    "\n",
    "### NNXC layer\n",
    "\n",
    "The baseNNXC class can be used to build layers such as the NNLDA layer, where the exchange correlation functional is trained based on the pre-defined LDA  class of functionals. The methods in this class take the electron density as the input and transform it accordingly. For example; The NNLDA layer requires only the density to build an NNXC whereas a GGA based model would require the density gradient as well. This method also takes polarization into account."
   ]
  },
  {
   "cell_type": "code",
   "execution_count": null,
   "id": "ae2915a1",
   "metadata": {},
   "outputs": [],
   "source": [
    "# Example; using NNLDA layer \n",
    "import torch.nn as nn\n",
    "from deepchem.models.dft.nnxc import NNLDA\n",
    "n_input, n_hidden = 2, 1\n",
    "nnmodel = (nn.Linear(n_input, n_hidden))\n",
    "output = NNLDA(nnmodel)"
   ]
  },
  {
   "cell_type": "markdown",
   "id": "6fcad9b8",
   "metadata": {},
   "source": [
    "### HybridXC layer\n",
    "\n",
    "The HybridXC module computes XC energy by summing XC energy computed from libxc(any conventional DFT functional) and the trainable neural\n",
    "network with tunable weights. This layer constructs a hybrid functional based on the user's choice of what model is to be used to train the functional. This hybrid functional is a combination of the xc that is trained by a neural network, and a conventional DFT functional. It based on this equation from (Kasim & Vinko, 2021) where $\\alpha$, $\\beta$ are the tunable weights.\n",
    "\n",
    "## $$E_{nnLDA}[n] = \\alpha E_{LDA(xc)}[n] + \\beta \\int n(r)f(n,\\xi)dr$$\n",
    "## $$E_{nnPBE}[n] = \\alpha E_{PBE(xc)}[n] + \\beta \\int n(r)f(n,\\xi,s)dr$$"
   ]
  },
  {
   "cell_type": "markdown",
   "id": "827e0bf9",
   "metadata": {},
   "source": [
    "### SCF iterations layer \n",
    "\n",
    "\n",
    "In the Kohn-Sham theory, the inclusion of the noninteracting kinetic energy functional results in a set of one-particle equations with KS\n",
    "orbitals as their solutions after functional differentiation. It is a\n",
    "variational approach that determines the lowest energy and the related\n",
    "molecular orbitals and orbital energies by using the electron-electron\n",
    "interaction potential. To learn more about Density Functional Theory\n",
    "and the Kohn-Sham approach please use the references below.\n",
    "\n",
    "The XCNNSCF is used for performing self-consistent iterations. The\n",
    "XC functional in the Kohn-Sham model implementation is replaced by a\n",
    "neural network.\n",
    "\n",
    "    "
   ]
  },
  {
   "cell_type": "code",
   "execution_count": 5,
   "id": "d2de8866",
   "metadata": {},
   "outputs": [
    {
     "name": "stdout",
     "output_type": "stream",
     "text": [
      "tensor(-99.1360, dtype=torch.float64, grad_fn=<AddBackward0>)\n"
     ]
    }
   ],
   "source": [
    "# Example; calculating energy using the scf layer\n",
    "from deepchem.models.dft.scf import XCNNSCF\n",
    "import torch\n",
    "from deepchem.feat.dft_data import DFTSystem\n",
    "from deepchem.models.dft.nnxc import HybridXC\n",
    "nnmodel = (torch.nn.Sequential(torch.nn.Linear(2, 10),torch.nn.Tanh(),torch.nn.Linear(10, 1))).to(torch.double)\n",
    "hybridxc = HybridXC(\"lda_x\", nnmodel, aweight0=0.0)\n",
    "evl = XCNNSCF(hybridxc, dm_entry_for_HF )\n",
    "system = DFTSystem(systems[0])\n",
    "run = evl.run(system)\n",
    "output = run.energy()\n",
    "print(output)"
   ]
  },
  {
   "cell_type": "markdown",
   "id": "74e970b2",
   "metadata": {},
   "source": [
    "### Training the XC Model\n",
    "\n",
    "The XCModel class is used to initialize and run Differentiable Quantum Chemistry (i.e, DFT) calculations, using an exchange correlation functional that has been replaced by a neural network. The model parame- ters consist of the PyTorch model used to train the functional and the choice of loss function. The forward method initializes the Neural Network LDA layer (NNXC), and hybridizes the func- tional with a traditional LDA functional. The hybrid xc is used to solve the Kohn-Sham equations. Once the self consistent iterations converge, the total energy of the data point is calculated and used to calculate the loss. The trained model can be used with DeepChem functions such as evaluate and predict with different metrics (Kasim & Vinko, 2021; Ramsundar et al., 2021a)\n",
    "\n",
    "Schematics of the exchange correlation XCModel:\n",
    "\n",
    "![Schematic](assets/DFT.png)"
   ]
  },
  {
   "cell_type": "code",
   "execution_count": 6,
   "id": "4d269fb6",
   "metadata": {},
   "outputs": [],
   "source": [
    "# Example: training a function using XCModel\n",
    "from deepchem.models.dft.dftxc import XCModel\n",
    "import tempfile\n",
    "\n",
    "# create a file to save the model \n",
    "model_dir = tempfile.mkdtemp()\n",
    "\n",
    "# initialise the model \n",
    "model = XCModel(\"lda_x\",\n",
    "                    batch_size=1,\n",
    "                    log_frequency=1,\n",
    "                    mode=\"classification\",\n",
    "                    n_tasks=2,\n",
    "                    model_dir=model_dir)\n",
    "\n",
    "# Calculate the loss on fitting the model \n",
    "loss = model.fit(dataset, nb_epoch=1, checkpoint_interval=1)"
   ]
  },
  {
   "cell_type": "markdown",
   "id": "d572faae",
   "metadata": {},
   "source": [
    "### Predicts and evaluation using the XC model \n",
    "\n",
    "The predictions can be run on various different molecules. In this tutorial, we will predict energy values and plot the Hydrogen dissociation curve against CCSD values. \n",
    "\n",
    "Note; the predictions in this example might not be very accurate since we are only training the model on two datapoints"
   ]
  },
  {
   "cell_type": "code",
   "execution_count": 12,
   "id": "6f04b00b",
   "metadata": {},
   "outputs": [],
   "source": [
    "# load the datasets\n",
    "import numpy as np\n",
    "inputs = 'assets/h2.yaml'\n",
    "data = DFTYamlLoader()\n",
    "h2_dataset = data.create_dataset(inputs)\n",
    "predict = model.predict(h2_dataset)"
   ]
  },
  {
   "cell_type": "markdown",
   "id": "8deaa451",
   "metadata": {},
   "source": [
    "### Plotting the results"
   ]
  },
  {
   "cell_type": "code",
   "execution_count": 14,
   "id": "3433e9c0",
   "metadata": {},
   "outputs": [
    {
     "data": {
      "image/png": "[encoded data removed]",
      "text/plain": [
       "<Figure size 640x480 with 1 Axes>"
      ]
     },
     "metadata": {},
     "output_type": "display_data"
    }
   ],
   "source": [
    "import matplotlib.pyplot as plt \n",
    "#plot\n",
    "true_val = (h2_dataset.y) \n",
    "predict_val = (predict)*(-1)\n",
    "pos = np.array([0.5000, 0.6842, 0.8684, 1.0526, 1.2368,\n",
    "                1.4211, 1.6053, 1.7895, 1.9737, 2.1579,\n",
    "                2.3421, 2.5263, 2.7105, 2.8974, 3.0789,\n",
    "                3.2632, 3.4474, 3.6316, 3.8158, 4.000]) \n",
    "plt.plot(pos, true_val )\n",
    "plt.plot(pos, predict_val, color = 'orange')\n",
    "y = pos * 0\n",
    "plt.xlabel(\"H-H distance in Angstrom\")\n",
    "plt.ylabel(\"Energy in Hartree\")\n",
    "plt.xlim([0.0, 4.5])\n",
    "plt.ylim([-0.2, 0.55])\n",
    "plt.grid()\n",
    "plt.show()"
   ]
  },
  {
   "cell_type": "markdown",
   "id": "0a45d550",
   "metadata": {},
   "source": [
    "#### Notes \n",
    "\n",
    "- The entry type \"Density Matrix\" cannot be used on model.evaluate as of now.\n",
    "- To run predictions on this data type, a dataset containing only \"dm\" entries must be used.\n",
    "- When initializing the XCModel, the user may build and pass a different pytorch model to train the XC Functional, instead of using the default method. \n"
   ]
  },
  {
   "cell_type": "markdown",
   "id": "c1076ca1",
   "metadata": {},
   "source": [
    "## References \n",
    "\n",
    "1. **Kasim, Muhammad F., and Sam M. Vinko.** (2021). *Learning the exchange-correlation functional from nature with fully differentiable density functional theory.* Physical Review Letters 127.12 : 126403. Most of our code has been derived from the reference above. The implementation of the paper can be found in the github link below: https://github.com/mfkasim1/xcnn \n",
    "\n",
    "2. **Bassani, G. F. et al.** (2005). *Encyclopedia of Condensed Matter Physics.*\n",
    "\n",
    "3. **Kohn, W. and Sham, L.J.** (1965). *Self-consistent equations including exchange and correlation effects.* Physical review, 140(4A), p.A1133.\n",
    "\n",
    "4. **Voss, J.** (2022). *Exchange-correlation functionals, Johannes Voss.* Available at: https://stanford.edu/~vossj/project/xc-functionals/ (Accessed: April 28, 2023).\n",
    "\n",
    "5. **Robert G. Parr and Weitao Yang.** (1995). *Density-Functional Theory of the Electronic Structure of Molecules*, Annual Review of Physical Chemistry 46:1\n",
    "\n",
    "6. **R. O. Jones and O. Gunnarsson.** (1989). Rev. Mod. Phys. 61, 689, 701-728.\n",
    "\n",
    "7. **Ramsundar, Peastman, Amacbride, and nvtrang91.** (2021) *Making deepchem a better framework for ai-driven science.* URL https://forum.deepchem.io/t/ making-deepchem-a-better-framework-for-ai-driven- 431."
   ]
  },
  {
   "cell_type": "markdown",
   "id": "21330dba",
   "metadata": {},
   "source": [
    "## Congratulations! Time to join the Community!\n",
    "\n",
    "Congratulations on completing this tutorial notebook! If you enjoyed working through the tutorial, and want to continue working with DeepChem, we encourage you to finish the rest of the tutorials in this series. You can also help the DeepChem community in the following ways:\n",
    "\n",
    "\n",
    "### Star DeepChem on [GitHub](https://github.com/deepchem/deepchem)\n",
    "This helps build awareness of the DeepChem project and the tools for open source drug discovery that we're trying to build.\n",
    "\n",
    "\n",
    "### Join the DeepChem Discord\n",
    "The DeepChem [Discord](https://discord.gg/SxSzjRRDMA) hosts a number of scientists, developers, and enthusiasts interested in deep learning for the life sciences. Join the conversation!"
   ]
  }
 ],
 "metadata": {
  "kernelspec": {
   "display_name": "deepchem-cpu",
   "language": "python",
   "name": "python3"
  },
  "language_info": {
   "codemirror_mode": {
    "name": "ipython",
    "version": 3
   },
   "file_extension": ".py",
   "mimetype": "text/x-python",
   "name": "python",
   "nbconvert_exporter": "python",
   "pygments_lexer": "ipython3",
   "version": "3.11.10"
  }
 },
 "nbformat": 4,
 "nbformat_minor": 5
}
