{
  "cells": [
    {
      "cell_type": "markdown",
      "metadata": {
        "id": "UPvC7G5kUJYG"
      },
      "source": [
        "#  Introduction to Gaussian Processes\n",
        "\n",
        "In the world of cheminformatics and machine learning, models are often trees (random forest, XGBoost, etc.) or artifical neural networks (deep neural networks, graph convolutional networks, etc.). These models are known as \"Frequentist\" models. However, there is another category known as Bayesian models. Today we will be experimenting with a Bayesian model implemented in scikit-learn known as gaussian processes (GP). For a deeper dive on GP, there is a great [tutorial paper](https://arxiv.org/pdf/2009.10862.pdf) on how GP works for regression. There is also an [academic paper](https://doi.org/10.1002/cmdc.200700041) that applies GP to a real world problem.\n",
        "\n",
        "As a short intro, GP allows us to build up our statistical model using an infinite number of Gaussian functions over our n-dimensional space, where n is the number of features. However, we pick these functions based on how well they fit the data we pass it. We end up with a statistical model built from an *ensemble* of Gaussian functions which can actually vary quite a bit. The result is that for points we have trained the model on, the variance in our ensemble should be very low. For test set points close to the training set points, the variance should be higher but still low as the ensemble was picked to predict well in its neighborhood. For points far from the training set points, however, we did not pick our ensemble of Gaussian functions to fit them so we'd expect the variance in our ensemble to be high. In this way, we end up with a statistical model that allows for a natural generation of uncertainty.\n",
        "\n",
        "## Colab\n",
        "\n",
        "This tutorial and the rest in the sequences are designed to be done in Google colab. If you'd like to open this notebook in colab, you can use the following link.\n",
        "\n",
        "[![Open In Colab](https://colab.research.google.com/assets/colab-badge.svg)](https://colab.research.google.com/github/deepchem/deepchem/blob/master/examples/tutorials/Introduction_to_Gaussian_Processes.ipynb)\n",
        "\n",
        "## Setup\n",
        "\n",
        "The first step is to get DeepChem up and running. We recommend using Google Colab to work through this tutorial series. You'll need to run the following commands to get DeepChem installed on your colab notebook."
      ]
    },
    {
      "cell_type": "code",
      "execution_count": null,
      "metadata": {
        "colab": {
          "base_uri": "https://localhost:8080/"
        },
        "id": "tJGVKFHnQieU",
        "outputId": "a8befbcf-fcb8-47ef-f9f3-89a9f1a274b0"
      },
      "outputs": [
        {
          "name": "stdout",
          "output_type": "stream",
          "text": [
            "Requirement already satisfied: deepchem in /home/ozone/miniconda3/envs/mol/lib/python3.7/site-packages (2.5.0.dev20210319222130)\n",
            "Requirement already satisfied: scikit-learn in /home/ozone/miniconda3/envs/mol/lib/python3.7/site-packages (from deepchem) (1.0.2)\n",
            "Requirement already satisfied: numpy in /home/ozone/miniconda3/envs/mol/lib/python3.7/site-packages (from deepchem) (1.19.1)\n",
            "Requirement already satisfied: pandas in /home/ozone/miniconda3/envs/mol/lib/python3.7/site-packages (from deepchem) (1.3.1)\n",
            "Requirement already satisfied: joblib in /home/ozone/miniconda3/envs/mol/lib/python3.7/site-packages (from deepchem) (1.1.0)\n",
            "Requirement already satisfied: scipy in /home/ozone/miniconda3/envs/mol/lib/python3.7/site-packages (from deepchem) (1.6.2)\n",
            "Requirement already satisfied: python-dateutil>=2.7.3 in /home/ozone/miniconda3/envs/mol/lib/python3.7/site-packages (from pandas->deepchem) (2.8.2)\n",
            "Requirement already satisfied: pytz>=2017.3 in /home/ozone/miniconda3/envs/mol/lib/python3.7/site-packages (from pandas->deepchem) (2021.3)\n",
            "Requirement already satisfied: six>=1.5 in /home/ozone/miniconda3/envs/mol/lib/python3.7/site-packages (from python-dateutil>=2.7.3->pandas->deepchem) (1.16.0)\n",
            "Requirement already satisfied: threadpoolctl>=2.0.0 in /home/ozone/miniconda3/envs/mol/lib/python3.7/site-packages (from scikit-learn->deepchem) (2.2.0)\n"
          ]
        }
      ],
      "source": [
        "%pip install --pre deepchem"
      ]
    },
    {
      "cell_type": "markdown",
      "metadata": {
        "id": "7VEHj_Y2WWyC"
      },
      "source": [
        "## Gaussian Processes\n",
        "\n",
        "As stated earlier, GP is already implemented in scikit-learn so we will be using DeepChem's scikit-learn wrapper. SklearnModel is a subclass of DeepChem's Model class. It acts as a wrapper around a sklearn.base.BaseEstimator.\n",
        "\n",
        "Here we import deepchem and the GP regressor model from sklearn."
      ]
    },
    {
      "cell_type": "code",
      "execution_count": null,
      "metadata": {
        "id": "v-h1CDpoWWOE"
      },
      "outputs": [],
      "source": [
        "import deepchem as dc\n",
        "from sklearn.gaussian_process import GaussianProcessRegressor\n",
        "from sklearn.gaussian_process.kernels import RBF, WhiteKernel\n",
        "\n",
        "import numpy as np\n",
        "import matplotlib.pyplot as plt"
      ]
    },
    {
      "cell_type": "markdown",
      "metadata": {
        "id": "Nlu44FV8YFMM"
      },
      "source": [
        "## Loading data\n",
        "\n",
        "Next we need a dataset that presents a regression problem. For this tutorial we will be using the BACE dataset from MoleculeNet.\n",
        "\n"
      ]
    },
    {
      "cell_type": "code",
      "execution_count": null,
      "metadata": {
        "id": "kbJ3UNt8YWk9"
      },
      "outputs": [],
      "source": [
        "tasks, datasets, transformers = dc.molnet.load_bace_regression(featurizer='ecfp', splitter='random')\n",
        "train_dataset, valid_dataset, test_dataset = datasets"
      ]
    },
    {
      "cell_type": "markdown",
      "metadata": {
        "id": "C5vePfTzYmHG"
      },
      "source": [
        "I always like to get a close look at what the objects in my code are storing. We see that tasks is a list of tasks that we are trying to predict. The transformer is a NormalizationTransformer that normalizes the outputs (y values) of the dataset."
      ]
    },
    {
      "cell_type": "code",
      "execution_count": null,
      "metadata": {
        "colab": {
          "base_uri": "https://localhost:8080/"
        },
        "id": "feTbZu-tYpV-",
        "outputId": "59fa279b-e675-4d81-b4f3-4ee94cc10b42"
      },
      "outputs": [
        {
          "name": "stdout",
          "output_type": "stream",
          "text": [
            "The tasks are: ['pIC50']\n",
            "The transformers are: [<deepchem.trans.transformers.NormalizationTransformer object at 0x7fc04401b190>]\n",
            "The transformer normalizes the outputs (y values): True\n"
          ]
        }
      ],
      "source": [
        "print(f'The tasks are: {tasks}')\n",
        "print(f'The transformers are: {transformers}')\n",
        "print(f'The transformer normalizes the outputs (y values): {transformers[0].transform_y}')"
      ]
    },
    {
      "cell_type": "markdown",
      "metadata": {
        "id": "vLMr7VmEZgRi"
      },
      "source": [
        "Here we see that the data has already been split into a training set, a validation set, and a test set. We will train the model on the training set and test the accuracy of the model on the test set. If we were to do any hyperparameter tuning, we would use the validation set. The split was ~80/10/10 train/valid/test."
      ]
    },
    {
      "cell_type": "code",
      "execution_count": null,
      "metadata": {
        "colab": {
          "base_uri": "https://localhost:8080/"
        },
        "id": "L0r7mgS4ZhSd",
        "outputId": "41399618-4193-4b5a-cddb-821881352324"
      },
      "outputs": [
        {
          "name": "stdout",
          "output_type": "stream",
          "text": [
            "<DiskDataset X.shape: (1210, 1024), y.shape: (1210, 1), w.shape: (1210, 1), task_names: ['pIC50']>\n",
            "<DiskDataset X.shape: (151, 1024), y.shape: (151, 1), w.shape: (151, 1), ids: ['Fc1ncccc1-c1cc(ccc1)C1(N=C(N)N(C)C1=O)c1cn(nc1)CC(CC)CC'\n",
            " 'S1(=O)(=O)N(c2cc(cc3n(cc(CC1)c23)CC)C(=O)NC(Cc1ccccc1)C(=O)C[NH2+]C1CCOCC1)C'\n",
            " 's1ccnc1-c1cc(ccc1)CC(NC(=O)[C@@H](OC)C)C(O)C[NH2+]C1CC2(Oc3ncc(cc13)CC(C)(C)C)CCC2'\n",
            " ...\n",
            " 'S(=O)(=O)(Nc1cc(cc(c1)C(C)(C)C)C1([NH2+]CC(O)C(NC(=O)C)Cc2cc(F)cc(F)c2)CCCCC1)C'\n",
            " 'O=C1N(C)C(=N[C@]1(c1cc(nc(c1)CC)CC)c1cc(ccc1)-c1cncnc1)N'\n",
            " 'Clc1cc2CC(N=C(NC(Cc3ccccc3)C=3NC(=O)c4c(N=3)cccc4)c2cc1)(C)C'], task_names: ['pIC50']>\n",
            "<DiskDataset X.shape: (152, 1024), y.shape: (152, 1), w.shape: (152, 1), ids: ['Clc1ccc(cc1)CC(NC(=O)C)C(O)C[NH2+]C1CC2(Oc3ncc(cc13)CC(C)(C)C)CCC2'\n",
            " 'Fc1cc(cc(F)c1)CC(NC(=O)c1cc(cc(Oc2ccc(F)cc2)c1)C(=O)N(CCC)CCC)C(O)C[NH2+]Cc1cc(OC)ccc1'\n",
            " 'O1c2c(cc(cc2)C2CCCCC2)C2(N=C(N)N(C)C2=O)CC1(C)C' ...\n",
            " 'S(=O)(=O)(N(C)c1cc(cc(c1)COCC([NH3+])(Cc1ccccc1)C(F)F)C(=O)NC(C)c1ccc(F)cc1)C'\n",
            " 'O1CCCC1CN1C(=O)C(N=C1N)(C1CCCCC1)c1ccccc1'\n",
            " 'Fc1cc(cc(c1)C#C)CC(NC(=O)COC)C(O)C[NH2+]C1CC2(Oc3ncc(cc13)CC(C)(C)C)CCC2'], task_names: ['pIC50']>\n"
          ]
        }
      ],
      "source": [
        "print(train_dataset)\n",
        "print(valid_dataset)\n",
        "print(test_dataset)"
      ]
    },
    {
      "cell_type": "markdown",
      "metadata": {
        "id": "Jdh7Hej8aUMQ"
      },
      "source": [
        "## Using the SklearnModel\n",
        "\n",
        "Here we first create the model using the GaussianProcessRegressor we imported from sklearn. Then we wrap it in DeepChem's SklearnModel. To learn more about the model, you can either read the sklearn API or run help(GaussianProcessRegressor) in a code block.\n",
        "\n",
        "As you see, the values I picked for the parameters seem awfully specific. This is because I needed to do some hyperparameter tuning beforehand to get model that wasn't wildly overfitting the training set. You can learn more about how I tuned the model in the Appendix at the end of this tutorial."
      ]
    },
    {
      "cell_type": "code",
      "execution_count": null,
      "metadata": {
        "id": "f3U2Y0Q-aUqi"
      },
      "outputs": [],
      "source": [
        "output_variance = 7.908735015054668\n",
        "length_scale = 6.452349252677817\n",
        "noise_level = 0.10475507755839343\n",
        "kernel = output_variance**2 * RBF(length_scale=length_scale, length_scale_bounds='fixed') + WhiteKernel(noise_level=noise_level, noise_level_bounds='fixed')\n",
        "alpha = 4.989499481123432e-09\n",
        "\n",
        "sklearn_gpr = GaussianProcessRegressor(kernel=kernel, alpha=alpha)\n",
        "model = dc.models.SklearnModel(sklearn_gpr)"
      ]
    },
    {
      "cell_type": "markdown",
      "metadata": {
        "id": "h7UCSgZ7bsOe"
      },
      "source": [
        "Then we fit our model to the data and see how it performs both on the training set and on the test set."
      ]
    },
    {
      "cell_type": "code",
      "execution_count": null,
      "metadata": {
        "colab": {
          "base_uri": "https://localhost:8080/"
        },
        "id": "8rgzad5ObsTb",
        "outputId": "70a7001f-a6f3-4749-d647-3c5554d7c555"
      },
      "outputs": [
        {
          "name": "stdout",
          "output_type": "stream",
          "text": [
            "Training set score: {'mean_squared_error': 0.0457129375800123, 'r2_score': 0.9542870624199877}\n",
            "Test set score: {'mean_squared_error': 0.20503945381118496, 'r2_score': 0.7850242035806018}\n"
          ]
        }
      ],
      "source": [
        "model.fit(train_dataset)\n",
        "metric1 = dc.metrics.Metric(dc.metrics.mean_squared_error)\n",
        "metric2 = dc.metrics.Metric(dc.metrics.r2_score)\n",
        "print(f'Training set score: {model.evaluate(train_dataset, [metric1, metric2])}')\n",
        "print(f'Test set score: {model.evaluate(test_dataset, [metric1, metric2])}')"
      ]
    },
    {
      "cell_type": "markdown",
      "metadata": {
        "id": "b_XkYqGLcdDT"
      },
      "source": [
        "## Analyzing the Results\n",
        "\n",
        "We can also visualize how well the predicted values match up to the measured values. First we need a function that allows us to obtain both the mean predicted value and the standard deviation of the value. This is done by sampling 100 predictions from each set of inputs X and calculating the mean and standard deviation."
      ]
    },
    {
      "cell_type": "code",
      "execution_count": null,
      "metadata": {
        "id": "lnH5zcI9TF_y"
      },
      "outputs": [],
      "source": [
        "def predict_with_error(dc_model, X, y_transformer):\n",
        "    samples = model.model.sample_y(X, 100)\n",
        "    means = y_transformer.untransform(np.mean(samples, axis=1))\n",
        "    stds = y_transformer.y_stds[0] * np.std(samples, axis=1)\n",
        "\n",
        "    return means, stds"
      ]
    },
    {
      "cell_type": "markdown",
      "metadata": {
        "id": "n7DRu_K-G32Q"
      },
      "source": [
        "For our training set, we see a pretty good correlation between the measured values (x-axis) and the predicted values (y-axis). Note that we use the transformer from earlier to untransform our predicted values."
      ]
    },
    {
      "cell_type": "code",
      "execution_count": null,
      "metadata": {
        "colab": {
          "base_uri": "https://localhost:8080/",
          "height": 283
        },
        "id": "atm3snwocamM",
        "outputId": "20f4c329-78fb-4384-dfe6-4b27d95c1d77"
      },
      "outputs": [
        {
          "data": {
            "text/plain": [
              "<matplotlib.collections.PathCollection at 0x7fc0431b45d0>"
            ]
          },
          "execution_count": 8,
          "metadata": {},
          "output_type": "execute_result"
        },
        {
          "data": {
            "image/png": "[encoded data removed]",
            "text/plain": [
              "<Figure size 432x288 with 1 Axes>"
            ]
          },
          "metadata": {
            "needs_background": "light"
          },
          "output_type": "display_data"
        }
      ],
      "source": [
        "y_meas_train = transformers[0].untransform(train_dataset.y)\n",
        "y_pred_train, y_pred_train_stds = predict_with_error(model, train_dataset.X, transformers[0])\n",
        "\n",
        "plt.xlim([2.5, 10.5])\n",
        "plt.ylim([2.5, 10.5])\n",
        "plt.scatter(y_meas_train, y_pred_train)"
      ]
    },
    {
      "cell_type": "markdown",
      "metadata": {
        "id": "EOtLvq02A2bb"
      },
      "source": [
        "We now do the same for our test set. We see a fairly good correlation! However, it is certainly not as tight. This is reflected in the difference between the R2 scores calculated above."
      ]
    },
    {
      "cell_type": "code",
      "execution_count": null,
      "metadata": {
        "id": "uswXIr2vqq-W",
        "outputId": "d45c00ec-c860-4644-f2d4-70d046d9a92d"
      },
      "outputs": [
        {
          "data": {
            "text/plain": [
              "<matplotlib.collections.PathCollection at 0x7fc04023b590>"
            ]
          },
          "execution_count": 9,
          "metadata": {},
          "output_type": "execute_result"
        },
        {
          "data": {
            "image/png": "[encoded data removed]",
            "text/plain": [
              "<Figure size 432x288 with 1 Axes>"
            ]
          },
          "metadata": {
            "needs_background": "light"
          },
          "output_type": "display_data"
        }
      ],
      "source": [
        "y_meas_test = transformers[0].untransform(test_dataset.y)\n",
        "y_pred_test, y_pred_test_stds = predict_with_error(model, test_dataset.X, transformers[0])\n",
        "\n",
        "plt.xlim([2.5, 10.5])\n",
        "plt.ylim([2.5, 10.5])\n",
        "plt.scatter(y_meas_test, y_pred_test)"
      ]
    },
    {
      "cell_type": "markdown",
      "metadata": {
        "id": "jNogRsV4p5Xa"
      },
      "source": [
        "We can also write a function to calculate how many of the predicted values fall within the predicted error range. This is done by counting up how many samples have a true error smaller than its standard deviation calculated earlier. One standard deviation is a 68% confidence interval."
      ]
    },
    {
      "cell_type": "code",
      "execution_count": null,
      "metadata": {
        "id": "Xihho3Ndp5gL"
      },
      "outputs": [],
      "source": [
        "def percent_within_std(y_meas, y_pred, y_std):\n",
        "    assert len(y_meas) == len(y_pred) and len(y_meas) == len(y_std), 'length of y_meas and y_pred must be the same'\n",
        "\n",
        "    count_within_error = 0\n",
        "    for i in range(len(y_meas)):\n",
        "        if abs(y_meas[i][0]-y_pred[i]) < y_std[i]:\n",
        "            count_within_error += 1\n",
        "\n",
        "    return count_within_error/len(y_meas)"
      ]
    },
    {
      "cell_type": "markdown",
      "metadata": {
        "id": "-HON20UmG32R"
      },
      "source": [
        "For the train set, >90% of the samples are within a standard deviation. In comparison, only ~70% of the samples are within a standard deviation for the test set. A standard deviation is a 68% confidence interval so we see that for the training set, the uncertainty is close. However, this model overpredicts uncertainty on the training set."
      ]
    },
    {
      "cell_type": "code",
      "execution_count": null,
      "metadata": {
        "id": "SbOpWF0PG32R",
        "outputId": "bafdceff-291d-4972-980e-80233fa67223"
      },
      "outputs": [
        {
          "data": {
            "text/plain": [
              "0.9355371900826446"
            ]
          },
          "execution_count": 11,
          "metadata": {},
          "output_type": "execute_result"
        }
      ],
      "source": [
        "percent_within_std(y_meas_train, y_pred_train, y_pred_train_stds)"
      ]
    },
    {
      "cell_type": "code",
      "execution_count": null,
      "metadata": {
        "colab": {
          "base_uri": "https://localhost:8080/"
        },
        "id": "YpgKQswIRjvN",
        "outputId": "af83cdfd-7f1a-45ab-a244-c26a2b40c4a0"
      },
      "outputs": [
        {
          "data": {
            "text/plain": [
              "0.7368421052631579"
            ]
          },
          "execution_count": 12,
          "metadata": {},
          "output_type": "execute_result"
        }
      ],
      "source": [
        "percent_within_std(y_meas_test, y_pred_test, y_pred_test_stds)"
      ]
    },
    {
      "cell_type": "markdown",
      "metadata": {
        "id": "Xsa03OFu8taf"
      },
      "source": [
        "We can also take a look at the distributions of the standard deviations for the test set predictions. We see a very roughly Gaussian distribution in the predicted errors."
      ]
    },
    {
      "cell_type": "code",
      "execution_count": null,
      "metadata": {
        "colab": {
          "base_uri": "https://localhost:8080/",
          "height": 265
        },
        "id": "na23a9AU8s8d",
        "outputId": "6d5ccd5a-74ee-4c6e-fc4c-02ac6a1c356e"
      },
      "outputs": [
        {
          "data": {
            "image/png": "[encoded data removed]",
            "text/plain": [
              "<Figure size 432x288 with 1 Axes>"
            ]
          },
          "metadata": {
            "needs_background": "light"
          },
          "output_type": "display_data"
        }
      ],
      "source": [
        "plt.hist(y_pred_test_stds)\n",
        "plt.show()"
      ]
    },
    {
      "cell_type": "markdown",
      "metadata": {
        "id": "AZwxGKoyG32S"
      },
      "source": [
        "For now, this is the end of our tutorial. We plan to follow up soon with a deeper dive into uncertainty estimation and in particular, calibrated uncertainty estimation. We will see you then!"
      ]
    },
    {
      "cell_type": "markdown",
      "metadata": {
        "id": "_JEhXwfSUMYD"
      },
      "source": [
        "## Appendix: Hyperparameter Optimization\n",
        "\n",
        "As hyperparameter optimization is outside the scope of this tutorial, I will not explain how to use Optuna to tune hyperparameters. But the code is still included for the sake of completeness."
      ]
    },
    {
      "cell_type": "code",
      "execution_count": null,
      "metadata": {
        "id": "ItUhfWMBAYMF"
      },
      "outputs": [],
      "source": [
        "%pip install optuna\n",
        "import optuna"
      ]
    },
    {
      "cell_type": "code",
      "execution_count": null,
      "metadata": {
        "id": "9OWKLnv4iGWp"
      },
      "outputs": [],
      "source": [
        "def get_model(trial):\n",
        "    output_variance = trial.suggest_float('output_variance', 0.1, 10, log=True)\n",
        "    length_scale = trial.suggest_float('length_scale', 1e-5, 1e5, log=True)\n",
        "    noise_level = trial.suggest_float('noise_level', 1e-5, 1e5, log=True)\n",
        "\n",
        "    params = {\n",
        "        'kernel': output_variance**2 * RBF(length_scale=length_scale, length_scale_bounds='fixed') + WhiteKernel(noise_level=noise_level, noise_level_bounds='fixed'),\n",
        "        'alpha': trial.suggest_float('alpha', 1e-12, 1e-5, log=True),\n",
        "    }\n",
        "\n",
        "    sklearn_gpr = GaussianProcessRegressor(**params)\n",
        "    return dc.models.SklearnModel(sklearn_gpr)\n",
        "\n",
        "def objective(trial):\n",
        "    model = get_model(trial)\n",
        "    model.fit(train_dataset)\n",
        "\n",
        "    metric = dc.metrics.Metric(dc.metrics.mean_squared_error)\n",
        "    return model.evaluate(valid_dataset, [metric])['mean_squared_error']"
      ]
    },
    {
      "cell_type": "code",
      "execution_count": null,
      "metadata": {
        "id": "jA74yOKWexnW"
      },
      "outputs": [],
      "source": [
        "study = optuna.create_study(direction='minimize')\n",
        "study.optimize(objective, n_trials=100)"
      ]
    },
    {
      "cell_type": "code",
      "execution_count": null,
      "metadata": {
        "colab": {
          "base_uri": "https://localhost:8080/"
        },
        "id": "BABAYa2NpuiN",
        "outputId": "79c9e271-4524-461a-fbc1-ef9ce92260e4"
      },
      "outputs": [
        {
          "name": "stdout",
          "output_type": "stream",
          "text": [
            "{'output_variance': 0.38974570882583015, 'length_scale': 5.375387643239208, 'noise_level': 0.0016265333497286342, 'alpha': 1.1273318360324618e-11}\n"
          ]
        }
      ],
      "source": [
        "print(study.best_params)"
      ]
    },
    {
      "cell_type": "markdown",
      "metadata": {
        "id": "wssi6cBmh12z"
      },
      "source": [
        "# Congratulations! Time to join the Community!\n",
        "\n",
        "Congratulations on completing this tutorial notebook! If you enjoyed working through the tutorial, and want to continue working with DeepChem, we encourage you to finish the rest of the tutorials in this series. You can also help the DeepChem community in the following ways:\n",
        "\n",
        "## Star DeepChem on [GitHub](https://github.com/deepchem/deepchem)\n",
        "This helps build awareness of the DeepChem project and the tools for open source drug discovery that we're trying to build.\n",
        "\n",
        "## Join the DeepChem Gitter\n",
        "The DeepChem [Gitter](https://gitter.im/deepchem/Lobby) hosts a number of scientists, developers, and enthusiasts interested in deep learning for the life sciences. Join the conversation!"
      ]
    }
  ],
  "metadata": {
    "colab": {
      "provenance": []
    },
    "kernelspec": {
      "display_name": "mol",
      "language": "python",
      "name": "python3"
    },
    "language_info": {
      "codemirror_mode": {
        "name": "ipython",
        "version": 3
      },
      "file_extension": ".py",
      "mimetype": "text/x-python",
      "name": "python",
      "nbconvert_exporter": "python",
      "pygments_lexer": "ipython3",
      "version": "3.7.11"
    }
  },
  "nbformat": 4,
  "nbformat_minor": 0
}