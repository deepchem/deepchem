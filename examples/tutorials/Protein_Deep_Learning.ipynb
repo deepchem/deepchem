{
 "cells": [
  {
   "cell_type": "markdown",
   "id": "7a12c479",
   "metadata": {},
   "source": [
    "#  Protein Deep Learning \n",
    "by David Ricardo Figueroa Blanco"
   ]
  },
  {
   "cell_type": "markdown",
   "id": "3f655918",
   "metadata": {},
   "source": [
    "In this tutorial we will  compare  protein sequences featurization  such as one hot encoders and aminoacids composition. We will use some tools of DeepChem and additional packages to create a model to predict melting temperature of proteins ( a good measurement of protein stability )    \n",
    "   \n",
    "The melting temperature (MT) of a protein is a measurement of protein stability. This measure could vary from a big variety of experimental conditions, however, curated databases cand be found in literature https://aip.scitation.org/doi/10.1063/1.4947493. In this paper we can find a lot of thermodynamic information of proteins and therefore a big resource for the study of protein stability. Other information related with protein stability could be the change in Gibbs Free Energy $ \\Delta \\Delta G°$ due to a mutation. \n",
    "\n",
    "The study of protein stability is important in areas such as protein engineering and biocatalysis because catalytic efficiency could be directly related to the tertiary structure of the protein in study."
   ]
  },
  {
   "cell_type": "markdown",
   "id": "b8e6ed7a",
   "metadata": {},
   "source": [
    "# Setup\n",
    "To run DeepChem within Colab, you'll need to run the following installation commands. This will take about 5 minutes to run to completion and install your environment. You can of course run this tutorial locally if you prefer. In that case, don't run these cells since they will download and install Anaconda on your local machine."
   ]
  },
  {
   "cell_type": "code",
   "execution_count": null,
   "id": "c1ab8cfc",
   "metadata": {},
   "outputs": [],
   "source": [
    "!curl -Lo conda_installer.py https://raw.githubusercontent.com/deepchem/deepchem/master/scripts/colab_install.py\n",
    "import conda_installer\n",
    "conda_installer.install()\n",
    "!/root/miniconda/bin/conda info -e"
   ]
  },
  {
   "cell_type": "code",
   "execution_count": null,
   "id": "d0ea929d",
   "metadata": {},
   "outputs": [],
   "source": [
    "!pip install --pre deepchem\n",
    "!pip install propy3 "
   ]
  },
  {
   "cell_type": "markdown",
   "id": "f3998a58",
   "metadata": {},
   "source": [
    "# Data extraction"
   ]
  },
  {
   "cell_type": "markdown",
   "id": "aabaaa7d",
   "metadata": {},
   "source": [
    "In this cell, we download the dataset published in the paper https://aip.scitation.org/doi/10.1063/1.4947493 from the DeepChem dataset repository"
   ]
  },
  {
   "cell_type": "code",
   "execution_count": null,
   "id": "3b663d6b",
   "metadata": {},
   "outputs": [],
   "source": [
    "import deepchem as dc \n",
    "import os \n",
    "from deepchem.utils import download_url\n",
    "data_dir = dc.utils.get_data_dir()\n",
    "download_url(\"https://deepchemdata.s3-us-west-1.amazonaws.com/datasets/pucci-proteins-appendixtable1.csv\",dest_dir=data_dir)\n",
    "print('Dataset Dowloaded at {}'.format(data_dir))\n",
    "dataset_file = os.path.join(data_dir, \"pucci-proteins-appendixtable1.csv\")"
   ]
  },
  {
   "cell_type": "markdown",
   "id": "52f2e6d2",
   "metadata": {},
   "source": [
    "A closer look of the dataset: Contains the PDBid and the respective mutation and change in thermodynamical properties in each studied protein"
   ]
  },
  {
   "cell_type": "code",
   "execution_count": 3,
   "id": "193aff48",
   "metadata": {},
   "outputs": [
    {
     "data": {
      "text/html": [
       "<div>\n",
       "<style scoped>\n",
       "    .dataframe tbody tr th:only-of-type {\n",
       "        vertical-align: middle;\n",
       "    }\n",
       "\n",
       "    .dataframe tbody tr th {\n",
       "        vertical-align: top;\n",
       "    }\n",
       "\n",
       "    .dataframe thead th {\n",
       "        text-align: right;\n",
       "    }\n",
       "</style>\n",
       "<table border=\"1\" class=\"dataframe\">\n",
       "  <thead>\n",
       "    <tr style=\"text-align: right;\">\n",
       "      <th></th>\n",
       "      <th>Unnamed: 0</th>\n",
       "      <th>N</th>\n",
       "      <th>PDBid</th>\n",
       "      <th>Chain</th>\n",
       "      <th>RESN</th>\n",
       "      <th>RESwt</th>\n",
       "      <th>RESmut</th>\n",
       "      <th>ΔTmexp</th>\n",
       "      <th>Tmexp [wt]</th>\n",
       "      <th>ΔΔHmexp</th>\n",
       "      <th>...</th>\n",
       "      <th>ΔΔGexp(T)</th>\n",
       "      <th>T</th>\n",
       "      <th>Nres</th>\n",
       "      <th>R (Å)</th>\n",
       "      <th>Protein</th>\n",
       "      <th>Organism</th>\n",
       "      <th>Ref.</th>\n",
       "      <th>pH</th>\n",
       "      <th>Exp.Tech.</th>\n",
       "      <th></th>\n",
       "    </tr>\n",
       "  </thead>\n",
       "  <tbody>\n",
       "    <tr>\n",
       "      <th>0</th>\n",
       "      <td>NaN</td>\n",
       "      <td>1</td>\n",
       "      <td>1aky</td>\n",
       "      <td>A</td>\n",
       "      <td>8</td>\n",
       "      <td>VAL</td>\n",
       "      <td>ILE</td>\n",
       "      <td>-1.5</td>\n",
       "      <td>47.6</td>\n",
       "      <td>70</td>\n",
       "      <td>...</td>\n",
       "      <td>5.0</td>\n",
       "      <td>25</td>\n",
       "      <td>220</td>\n",
       "      <td>1.63</td>\n",
       "      <td>ADK</td>\n",
       "      <td>Yeast</td>\n",
       "      <td>[1]</td>\n",
       "      <td>[7.5]</td>\n",
       "      <td>FL</td>\n",
       "      <td>NaN</td>\n",
       "    </tr>\n",
       "    <tr>\n",
       "      <th>1</th>\n",
       "      <td>NaN</td>\n",
       "      <td>2</td>\n",
       "      <td>1aky</td>\n",
       "      <td>A</td>\n",
       "      <td>48</td>\n",
       "      <td>GLN</td>\n",
       "      <td>GLU</td>\n",
       "      <td>-1.3</td>\n",
       "      <td>47.6</td>\n",
       "      <td>60</td>\n",
       "      <td>...</td>\n",
       "      <td>4.0</td>\n",
       "      <td>25</td>\n",
       "      <td>220</td>\n",
       "      <td>1.63</td>\n",
       "      <td>ADK</td>\n",
       "      <td>Yeast</td>\n",
       "      <td>[1]</td>\n",
       "      <td>[7.7]</td>\n",
       "      <td>FL</td>\n",
       "      <td>NaN</td>\n",
       "    </tr>\n",
       "    <tr>\n",
       "      <th>2</th>\n",
       "      <td>NaN</td>\n",
       "      <td>3</td>\n",
       "      <td>1aky</td>\n",
       "      <td>A</td>\n",
       "      <td>77</td>\n",
       "      <td>THR</td>\n",
       "      <td>HIS</td>\n",
       "      <td>-1.1</td>\n",
       "      <td>47.6</td>\n",
       "      <td>130</td>\n",
       "      <td>...</td>\n",
       "      <td>9.0</td>\n",
       "      <td>25</td>\n",
       "      <td>220</td>\n",
       "      <td>1.63</td>\n",
       "      <td>ADK</td>\n",
       "      <td>Yeast</td>\n",
       "      <td>[1]</td>\n",
       "      <td>[7.5]</td>\n",
       "      <td>FL</td>\n",
       "      <td>NaN</td>\n",
       "    </tr>\n",
       "    <tr>\n",
       "      <th>3</th>\n",
       "      <td>NaN</td>\n",
       "      <td>4</td>\n",
       "      <td>1aky</td>\n",
       "      <td>A</td>\n",
       "      <td>110</td>\n",
       "      <td>THR</td>\n",
       "      <td>HIS</td>\n",
       "      <td>-4.8</td>\n",
       "      <td>47.6</td>\n",
       "      <td>165</td>\n",
       "      <td>...</td>\n",
       "      <td>11.0</td>\n",
       "      <td>25</td>\n",
       "      <td>220</td>\n",
       "      <td>1.63</td>\n",
       "      <td>ADK</td>\n",
       "      <td>Yeast</td>\n",
       "      <td>[1]</td>\n",
       "      <td>[7.6]</td>\n",
       "      <td>FL</td>\n",
       "      <td>NaN</td>\n",
       "    </tr>\n",
       "    <tr>\n",
       "      <th>4</th>\n",
       "      <td>NaN</td>\n",
       "      <td>5</td>\n",
       "      <td>1aky</td>\n",
       "      <td>A</td>\n",
       "      <td>169</td>\n",
       "      <td>ASN</td>\n",
       "      <td>ASP</td>\n",
       "      <td>-0.6</td>\n",
       "      <td>47.6</td>\n",
       "      <td>140</td>\n",
       "      <td>...</td>\n",
       "      <td>9.0</td>\n",
       "      <td>25</td>\n",
       "      <td>220</td>\n",
       "      <td>1.63</td>\n",
       "      <td>ADK</td>\n",
       "      <td>Yeast</td>\n",
       "      <td>[1]</td>\n",
       "      <td>[7.5]</td>\n",
       "      <td>FL</td>\n",
       "      <td>NaN</td>\n",
       "    </tr>\n",
       "    <tr>\n",
       "      <th>...</th>\n",
       "      <td>...</td>\n",
       "      <td>...</td>\n",
       "      <td>...</td>\n",
       "      <td>...</td>\n",
       "      <td>...</td>\n",
       "      <td>...</td>\n",
       "      <td>...</td>\n",
       "      <td>...</td>\n",
       "      <td>...</td>\n",
       "      <td>...</td>\n",
       "      <td>...</td>\n",
       "      <td>...</td>\n",
       "      <td>...</td>\n",
       "      <td>...</td>\n",
       "      <td>...</td>\n",
       "      <td>...</td>\n",
       "      <td>...</td>\n",
       "      <td>...</td>\n",
       "      <td>...</td>\n",
       "      <td>...</td>\n",
       "      <td>...</td>\n",
       "    </tr>\n",
       "    <tr>\n",
       "      <th>1621</th>\n",
       "      <td>NaN</td>\n",
       "      <td>1622</td>\n",
       "      <td>5pti_m52l</td>\n",
       "      <td>A</td>\n",
       "      <td>15</td>\n",
       "      <td>LYS</td>\n",
       "      <td>SER</td>\n",
       "      <td>-1.3</td>\n",
       "      <td>91.7</td>\n",
       "      <td>-5</td>\n",
       "      <td>...</td>\n",
       "      <td>1.2</td>\n",
       "      <td>25</td>\n",
       "      <td>58</td>\n",
       "      <td>1.00</td>\n",
       "      <td>PTI M52L</td>\n",
       "      <td>Bovine</td>\n",
       "      <td>[232]</td>\n",
       "      <td>[3.0]</td>\n",
       "      <td>DSC</td>\n",
       "      <td>NaN</td>\n",
       "    </tr>\n",
       "    <tr>\n",
       "      <th>1622</th>\n",
       "      <td>NaN</td>\n",
       "      <td>1623</td>\n",
       "      <td>5pti_m52l</td>\n",
       "      <td>A</td>\n",
       "      <td>15</td>\n",
       "      <td>LYS</td>\n",
       "      <td>THR</td>\n",
       "      <td>-1.1</td>\n",
       "      <td>91.7</td>\n",
       "      <td>-9</td>\n",
       "      <td>...</td>\n",
       "      <td>-3.6</td>\n",
       "      <td>25</td>\n",
       "      <td>58</td>\n",
       "      <td>1.00</td>\n",
       "      <td>PTI M52L</td>\n",
       "      <td>Bovine</td>\n",
       "      <td>[232]</td>\n",
       "      <td>[3.0]</td>\n",
       "      <td>DSC</td>\n",
       "      <td>NaN</td>\n",
       "    </tr>\n",
       "    <tr>\n",
       "      <th>1623</th>\n",
       "      <td>NaN</td>\n",
       "      <td>1624</td>\n",
       "      <td>5pti_m52l</td>\n",
       "      <td>A</td>\n",
       "      <td>15</td>\n",
       "      <td>LYS</td>\n",
       "      <td>VAL</td>\n",
       "      <td>-6.3</td>\n",
       "      <td>91.7</td>\n",
       "      <td>4</td>\n",
       "      <td>...</td>\n",
       "      <td>4.7</td>\n",
       "      <td>25</td>\n",
       "      <td>58</td>\n",
       "      <td>1.00</td>\n",
       "      <td>PTI M52L</td>\n",
       "      <td>Bovine</td>\n",
       "      <td>[232]</td>\n",
       "      <td>[3.0]</td>\n",
       "      <td>DSC</td>\n",
       "      <td>NaN</td>\n",
       "    </tr>\n",
       "    <tr>\n",
       "      <th>1624</th>\n",
       "      <td>NaN</td>\n",
       "      <td>1625</td>\n",
       "      <td>5pti_m52l</td>\n",
       "      <td>A</td>\n",
       "      <td>15</td>\n",
       "      <td>LYS</td>\n",
       "      <td>TRP</td>\n",
       "      <td>-7.5</td>\n",
       "      <td>91.7</td>\n",
       "      <td>17</td>\n",
       "      <td>...</td>\n",
       "      <td>8.5</td>\n",
       "      <td>25</td>\n",
       "      <td>58</td>\n",
       "      <td>1.00</td>\n",
       "      <td>PTI M52L</td>\n",
       "      <td>Bovine</td>\n",
       "      <td>[232]</td>\n",
       "      <td>[2.5]</td>\n",
       "      <td>DSC</td>\n",
       "      <td>NaN</td>\n",
       "    </tr>\n",
       "    <tr>\n",
       "      <th>1625</th>\n",
       "      <td>NaN</td>\n",
       "      <td>1626</td>\n",
       "      <td>5pti_m52l</td>\n",
       "      <td>A</td>\n",
       "      <td>15</td>\n",
       "      <td>LYS</td>\n",
       "      <td>TYR</td>\n",
       "      <td>-6.6</td>\n",
       "      <td>91.7</td>\n",
       "      <td>4</td>\n",
       "      <td>...</td>\n",
       "      <td>4.6</td>\n",
       "      <td>25</td>\n",
       "      <td>58</td>\n",
       "      <td>1.00</td>\n",
       "      <td>PTI M52L</td>\n",
       "      <td>Bovine</td>\n",
       "      <td>[232]</td>\n",
       "      <td>[3.0]</td>\n",
       "      <td>DSC</td>\n",
       "      <td>NaN</td>\n",
       "    </tr>\n",
       "  </tbody>\n",
       "</table>\n",
       "<p>1626 rows × 23 columns</p>\n",
       "</div>"
      ],
      "text/plain": [
       "      Unnamed: 0     N      PDBid Chain  RESN RESwt RESmut  ΔTmexp  \\\n",
       "0            NaN     1       1aky     A     8   VAL    ILE    -1.5   \n",
       "1            NaN     2       1aky     A    48   GLN    GLU    -1.3   \n",
       "2            NaN     3       1aky     A    77   THR    HIS    -1.1   \n",
       "3            NaN     4       1aky     A   110   THR    HIS    -4.8   \n",
       "4            NaN     5       1aky     A   169   ASN    ASP    -0.6   \n",
       "...          ...   ...        ...   ...   ...   ...    ...     ...   \n",
       "1621         NaN  1622  5pti_m52l     A    15   LYS    SER    -1.3   \n",
       "1622         NaN  1623  5pti_m52l     A    15   LYS    THR    -1.1   \n",
       "1623         NaN  1624  5pti_m52l     A    15   LYS    VAL    -6.3   \n",
       "1624         NaN  1625  5pti_m52l     A    15   LYS    TRP    -7.5   \n",
       "1625         NaN  1626  5pti_m52l     A    15   LYS    TYR    -6.6   \n",
       "\n",
       "      Tmexp [wt] ΔΔHmexp  ... ΔΔGexp(T)   T Nres R (Å)   Protein  Organism  \\\n",
       "0           47.6      70  ...       5.0  25  220  1.63       ADK     Yeast   \n",
       "1           47.6      60  ...       4.0  25  220  1.63       ADK     Yeast   \n",
       "2           47.6     130  ...       9.0  25  220  1.63       ADK     Yeast   \n",
       "3           47.6     165  ...      11.0  25  220  1.63       ADK     Yeast   \n",
       "4           47.6     140  ...       9.0  25  220  1.63       ADK     Yeast   \n",
       "...          ...     ...  ...       ...  ..  ...   ...       ...       ...   \n",
       "1621        91.7      -5  ...       1.2  25   58  1.00  PTI M52L    Bovine   \n",
       "1622        91.7      -9  ...      -3.6  25   58  1.00  PTI M52L    Bovine   \n",
       "1623        91.7       4  ...       4.7  25   58  1.00  PTI M52L    Bovine   \n",
       "1624        91.7      17  ...       8.5  25   58  1.00  PTI M52L    Bovine   \n",
       "1625        91.7       4  ...       4.6  25   58  1.00  PTI M52L    Bovine   \n",
       "\n",
       "       Ref.     pH Exp.Tech.      \n",
       "0       [1]  [7.5]       FL  NaN  \n",
       "1       [1]  [7.7]       FL  NaN  \n",
       "2       [1]  [7.5]       FL  NaN  \n",
       "3       [1]  [7.6]       FL  NaN  \n",
       "4       [1]  [7.5]       FL  NaN  \n",
       "...     ...    ...       ...  ..  \n",
       "1621  [232]  [3.0]       DSC NaN  \n",
       "1622  [232]  [3.0]       DSC NaN  \n",
       "1623  [232]  [3.0]       DSC NaN  \n",
       "1624  [232]  [2.5]       DSC NaN  \n",
       "1625  [232]  [3.0]       DSC NaN  \n",
       "\n",
       "[1626 rows x 23 columns]"
      ]
     },
     "execution_count": 3,
     "metadata": {},
     "output_type": "execute_result"
    }
   ],
   "source": [
    "import pandas as pd \n",
    "data = pd.read_csv(dataset_file)\n",
    "data"
   ]
  },
  {
   "cell_type": "markdown",
   "id": "12854864",
   "metadata": {},
   "source": [
    "Here we extract a small DataFrame that only contains a unique PDBid code and its respective melting temperature"
   ]
  },
  {
   "cell_type": "code",
   "execution_count": 4,
   "id": "ed716019",
   "metadata": {},
   "outputs": [],
   "source": [
    "WT_Tm = data[['PDBid','Tmexp [wt]']]\n",
    "WT_Tm.set_index('PDBid',inplace=True)"
   ]
  },
  {
   "cell_type": "code",
   "execution_count": 5,
   "id": "a08b3599",
   "metadata": {},
   "outputs": [
    {
     "data": {
      "text/html": [
       "<div>\n",
       "<style scoped>\n",
       "    .dataframe tbody tr th:only-of-type {\n",
       "        vertical-align: middle;\n",
       "    }\n",
       "\n",
       "    .dataframe tbody tr th {\n",
       "        vertical-align: top;\n",
       "    }\n",
       "\n",
       "    .dataframe thead th {\n",
       "        text-align: right;\n",
       "    }\n",
       "</style>\n",
       "<table border=\"1\" class=\"dataframe\">\n",
       "  <thead>\n",
       "    <tr style=\"text-align: right;\">\n",
       "      <th></th>\n",
       "      <th>Tmexp [wt]</th>\n",
       "    </tr>\n",
       "    <tr>\n",
       "      <th>PDBid</th>\n",
       "      <th></th>\n",
       "    </tr>\n",
       "  </thead>\n",
       "  <tbody>\n",
       "    <tr>\n",
       "      <th>1aky</th>\n",
       "      <td>47.6</td>\n",
       "    </tr>\n",
       "    <tr>\n",
       "      <th>1aky</th>\n",
       "      <td>47.6</td>\n",
       "    </tr>\n",
       "    <tr>\n",
       "      <th>1aky</th>\n",
       "      <td>47.6</td>\n",
       "    </tr>\n",
       "    <tr>\n",
       "      <th>1aky</th>\n",
       "      <td>47.6</td>\n",
       "    </tr>\n",
       "    <tr>\n",
       "      <th>1aky</th>\n",
       "      <td>47.6</td>\n",
       "    </tr>\n",
       "    <tr>\n",
       "      <th>...</th>\n",
       "      <td>...</td>\n",
       "    </tr>\n",
       "    <tr>\n",
       "      <th>5pti_m52l</th>\n",
       "      <td>91.7</td>\n",
       "    </tr>\n",
       "    <tr>\n",
       "      <th>5pti_m52l</th>\n",
       "      <td>91.7</td>\n",
       "    </tr>\n",
       "    <tr>\n",
       "      <th>5pti_m52l</th>\n",
       "      <td>91.7</td>\n",
       "    </tr>\n",
       "    <tr>\n",
       "      <th>5pti_m52l</th>\n",
       "      <td>91.7</td>\n",
       "    </tr>\n",
       "    <tr>\n",
       "      <th>5pti_m52l</th>\n",
       "      <td>91.7</td>\n",
       "    </tr>\n",
       "  </tbody>\n",
       "</table>\n",
       "<p>1626 rows × 1 columns</p>\n",
       "</div>"
      ],
      "text/plain": [
       "           Tmexp [wt]\n",
       "PDBid                \n",
       "1aky             47.6\n",
       "1aky             47.6\n",
       "1aky             47.6\n",
       "1aky             47.6\n",
       "1aky             47.6\n",
       "...               ...\n",
       "5pti_m52l        91.7\n",
       "5pti_m52l        91.7\n",
       "5pti_m52l        91.7\n",
       "5pti_m52l        91.7\n",
       "5pti_m52l        91.7\n",
       "\n",
       "[1626 rows x 1 columns]"
      ]
     },
     "execution_count": 5,
     "metadata": {},
     "output_type": "execute_result"
    }
   ],
   "source": [
    "WT_Tm"
   ]
  },
  {
   "cell_type": "markdown",
   "id": "01718488",
   "metadata": {},
   "source": [
    "Here we create a dictionary that contains as keys, the pdbid of each protein and  as values, the wild type melting temperature"
   ]
  },
  {
   "cell_type": "code",
   "execution_count": 6,
   "id": "9e424a63",
   "metadata": {
    "tags": []
   },
   "outputs": [],
   "source": [
    "dict_WT_TM = {}\n",
    "for k,v in WT_Tm.itertuples():\n",
    "    if(k not in dict_WT_TM):\n",
    "        dict_WT_TM[k]=float(v)"
   ]
  },
  {
   "cell_type": "markdown",
   "id": "3ea713f5",
   "metadata": {},
   "source": [
    "Here we extract proteins with mutations reported only in chain A "
   ]
  },
  {
   "cell_type": "code",
   "execution_count": 7,
   "id": "4d07c8dd",
   "metadata": {},
   "outputs": [],
   "source": [
    "pdbs = data[data['PDBid'].str.len()<5]\n",
    "pdbs = pdbs[pdbs['Chain'] == \"A\"]"
   ]
  },
  {
   "cell_type": "code",
   "execution_count": 8,
   "id": "a1140b30",
   "metadata": {},
   "outputs": [
    {
     "data": {
      "text/html": [
       "<div>\n",
       "<style scoped>\n",
       "    .dataframe tbody tr th:only-of-type {\n",
       "        vertical-align: middle;\n",
       "    }\n",
       "\n",
       "    .dataframe tbody tr th {\n",
       "        vertical-align: top;\n",
       "    }\n",
       "\n",
       "    .dataframe thead th {\n",
       "        text-align: right;\n",
       "    }\n",
       "</style>\n",
       "<table border=\"1\" class=\"dataframe\">\n",
       "  <thead>\n",
       "    <tr style=\"text-align: right;\">\n",
       "      <th></th>\n",
       "      <th>RESN</th>\n",
       "      <th>RESwt</th>\n",
       "      <th>RESmut</th>\n",
       "    </tr>\n",
       "  </thead>\n",
       "  <tbody>\n",
       "    <tr>\n",
       "      <th>0</th>\n",
       "      <td>8</td>\n",
       "      <td>VAL</td>\n",
       "      <td>ILE</td>\n",
       "    </tr>\n",
       "    <tr>\n",
       "      <th>1</th>\n",
       "      <td>48</td>\n",
       "      <td>GLN</td>\n",
       "      <td>GLU</td>\n",
       "    </tr>\n",
       "    <tr>\n",
       "      <th>2</th>\n",
       "      <td>77</td>\n",
       "      <td>THR</td>\n",
       "      <td>HIS</td>\n",
       "    </tr>\n",
       "    <tr>\n",
       "      <th>3</th>\n",
       "      <td>110</td>\n",
       "      <td>THR</td>\n",
       "      <td>HIS</td>\n",
       "    </tr>\n",
       "    <tr>\n",
       "      <th>4</th>\n",
       "      <td>169</td>\n",
       "      <td>ASN</td>\n",
       "      <td>ASP</td>\n",
       "    </tr>\n",
       "    <tr>\n",
       "      <th>...</th>\n",
       "      <td>...</td>\n",
       "      <td>...</td>\n",
       "      <td>...</td>\n",
       "    </tr>\n",
       "    <tr>\n",
       "      <th>1604</th>\n",
       "      <td>36</td>\n",
       "      <td>GLY</td>\n",
       "      <td>ALA</td>\n",
       "    </tr>\n",
       "    <tr>\n",
       "      <th>1605</th>\n",
       "      <td>36</td>\n",
       "      <td>GLY</td>\n",
       "      <td>SER</td>\n",
       "    </tr>\n",
       "    <tr>\n",
       "      <th>1606</th>\n",
       "      <td>37</td>\n",
       "      <td>GLY</td>\n",
       "      <td>ALA</td>\n",
       "    </tr>\n",
       "    <tr>\n",
       "      <th>1607</th>\n",
       "      <td>39</td>\n",
       "      <td>ARG</td>\n",
       "      <td>ALA</td>\n",
       "    </tr>\n",
       "    <tr>\n",
       "      <th>1608</th>\n",
       "      <td>46</td>\n",
       "      <td>LYS</td>\n",
       "      <td>ALA</td>\n",
       "    </tr>\n",
       "  </tbody>\n",
       "</table>\n",
       "<p>1509 rows × 3 columns</p>\n",
       "</div>"
      ],
      "text/plain": [
       "      RESN RESwt RESmut\n",
       "0        8   VAL    ILE\n",
       "1       48   GLN    GLU\n",
       "2       77   THR    HIS\n",
       "3      110   THR    HIS\n",
       "4      169   ASN    ASP\n",
       "...    ...   ...    ...\n",
       "1604    36   GLY    ALA\n",
       "1605    36   GLY    SER\n",
       "1606    37   GLY    ALA\n",
       "1607    39   ARG    ALA\n",
       "1608    46   LYS    ALA\n",
       "\n",
       "[1509 rows x 3 columns]"
      ]
     },
     "execution_count": 8,
     "metadata": {},
     "output_type": "execute_result"
    }
   ],
   "source": [
    "pdbs[['RESN','RESwt','RESmut']]"
   ]
  },
  {
   "cell_type": "markdown",
   "id": "7b34b45c",
   "metadata": {},
   "source": [
    "This cell extracts the total number of mutations and changes in MT. In addition, we use a dicctionary to convert the residue mutation in a one letter code."
   ]
  },
  {
   "cell_type": "code",
   "execution_count": 10,
   "id": "eaedf902",
   "metadata": {},
   "outputs": [],
   "source": [
    "alls=[]\n",
    "for resnum,wt in pdbs[['RESN','RESwt','RESmut','PDBid','ΔTmexp']].items():\n",
    "    alls.append(wt.values)\n",
    "d = {'CYS': 'C', 'ASP': 'D', 'SER': 'S', 'GLN': 'Q', 'LYS': 'K',\n",
    "     'ILE': 'I', 'PRO': 'P', 'THR': 'T', 'PHE': 'F', 'ASN': 'N', \n",
    "     'GLY': 'G', 'HIS': 'H', 'LEU': 'L', 'ARG': 'R', 'TRP': 'W', \n",
    "     'ALA': 'A', 'VAL':'V', 'GLU': 'E', 'TYR': 'Y', 'MET': 'M'}\n",
    "resnum=alls[0]\n",
    "wt=[d[x.strip()] for x in alls[1]] # extract the Wildtype aminoacid with one letter code \n",
    "mut=[d[x.strip()] for x in alls[2]] # extract the Mutation aminoacid with one letter code \n",
    "codes=alls[3] # PDB code \n",
    "tms=alls[4] # Melting temperature"
   ]
  },
  {
   "cell_type": "code",
   "execution_count": 11,
   "id": "fb71eb03",
   "metadata": {},
   "outputs": [
    {
     "name": "stdout",
     "output_type": "stream",
     "text": [
      "pdbid 1aky, WT-AA V, Resnum 8, MUT-AA I,DeltaTm -1.5\n"
     ]
    }
   ],
   "source": [
    "print(\"pdbid {}, WT-AA {}, Resnum {}, MUT-AA {},DeltaTm {}\".format(codes[0],wt[0],resnum[0],mut[0],tms[0]))\n"
   ]
  },
  {
   "cell_type": "markdown",
   "id": "3c61049f",
   "metadata": {},
   "source": [
    "# PDB Download "
   ]
  },
  {
   "cell_type": "markdown",
   "id": "c87b9d53",
   "metadata": {},
   "source": [
    "Here we download all the pdbs by PDBID using the pdbfixer tool"
   ]
  },
  {
   "cell_type": "code",
   "execution_count": 13,
   "id": "9e315469",
   "metadata": {},
   "outputs": [],
   "source": [
    "from pdbfixer import PDBFixer\n",
    "from openmm.app import PDBFile"
   ]
  },
  {
   "cell_type": "code",
   "execution_count": null,
   "id": "a1c11e21",
   "metadata": {},
   "outputs": [],
   "source": [
    "!mkdir PDBs"
   ]
  },
  {
   "cell_type": "markdown",
   "id": "137eb8f6",
   "metadata": {},
   "source": [
    "Using the fixer from pdbfixer we download each protein from its PDB code and fix some common problems present in the Protein Data Bank Files. This process will take around 15 minutes and 100 Mb. \n",
    "The use of the PDBFixer can be found in https://htmlpreview.github.io/?https://github.com/openmm/pdbfixer/blob/master/Manual.html . In our case, we download the pdb file from the pdb code and perform some curation such as find Nonstandar or missing residues, fix missing atoms "
   ]
  },
  {
   "cell_type": "code",
   "execution_count": null,
   "id": "67164bf6",
   "metadata": {},
   "outputs": [],
   "source": [
    "import os \n",
    "import time\n",
    "t0 = time.time()\n",
    "\n",
    "downloaded = os.listdir(\"PDBs\")\n",
    "PDBs_ids= set(pdbs['PDBid'])\n",
    "pdb_list = []\n",
    "print(\"Start Download \")\n",
    "for pdbid in PDBs_ids:\n",
    "    name=pdbid+\".pdb\"\n",
    "    if(name in downloaded):\n",
    "        continue\n",
    "    try:\n",
    "        fixer = PDBFixer(pdbid=pdbid)\n",
    "        fixer.findMissingResidues()\n",
    "        fixer.findNonstandardResidues()\n",
    "        fixer.replaceNonstandardResidues()\n",
    "        fixer.removeHeterogens(True)\n",
    "        fixer.findMissingAtoms()\n",
    "        fixer.addMissingAtoms()\n",
    "        PDBFile.writeFile(fixer.topology, fixer.positions, open('./PDBs/%s.pdb' % (pdbid), 'w'),keepIds=True)\n",
    "    except:\n",
    "        print(\"Problem with {}\".format(pdbid))\n",
    "print(\"Total Time {}\".format(time.time()-t0))"
   ]
  },
  {
   "cell_type": "markdown",
   "id": "0c1e8d69",
   "metadata": {},
   "source": [
    "The following function help us to mutate a sequence denoted as  A###B where A is the wildtype aminoacid, ### the position and, B the new aminoacid "
   ]
  },
  {
   "cell_type": "code",
   "execution_count": 17,
   "id": "6ae88b01",
   "metadata": {},
   "outputs": [],
   "source": [
    "import re\n",
    "def MutateSeq(seq,Mutant):\n",
    "    '''\n",
    "    Mutate a sequence based on a string (Mutant) that has the notation : \n",
    "    A###B where A is the wildtype aminoacid ### the position and B the mutation\n",
    "    '''\n",
    "    aalist = re.findall('([A-Z])([0-9]+)([A-Z])', Mutant)\n",
    "    \n",
    "    #(len(aalist)==1):\n",
    "    newseq=seq\n",
    "    listseq=list(newseq)\n",
    "    for aas in aalist:\n",
    "        wildAA = aas[0]\n",
    "        pos = int(aas[1]) -1\n",
    "        if(pos >= len(listseq)):\n",
    "            print(\"Mutation not in the range of the protein\")\n",
    "            return None\n",
    "        MutAA = aas[-1]\n",
    "        \n",
    "        if(listseq[pos]==wildAA):\n",
    "            \n",
    "            listseq[pos]=MutAA\n",
    "            \n",
    "        else:\n",
    "            #print(\"WildType AA does not match\")\n",
    "            return None\n",
    "    return(\"\".join(listseq))"
   ]
  },
  {
   "cell_type": "markdown",
   "id": "fb1a5f04",
   "metadata": {},
   "source": [
    "The following function help us to identify a sequence of aminoacids base on PDB structures"
   ]
  },
  {
   "cell_type": "code",
   "execution_count": 18,
   "id": "39facf99",
   "metadata": {},
   "outputs": [],
   "source": [
    "from Bio.PDB.PDBParser import PDBParser\n",
    "from Bio.PDB.Polypeptide import PPBuilder\n",
    "ppb=PPBuilder()\n",
    "def GetSeqFromPDB(pdbid):\n",
    "    structure = PDBParser().get_structure(pdbid.split(\".\")[0], 'PDBs/{}'.format(pdbid))\n",
    "    seqs=[]\n",
    "    return ppb.build_peptides(structure)\n",
    "    "
   ]
  },
  {
   "cell_type": "markdown",
   "id": "9064f9af",
   "metadata": {},
   "source": [
    "Some examples of the described functions : \n",
    "GetSeqFromPDB. Take one pdb that we previously downloaded and extract the sequence in one letter code "
   ]
  },
  {
   "cell_type": "code",
   "execution_count": 19,
   "id": "5182b09e",
   "metadata": {},
   "outputs": [
    {
     "name": "stdout",
     "output_type": "stream",
     "text": [
      "1ezm\n",
      "Original Sequence\n",
      "AEAGGPGGNQKIGKYTYGSDYGPLIVNDRCEMDDGNVITVDMNSSTDDSKTTPFRFACPTNTYKQVNGAYSPLNDAHFFGGVVFKLYRDWFGTSPLTHKLYMKVHYGRSVENAYWDGTAMLFGDGATMFYPLVSLDVAAHEVSHGFTEQNSGLIYRGQSGGMNEAFSDMAGEAAEFYMRGKNDFLIGYDIKKGSGALRYMDQPSRDGRSIDNASQYYNGIDVHHSSGVYNRAFYLLANSPGWDTRKAFEVFVDANRYYWTATSNYNSGACGVIRSAQNRNYSAADVTRAFSTVGVTCPSAL\n"
     ]
    }
   ],
   "source": [
    "import warnings; warnings.simplefilter('ignore')\n",
    "test=\"1ezm\"\n",
    "print(test)\n",
    "seq = GetSeqFromPDB(\"{}.pdb\".format(test))[0].get_sequence()\n",
    "print(\"Original Sequence\")\n",
    "print(seq)\n"
   ]
  },
  {
   "cell_type": "markdown",
   "id": "2b624263",
   "metadata": {},
   "source": [
    "Information about the mutation "
   ]
  },
  {
   "cell_type": "code",
   "execution_count": 20,
   "id": "ddeeb4d6",
   "metadata": {},
   "outputs": [
    {
     "name": "stdout",
     "output_type": "stream",
     "text": [
      "Seq information <Polypeptide start=1 end=301>\n",
      "Reported Mutation R179A\n"
     ]
    }
   ],
   "source": [
    "informSeq=GetSeqFromPDB(test+\".pdb\")[0].__repr__()\n",
    "print(\"Seq information\",informSeq)\n",
    "start = re.findall('[0-9]+',informSeq)[0]\n",
    "print(\"Reported Mutation {}{}{}\".format(\"R\",179,\"A\"))\n",
    "numf =179 - int(start) + 1  # fix some cases of negative aminoacid numbers"
   ]
  },
  {
   "cell_type": "markdown",
   "id": "1fed72d0",
   "metadata": {},
   "source": [
    "Mutation in the sequence. "
   ]
  },
  {
   "cell_type": "code",
   "execution_count": 21,
   "id": "58d4cdf2",
   "metadata": {},
   "outputs": [
    {
     "name": "stdout",
     "output_type": "stream",
     "text": [
      "Real Mutation =  R179A\n",
      "AEAGGPGGNQKIGKYTYGSDYGPLIVNDRCEMDDGNVITVDMNSSTDDSKTTPFRFACPTNTYKQVNGAYSPLNDAHFFGGVVFKLYRDWFGTSPLTHKLYMKVHYGRSVENAYWDGTAMLFGDGATMFYPLVSLDVAAHEVSHGFTEQNSGLIYRGQSGGMNEAFSDMAGEAAEFYMAGKNDFLIGYDIKKGSGALRYMDQPSRDGRSIDNASQYYNGIDVHHSSGVYNRAFYLLANSPGWDTRKAFEVFVDANRYYWTATSNYNSGACGVIRSAQNRNYSAADVTRAFSTVGVTCPSAL\n"
     ]
    }
   ],
   "source": [
    "mutfinal = \"R{}A\".format(numf)\n",
    "print(\"Real Mutation = \",mutfinal)\n",
    "mutseq = MutateSeq(seq,mutfinal)\n",
    "print(mutseq)"
   ]
  },
  {
   "cell_type": "markdown",
   "id": "68f84f92",
   "metadata": {},
   "source": [
    "In this for loop we extract the sequences of all proteins in the dataset. In addition we created the mutated sequences and append the change in MT. In some cases, gaps in pdbs will cause that mutateSeq function fails, therefore this entries will be avoided. This is an important step in the whole process because creates a final tabulated data that contains the sequence and the Melting temperature ( our label)"
   ]
  },
  {
   "cell_type": "code",
   "execution_count": null,
   "id": "52a4fbcd",
   "metadata": {
    "tags": []
   },
   "outputs": [],
   "source": [
    "information = {}\n",
    "count = 1\n",
    "failures=[]\n",
    "for code,tm,numr,wt_val,mut_val in zip(codes,tms,resnum,wt,mut):\n",
    "    count += 1\n",
    "    seq = GetSeqFromPDB(\"{}.pdb\".format(code))[0].get_sequence()\n",
    "    mutfinal=\"WT\"\n",
    "    if(\"{}-{}\".format(code,mutfinal) not in information):\n",
    "        informSeq=GetSeqFromPDB(code+\".pdb\")[0].__repr__()\n",
    "        start = re.findall('[-0-9]+',informSeq)[0]\n",
    "    if(int(start)<0):\n",
    "        numf =numr - int(start) # if start is negative 0 is not used as resnumber\n",
    "    else:\n",
    "        numf =numr - int(start) + 1 \n",
    "    mutfinal = \"{}{}{}\".format(wt_val,numf,mut_val)\n",
    "    mutseq = MutateSeq(seq,mutfinal)\n",
    "    if(mutseq==None):\n",
    "        failures.append((code,mutfinal))\n",
    "        continue\n",
    "    information[\"{}-{}\".format(code,mutfinal)]=[mutseq,dict_WT_TM[code]-float(tm)]\n"
   ]
  },
  {
   "cell_type": "markdown",
   "id": "9c40b5c3",
   "metadata": {},
   "source": [
    "# Deep Learning and Machine Learning Models using proteins sequences "
   ]
  },
  {
   "cell_type": "code",
   "execution_count": 23,
   "id": "79b561c7",
   "metadata": {
    "tags": []
   },
   "outputs": [],
   "source": [
    "import deepchem as dc\n",
    "import torch.nn as nn\n",
    "import torch"
   ]
  },
  {
   "cell_type": "markdown",
   "id": "f023dd58",
   "metadata": {},
   "source": [
    "Here we extract two list, sequences (data) and  melting temperature (label)"
   ]
  },
  {
   "cell_type": "code",
   "execution_count": 24,
   "id": "a53ed3ad",
   "metadata": {},
   "outputs": [],
   "source": [
    "seq_list=[]\n",
    "deltaTm=[]\n",
    "for i in information.values():\n",
    "    seq_list.append(i[0])\n",
    "    deltaTm.append(i[1])"
   ]
  },
  {
   "cell_type": "code",
   "execution_count": 25,
   "id": "9bc80e01",
   "metadata": {},
   "outputs": [],
   "source": [
    "max_seq= 0 \n",
    "for i in seq_list:\n",
    "    if(len(i)>max_seq):\n",
    "        max_seq=len(i)"
   ]
  },
  {
   "cell_type": "markdown",
   "id": "efce9af0",
   "metadata": {},
   "source": [
    "Here we use a OneHotFeaturizer in order to convert protein sequences in numeric arrays"
   ]
  },
  {
   "cell_type": "code",
   "execution_count": 26,
   "id": "3994b2b5",
   "metadata": {},
   "outputs": [],
   "source": [
    "codes = ['A', 'C', 'D', 'E', 'F', 'G', 'H', 'I', 'K', 'L',\n",
    "         'M', 'N', 'P', 'Q', 'R', 'S', 'T', 'V', 'W', 'Y']\n",
    "OneHotFeaturizer = dc.feat.OneHotFeaturizer(codes,max_length=max_seq)\n",
    "features = OneHotFeaturizer.featurize(seq_list)"
   ]
  },
  {
   "cell_type": "markdown",
   "id": "2ed774a5-7365-4540-ab4f-0996196d7576",
   "metadata": {},
   "source": [
    "Note that the OneHotFeaturizer produces a matrix that contains the OneHot Vector for each sequence. "
   ]
  },
  {
   "cell_type": "code",
   "execution_count": 27,
   "id": "9d052022-ac12-428c-b52a-0e6dc58474e5",
   "metadata": {},
   "outputs": [],
   "source": [
    "features_vector  = []\n",
    "for i in range(len(features)):\n",
    "    features_vector.append(features[i].flatten())"
   ]
  },
  {
   "cell_type": "code",
   "execution_count": 28,
   "id": "544fcad7",
   "metadata": {},
   "outputs": [],
   "source": [
    "dc_dataset = dc.data.NumpyDataset(X=features_vector,y=deltaTm)"
   ]
  },
  {
   "cell_type": "code",
   "execution_count": 29,
   "id": "dd02326a-cac3-4fca-9f8f-064ba223505d",
   "metadata": {},
   "outputs": [
    {
     "data": {
      "text/plain": [
       "<NumpyDataset X.shape: (1488, 13188), y.shape: (1488,), w.shape: (1488,), task_names: [0]>"
      ]
     },
     "execution_count": 29,
     "metadata": {},
     "output_type": "execute_result"
    }
   ],
   "source": [
    "dc_dataset"
   ]
  },
  {
   "cell_type": "markdown",
   "id": "13160072",
   "metadata": {},
   "source": [
    "Here we create a spliiter to perform a tran_test split of the dataset"
   ]
  },
  {
   "cell_type": "code",
   "execution_count": 30,
   "id": "fe8c1fc0",
   "metadata": {},
   "outputs": [],
   "source": [
    "from deepchem import splits\n",
    "splitter = splits.RandomSplitter()\n",
    "train, test  = splitter.train_test_split(dc_dataset,seed=42)"
   ]
  },
  {
   "cell_type": "markdown",
   "id": "c83cac17-74ba-4af8-a2e1-d5091f8a1f88",
   "metadata": {},
   "source": [
    "Here we create a neuronal network using tensorflow-keras and using a loss function of \"MAE\" to evaluate the regression result."
   ]
  },
  {
   "cell_type": "code",
   "execution_count": 49,
   "id": "ff35ae79-46e4-40da-a0e8-b8e95a457787",
   "metadata": {},
   "outputs": [],
   "source": [
    "import torch.optim as optim\n",
    "import torch.nn.functional as F\n",
    "import matplotlib.pyplot as plt\n",
    "import pandas as pd\n",
    "\n",
    "# Define the Model\n",
    "class ProteinModel(nn.Module):\n",
    "    def __init__(self, input_size):\n",
    "        super(ProteinModel, self).__init__()\n",
    "        self.fc1 = nn.Linear(input_size, 32)\n",
    "        self.dropout1 = nn.Dropout(0.2)\n",
    "        self.fc2 = nn.Linear(32, 32)\n",
    "        self.dropout2 = nn.Dropout(0.2)\n",
    "        self.fc3 = nn.Linear(32, 1)\n",
    "\n",
    "    def forward(self, x):\n",
    "        x = F.relu(self.fc1(x))\n",
    "        x = self.dropout1(x)\n",
    "        x = F.relu(self.fc2(x))\n",
    "        x = self.dropout2(x)\n",
    "        x = self.fc3(x)\n",
    "        return x\n",
    "\n",
    "input_size = train.X.shape[1]  \n",
    "model = ProteinModel(input_size)"
   ]
  },
  {
   "cell_type": "code",
   "execution_count": 48,
   "id": "8542bb35-90e0-4c43-a7af-40ad1185d639",
   "metadata": {},
   "outputs": [
    {
     "name": "stdout",
     "output_type": "stream",
     "text": [
      "Epoch [1/30], Train Loss: 59.8350, Val Loss: 61.0038\n",
      "Epoch [2/30], Train Loss: 51.4501, Val Loss: 53.2404\n",
      "Epoch [3/30], Train Loss: 42.1209, Val Loss: 38.0507\n",
      "Epoch [4/30], Train Loss: 18.6921, Val Loss: 13.0056\n",
      "Epoch [5/30], Train Loss: 15.8223, Val Loss: 11.1212\n",
      "Epoch [6/30], Train Loss: 14.8701, Val Loss: 9.4398\n",
      "Epoch [7/30], Train Loss: 16.6456, Val Loss: 9.0781\n",
      "Epoch [8/30], Train Loss: 13.1553, Val Loss: 7.4179\n",
      "Epoch [9/30], Train Loss: 13.4347, Val Loss: 6.9786\n",
      "Epoch [10/30], Train Loss: 12.7587, Val Loss: 7.1300\n",
      "Epoch [11/30], Train Loss: 12.4871, Val Loss: 6.9377\n",
      "Epoch [12/30], Train Loss: 12.3102, Val Loss: 6.5128\n",
      "Epoch [13/30], Train Loss: 11.6099, Val Loss: 7.5611\n",
      "Epoch [14/30], Train Loss: 14.1950, Val Loss: 6.7952\n",
      "Epoch [15/30], Train Loss: 10.5894, Val Loss: 6.1077\n",
      "Epoch [16/30], Train Loss: 13.2864, Val Loss: 6.8252\n",
      "Epoch [17/30], Train Loss: 11.8302, Val Loss: 6.4149\n",
      "Epoch [18/30], Train Loss: 10.8937, Val Loss: 6.6818\n",
      "Epoch [19/30], Train Loss: 10.8588, Val Loss: 5.9689\n",
      "Epoch [20/30], Train Loss: 11.2092, Val Loss: 7.1350\n",
      "Epoch [21/30], Train Loss: 10.6252, Val Loss: 6.6436\n",
      "Epoch [22/30], Train Loss: 11.2696, Val Loss: 8.6385\n",
      "Epoch [23/30], Train Loss: 13.0959, Val Loss: 5.7105\n",
      "Epoch [24/30], Train Loss: 10.6112, Val Loss: 7.7095\n",
      "Epoch [25/30], Train Loss: 9.7773, Val Loss: 8.0182\n",
      "Epoch [26/30], Train Loss: 11.1502, Val Loss: 8.1011\n",
      "Epoch [27/30], Train Loss: 9.5145, Val Loss: 8.9478\n",
      "Epoch [28/30], Train Loss: 10.8732, Val Loss: 10.6348\n",
      "Epoch [29/30], Train Loss: 8.9625, Val Loss: 8.5645\n",
      "Epoch [30/30], Train Loss: 9.7106, Val Loss: 9.4346\n"
     ]
    },
    {
     "data": {
      "image/png": "[encoded data removed]",
      "text/plain": [
       "<Figure size 640x480 with 1 Axes>"
      ]
     },
     "metadata": {},
     "output_type": "display_data"
    }
   ],
   "source": [
    "criterion = nn.L1Loss()  # Mean Absolute Error (MAE) Loss\n",
    "optimizer = optim.Adam(model.parameters(), lr=0.001)\n",
    "\n",
    "# Track loss history for plotting\n",
    "train_losses = []\n",
    "val_losses = []\n",
    "\n",
    "# Training Loop\n",
    "num_epochs = 30\n",
    "batch_size = 100\n",
    "for epoch in range(num_epochs):\n",
    "    model.train()\n",
    "    permutation = torch.randperm(train.X.shape[0])  # Shuffle indices for batch training\n",
    "    for i in range(0, train.X.shape[0], batch_size):\n",
    "        indices = permutation[i:i + batch_size]\n",
    "        batch_x = torch.tensor(train.X[indices], dtype=torch.float32)\n",
    "        batch_y = torch.tensor(train.y[indices], dtype=torch.float32).view(-1, 1)\n",
    "\n",
    "        optimizer.zero_grad()\n",
    "        outputs = model(batch_x)\n",
    "        loss = criterion(outputs, batch_y)\n",
    "\n",
    "        loss.backward()\n",
    "        optimizer.step()\n",
    "\n",
    "    train_losses.append(loss.item())\n",
    "\n",
    "    # Compute validation loss\n",
    "    model.eval()\n",
    "    with torch.no_grad():\n",
    "        val_x = torch.tensor(test.X, dtype=torch.float32)\n",
    "        val_y = torch.tensor(test.y, dtype=torch.float32).view(-1, 1)\n",
    "        val_outputs = model(val_x)\n",
    "        val_loss = criterion(val_outputs, val_y)\n",
    "        val_losses.append(val_loss.item())\n",
    "\n",
    "    print(f'Epoch [{epoch+1}/{num_epochs}], Train Loss: {loss.item():.4f}, Val Loss: {val_loss.item():.4f}')\n",
    "\n",
    "# Plot the loss curve\n",
    "history_df = pd.DataFrame({\n",
    "    'loss': train_losses,\n",
    "    'val_loss': val_losses\n",
    "})\n",
    "history_df[['loss', 'val_loss']].plot()\n",
    "plt.xlabel('Epochs')\n",
    "plt.ylabel('Loss')\n",
    "plt.title('Training and Validation Loss')\n",
    "plt.show()\n"
   ]
  },
  {
   "cell_type": "markdown",
   "id": "5150c028-6bdc-4377-9174-16f45a36df38",
   "metadata": {},
   "source": [
    "# DeepChem TorchModel Model"
   ]
  },
  {
   "cell_type": "markdown",
   "id": "cbc43f5d-679b-459a-b6ce-c0fbd4975d07",
   "metadata": {},
   "source": [
    "Note that DeepChem Torch model allows to create a deepchem model based on the previously built model of Pytorch. All the information in the training can be access with model.model.history"
   ]
  },
  {
   "cell_type": "code",
   "execution_count": 51,
   "id": "d25092a4-e411-4179-acd2-d6d59975967b",
   "metadata": {},
   "outputs": [
    {
     "data": {
      "text/plain": [
       "10.934407043457032"
      ]
     },
     "execution_count": 51,
     "metadata": {},
     "output_type": "execute_result"
    }
   ],
   "source": [
    "model_dc = dc.models.TorchModel(model, dc.models.losses.L1Loss())\n",
    "model_dc.fit(train)\n"
   ]
  },
  {
   "cell_type": "code",
   "execution_count": 45,
   "id": "6cf55cb2-7c18-4ae1-8654-fedc7e252a6d",
   "metadata": {},
   "outputs": [
    {
     "data": {
      "text/plain": [
       "<AxesSubplot:>"
      ]
     },
     "execution_count": 45,
     "metadata": {},
     "output_type": "execute_result"
    },
    {
     "data": {
      "image/png": "[encoded data removed]",
      "text/plain": [
       "<Figure size 432x288 with 1 Axes>"
      ]
     },
     "metadata": {
      "needs_background": "light"
     },
     "output_type": "display_data"
    }
   ],
   "source": [
    "History_df = pd.DataFrame(model_dc.model.history.history)\n",
    "History_df[['loss', 'val_loss']].plot()"
   ]
  },
  {
   "cell_type": "code",
   "execution_count": 52,
   "id": "ac12fbcc-f812-4e13-8c01-520b30267706",
   "metadata": {},
   "outputs": [
    {
     "name": "stdout",
     "output_type": "stream",
     "text": [
      "test dataset R2: {'pearson_r2_score': 0.6921896004241516}\n"
     ]
    }
   ],
   "source": [
    "metric = dc.metrics.Metric(dc.metrics.pearson_r2_score)\n",
    "print('test dataset R2:', model_dc.evaluate(test, [metric]))"
   ]
  },
  {
   "cell_type": "markdown",
   "id": "9423a267",
   "metadata": {},
   "source": [
    "# Examples of Classic ML models "
   ]
  },
  {
   "cell_type": "markdown",
   "id": "70e057ac",
   "metadata": {},
   "source": [
    "Finally, we will compare others descriptros such as AAcomposition and Composition,transition and distribution of AA (https://www.pnas.org/content/92/19/8700)  "
   ]
  },
  {
   "cell_type": "code",
   "execution_count": 49,
   "id": "bfae73b2",
   "metadata": {},
   "outputs": [],
   "source": [
    "from propy import PyPro"
   ]
  },
  {
   "cell_type": "markdown",
   "id": "8daeeb65",
   "metadata": {},
   "source": [
    "In the following cell, we are creating and pyPro Object based on the protein sequence. Pypro allows us the calculation of amino acid composition vectors    \n",
    "Here we create a list with the aminoacido composition vector for each sequence used in the previous model.\n"
   ]
  },
  {
   "cell_type": "code",
   "execution_count": 50,
   "id": "96b5b7c8",
   "metadata": {},
   "outputs": [],
   "source": [
    "import numpy as np \n",
    "aaComplist = []\n",
    "CTDList =[]\n",
    "for seq in seq_list:\n",
    "    Obj = PyPro.GetProDes(seq)\n",
    "    aaComplist.append(np.array(list(Obj.GetAAComp().values())))\n",
    "    CTDList.append(np.array(list(Obj.GetCTD().values())))"
   ]
  },
  {
   "cell_type": "code",
   "execution_count": 51,
   "id": "9b5e54b8",
   "metadata": {},
   "outputs": [],
   "source": [
    "dc_dataset_aacomp = dc.data.NumpyDataset(X=aaComplist,y=deltaTm)\n",
    "dc_dataset_ctd = dc.data.NumpyDataset(X=CTDList,y=deltaTm)"
   ]
  },
  {
   "cell_type": "markdown",
   "id": "e52c9566",
   "metadata": {},
   "source": [
    "# Evaluation of classical machine learning models "
   ]
  },
  {
   "cell_type": "markdown",
   "id": "e3dd6f56",
   "metadata": {},
   "source": [
    "In the following cell we create a randomForest Regressor and the deepchem SklearnModel. As it was used in the DL models, here we use \"MAE\" score to evaluate the results of the regression "
   ]
  },
  {
   "cell_type": "code",
   "execution_count": 52,
   "id": "1f8b8466",
   "metadata": {},
   "outputs": [
    {
     "name": "stdout",
     "output_type": "stream",
     "text": [
      "RandomForestRegressor\n",
      "Train score is : {'mae_score': 1.7916551501995608}\n",
      "Test score is : {'mae_score': 3.8967191996673947}\n"
     ]
    }
   ],
   "source": [
    "from deepchem import splits\n",
    "splitter = splits.RandomSplitter()\n",
    "train, test  = splitter.train_test_split(dc_dataset_aacomp,seed=42)\n",
    "from sklearn.ensemble import RandomForestRegressor\n",
    "from deepchem.utils.evaluate import Evaluator\n",
    "import pandas as pd\n",
    "print(\"RandomForestRegressor\")\n",
    "seed = 42 # Set a random seed to get stable results\n",
    "sklearn_model = RandomForestRegressor(n_estimators=100, max_features='sqrt')\n",
    "sklearn_model.random_state = seed\n",
    "model = dc.models.SklearnModel(sklearn_model)\n",
    "model.fit(train)\n",
    "metric = dc.metrics.Metric(dc.metrics.mae_score)\n",
    "train_score = model.evaluate(train, [metric])\n",
    "test_score = model.evaluate(test, [metric])\n",
    "print(\"Train score is : {}\".format(train_score))\n",
    "print(\"Test score is : {}\".format(test_score))\n"
   ]
  },
  {
   "cell_type": "markdown",
   "id": "782dd98f",
   "metadata": {},
   "source": [
    "In the following cell we create a Suport Vector Regressor and the deepchem SklearnModel. As it was used in the DL models, here we use \"MAE\" score to evaluate the results of the regression "
   ]
  },
  {
   "cell_type": "code",
   "execution_count": 53,
   "id": "b8b28756",
   "metadata": {},
   "outputs": [
    {
     "name": "stdout",
     "output_type": "stream",
     "text": [
      "SupportVectorMachineRegressor\n",
      "Train score is : {'mae_score': 3.275727325767219}\n",
      "Test score is : {'mae_score': 4.058136267284038}\n"
     ]
    }
   ],
   "source": [
    "print(\"SupportVectorMachineRegressor\")\n",
    "from sklearn.svm import SVR\n",
    "svr_sklearn = SVR(kernel=\"poly\",degree=4)\n",
    "svr_sklearn.random_state = seed \n",
    "model = dc.models.SklearnModel(svr_sklearn)\n",
    "model.fit(train)\n",
    "metric = dc.metrics.Metric(dc.metrics.mae_score)\n",
    "train_score = model.evaluate(train, [metric])\n",
    "test_score = model.evaluate(test, [metric])\n",
    "print(\"Train score is : {}\".format(train_score))\n",
    "print(\"Test score is : {}\".format(test_score))"
   ]
  },
  {
   "cell_type": "markdown",
   "id": "a423530a",
   "metadata": {},
   "source": [
    "# Congratulations! Time to join the Community!\n",
    "\n",
    "Congratulations on completing this tutorial notebook! If you enjoyed working through the tutorial, and want to continue working with DeepChem, we encourage you to finish the rest of the tutorials in this series. You can also help the DeepChem community in the following ways:\n",
    "\n",
    "## Star DeepChem on [GitHub](https://github.com/deepchem/deepchem)\n",
    "This helps build awareness of the DeepChem project and the tools for open source drug discovery that we're trying to build.\n",
    "\n",
    "## Join the DeepChem Gitter\n",
    "The DeepChem [Gitter](https://gitter.im/deepchem/Lobby) hosts a number of scientists, developers, and enthusiasts interested in deep learning for the life sciences. Join the conversation!"
   ]
  }
 ],
 "metadata": {
  "kernelspec": {
   "display_name": "deepchem",
   "language": "python",
   "name": "python3"
  },
  "language_info": {
   "codemirror_mode": {
    "name": "ipython",
    "version": 3
   },
   "file_extension": ".py",
   "mimetype": "text/x-python",
   "name": "python",
   "nbconvert_exporter": "python",
   "pygments_lexer": "ipython3",
   "version": "3.8.20"
  },
  "toc-autonumbering": false,
  "toc-showcode": false,
  "toc-showmarkdowntxt": true
 },
 "nbformat": 4,
 "nbformat_minor": 5
}
