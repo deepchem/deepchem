{
 "cells": [
  {
   "cell_type": "markdown",
   "metadata": {
    "colab_type": "text",
    "collapsed": true,
    "id": "Rqb9ef8F2UJW"
   },
   "source": [
    "#  Exploring Quantum Chemistry with GDB1k"
   ]
  },
  {
   "cell_type": "markdown",
   "metadata": {
    "colab_type": "text",
    "id": "IcM5fm932UJY"
   },
   "source": [
    "Most of the tutorials we've walked you through so far have focused on applications to the drug discovery realm, but DeepChem's tool suite works for molecular design problems generally. In this tutorial, we're going to walk through an example of how to train a simple molecular machine learning for the task of predicting the atomization energy of a molecule. (Remember that the atomization energy is the energy required to form 1 mol of gaseous atoms from 1 mol of the molecule in its standard state under standard conditions).\n",
    "\n",
    "## Colab\n",
    "\n",
    "This tutorial and the rest in this sequence can be done in Google colab. If you'd like to open this notebook in colab, you can use the following link.\n",
    "\n",
    "[![Open In Colab](https://colab.research.google.com/assets/colab-badge.svg)](https://colab.research.google.com/github/deepchem/deepchem/blob/master/examples/tutorials/Exploring_Quantum_Chemistry_with_GDB1k.ipynb)\n",
    "\n"
   ]
  },
  {
   "cell_type": "code",
   "execution_count": null,
   "metadata": {
    "colab": {
     "base_uri": "https://localhost:8080/",
     "height": 188
    },
    "colab_type": "code",
    "id": "rqGp9hYVBUyQ",
    "outputId": "73b2f101-82a4-4299-a837-5b55c2e3a7a9"
   },
   "outputs": [],
   "source": [
    "!pip install --pre deepchem\n",
    "import deepchem\n",
    "deepchem.__version__"
   ]
  },
  {
   "cell_type": "markdown",
   "metadata": {
    "colab_type": "text",
    "id": "Ub1J6G5w2UJd"
   },
   "source": [
    "With our setup in place, let's do a few standard imports to get the ball rolling."
   ]
  },
  {
   "cell_type": "code",
   "execution_count": 1,
   "metadata": {
    "colab": {},
    "colab_type": "code",
    "id": "19IsqJhx2UJe"
   },
   "outputs": [],
   "source": [
    "import deepchem as dc\n",
    "from sklearn.ensemble import RandomForestRegressor\n",
    "from sklearn.kernel_ridge import KernelRidge"
   ]
  },
  {
   "cell_type": "markdown",
   "metadata": {
    "colab_type": "text",
    "id": "AssRCAgB2UJi"
   },
   "source": [
    "The ntext step we want to do is load our dataset. We're using a small dataset we've prepared that's pulled out of the larger GDB benchmarks. The dataset contains the atomization energies for 1K small molecules."
   ]
  },
  {
   "cell_type": "code",
   "execution_count": 2,
   "metadata": {
    "colab": {},
    "colab_type": "code",
    "id": "j5PUW7452UJi"
   },
   "outputs": [],
   "source": [
    "tasks = [\"atomization_energy\"]\n",
    "dataset_file = \"../../datasets/gdb1k.sdf\"\n",
    "smiles_field = \"smiles\"\n",
    "mol_field = \"mol\""
   ]
  },
  {
   "cell_type": "markdown",
   "metadata": {
    "colab_type": "text",
    "id": "hs0RDgHN2UJm"
   },
   "source": [
    "We now need a way to transform molecules that is useful for prediction of atomization energy. This representation draws on foundational work [1] that represents a molecule's 3D electrostatic structure as a 2D matrix $C$ of distances scaled by charges, where the $ij$-th element is represented by the following charge structure.\n",
    "\n",
    "$C_{ij} = \\frac{q_i q_j}{r_{ij}^2}$\n",
    "\n",
    "If you're observing carefully, you might ask, wait doesn't this mean that molecules with different numbers of atoms generate matrices of different sizes? In practice the trick to get around this is that the matrices are \"zero-padded.\" That is, if you're making coulomb matrices for a set of molecules, you pick a maximum number of atoms $N$, make the matrices $N\\times N$ and set to zero all the extra entries for this molecule. (There's a couple extra tricks that are done under the hood beyond this. Check out reference [1] or read the source code in DeepChem!)\n",
    "\n",
    "DeepChem has a built in featurization class `dc.feat.CoulombMatrixEig` that can generate these featurizations for you."
   ]
  },
  {
   "cell_type": "code",
   "execution_count": 3,
   "metadata": {
    "colab": {},
    "colab_type": "code",
    "id": "Yadcs27f2UJn"
   },
   "outputs": [],
   "source": [
    "featurizer = dc.feat.CoulombMatrixEig(23, remove_hydrogens=False)"
   ]
  },
  {
   "cell_type": "markdown",
   "metadata": {
    "colab_type": "text",
    "id": "Z9BJKEmd2UJq"
   },
   "source": [
    "Note that in this case, we set the maximum number of atoms to $N = 23$. Let's now load our dataset file into DeepChem. As in the previous tutorials, we use a `Loader` class, in particular `dc.data.SDFLoader` to load our `.sdf` file into DeepChem. The following snippet shows how we do this:"
   ]
  },
  {
   "cell_type": "code",
   "execution_count": 4,
   "metadata": {
    "colab": {},
    "colab_type": "code",
    "id": "t-OldF822UJr"
   },
   "outputs": [
    {
     "name": "stderr",
     "output_type": "stream",
     "text": [
      "RDKit WARNING: [17:25:11] Warning: molecule is tagged as 3D, but all Z coords are zero\n",
      "RDKit WARNING: [17:25:11] Warning: molecule is tagged as 3D, but all Z coords are zero\n",
      "RDKit WARNING: [17:25:11] Warning: molecule is tagged as 3D, but all Z coords are zero\n",
      "RDKit WARNING: [17:25:11] Warning: molecule is tagged as 3D, but all Z coords are zero\n",
      "RDKit WARNING: [17:25:11] Warning: molecule is tagged as 3D, but all Z coords are zero\n",
      "RDKit WARNING: [17:25:11] Warning: molecule is tagged as 3D, but all Z coords are zero\n",
      "RDKit WARNING: [17:25:11] Warning: molecule is tagged as 3D, but all Z coords are zero\n",
      "RDKit WARNING: [17:25:11] Warning: molecule is tagged as 3D, but all Z coords are zero\n",
      "RDKit WARNING: [17:25:11] Warning: molecule is tagged as 3D, but all Z coords are zero\n",
      "RDKit WARNING: [17:25:11] Warning: molecule is tagged as 3D, but all Z coords are zero\n",
      "RDKit WARNING: [17:25:11] Warning: molecule is tagged as 3D, but all Z coords are zero\n",
      "RDKit WARNING: [17:25:11] Warning: molecule is tagged as 3D, but all Z coords are zero\n",
      "RDKit WARNING: [17:25:11] Warning: molecule is tagged as 3D, but all Z coords are zero\n",
      "RDKit WARNING: [17:25:11] Warning: molecule is tagged as 3D, but all Z coords are zero\n",
      "RDKit WARNING: [17:25:11] Warning: molecule is tagged as 3D, but all Z coords are zero\n",
      "RDKit WARNING: [17:25:11] Warning: molecule is tagged as 3D, but all Z coords are zero\n",
      "RDKit WARNING: [17:25:11] Warning: molecule is tagged as 3D, but all Z coords are zero\n",
      "RDKit WARNING: [17:25:11] Warning: molecule is tagged as 3D, but all Z coords are zero\n",
      "RDKit WARNING: [17:25:11] Warning: molecule is tagged as 3D, but all Z coords are zero\n",
      "RDKit WARNING: [17:25:11] Warning: molecule is tagged as 3D, but all Z coords are zero\n",
      "RDKit WARNING: [17:25:11] Warning: molecule is tagged as 3D, but all Z coords are zero\n",
      "RDKit WARNING: [17:25:11] Warning: molecule is tagged as 3D, but all Z coords are zero\n",
      "RDKit WARNING: [17:25:11] Warning: molecule is tagged as 3D, but all Z coords are zero\n",
      "RDKit WARNING: [17:25:11] Warning: molecule is tagged as 3D, but all Z coords are zero\n",
      "RDKit WARNING: [17:25:11] Warning: molecule is tagged as 3D, but all Z coords are zero\n",
      "RDKit WARNING: [17:25:11] Warning: molecule is tagged as 3D, but all Z coords are zero\n",
      "RDKit WARNING: [17:25:11] Warning: molecule is tagged as 3D, but all Z coords are zero\n",
      "/Users/peastman/workspace/deepchem/deepchem/feat/molecule_featurizers/coulomb_matrices.py:141: RuntimeWarning: divide by zero encountered in true_divide\n",
      "  m = np.outer(z, z) / d\n"
     ]
    }
   ],
   "source": [
    "loader = dc.data.SDFLoader(\n",
    "      tasks=[\"atomization_energy\"],\n",
    "      featurizer=featurizer)\n",
    "dataset = loader.create_dataset(dataset_file)"
   ]
  },
  {
   "cell_type": "markdown",
   "metadata": {
    "colab_type": "text",
    "id": "gQ_zcAz92UJt"
   },
   "source": [
    "For the purposes of this tutorial, we're going to do a random split of the dataset into training, validation, and test. In general, this split is weak and will considerably overestimate the accuracy of our models, but for now in this simple tutorial isn't a bad place to get started."
   ]
  },
  {
   "cell_type": "code",
   "execution_count": 5,
   "metadata": {
    "colab": {},
    "colab_type": "code",
    "id": "GNhuNAZY2UJu"
   },
   "outputs": [],
   "source": [
    "random_splitter = dc.splits.RandomSplitter()\n",
    "train_dataset, valid_dataset, test_dataset = random_splitter.train_valid_test_split(dataset)"
   ]
  },
  {
   "cell_type": "markdown",
   "metadata": {
    "colab_type": "text",
    "id": "7ouN5JxO2UJ0"
   },
   "source": [
    "One issue that Coulomb matrix featurizations have is that the range of entries in the matrix $C$ can be large. The charge $q_1q_2/r^2$ term can range very widely. In general, a wide range of values for inputs can throw off learning for the neural network. For this, a common fix is to normalize the input values so that they fall into a more standard range. Recall that the normalization transform applies to each feature $X_i$ of datapoint $X$\n",
    "\n",
    "$\\hat{X_i} = \\frac{X_i - \\mu_i}{\\sigma_i}$\n",
    "\n",
    "where $\\mu_i$ and $\\sigma_i$ are the mean and standard deviation of the $i$-th feature. This transformation enables the learning to proceed smoothly. A second point is that the atomization energies also fall across a wide range. So we apply an analogous transformation normalization transformation to the output to scale the energies better. We use DeepChem's transformation API to make this happen:"
   ]
  },
  {
   "cell_type": "code",
   "execution_count": 6,
   "metadata": {
    "colab": {},
    "colab_type": "code",
    "id": "eN7aqR042UJ0"
   },
   "outputs": [],
   "source": [
    "transformers = [\n",
    "    dc.trans.NormalizationTransformer(transform_X=True, dataset=train_dataset),\n",
    "    dc.trans.NormalizationTransformer(transform_y=True, dataset=train_dataset)]\n",
    "\n",
    "for dataset in [train_dataset, valid_dataset, test_dataset]:\n",
    "  for transformer in transformers:\n",
    "      dataset = transformer.transform(dataset)"
   ]
  },
  {
   "cell_type": "markdown",
   "metadata": {
    "colab_type": "text",
    "collapsed": true,
    "id": "IerJqoXo2UJ5"
   },
   "source": [
    "Now that we have the data cleanly transformed, let's do some simple machine learning. We'll start by constructing a random forest on top of the data. We'll use DeepChem's hyperparameter tuning module to do this."
   ]
  },
  {
   "cell_type": "code",
   "execution_count": 7,
   "metadata": {
    "colab": {},
    "colab_type": "code",
    "id": "UNG8EXtg2UJ6",
    "scrolled": true
   },
   "outputs": [
    {
     "name": "stdout",
     "output_type": "stream",
     "text": [
      "_max_featuresauto_n_estimators_10: 91166.92046422893\n",
      "_max_featuressqrt_n_estimators_10: 90145.02789928475\n",
      "_max_featureslog2_n_estimators_10: 85589.77206099383\n",
      "_max_featuresNone_n_estimators_10: 86870.06019336461\n",
      "_max_featuresauto_n_estimators_100: 86385.9006447343\n",
      "_max_featuressqrt_n_estimators_100: 85051.76415912053\n",
      "_max_featureslog2_n_estimators_100: 86443.79468510246\n",
      "_max_featuresNone_n_estimators_100: 85464.79840440316\n",
      "Best hyperparams: (100, 'sqrt')\n"
     ]
    }
   ],
   "source": [
    "def rf_model_builder(model_dir, **model_params):\n",
    "  sklearn_model = RandomForestRegressor(**model_params)\n",
    "  return dc.models.SklearnModel(sklearn_model, model_dir)\n",
    "params_dict = {\n",
    "    \"n_estimators\": [10, 100],\n",
    "    \"max_features\": [\"auto\", \"sqrt\", \"log2\", None],\n",
    "}\n",
    "\n",
    "metric = dc.metrics.Metric(dc.metrics.mean_absolute_error)\n",
    "optimizer = dc.hyper.GridHyperparamOpt(rf_model_builder)\n",
    "best_rf, best_rf_hyperparams, all_rf_results = optimizer.hyperparam_search(\n",
    "    params_dict, train_dataset, valid_dataset, output_transformers=transformers,\n",
    "    metric=metric, use_max=False)\n",
    "for key, value in all_rf_results.items():\n",
    "    print(f'{key}: {value}')\n",
    "print('Best hyperparams:', best_rf_hyperparams)"
   ]
  },
  {
   "cell_type": "markdown",
   "metadata": {
    "colab_type": "text",
    "id": "FdhT0zDD2UJ-"
   },
   "source": [
    "Let's build one more model, a kernel ridge regression, on top of this raw data."
   ]
  },
  {
   "cell_type": "code",
   "execution_count": 8,
   "metadata": {
    "colab": {},
    "colab_type": "code",
    "id": "LYTzmcyy2UJ-"
   },
   "outputs": [
    {
     "name": "stdout",
     "output_type": "stream",
     "text": [
      "_alpha_0.000100_gamma_0.000100_kernellaplacian: 94056.64820129865\n",
      "Best hyperparams: ('laplacian', 0.0001, 0.0001)\n"
     ]
    }
   ],
   "source": [
    "def krr_model_builder(model_dir, **model_params):\n",
    "  sklearn_model = KernelRidge(**model_params)\n",
    "  return dc.models.SklearnModel(sklearn_model, model_dir)\n",
    "\n",
    "params_dict = {\n",
    "    \"kernel\": [\"laplacian\"],\n",
    "    \"alpha\": [0.0001],\n",
    "    \"gamma\": [0.0001]\n",
    "}\n",
    "\n",
    "metric = dc.metrics.Metric(dc.metrics.mean_absolute_error)\n",
    "optimizer = dc.hyper.GridHyperparamOpt(krr_model_builder)\n",
    "best_krr, best_krr_hyperparams, all_krr_results = optimizer.hyperparam_search(\n",
    "    params_dict, train_dataset, valid_dataset, output_transformers=transformers,\n",
    "    metric=metric, use_max=False)\n",
    "for key, value in all_krr_results.items():\n",
    "    print(f'{key}: {value}')\n",
    "print('Best hyperparams:', best_krr_hyperparams)"
   ]
  },
  {
   "cell_type": "markdown",
   "metadata": {
    "colab_type": "text",
    "id": "IS9JTDyi2UKD"
   },
   "source": [
    "# Congratulations! Time to join the Community!\n",
    "\n",
    "Congratulations on completing this tutorial notebook! If you enjoyed working through the tutorial, and want to continue working with DeepChem, we encourage you to finish the rest of the tutorials in this series. You can also help the DeepChem community in the following ways:\n",
    "\n",
    "## Star DeepChem on [GitHub](https://github.com/deepchem/deepchem)\n",
    "This helps build awareness of the DeepChem project and the tools for open source drug discovery that we're trying to build.\n",
    "\n",
     "## Join the DeepChem Discord\n",
     "The DeepChem [Discord](https://discord.gg/cGzwCdrUqS) hosts a number of scientists, developers, and enthusiasts interested in deep learning for the life sciences. Join the conversation!",
    "\n",
    "# Bibliography:\n",
    "\n",
    "[1] https://journals.aps.org/prl/abstract/10.1103/PhysRevLett.98.146401"
   ]
  }
 ],
 "metadata": {
  "colab": {
   "name": "10_Exploring_Quantum_Chemistry_with_GDB1k.ipynb",
   "provenance": []
  },
  "kernelspec": {
   "display_name": "Python 3",
   "language": "python",
   "name": "python3"
  },
  "language_info": {
   "codemirror_mode": {
    "name": "ipython",
    "version": 3
   },
   "file_extension": ".py",
   "mimetype": "text/x-python",
   "name": "python",
   "nbconvert_exporter": "python",
   "pygments_lexer": "ipython3",
   "version": "3.7.6"
  }
 },
 "nbformat": 4,
 "nbformat_minor": 1
}
