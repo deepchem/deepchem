{
 "cells": [
  {
   "cell_type": "markdown",
   "metadata": {},
   "source": [
    "# Interactive model evaluation with Trident Chemwidgets\n",
    "\n",
    "In this tutorial we'll build on the [*Introduction to Graph Covolutions* tutorial](https://github.com/deepchem/deepchem/blob/master/examples/tutorials/Introduction_to_Graph_Convolutions.ipynb) to show how you can use the [Trident Chemwidgets](https://github.com/tridentbio/trident-chemwidgets) (TCW) package to interact with and test the model you've trained.\n",
    "\n",
    "Evaluating models on new data, including corner cases, is a critical step toward model deployment. However, generating new molecules to test in an interactive way is rarely straightforward. TCW provides several tools to help subset larger datasets and draw new molecules to test against your models. You can find the full documentation for the Trident Chemwidgets library [here](https://www.trident.bio/trident-chemwidgets/html/index.html). \n",
    "\n",
    "## Colab\n",
    "\n",
    "This tutorial and the rest in this sequence are designed to be done in Google colab. If you'd like to open this notebook in colab, you can use the following link.\n",
    "\n",
    "[![Open In Colab](https://colab.research.google.com/assets/colab-badge.svg)](https://colab.research.google.com/github/deepchem/deepchem/blob/master/examples/tutorials/Interactive_model_evaluation_with_Trident_Chemwidgets.ipynb)"
   ]
  },
  {
   "cell_type": "markdown",
   "metadata": {},
   "source": [
    "# Installing the prerequisites"
   ]
  },
  {
   "cell_type": "code",
   "execution_count": null,
   "metadata": {
    "colab": {
     "base_uri": "https://localhost:8080/",
     "height": 211
    },
    "colab_type": "code",
    "id": "3Jv2cmnW91CF",
    "outputId": "bd523c54-3038-4654-89ad-356ad1e207ca",
    "tags": []
   },
   "outputs": [],
   "source": [
    "!pip install --pre deepchem\n",
    "!pip install trident-chemwidgets seaborn"
   ]
  },
  {
   "cell_type": "markdown",
   "metadata": {},
   "source": [
    "For this tutorial, you'll need Trident Chemwidgets version 0.2.0 or greater. We can check the installed version with the following command:"
   ]
  },
  {
   "cell_type": "code",
   "execution_count": 2,
   "metadata": {},
   "outputs": [
    {
     "name": "stdout",
     "output_type": "stream",
     "text": [
      "0.2.1\n"
     ]
    }
   ],
   "source": [
    "import trident_chemwidgets as tcw\n",
    "print(tcw.__version__)"
   ]
  },
  {
   "cell_type": "markdown",
   "metadata": {},
   "source": [
    "Throughout this tutorial, we'll use the convention `tcw` to call the classes from the Trident Chemwidgets package."
   ]
  },
  {
   "cell_type": "markdown",
   "metadata": {},
   "source": [
    "# Exploring the data\n",
    "\n",
    "We'll start out by loading the Tox21 dataset and extracting the predefined train, validation, and test splits."
   ]
  },
  {
   "cell_type": "code",
   "execution_count": null,
   "metadata": {
    "colab": {
     "base_uri": "https://localhost:8080/",
     "height": 89
    },
    "colab_type": "code",
    "id": "JMi2V8Jncj1W",
    "outputId": "56ab5eb6-07be-4d8f-c19b-88d1f73f2f46"
   },
   "outputs": [],
   "source": [
    "import deepchem as dc\n",
    "\n",
    "tasks, datasets, transformers = dc.molnet.load_tox21(featurizer='GraphConv')\n",
    "train_dataset, valid_dataset, test_dataset = datasets"
   ]
  },
  {
   "cell_type": "markdown",
   "metadata": {},
   "source": [
    "We can then use RDKit to calculate some additional features for each of the training examples. Specifically, we'll compute the [logP](https://en.wikipedia.org/wiki/Partition_coefficient) and [molecular weight](https://en.wikipedia.org/wiki/Molecular_mass) of each molecule and return this new data in a dataframe."
   ]
  },
  {
   "cell_type": "code",
   "execution_count": 5,
   "metadata": {},
   "outputs": [
    {
     "name": "stderr",
     "output_type": "stream",
     "text": [
      "[10:14:08] WARNING: not removing hydrogen atom without neighbors\n"
     ]
    },
    {
     "data": {
      "text/html": [
       "<div>\n",
       "<style scoped>\n",
       "    .dataframe tbody tr th:only-of-type {\n",
       "        vertical-align: middle;\n",
       "    }\n",
       "\n",
       "    .dataframe tbody tr th {\n",
       "        vertical-align: top;\n",
       "    }\n",
       "\n",
       "    .dataframe thead th {\n",
       "        text-align: right;\n",
       "    }\n",
       "</style>\n",
       "<table border=\"1\" class=\"dataframe\">\n",
       "  <thead>\n",
       "    <tr style=\"text-align: right;\">\n",
       "      <th></th>\n",
       "      <th>smiles</th>\n",
       "      <th>logp</th>\n",
       "      <th>mwt</th>\n",
       "      <th>split</th>\n",
       "    </tr>\n",
       "  </thead>\n",
       "  <tbody>\n",
       "    <tr>\n",
       "      <th>0</th>\n",
       "      <td>CC(O)(P(=O)(O)O)P(=O)(O)O</td>\n",
       "      <td>-0.9922</td>\n",
       "      <td>206.027</td>\n",
       "      <td>train</td>\n",
       "    </tr>\n",
       "    <tr>\n",
       "      <th>1</th>\n",
       "      <td>CC(C)(C)OOC(C)(C)CCC(C)(C)OOC(C)(C)C</td>\n",
       "      <td>4.8172</td>\n",
       "      <td>290.444</td>\n",
       "      <td>train</td>\n",
       "    </tr>\n",
       "    <tr>\n",
       "      <th>2</th>\n",
       "      <td>OC[C@H](O)[C@@H](O)[C@H](O)CO</td>\n",
       "      <td>-2.9463</td>\n",
       "      <td>152.146</td>\n",
       "      <td>train</td>\n",
       "    </tr>\n",
       "    <tr>\n",
       "      <th>3</th>\n",
       "      <td>CCCCCCCC(=O)[O-].CCCCCCCC(=O)[O-].[Zn+2]</td>\n",
       "      <td>2.1911</td>\n",
       "      <td>351.802</td>\n",
       "      <td>train</td>\n",
       "    </tr>\n",
       "    <tr>\n",
       "      <th>4</th>\n",
       "      <td>CC(C)COC(=O)C(C)C</td>\n",
       "      <td>1.8416</td>\n",
       "      <td>144.214</td>\n",
       "      <td>train</td>\n",
       "    </tr>\n",
       "  </tbody>\n",
       "</table>\n",
       "</div>"
      ],
      "text/plain": [
       "                                     smiles    logp      mwt  split\n",
       "0                 CC(O)(P(=O)(O)O)P(=O)(O)O -0.9922  206.027  train\n",
       "1      CC(C)(C)OOC(C)(C)CCC(C)(C)OOC(C)(C)C  4.8172  290.444  train\n",
       "2             OC[C@H](O)[C@@H](O)[C@H](O)CO -2.9463  152.146  train\n",
       "3  CCCCCCCC(=O)[O-].CCCCCCCC(=O)[O-].[Zn+2]  2.1911  351.802  train\n",
       "4                         CC(C)COC(=O)C(C)C  1.8416  144.214  train"
      ]
     },
     "execution_count": 5,
     "metadata": {},
     "output_type": "execute_result"
    }
   ],
   "source": [
    "import rdkit.Chem as Chem\n",
    "from rdkit.Chem.Crippen import MolLogP\n",
    "from rdkit.Chem.Descriptors import MolWt\n",
    "import pandas as pd\n",
    "import torch\n",
    "\n",
    "data = []\n",
    "\n",
    "for dataset, split in zip(datasets, ['train', 'valid', 'test']):\n",
    "    for smiles in dataset.ids:\n",
    "        mol = Chem.MolFromSmiles(smiles)\n",
    "        logp = MolLogP(mol)\n",
    "        mwt = MolWt(mol)\n",
    "        data.append({\n",
    "            'smiles': smiles,\n",
    "            'logp': logp,\n",
    "            'mwt': mwt,\n",
    "            'split': split\n",
    "        })\n",
    "        \n",
    "mol_data = pd.DataFrame(data)\n",
    "\n",
    "mol_data.head()"
   ]
  },
  {
   "cell_type": "markdown",
   "metadata": {},
   "source": [
    "## One-dimensional distributions\n",
    "\n",
    "We can examine one-dimensional distributions using a histogram. Unlike histograms from static plotting libraries like Matplotlib or Seaborn, the TCW Histogram provides interactive functionality. TCW enables subsetting of the data, plotting chemical structures in a gallery next to the plot, and saving a reference to the subset portion of the dataframe. Unfortunately, this interactivity comes at the price of portability, so we have included screenshots for this tutorial in addition to providing the code to generate the interactive visuals. If you run this tutorial yourself (either locally or on Colab), you'll be able to display and interact with full demo plots.\n",
    "\n",
    "In the plot below, you can see the histogram of the molecular weight distribution from the combined dataset on the left. If you click and drag within plot area in the live widget, you can subset a portion of the distribution for further examination. The background of the selected portion will turn gray and the selected data points will be shown in teal within the bars of the plot. The x axis of the Histogram widget is compatible with either numeric or date data types, which makes it a convenient choice for splitting your ML datasets based on a property or the date the experimental data were collected.\n",
    "\n",
    "<img src=\"./assets/trident_chemwidgets_data/Histogram.png\" alt=\"Histogram example\" width=\"1000\"/>\n",
    "\n",
    "To generate an interactive example of the widget, run the next cell:"
   ]
  },
  {
   "cell_type": "code",
   "execution_count": 6,
   "metadata": {},
   "outputs": [
    {
     "data": {
      "application/vnd.jupyter.widget-view+json": {
       "model_id": "b0698e9c966b481c95add09ae6deab94",
       "version_major": 2,
       "version_minor": 0
      },
      "text/plain": [
       "Histogram(data={'points': [{'smiles': 'CC(O)(P(=O)(O)O)P(=O)(O)O', 'x': 206.027, 'index': 0}, {'smiles': 'CC(C…"
      ]
     },
     "execution_count": 6,
     "metadata": {},
     "output_type": "execute_result"
    }
   ],
   "source": [
    "hist = tcw.Histogram(data=mol_data, smiles='smiles', x='mwt')\n",
    "hist"
   ]
  },
  {
   "cell_type": "markdown",
   "metadata": {},
   "source": [
    "If you select subset of the data by clicking and dragging, you can view the selected structures in the gallery to the right by pressing the `SHOW STRUCTURES` button beneath the plot. You can extract this subset of the original dataframe by pressing `SAVE SELECTION` and accessing the `hist.selection` property as shown in the next cell. This workflow is convenient for applications like data splitting based on a single dimension."
   ]
  },
  {
   "cell_type": "code",
   "execution_count": 7,
   "metadata": {},
   "outputs": [
    {
     "data": {
      "text/html": [
       "<div>\n",
       "<style scoped>\n",
       "    .dataframe tbody tr th:only-of-type {\n",
       "        vertical-align: middle;\n",
       "    }\n",
       "\n",
       "    .dataframe tbody tr th {\n",
       "        vertical-align: top;\n",
       "    }\n",
       "\n",
       "    .dataframe thead th {\n",
       "        text-align: right;\n",
       "    }\n",
       "</style>\n",
       "<table border=\"1\" class=\"dataframe\">\n",
       "  <thead>\n",
       "    <tr style=\"text-align: right;\">\n",
       "      <th></th>\n",
       "      <th>smiles</th>\n",
       "      <th>logp</th>\n",
       "      <th>mwt</th>\n",
       "      <th>split</th>\n",
       "    </tr>\n",
       "  </thead>\n",
       "  <tbody>\n",
       "  </tbody>\n",
       "</table>\n",
       "</div>"
      ],
      "text/plain": [
       "Empty DataFrame\n",
       "Columns: [smiles, logp, mwt, split]\n",
       "Index: []"
      ]
     },
     "execution_count": 7,
     "metadata": {},
     "output_type": "execute_result"
    }
   ],
   "source": [
    "hist.selection"
   ]
  },
  {
   "cell_type": "markdown",
   "metadata": {},
   "source": [
    "## Two- or three-dimensional distributions\n",
    "\n",
    "In addition to histograms, TCW also has provides a class for scatter plots. The Scatter class is useful when comparing two or three dimensions or your data. As of v0.2.0, TCW Scatter supports the use of the x and y axes as well as the color of each point (`hue` keyword) to represent either continuous or discrete variables. Just like in the Histogram example, you can click and drag within the plot area to subset along the x and y axes. The Scatter widget also supports dates along the x, y, and hue axes.\n",
    "\n",
    "In the image below, we have selected a portion of dataset with large molecular weight values, but minimal training examples (displayed points in orange), to demonstrate how the Scatter widget can be useful for outlier identification. In addition to selection by bounding box, you can also hover over individual points to display a drawing of the underlying structure.\n",
    "\n",
    "<img src=\"./assets/trident_chemwidgets_data/Scatter.png\" alt=\"Scatter example\" width=\"1000\"/>\n",
    "\n",
    "To generate an interactive example of the widget, run the next cell:"
   ]
  },
  {
   "cell_type": "code",
   "execution_count": 8,
   "metadata": {},
   "outputs": [
    {
     "data": {
      "application/vnd.jupyter.widget-view+json": {
       "model_id": "f62315257b50449c99067a611ea81cfa",
       "version_major": 2,
       "version_minor": 0
      },
      "text/plain": [
       "Scatter(data={'points': [{'smiles': 'CC(O)(P(=O)(O)O)P(=O)(O)O', 'x': 206.027, 'y': -0.9922000000000002, 'hue'…"
      ]
     },
     "execution_count": 8,
     "metadata": {},
     "output_type": "execute_result"
    }
   ],
   "source": [
    "scatter = tcw.Scatter(data=mol_data, smiles='smiles', x='mwt', y='logp', hue='split')\n",
    "scatter"
   ]
  },
  {
   "cell_type": "markdown",
   "metadata": {},
   "source": [
    "If you select subset of the data by clicking and dragging, you can view the selected structures in the gallery to the right by pressing the `SHOW STRUCTURES` button beneath the plot. You can extract this subset of the original dataframe by pressing `SAVE SELECTION` and accessing the `scatter.selection` property as shown in the next cell."
   ]
  },
  {
   "cell_type": "code",
   "execution_count": 9,
   "metadata": {},
   "outputs": [
    {
     "data": {
      "text/html": [
       "<div>\n",
       "<style scoped>\n",
       "    .dataframe tbody tr th:only-of-type {\n",
       "        vertical-align: middle;\n",
       "    }\n",
       "\n",
       "    .dataframe tbody tr th {\n",
       "        vertical-align: top;\n",
       "    }\n",
       "\n",
       "    .dataframe thead th {\n",
       "        text-align: right;\n",
       "    }\n",
       "</style>\n",
       "<table border=\"1\" class=\"dataframe\">\n",
       "  <thead>\n",
       "    <tr style=\"text-align: right;\">\n",
       "      <th></th>\n",
       "      <th>smiles</th>\n",
       "      <th>logp</th>\n",
       "      <th>mwt</th>\n",
       "      <th>split</th>\n",
       "    </tr>\n",
       "  </thead>\n",
       "  <tbody>\n",
       "  </tbody>\n",
       "</table>\n",
       "</div>"
      ],
      "text/plain": [
       "Empty DataFrame\n",
       "Columns: [smiles, logp, mwt, split]\n",
       "Index: []"
      ]
     },
     "execution_count": 9,
     "metadata": {},
     "output_type": "execute_result"
    }
   ],
   "source": [
    "scatter.selection"
   ]
  },
  {
   "cell_type": "markdown",
   "metadata": {},
   "source": [
    "# Training a GraphConvModel\n",
    "\n",
    "Now that we've had a look at the training data, we can train a GraphConvModel to predict the 12 Tox21 classes. We'll replicate the training procedure exactly from the [*Introduction to Graph Covolutions* tutorial](https://github.com/deepchem/deepchem/blob/master/examples/tutorials/Introduction_to_Graph_Convolutions.ipynb). We'll train for 50 epochs, just as in the original tutorial."
   ]
  },
  {
   "cell_type": "code",
   "execution_count": 1,
   "metadata": {
    "colab": {
     "base_uri": "https://localhost:8080/",
     "height": 245
    },
    "colab_type": "code",
    "id": "Y9n3jTNHcj1a",
    "outputId": "2caab2e5-5e5a-4f97-a440-753692341d35",
    "tags": []
   },
   "outputs": [
    {
     "name": "stdout",
     "output_type": "stream",
     "text": [
      "0.2595431746140894\n"
     ]
    }
   ],
   "source": [
    "# The next line filters pytorch warnings relevant to memory consumption.\n",
    "# To see these warnings, comment the next line.\n",
    "import warnings; warnings.filterwarnings('ignore')\n",
    "\n",
    "# Now we'll set the pytorch seed to make sure the results of this notebook are reproducible\n",
    "import torch\n",
    "torch.manual_seed(27)\n",
    "n_tasks = len(tasks)\n",
    "num_features = train_dataset.X[0].get_atom_features().shape[1]\n",
    "model = dc.models.torch_models.GraphConvModel(n_tasks, mode='classification',number_input_features=[num_features,64])\n",
    "model.fit(train_dataset, nb_epoch=50)"
   ]
  },
  {
   "cell_type": "markdown",
   "metadata": {},
   "source": [
    "Now that we have a trained model, we can check AUROC values for the training and test datasets:"
   ]
  },
  {
   "cell_type": "code",
   "execution_count": 11,
   "metadata": {},
   "outputs": [
    {
     "name": "stdout",
     "output_type": "stream",
     "text": [
      "Training set score: 0.96\n",
      "Test set score: 0.69\n"
     ]
    }
   ],
   "source": [
    "metric = dc.metrics.Metric(dc.metrics.roc_auc_score)\n",
    "print(f'Training set score: {model.evaluate(train_dataset, [metric], transformers)[\"roc_auc_score\"]:.2f}')\n",
    "print(f'Test set score: {model.evaluate(test_dataset, [metric], transformers)[\"roc_auc_score\"]:.2f}')"
   ]
  },
  {
   "cell_type": "markdown",
   "metadata": {},
   "source": [
    "Just as in the original tutorial, we see that the model performs reasonably well on the predefined train/test splits. Now we'll use this model to evaluate compounds that are outside the training distribution, just as we might in a real-world drug discovery scenario."
   ]
  },
  {
   "cell_type": "markdown",
   "metadata": {},
   "source": [
    "# Evaluating the model on new data\n",
    "\n",
    "One of the challenging first steps toward deploying an ML model in production is evaluating it on new data. Here, new data refers to both data outside the initial train/val/test distributions and also data that may not be already processed for use with the model.\n",
    "\n",
    "We can use the JSME widget provided by TCW to quickly test our model again some molecules of interest. We'll start with a known therapeutic molecule: ibuprofen. We can see that ibuprofen is not included in any of the datasets that we have evaluated our model against so far:"
   ]
  },
  {
   "cell_type": "code",
   "execution_count": 12,
   "metadata": {},
   "outputs": [
    {
     "name": "stdout",
     "output_type": "stream",
     "text": [
      "Ibuprofen structure in Tox21 dataset: False\n"
     ]
    }
   ],
   "source": [
    "print(f\"Ibuprofen structure in Tox21 dataset: {'CC(C)CC1=CC=C(C=C1)C(C)C(=O)O' in mol_data['smiles']}\")"
   ]
  },
  {
   "cell_type": "markdown",
   "metadata": {},
   "source": [
    "To simulate a drug discovery application, let's say you're a chemist tasked with identifying potential new therapeutics derived from ibuprofen. Ideally, the molecules you test would have limited toxicity. You've just developed the model above to predict the tox outcomes from Tox21 data and now you want to use it to do some first-pass screening of your derivatives. The standard workflow for a task like this might include drawing the molecules in a program like ChemDraw, exporting to SMILES format, importing into the notebook, then prepping the data and running it through your model.\n",
    "\n",
    "With TCW, we can shortcut the first few steps of that workflow by using the [JSME](https://jsme-editor.github.io/help.html) widget to draw molecules and convert to SMILES directly in the notebook. We can even use the `base_smiles` argument to specify a base molecular structure, which is great for generating derivatives. Here we'll set the base_smiles value to `'CC(C)CC1=CC=C(C=C1)C(C)C(=O)O'`, the SMILES string for ibuprofen. Below is a screenshot using JSME to generate a few derivative molecules to test against our toxicity model.\n",
    "\n",
    "<img src=\"./assets/trident_chemwidgets_data/JSME.png\" alt=\"JSME example\" width=\"1000\"/>\n",
    "\n",
    "To generate your own set of derivatives, run the cell below. To add a SMILES string to the saved set, click the `ADD TO SMILES LIST` button below the interface. If you want to regenerate the original base molecule, in this case ibuprofen, click the `RESET TO BASE SMILES` button below the interface. By using this button, it's easy to generate distinct derivatives from a shared starting structure.  Go ahead and create some ibuprofen derivatives to test against the tox model:"
   ]
  },
  {
   "cell_type": "code",
   "execution_count": 13,
   "metadata": {},
   "outputs": [
    {
     "data": {
      "application/vnd.jupyter.widget-view+json": {
       "model_id": "0d835df550dc4a15be371ef878bd9a83",
       "version_major": 2,
       "version_minor": 0
      },
      "text/plain": [
       "JSME(base_smiles='CC(C)CC1=CC=C(C=C1)C(C)C(=O)O')"
      ]
     },
     "execution_count": 13,
     "metadata": {},
     "output_type": "execute_result"
    }
   ],
   "source": [
    "jsme = tcw.JSME(base_smiles='CC(C)CC1=CC=C(C=C1)C(C)C(=O)O')\n",
    "jsme"
   ]
  },
  {
   "cell_type": "markdown",
   "metadata": {},
   "source": [
    "You can access the smiles using the `jsme.smiles` property. This call will return a list of the SMILES strings that have been added to the SMILES list of the widget (the ones shown in the molecule gallery to the right of the JSME interface)."
   ]
  },
  {
   "cell_type": "code",
   "execution_count": 14,
   "metadata": {},
   "outputs": [
    {
     "name": "stdout",
     "output_type": "stream",
     "text": [
      "[]\n"
     ]
    }
   ],
   "source": [
    "print(jsme.smiles)"
   ]
  },
  {
   "cell_type": "markdown",
   "metadata": {},
   "source": [
    "To ensure the rest of this notebook runs correctly, the following cell sets the new test SMILES set to the ones from the screenshot above in the case that you have not defined your own set using the widget. Otherwise, it will use the molecules you have drawn."
   ]
  },
  {
   "cell_type": "code",
   "execution_count": 15,
   "metadata": {},
   "outputs": [],
   "source": [
    "# This cell will provide a preset list of SMILES strings in case you did not create your own.\n",
    "if len(jsme.smiles) > 1:\n",
    "    drawn_smiles = jsme.smiles\n",
    "else:\n",
    "    drawn_smiles = [\n",
    "        'CC(C)Cc1ccc(C(C)C(=O)O)cc1',\n",
    "        'CC(C)C(S)c1ccc(C(C)C(=O)O)cc1',\n",
    "        'CCSC(c1ccc(C(C)C(=O)O)cc1)C(C)CC',\n",
    "        'CCSC(c1ccc(C(C)C(=O)O)cc1)C(C)C(=O)O',\n",
    "        'CC(C(=O)O)c1ccc(C(S)C(C)C(=O)O)cc1'\n",
    "    ]"
   ]
  },
  {
   "cell_type": "markdown",
   "metadata": {},
   "source": [
    "Next we have to create a dataset that is compatible with our model to test these new molecules."
   ]
  },
  {
   "cell_type": "code",
   "execution_count": 16,
   "metadata": {},
   "outputs": [],
   "source": [
    "featurizer = dc.feat.ConvMolFeaturizer()\n",
    "loader = dc.data.InMemoryLoader(tasks=list(train_dataset.tasks), featurizer=featurizer)\n",
    "dataset = loader.create_dataset(drawn_smiles, shard_size=1)"
   ]
  },
  {
   "cell_type": "markdown",
   "metadata": {},
   "source": [
    "Finally, we can generate our predictions of positive results here and plot them."
   ]
  },
  {
   "cell_type": "code",
   "execution_count": 17,
   "metadata": {},
   "outputs": [
    {
     "data": {
      "text/plain": [
       "<Axes: >"
      ]
     },
     "execution_count": 17,
     "metadata": {},
     "output_type": "execute_result"
    },
    {
     "data": {
      "image/png": "[encoded data removed]",
      "text/plain": [
       "<Figure size 640x480 with 2 Axes>"
      ]
     },
     "metadata": {},
     "output_type": "display_data"
    }
   ],
   "source": [
    "predictions = model.predict(dataset, transformers)[:, :, 1]\n",
    "\n",
    "import seaborn as sns\n",
    "sns.heatmap(predictions, vmin=0, vmax=1)"
   ]
  },
  {
   "cell_type": "markdown",
   "metadata": {},
   "source": [
    "Now we can get the predicted most toxic compound/assay result for further inspection. Below we extract the highest predicted positive hit (most toxic) and display the assay name, SMILES string, and an image of the structure."
   ]
  },
  {
   "cell_type": "code",
   "execution_count": 18,
   "metadata": {},
   "outputs": [
    {
     "name": "stdout",
     "output_type": "stream",
     "text": [
      "Most toxic result (predicted): SR-MMP, CCSC(c1ccc(C(C)C(=O)O)cc1)C(C)CC\n"
     ]
    },
    {
     "data": {
      "image/png": "[encoded data removed]",
      "text/plain": [
       "<rdkit.Chem.rdchem.Mol at 0x7fd1a1d36880>"
      ]
     },
     "execution_count": 18,
     "metadata": {},
     "output_type": "execute_result"
    }
   ],
   "source": [
    "import numpy as np\n",
    "\n",
    "mol_idx, assay_idx = np.unravel_index(predictions.argmax(), predictions.shape)\n",
    "smiles = drawn_smiles[mol_idx]\n",
    "\n",
    "print(f'Most toxic result (predicted): {train_dataset.tasks[assay_idx]}, {smiles}')\n",
    "mol = Chem.MolFromSmiles(smiles)\n",
    "mol"
   ]
  },
  {
   "cell_type": "markdown",
   "metadata": {},
   "source": [
    "# Interpreting the model's predictions\n",
    "\n",
    "Often predictions alone are insufficient to decide whether to move forward with costly experiments. We might also want some metric or metrics that allow us to interpret the model's output.\n",
    "\n",
    "Building on the tutorial [Calculating Atomic Contributions for Molecules Based on a Graph Convolutional QSAR Model](https://github.com/deepchem/deepchem/blob/master/examples/tutorials/Atomic_Contributions_for_Molecules.ipynb), we can calculate the relative contribution of each atom in a molecule to the predicted output value. This attribution strategy enables us to determine whether the molecular features that a chemist may identify as important and those most affecting the predictions are in alignment. If the chemist's interpretation and the model's interpretation metrics are consistent, that may indicate that the model is a good fit for the task at hand. However, the inverse is not necessarily true either. A model may have the capacity to make accurate predictions that a trained chemist cannot fully understand. This is just one tool in a machine learning practitioner's toolbox.\n",
    "\n",
    "We'll start by using the built-in `per_atom_fragmentation` argument for the `ConvMolFeaturizer`. This will generate a list of ConvMol objects that have each had a single atom removed."
   ]
  },
  {
   "cell_type": "code",
   "execution_count": 19,
   "metadata": {},
   "outputs": [],
   "source": [
    "featurizer = dc.feat.ConvMolFeaturizer(per_atom_fragmentation=True)\n",
    "mol_list = featurizer(smiles)\n",
    "loader = dc.data.InMemoryLoader(tasks=list(train_dataset.tasks),\n",
    "                                featurizer=dc.feat.DummyFeaturizer())\n",
    "dataset = loader.create_dataset(mol_list[0], shard_size=1)"
   ]
  },
  {
   "cell_type": "markdown",
   "metadata": {},
   "source": [
    "We can then run these predictions through the model and retrieve the predicted values for the molecule and assay specified in the last section."
   ]
  },
  {
   "cell_type": "code",
   "execution_count": 20,
   "metadata": {},
   "outputs": [],
   "source": [
    "full_molecule_prediction = predictions[mol_idx, assay_idx]\n",
    "fragment_predictions = model.predict(dataset, transformers)[:, assay_idx, 0]\n",
    "contributions = pd.DataFrame({\n",
    "    'Change in predicted toxicity': \n",
    "    (full_molecule_prediction - fragment_predictions).round(3)\n",
    "})"
   ]
  },
  {
   "cell_type": "markdown",
   "metadata": {},
   "source": [
    "We can use the InteractiveMolecule widget from TCW to superimpose the contribution scores on the molecule itself, allowing us to easily asses the relative importance of each atom to the final prediction. If you click on one of the atoms, you can retrieve the contribution data in a card shown to the right of the structure. In this panel you can also select a variable by which to color the atoms in the plot.\n",
    "\n",
    "<img src=\"./assets/trident_chemwidgets_data/InteractiveMolecule.png\" alt=\"InteractiveMolecule example\" width=\"1000\"/>\n",
    "\n",
    "You can generate the interactive widget by running the cell below."
   ]
  },
  {
   "cell_type": "code",
   "execution_count": 21,
   "metadata": {},
   "outputs": [
    {
     "data": {
      "application/vnd.jupyter.widget-view+json": {
       "model_id": "cf0f74ebc81841c18351f0ed108a934e",
       "version_major": 2,
       "version_minor": 0
      },
      "text/plain": [
       "InteractiveMolecule(data=[{'Change in predicted toxicity': 0.847000002861023}, {'Change in predicted toxicity'…"
      ]
     },
     "execution_count": 21,
     "metadata": {},
     "output_type": "execute_result"
    }
   ],
   "source": [
    "tcw.InteractiveMolecule(smiles, data = contributions)"
   ]
  },
  {
   "cell_type": "markdown",
   "metadata": {
    "colab_type": "text",
    "id": "j1FrVn88cj17"
   },
   "source": [
    "# Wrapping up\n",
    "\n",
    "In this tutorial, we learned how to incorporate Trident Chemwidgets into your DeepChem-based ML workflow. While TCW was built with molecular ML workflows in mind, the library also works well for general cheminformatics notebooks as well. \n",
    "\n",
    "## Star Trident Chemwidgets on [GitHub](https://github.com/tridentbio/trident-chemwidgets)\n",
    "If you find the Trident Chemwidgets package helpful please give it a ⭐️ on GitHub. Starring the project helps it grow and find new audiences.\n",
    "\n",
    "# Congratulations! Time to join the Community!\n",
    "\n",
    "Congratulations on completing this tutorial notebook! If you enjoyed working through the tutorial, and want to continue working with DeepChem, we encourage you to finish the rest of the tutorials in this series. You can also help the DeepChem community in the following ways:\n",
    "\n",
    "## Star DeepChem on [GitHub](https://github.com/deepchem/deepchem)\n",
    "This helps build awareness of the DeepChem project and the tools for open source drug discovery that we're trying to build.\n",
    "\n",
    "## Join the DeepChem Gitter\n",
    "The DeepChem [Gitter](https://gitter.im/deepchem/Lobby) hosts a number of scientists, developers, and enthusiasts interested in deep learning for the life sciences. Join the conversation!"
   ]
  }
 ],
 "metadata": {
  "accelerator": "GPU",
  "colab": {
   "name": "04_Introduction_to_Graph_Convolutions.ipynb",
   "provenance": []
  },
  "kernelspec": {
   "display_name": "Python 3",
   "language": "python",
   "name": "python3"
  },
  "language_info": {
   "codemirror_mode": {
    "name": "ipython",
    "version": 3
   },
   "file_extension": ".py",
   "mimetype": "text/x-python",
   "name": "python",
   "nbconvert_exporter": "python",
   "pygments_lexer": "ipython3",
   "version": "3.13.0"
  },
  "widgets": {
   "application/vnd.jupyter.widget-state+json": {
    "state": {},
    "version_major": 2,
    "version_minor": 0
   }
  }
 },
 "nbformat": 4,
 "nbformat_minor": 4
}
