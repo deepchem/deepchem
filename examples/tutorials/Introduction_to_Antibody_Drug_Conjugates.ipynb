{
 "cells": [
  {
   "cell_type": "markdown",
   "id": "4a8bc46a",
   "metadata": {},
   "source": [
    "# Introduction To AntiBody Drug-Conjugates **(ADCs)** "
   ]
  },
  {
   "cell_type": "markdown",
   "id": "59a34f53",
   "metadata": {},
   "source": [
    "In this tutorial we will explore the fundamental concepts of Antibody-Drug Conjugates(ADCs), with a focus on the key properties \n",
    "that play a crucial role in the design and development of ADCs.\n",
    "\n",
    "This tutorial is made to run without any GPU support, and can be used in Google colab. If you'd like to open this notebook in colab, you can use the following link.\n",
    "\n",
    "[![Open In Colab](https://colab.research.google.com/assets/colab-badge.svg)](https://colab.research.google.com/drive/1D9Z4GSu3shuX2aAQoeHs2_qltsHlbCoc#scrollTo=cb84bffb)"
   ]
  },
  {
   "cell_type": "markdown",
   "id": "aa3694bb",
   "metadata": {},
   "source": [
    "This tutorial is divided into following sections - \n",
    "\n",
    "## Table of Contents\n",
    "* [Introduction](#introduction)\n",
    "* [Background Literature](#background-literature)\n",
    "* [Fundamental Concepts of ADCs](#fundamental-concepts)\n",
    "* [ADC Design and Optimization](#adc-design)\n",
    "* [Computational Approaches for ADC Analysis](#computational-approaches)\n",
    "* [Further Reading](#further-reading)"
   ]
  },
  {
   "cell_type": "markdown",
   "id": "e759aa0e",
   "metadata": {},
   "source": [
    "## Introduction <a name=\"introduction\"></a>"
   ]
  },
  {
   "cell_type": "markdown",
   "id": "2c442a40",
   "metadata": {},
   "source": [
    "### ADCs - what they are\n",
    "\n",
    "Antibody-Drug Conjugates or (ADCs) are a class of biopharmaceuticals designed for targeted cancer therapy, delivering potent cytotoxic (cell-killing) drugs directly to tumor cells while minimizing harm to healthy tissues. This targeted approach helps reduce side effects compared to traditional chemotherapy approach.\n",
    "\n",
    "ADCs are typically composed of a monoclonal antibody (mAbs) covalently attached to a cytotoxic drug via a chemical linker. It combines both the advantages of highly specific targeting ability and highly potent killing effect to achieve accurate and efficient elimination of cancer cells, which has become one of the hotspots for the research and development of anticancer drugs."
   ]
  },
  {
   "cell_type": "markdown",
   "id": "a2976c24",
   "metadata": {},
   "source": [
    "## Background Literature <a name=\"background-literature\"></a>\n",
    "\n",
    "Traditional cancer chemotherapy, while effective in targeting rapidly dividing cells, often causes significant systemic toxicity due to its lack of selectivity, affecting both cancerous and healthy tissues. Monoclonal antibodies (mAbs) offer a promising alternative by specifically targeting tumor-associated antigens, enabling selective delivery of therapeutic agents to cancer cells. \n",
    "\n",
    "However, mAbs alone typically lack sufficient potency to eradicate tumors effectively. Antibody-Drug Conjugates (ADCs) address this limitation by combining the specificity of mAbs with the cytotoxic potency of chemotherapeutic drugs, delivering highly potent cytotoxic (cell-killing) payloads directly to tumor cells . This targeted approach enhances the therapeutic index of chemotherapeutic agents, minimizing off-target effects and improving patient outcomes.\n",
    "\n",
    "Currently, there are eleven FDA-approved ADCs available in the market. Furthermore, over 100 ADCs are in the diverse stages of development in clinical trials at the present time. Notably, a few novel ADCs have established substantial anti-tumor activity in many tumor types that share the expression of the targeted antigen, thus establishing a histology-agnostic activity of these compounds. For example, HER2 overexpressing breast, gastric and colorectal cancers, and Her-2 mutated lung cancers have demonstrated a significant response to the anti-Her2-targeting ADC, trastuzumab deruxtecan."
   ]
  },
  {
   "cell_type": "markdown",
   "id": "43a3a67a",
   "metadata": {},
   "source": [
    "### Key Components of ADC\n",
    "\n",
    "An antibody-drug conjugate (ADC) is composed of three primary components:\n",
    "\n",
    "- **Monoclonal Antibody(mAb)** : Antibody used in ADCs should be specific for a tumor-associated antigen that has restricted expression on normal cells and overexpressed on cancer cells. This allows the ADC to selectively target cancer cells while sparing normal cells.\n",
    "\n",
    "- **Cytotoxic drug payload** : Payload is designed to kill target cells when internalized and released. These payloads are often drugs that are highly toxic and require antibodies to specifically target cancer cells so they do not affect healthy cells. \n",
    "\n",
    "- **Linker molecule** : A chemical bridge linking the mAb and payload, stable in circulation but designed to release the drug in tumor cells. Linkers (cleavable, e.g., Adcetris, or non-cleavable, e.g., Kadcyla) influence ADC stability, solubility, and toxicity."
   ]
  },
  {
   "cell_type": "markdown",
   "id": "e5975275",
   "metadata": {},
   "source": [
    "<img src=\"assets/adc_components.png\" alt=\"image.png\" height=\"400\" width=\"900\">\n",
    "\n",
    "---\n",
    "\n",
    "**Fig.1** : Schematic description of an ADC. The core components including target antigen, antibody, linker, cytotoxic drug along with their key functions are demonstrated."
   ]
  },
  {
   "cell_type": "markdown",
   "id": "9769aff3",
   "metadata": {},
   "source": [
    "### Why Are ADCs Essential ?\n",
    "\n",
    "ADCs revolutionize cancer treatment in many ways. Some of them are : \n",
    "\n",
    "- **Targeted Therapy**: Unlike traditional chemotherapy, which indiscriminately targets rapidly dividing cells and causes significant toxicity, ADCs selectively deliver cytotoxic (cell-killing) payloads to cancer cells, sparing healthy tissues and improving patient outcomes .\n",
    "\n",
    "- **Enhanced Therapeutic Index**: By focusing drug action on tumor cells, ADCs achieve higher efficacy at lower doses, reducing systemic side effects compared to conventional chemotherapies. Approved ADCs like Brentuximab Vedotin and Trastuzumab Emtansine have demonstrated significant clinical success in treating lymphomas and breast cancer, respectively.\n",
    "\n",
    "- **Versatility Across Cancers**: ADCs can target a wide range of tumor-associated antigens, making them applicable to various cancers, including those resistant to standard treatments. \n",
    "\n",
    "- **Overcoming Resistance**: ADCs can address drug resistance by delivering novel payloads with distinct mechanisms of action, such as DNA-damaging agents or tubulin inhibitors, bypassing resistance pathways in cancer cells"
   ]
  },
  {
   "cell_type": "markdown",
   "id": "8e4da6d0",
   "metadata": {},
   "source": [
    "## Fundamental Concepts of ADC <a name=\"fundamental-concepts\"></a>\n",
    "\n",
    "Here we cover some properties of the key components of ADC, and mechanism of action along with the setbacks involved in the development."
   ]
  },
  {
   "cell_type": "markdown",
   "id": "27da513c",
   "metadata": {},
   "source": [
    "### 2.1 Choice of Monoclonal antibodies :\n",
    "Monoclonal antibodies (mAbs) are the guiding component of Antibody-Drug Conjugates (ADCs), acting like a GPS to deliver the drug directly to cancer cells. They are designed to recognize specific markers, called antigens, found mostly on cancer cells, such as HER2 in breast cancer or CD30 in lymphomas, while avoiding healthy cells. This selective targeting helps ADCs attack tumors without harming the rest of the body.\n",
    "\n",
    " An ideal mAb has three key features: \n",
    "  - High specificity : It binds strongly to the cancer cell’s antigen.\n",
    "  - Efficient internalization : Gets absorbed quickly into the tumor cell to deliver the drug.\n",
    "  - Low immunogenicity : Causes minimal immune reactions to keep the treatment safe. \n",
    "\n",
    "For example : trastuzumab in Kadcyla targets HER2 on breast cancer cells, and brentuximab in Adcetris targets CD30 on lymphoma cells."
   ]
  },
  {
   "cell_type": "markdown",
   "id": "15f4dc1a",
   "metadata": {},
   "source": [
    "### 2.2 Importance of Cytotoxic Payloads : \n",
    "The ADCs’ payloads play a key role in determining the efficacy of ADC drugs and thus have attracted great attention in the field. An ideal payload must be highly potent to destroy cancer cells, stable in the bloodstream to avoid premature release, and chemically adaptable to connect with the antibody via a linker . It should also have low immunogenicity to prevent unwanted immune reactions and proper solubility to ensure the ADC dissolves well in the body . \n",
    "\n",
    "Some payloads have a \"bystander effect,\" meaning they can kill nearby cancer cells, even those without the target marker, which is useful for tumors with uneven marker expression . However, payloads must be carefully designed to avoid toxicity to healthy tissues.\n",
    "\n",
    "#### 2.2.1 Classes of Payloads : \n",
    "ADC payloads are grouped into three main types based on how they attack cancer cells. Each type works differently to stop cancer cells from growing or surviving.\n",
    "| Class                     | Mechanism of Action                                              | Examples                                   |\n",
    "|---------------------------|-----------------------------------------------------------------|--------------------------------------------|\n",
    "| Tubulin Inhibitors        | Disrupt microtubule dynamics, causing mitotic arrest and cell death | Auristatins (MMAE, MMAF), Maytansinoids (DM1, DM4), Tubulysins |\n",
    "| DNA Damaging Agents       | Induce DNA strand breaks or alkylate DNA, leading to apoptosis  | Calicheamicin, Duocarmycins, Pyrrolobenzodiazepines (PBDs)     |\n",
    "| Topoisomerase I Inhibitors| Inhibit topoisomerase I, preventing DNA replication and transcription | Deruxtecan (DXd), SN-38                    |\n",
    "\n",
    "Common ADC payloads include tubulin inhibitors and DNA damaging agents, with tubulin inhibitors accounting for more than half of the ADC drugs in clinical development.\n",
    "\n",
    "\n",
    "#### 2.2.2 Mechanism of Cytotoxicity :\n",
    "\n",
    "The mechanism of action of the payload is an important factor determining the performance of the ADC (For e.g., Adverse Reactions). Once an ADC is administered, it circulates in the bloodstream until it binds to its specific antigen on the surface of a tumor cell. This binding triggers the internalization of the ADC–antigen complex, which is then transported to the lysosome inside the cell. Within the lysosome, the complex is degraded, and the cytotoxic payload is released. <br>\n",
    "\n",
    "The released payload then acts on its intracellular target-such as microtubules, DNA, or RNA-disrupting essential cellular functions and inducing cell death. Some payloads are designed to have a bystander effect, meaning they can diffuse out of the targeted cell and kill neighboring cancer cells that may not express the target antigen. This is especially useful in tumors where antigen expression is uneven. However, achieving this effect requires a careful balance, as highly membrane-permeable payloads can also increase toxicity to healthy tissues."
   ]
  },
  {
   "cell_type": "markdown",
   "id": "86fc065a",
   "metadata": {},
   "source": [
    "### 2.3 Design and Role of Linkers : \n",
    "\n",
    "Linker in ADC bridges the antibody with the cytotoxic drug. An ideal linker should not induce ADC aggregation, and it is expected to limit premature release of payloads in plasma and to promote active drugs release at desired targeted sites. Depending on the metabolic fate in cells, two types of linkers including cleavable and non-cleavable linkers have been employed in most of ADC drugs. <br>\n",
    "\n",
    "Types of Linkers : \n",
    "\n",
    "#### Cleavable Linkers :\n",
    "\n",
    "The first type is the cleavable linkers, which has a chemical trigger in its structure that can be efficiently cleaved to release the cytotoxic payload in the tumor. They are engineered to remain stable in the bloodstream but to release the payload efficiently once inside the tumor environment. This release is triggered by specific conditions unique to tumors, such as acidic pH, elevated levels of certain enzymes, or a reductive environment. These linkers often contain chemical triggers that respond to these cues, ensuring that the cytotoxic drug is delivered primarily to cancer cells. \n",
    "\n",
    "More than 80% of the clinically approved ADCs employ cleavable linkers such as,  inotuzumab ozogamicin (Besponsa) and brentuximab vedotin (Adcetris).\n",
    "\n",
    "#### Non-Cleavable Linkers :\n",
    "\n",
    " The other type of linker is noncleavable. In contrast to the cleavable linker, there are no chemical triggers in this structure, and the linker is part of the payload. This type of linker has been employed only in ado-trastuzumab emtansine (Kadcyla, T-DM1) among the approved ADCs."
   ]
  },
  {
   "cell_type": "markdown",
   "id": "cba5bf4d",
   "metadata": {},
   "source": [
    "#### Challenges involved in Linker Design :\n",
    "\n",
    "Although ADCs have made remarkable strides in targeted cancer therapy, the continued advancement of this technology is increasingly limited by the challenges associated with linker design.\n",
    "\n",
    "Before we move further, it is essential to know some of the challenges involved in Linker Design mentioned here -  \n",
    "\n",
    "- Premature release : Many classical linkers are prone to nonspecific payload release in non-tumorous tissues, which can cause off-target toxicity and restrict the therapeutic window. A prominent example is gemtuzumab ozogamicin (Mylotarg), which was withdrawn from the market in 2010 after reports of severe liver toxicity linked to its unstable N-acylhydrazone linker. Although Mylotarg was later re-approved in 2017 following a redesign, the FDA required a black-box warning due to the continued risk of liver toxicity. <br>\n",
    "\n",
    "- Secondly, the commonly used maleimide-based linkers, such as succinimidyl 4-(N-maleimidomethyl) cyclohexane-1-carboxylate (SMCC), are susceptible to retro-Michael elimination reactions. This instability can lead to a significant reduction in ADC efficacy over time. For example, studies have shown that the SMCC linker degrades to just 38% of its original form after 120 hours in mouse plasma, and Kadcyla, which contains an SMCC linker, exhibited a 29% decrease in drug-to-antibody ratio (DAR) after seven days in mice. <br>\n",
    "\n",
    "- Thirdly, the limited options for linker–payload attachment have become a bottleneck, especially as the field rapidly expands to include novel payloads for cancer treatment, antimicrobial therapy, and immune modulation. Many innovative payloads are awaiting suitable linker technologies to unlock their therapeutic potential.\n",
    "\n",
    "In response to these challenges, the past five years have seen significant progress in linker design. Key developments include the optimization of existing chemical triggers and the creation of novel triggers for highly selective linkers, the invention of new linker–antibody attachment strategies to produce more stable and homogeneous ADCs, the expansion of linker–payload attachment options to accommodate a wider range of payloads, and the refinement of linker properties to improve the absorption, distribution, metabolism, and excretion (ADME) profiles of ADCs."
   ]
  },
  {
   "cell_type": "markdown",
   "id": "83d0aaf3",
   "metadata": {},
   "source": [
    "### 2.4 Understanding and Measuring the Drug-Antibody Ratio (DAR) in ADCs :\n",
    "\n",
    "The Drug-Antibody Ratio (DAR) measures how many drug molecules are attached to each antibody in an ADC; theoretically, it should characterize the ability of an ADC to deliver drug to a tumor and thus positively correlate to effectiveness. However, the presence of large numbers of drugs (and thus large numbers of linkers) on an ADC perturbs the properties of the antibody. Lipophilic drugs and linkers increase the aggregation of ADC, preventing them from reaching their site of action; they may also hinder access to binding sites necessary for antigen recognition or binding,reducing the activity of the ADC. Reducing the lipophilicity of linker moieties has been used to reduce the negative consequences of antibody functionalization, but not the alteration in ADC properties. In addition, significant toxicity has been noted for ADC with high DAR (DAR ≥ 8) and high DAR may increase the clearance of ADC (reducing their residence time and effectiveness). DAR is an important analytical property of ADC; the ability to produce ADC with consistent DAR is likely to lead to ADC with consistent properties and biological activity and thus is likely a critical attribute for ADC synthesis and production.\n",
    "\n",
    "#### 2.4.1 Why DAR Matters:\n",
    "\n",
    "DAR is more than just a number. A higher DAR means more drug molecules, potentially increasing tumor-killing potential, but it comes with trade-offs such as:\n",
    "\n",
    "- **Aggregation Risk**: Lipophilic drugs and linkers, common in high-DAR ADCs, increase hydrophobicity, leading to aggregation that prevents ADCs from reaching their target.\n",
    "\n",
    "- **Binding Interference**: Excessive drug loading (e.g., DAR ≥ 8) can sterically block antigen-binding sites, reducing specificity and activity.\n",
    "\n",
    "- **Toxicity and Clearance**: High DAR is linked to significant toxicity and faster plasma clearance, shortening residence time and limiting efficacy.\n",
    "\n",
    "- **Consistent DAR**: Producing ADCs with uniform DAR ensures predictable biological activity, making it a critical attribute for manufacturing and therapeutic success.\n",
    "\n",
    "##### 2.4.2 Measuring DAR :\n",
    "\n",
    "DAR is usually determined using laboratory techniques like mass spectrometry or UV spectrophotometry. These methods compare the amount of drug and antibody in a sample to calculate the average DAR.\n",
    "\n",
    "The most common formula for calculating average DAR using chromatographic peak areas is:"
   ]
  },
  {
   "cell_type": "markdown",
   "id": "48f2038b",
   "metadata": {},
   "source": [
    "$$\n",
    "\\text{DAR} = \\frac{\\sum_{i=0}^{n} (i \\times P_i)}{\\sum_{i=0}^{n} P_i}\n",
    "$$\n",
    "\n",
    "where:\n",
    "\n",
    "- $i$ is the number of drugs attached\n",
    "- $P_i$ is the percentage or area of the peak corresponding to species with $i$ drugs attached"
   ]
  },
  {
   "cell_type": "markdown",
   "id": "7644ed10",
   "metadata": {},
   "source": [
    "Secondly, through UV-based analysis, the absorbance at two wavelengths is used to set up simultaneous equations:\n"
   ]
  },
  {
   "cell_type": "markdown",
   "id": "bc380b26",
   "metadata": {},
   "source": [
    "$$\n",
    "A_{280} = \\varepsilon_{A,280} C_A + \\varepsilon_{D,280} C_D\n",
    "$$\n",
    "\n",
    "$$\n",
    "A_{\\lambda(D)} = \\varepsilon_{A,\\lambda(D)} C_A + \\varepsilon_{D,\\lambda(D)} C_D\n",
    "$$\n",
    "\n",
    "where:\n",
    "\n",
    "- $A_{280}$ and $A_{\\lambda(D)}$ are absorbances at 280 nm and at the drug’s maximum absorption wavelength, respectively  \n",
    "- $\\varepsilon$ are extinction coefficients  \n",
    "- $C_A$ and $C_D$ are concentrations of antibody and drug\n",
    "\n",
    "Solve for $C_A$ and $C_D$, then:\n",
    "\n",
    "$$\n",
    "\\text{DAR} = \\frac{C_D}{C_A}\n",
    "$$"
   ]
  },
  {
   "cell_type": "markdown",
   "id": "964f9653",
   "metadata": {},
   "source": [
    "### 2.5 Mechanism of action of ADCs : \n",
    "\n",
    "This section outlines the core mechanism by which antibody-drug conjugates (ADCs) function -\n",
    "\n",
    "<img src=\"assets/mechanism_of_adc_action.png\" width= \"800\" height=\"400\"></img>\n",
    "\n",
    "**Fig.1** : Schematic description of mechanism of action of an ADC. The core components including target antigen, antibody, linker, cytotoxic drug along with their key functions are demonstrated.\n",
    "\n",
    "(1) Targeted Binding : The antibody part of the ADC sticks to a specific antigen on the cancer cell’s surface, like a key fitting into a lock. This antigen is usually more common on cancer cells, making the ADC highly selective.\n",
    "\n",
    "(2) Cell Uptake: The cancer cell swallows the ADC in a process called endocytosis, pulling it into an endosome that fuses with a lysosome.\n",
    "\n",
    "(3) Antibody Degradation: Inside the lysosome, enzymes chop up the ADC, breaking the link between the antibody and the toxic payload.\n",
    "\n",
    "(4) Payload Release: The freed toxic drug escapes the lysosome and enters the cancer cell’s cytoplasm or nucleus, ready to cause damage.\n",
    "\n",
    "(5) DNA or Microtubule Disruption: The payload attacks either the cell’s DNA (its genetic blueprint) or microtubules (its structural supports), stopping the cell from dividing.\n",
    "\n",
    "(6) Cell Death: The damage overwhelms the cancer cell, leading to its destruction through processes like programmed cell death."
   ]
  },
  {
   "cell_type": "markdown",
   "id": "b1fdaab0",
   "metadata": {},
   "source": [
    "## 3.1 ADC Design and Optimisation"
   ]
  },
  {
   "cell_type": "markdown",
   "id": "3493458d",
   "metadata": {},
   "source": [
    "Designing effective ADCs involves several critical considerations to ensure optimal therapeutic efficacy and safety.\n",
    "\n",
    "### Target Antigen Selection : \n",
    "\n",
    "Ideal antigens for ADCs show high tumor cell expression, minimal presence on healthy tissues, and low shedding rates to avoid off-target effects and ensure effective payload delivery. Uniform antigen distribution on tumors enhances binding and internalization.\n",
    "\n",
    "### Antibody Engineering : \n",
    "\n",
    "Monoclonal antibodies (mAbs) target the antigen, with engineering focused on specificity and low immunogenicity. Humanized or fully human antibodies are preferred. Affinity must be balanced—too high hinders tumor penetration, too low reduces binding.\n",
    "\n",
    "### Payload Selection :\n",
    " \n",
    "Cytotoxic payloads kill tumor cells, requiring high potency (effective at picomolar levels) due to limited ADC delivery. Common types include microtubule inhibitors (e.g., auristatins, maytansinoids), DNA-damaging agents (e.g., calicheamicin, duocarmycins), and topoisomerase inhibitors (e.g., SN-38). Stability, solubility, and bystander effects guide selection.\n",
    "\n",
    "### Linker Design\n",
    "\n",
    "Linkers connect antibodies to payloads, ensuring stability and controlled release:\n",
    "Advancements in linker technology, such as the development of hydrophilic linkers (e.g., PEGylated linkers), have improved ADC solubility and reduced aggregation, enhancing pharmacokinetics and reducing off-target toxicity .\n",
    "\n",
    "### Conjugation Methods : \n",
    "\n",
    "The method of attaching the payload to the antibody influences the Drug-Antibody Ratio (DAR) and the homogeneity of the ADC. Traditional conjugation techniques often result in heterogeneous mixtures with variable DARs, affecting efficacy and safety. Site-specific conjugation methods, such as engineered cysteine residues or enzymatic conjugation, enable the production of homogeneous ADCs with defined DARs, improving therapeutic outcomes ."
   ]
  },
  {
   "cell_type": "markdown",
   "id": "11ebd6a4",
   "metadata": {},
   "source": [
    "## 4.1 Computational Approaches for ADC Analysis <a name= \"computational-approaches\"></a>"
   ]
  },
  {
   "cell_type": "markdown",
   "id": "7f154833",
   "metadata": {},
   "source": [
    "### How can we use Machine learning ?\n",
    "\n",
    "The limitations of traditional methods for predicting ADC (Antibody-Drug Conjugate) activity have sparked increasing interest in machine learning (ML) approaches for molecular property prediction. In this section we will focus on key properties such as solubility (how well the ADC dissolves), stability (how resistant it is to degradation), and toxicity (its potential harm to healthy cells). To enhance our understanding, we will also incorporate 2D visualizations to display the chemical structure of ADCs and 3D visualizations to reveal their spatial arrangement, critical for interpreting how these properties influence ADC activity."
   ]
  },
  {
   "cell_type": "markdown",
   "id": "458bd56d",
   "metadata": {},
   "source": [
    "#### Let's fist setup "
   ]
  },
  {
   "cell_type": "code",
   "execution_count": 34,
   "id": "2fe75e50",
   "metadata": {},
   "outputs": [
    {
     "name": "stdout",
     "output_type": "stream",
     "text": [
      "Requirement already satisfied: deepchem in /home/sonali/Downloads/deepchemlatest/deepchem (2.8.1.dev20250316001040)\n",
      "Requirement already satisfied: py3Dmol in /home/sonali/anaconda3/envs/deepchem/lib/python3.8/site-packages (2.4.2)\n",
      "Requirement already satisfied: rdkit in /home/sonali/anaconda3/envs/deepchem/lib/python3.8/site-packages (2024.3.5)\n",
      "Requirement already satisfied: joblib in /home/sonali/anaconda3/envs/deepchem/lib/python3.8/site-packages (from deepchem) (1.4.2)\n",
      "Requirement already satisfied: numpy<2 in /home/sonali/anaconda3/envs/deepchem/lib/python3.8/site-packages (from deepchem) (1.24.3)\n",
      "Requirement already satisfied: pandas in /home/sonali/anaconda3/envs/deepchem/lib/python3.8/site-packages (from deepchem) (2.0.3)\n",
      "Requirement already satisfied: scikit-learn in /home/sonali/anaconda3/envs/deepchem/lib/python3.8/site-packages (from deepchem) (1.3.2)\n",
      "Requirement already satisfied: sympy in /home/sonali/anaconda3/envs/deepchem/lib/python3.8/site-packages (from deepchem) (1.13.3)\n",
      "Requirement already satisfied: scipy>=1.10.1 in /home/sonali/anaconda3/envs/deepchem/lib/python3.8/site-packages (from deepchem) (1.10.1)\n",
      "Requirement already satisfied: Pillow in /home/sonali/anaconda3/envs/deepchem/lib/python3.8/site-packages (from rdkit) (10.4.0)\n",
      "Requirement already satisfied: python-dateutil>=2.8.2 in /home/sonali/anaconda3/envs/deepchem/lib/python3.8/site-packages (from pandas->deepchem) (2.9.0)\n",
      "Requirement already satisfied: pytz>=2020.1 in /home/sonali/anaconda3/envs/deepchem/lib/python3.8/site-packages (from pandas->deepchem) (2025.1)\n",
      "Requirement already satisfied: tzdata>=2022.1 in /home/sonali/anaconda3/envs/deepchem/lib/python3.8/site-packages (from pandas->deepchem) (2025.1)\n",
      "Requirement already satisfied: threadpoolctl>=2.0.0 in /home/sonali/anaconda3/envs/deepchem/lib/python3.8/site-packages (from scikit-learn->deepchem) (3.5.0)\n",
      "Requirement already satisfied: mpmath<1.4,>=1.1.0 in /home/sonali/anaconda3/envs/deepchem/lib/python3.8/site-packages (from sympy->deepchem) (1.3.0)\n",
      "Requirement already satisfied: six>=1.5 in /home/sonali/anaconda3/envs/deepchem/lib/python3.8/site-packages (from python-dateutil>=2.8.2->pandas->deepchem) (1.16.0)\n"
     ]
    }
   ],
   "source": [
    "!pip install deepchem py3Dmol rdkit\n",
    "\n",
    "\n",
    "import deepchem as dc\n",
    "import pandas as pd\n",
    "from rdkit import Chem\n",
    "from rdkit.Chem import Draw, AllChem\n",
    "import py3Dmol\n",
    "import matplotlib.pyplot as plt\n",
    "import numpy as np"
   ]
  },
  {
   "cell_type": "markdown",
   "id": "0070dd53",
   "metadata": {},
   "source": [
    "Let’s first take a look at a few of the approved ADCs and their key properties.\n",
    "\n",
    "Below is a dataset containing the approved ADCs and their core properties. For a deeper dive into structural, mechanistic, and pharmacological details, explore the full listings on [ADCdb](https://adcdb.idrblab.net/)."
   ]
  },
  {
   "cell_type": "code",
   "execution_count": 35,
   "id": "09952f46",
   "metadata": {},
   "outputs": [],
   "source": [
    "# Path to dataset pesent in assets\n",
    "file_path = \"assets/approved_adc.csv\"\n",
    "\n",
    "# Load the dataset into a pandas DataFrame\n",
    "df = pd.read_csv(file_path, sep=\";\")"
   ]
  },
  {
   "cell_type": "code",
   "execution_count": 36,
   "id": "b355edc9",
   "metadata": {},
   "outputs": [
    {
     "data": {
      "text/html": [
       "<div>\n",
       "<style scoped>\n",
       "    .dataframe tbody tr th:only-of-type {\n",
       "        vertical-align: middle;\n",
       "    }\n",
       "\n",
       "    .dataframe tbody tr th {\n",
       "        vertical-align: top;\n",
       "    }\n",
       "\n",
       "    .dataframe thead th {\n",
       "        text-align: right;\n",
       "    }\n",
       "</style>\n",
       "<table border=\"1\" class=\"dataframe\">\n",
       "  <thead>\n",
       "    <tr style=\"text-align: right;\">\n",
       "      <th></th>\n",
       "      <th>Parent Molecule</th>\n",
       "      <th>Name</th>\n",
       "      <th>Synonyms</th>\n",
       "      <th>Research Codes</th>\n",
       "      <th>Phase</th>\n",
       "      <th>Drug Applicants</th>\n",
       "      <th>USAN Stem</th>\n",
       "      <th>USAN Year</th>\n",
       "      <th>USAN Definition</th>\n",
       "      <th>USAN Stem - Substem</th>\n",
       "      <th>...</th>\n",
       "      <th>Prodrug</th>\n",
       "      <th>Oral</th>\n",
       "      <th>Parenteral</th>\n",
       "      <th>Topical</th>\n",
       "      <th>Black Box</th>\n",
       "      <th>Availability Type</th>\n",
       "      <th>Smiles</th>\n",
       "      <th>Inchi</th>\n",
       "      <th>Withdrawn Flag</th>\n",
       "      <th>Orphan</th>\n",
       "    </tr>\n",
       "  </thead>\n",
       "  <tbody>\n",
       "    <tr>\n",
       "      <th>0</th>\n",
       "      <td>CHEMBL1743043</td>\n",
       "      <td>MOXETUMOMAB PASUDOTOX</td>\n",
       "      <td>CAT-8015|HA-22|HA22|Lumoxiti|MOXETUMOMAB PASUD...</td>\n",
       "      <td>CAT-8015|HA-22|HA22</td>\n",
       "      <td>4.0</td>\n",
       "      <td>NaN</td>\n",
       "      <td>'-mab'</td>\n",
       "      <td>2010.0</td>\n",
       "      <td>monoclonal antibodies</td>\n",
       "      <td>'-mab(-mab)'</td>\n",
       "      <td>...</td>\n",
       "      <td>0</td>\n",
       "      <td>0</td>\n",
       "      <td>1</td>\n",
       "      <td>0</td>\n",
       "      <td>1</td>\n",
       "      <td>Unknown</td>\n",
       "      <td>NaN</td>\n",
       "      <td>NaN</td>\n",
       "      <td>False</td>\n",
       "      <td>0</td>\n",
       "    </tr>\n",
       "    <tr>\n",
       "      <th>1</th>\n",
       "      <td>CHEMBL2109287</td>\n",
       "      <td>TECHNETIUM TC 99M NOFETUMOMAB MERPENTAN</td>\n",
       "      <td>NOFETUMOMAB|NOFETUMOMAB MERPENTAN 99TC|Nofetum...</td>\n",
       "      <td>NaN</td>\n",
       "      <td>4.0</td>\n",
       "      <td>NaN</td>\n",
       "      <td>'-entan; -mab'</td>\n",
       "      <td>NaN</td>\n",
       "      <td>endothelin receptor antagonists; monoclonal an...</td>\n",
       "      <td>'-entan(-entan); -mab(-mab)'</td>\n",
       "      <td>...</td>\n",
       "      <td>0</td>\n",
       "      <td>0</td>\n",
       "      <td>1</td>\n",
       "      <td>0</td>\n",
       "      <td>0</td>\n",
       "      <td>Prescription Only</td>\n",
       "      <td>NaN</td>\n",
       "      <td>NaN</td>\n",
       "      <td>False</td>\n",
       "      <td>0</td>\n",
       "    </tr>\n",
       "    <tr>\n",
       "      <th>2</th>\n",
       "      <td>CHEMBL1201506</td>\n",
       "      <td>GEMTUZUMAB OZOGAMICIN</td>\n",
       "      <td>CDP-771|CMA-676|CMC-676|GEMTUZUMAB OZOGAMICIN|...</td>\n",
       "      <td>CDP-771|CMA-676|CMC-676|L01XC05|WAY-CMA-676</td>\n",
       "      <td>4.0</td>\n",
       "      <td>Wyeth Pharmaceuticals Inc</td>\n",
       "      <td>'-mab; -micin'</td>\n",
       "      <td>2000.0</td>\n",
       "      <td>monoclonal antibodies; antibiotics (Micromonos...</td>\n",
       "      <td>'-mab(-mab); -micin(-micin)'</td>\n",
       "      <td>...</td>\n",
       "      <td>0</td>\n",
       "      <td>0</td>\n",
       "      <td>1</td>\n",
       "      <td>0</td>\n",
       "      <td>1</td>\n",
       "      <td>Withdrawn</td>\n",
       "      <td>NaN</td>\n",
       "      <td>NaN</td>\n",
       "      <td>False</td>\n",
       "      <td>1</td>\n",
       "    </tr>\n",
       "    <tr>\n",
       "      <th>3</th>\n",
       "      <td>CHEMBL4297778</td>\n",
       "      <td>LONCASTUXIMAB TESIRINE</td>\n",
       "      <td>ADCT-402|ADCT-402 TESIRINE|LONCASTUXIMAB TESIR...</td>\n",
       "      <td>ADCT-402|ADCT-402 TESIRINE</td>\n",
       "      <td>4.0</td>\n",
       "      <td>NaN</td>\n",
       "      <td>'-mab'</td>\n",
       "      <td>2017.0</td>\n",
       "      <td>monoclonal antibodies</td>\n",
       "      <td>'-mab(-mab)'</td>\n",
       "      <td>...</td>\n",
       "      <td>0</td>\n",
       "      <td>0</td>\n",
       "      <td>1</td>\n",
       "      <td>0</td>\n",
       "      <td>0</td>\n",
       "      <td>Prescription Only</td>\n",
       "      <td>NaN</td>\n",
       "      <td>NaN</td>\n",
       "      <td>False</td>\n",
       "      <td>0</td>\n",
       "    </tr>\n",
       "    <tr>\n",
       "      <th>4</th>\n",
       "      <td>CHEMBL1743091</td>\n",
       "      <td>INDIUM IN 111 SATUMOMAB PENDETIDE</td>\n",
       "      <td>B72.3|CYT-099|CYT-103|CYT-103 111 IN|INDIUM (1...</td>\n",
       "      <td>B72.3|CYT-099|CYT-103|CYT-103 111 IN</td>\n",
       "      <td>4.0</td>\n",
       "      <td>NaN</td>\n",
       "      <td>'-mab; -tide'</td>\n",
       "      <td>1993.0</td>\n",
       "      <td>monoclonal antibodies; peptides</td>\n",
       "      <td>'-mab(-mab); -tide(-tide)'</td>\n",
       "      <td>...</td>\n",
       "      <td>0</td>\n",
       "      <td>0</td>\n",
       "      <td>1</td>\n",
       "      <td>0</td>\n",
       "      <td>0</td>\n",
       "      <td>Unknown</td>\n",
       "      <td>NaN</td>\n",
       "      <td>NaN</td>\n",
       "      <td>False</td>\n",
       "      <td>0</td>\n",
       "    </tr>\n",
       "  </tbody>\n",
       "</table>\n",
       "<p>5 rows × 32 columns</p>\n",
       "</div>"
      ],
      "text/plain": [
       "  Parent Molecule                                     Name  \\\n",
       "0   CHEMBL1743043                    MOXETUMOMAB PASUDOTOX   \n",
       "1   CHEMBL2109287  TECHNETIUM TC 99M NOFETUMOMAB MERPENTAN   \n",
       "2   CHEMBL1201506                    GEMTUZUMAB OZOGAMICIN   \n",
       "3   CHEMBL4297778                   LONCASTUXIMAB TESIRINE   \n",
       "4   CHEMBL1743091        INDIUM IN 111 SATUMOMAB PENDETIDE   \n",
       "\n",
       "                                            Synonyms  \\\n",
       "0  CAT-8015|HA-22|HA22|Lumoxiti|MOXETUMOMAB PASUD...   \n",
       "1  NOFETUMOMAB|NOFETUMOMAB MERPENTAN 99TC|Nofetum...   \n",
       "2  CDP-771|CMA-676|CMC-676|GEMTUZUMAB OZOGAMICIN|...   \n",
       "3  ADCT-402|ADCT-402 TESIRINE|LONCASTUXIMAB TESIR...   \n",
       "4  B72.3|CYT-099|CYT-103|CYT-103 111 IN|INDIUM (1...   \n",
       "\n",
       "                                Research Codes  Phase  \\\n",
       "0                          CAT-8015|HA-22|HA22    4.0   \n",
       "1                                          NaN    4.0   \n",
       "2  CDP-771|CMA-676|CMC-676|L01XC05|WAY-CMA-676    4.0   \n",
       "3                   ADCT-402|ADCT-402 TESIRINE    4.0   \n",
       "4         B72.3|CYT-099|CYT-103|CYT-103 111 IN    4.0   \n",
       "\n",
       "             Drug Applicants       USAN Stem  USAN Year  \\\n",
       "0                        NaN          '-mab'     2010.0   \n",
       "1                        NaN  '-entan; -mab'        NaN   \n",
       "2  Wyeth Pharmaceuticals Inc  '-mab; -micin'     2000.0   \n",
       "3                        NaN          '-mab'     2017.0   \n",
       "4                        NaN   '-mab; -tide'     1993.0   \n",
       "\n",
       "                                     USAN Definition  \\\n",
       "0                              monoclonal antibodies   \n",
       "1  endothelin receptor antagonists; monoclonal an...   \n",
       "2  monoclonal antibodies; antibiotics (Micromonos...   \n",
       "3                              monoclonal antibodies   \n",
       "4                    monoclonal antibodies; peptides   \n",
       "\n",
       "            USAN Stem - Substem  ...  Prodrug Oral Parenteral Topical  \\\n",
       "0                  '-mab(-mab)'  ...        0    0          1       0   \n",
       "1  '-entan(-entan); -mab(-mab)'  ...        0    0          1       0   \n",
       "2  '-mab(-mab); -micin(-micin)'  ...        0    0          1       0   \n",
       "3                  '-mab(-mab)'  ...        0    0          1       0   \n",
       "4    '-mab(-mab); -tide(-tide)'  ...        0    0          1       0   \n",
       "\n",
       "  Black Box  Availability Type Smiles  Inchi Withdrawn Flag  Orphan  \n",
       "0         1            Unknown    NaN    NaN          False       0  \n",
       "1         0  Prescription Only    NaN    NaN          False       0  \n",
       "2         1          Withdrawn    NaN    NaN          False       1  \n",
       "3         0  Prescription Only    NaN    NaN          False       0  \n",
       "4         0            Unknown    NaN    NaN          False       0  \n",
       "\n",
       "[5 rows x 32 columns]"
      ]
     },
     "execution_count": 36,
     "metadata": {},
     "output_type": "execute_result"
    }
   ],
   "source": [
    "# Filter only approved ADCs i.e. (Phase == 4.0)\n",
    "approved_adcs = df[df[\"Phase\"] == 4.0]\n",
    "\n",
    "# Some Appoved ADCs\n",
    "approved_adcs.head()"
   ]
  },
  {
   "cell_type": "markdown",
   "id": "550ee456",
   "metadata": {},
   "source": [
    "Let's take a look at one of the appoved adc , Brentuximab Vedotin (Adcetris) is an antibody-drug conjugate that targets **CD30**, delivering a cytotoxic MMAE payload via a cleavable linker. Approved in 2011, it has demonstrated significant efficacy in Hodgkin’s lymphoma and other CD30-positive cancers."
   ]
  },
  {
   "cell_type": "markdown",
   "id": "cf949c66",
   "metadata": {},
   "source": [
    "#### 2-D Modelling of payload "
   ]
  },
  {
   "cell_type": "code",
   "execution_count": 37,
   "id": "050184ce",
   "metadata": {},
   "outputs": [
    {
     "data": {
      "image/jpeg": "[encoded data removed]",
      "image/png": "[encoded data removed]",
      "text/plain": [
       "<PIL.PngImagePlugin.PngImageFile image mode=RGB size=300x300>"
      ]
     },
     "execution_count": 37,
     "metadata": {},
     "output_type": "execute_result"
    }
   ],
   "source": [
    "# MMAE SMILES\n",
    "smiles = \"COC(=O)[C@@H]1CCCCN1C(=O)[C@H](Cc2ccc(OC)c(OC)c2)NC(=O)[C@H](Cc3ccccc3)NC(=O)C(C)(C)C\"\n",
    "\n",
    "# Convert to molecule\n",
    "mol = Chem.MolFromSmiles(smiles)\n",
    "\n",
    "Draw.MolToImage (mol)"
   ]
  },
  {
   "cell_type": "markdown",
   "id": "24d0d388",
   "metadata": {},
   "source": [
    "Understanding the detailed 3D structure of ADCs is important in designing and developing ADCs with higher efficacy. In this review, we focused on a variety of up-to-date methods that can be used to attain the 3D structure, energetics, and dynamics of these emerging systems, including their interactions. "
   ]
  },
  {
   "cell_type": "code",
   "execution_count": 38,
   "id": "6b13d7fc",
   "metadata": {},
   "outputs": [
    {
     "data": {
      "application/3dmoljs_load.v0": "<div id=\"3dmolviewer_1750411947334265\"  style=\"position: relative; width: 400px; height: 400px;\">\n        <p id=\"3dmolwarning_1750411947334265\" style=\"background-color:#ffcccc;color:black\">3Dmol.js failed to load for some reason.  Please check your browser console for error messages.<br></p>\n        </div>\n<script>\n\nvar loadScriptAsync = function(uri){\n  return new Promise((resolve, reject) => {\n    //this is to ignore the existence of requirejs amd\n    var savedexports, savedmodule;\n    if (typeof exports !== 'undefined') savedexports = exports;\n    else exports = {}\n    if (typeof module !== 'undefined') savedmodule = module;\n    else module = {}\n\n    var tag = document.createElement('script');\n    tag.src = uri;\n    tag.async = true;\n    tag.onload = () => {\n        exports = savedexports;\n        module = savedmodule;\n        resolve();\n    };\n  var firstScriptTag = document.getElementsByTagName('script')[0];\n  firstScriptTag.parentNode.insertBefore(tag, firstScriptTag);\n});\n};\n\nif(typeof $3Dmolpromise === 'undefined') {\n$3Dmolpromise = null;\n  $3Dmolpromise = loadScriptAsync('https://cdnjs.cloudflare.com/ajax/libs/3Dmol/2.4.2/3Dmol-min.js');\n}\n\nvar viewer_1750411947334265 = null;\nvar warn = document.getElementById(\"3dmolwarning_1750411947334265\");\nif(warn) {\n    warn.parentNode.removeChild(warn);\n}\n$3Dmolpromise.then(function() {\nviewer_1750411947334265 = $3Dmol.createViewer(document.getElementById(\"3dmolviewer_1750411947334265\"),{backgroundColor:\"white\"});\nviewer_1750411947334265.zoomTo();\n\tviewer_1750411947334265.addModel(\"\\n     RDKit          3D\\n\\n 85 87  0  0  0  0  0  0  0  0999 V2000\\n   -2.3033    5.4064    2.7322 C   0  0  0  0  0  0  0  0  0  0  0  0\\n   -2.4180    5.0968    1.3457 O   0  0  0  0  0  0  0  0  0  0  0  0\\n   -2.1251    3.7881    1.0523 C   0  0  0  0  0  0  0  0  0  0  0  0\\n   -1.7825    2.9662    1.8911 O   0  0  0  0  0  0  0  0  0  0  0  0\\n   -2.2354    3.5702   -0.4741 C   0  0  2  0  0  0  0  0  0  0  0  0\\n   -3.6287    3.8812   -1.0327 C   0  0  0  0  0  0  0  0  0  0  0  0\\n   -3.6020    3.8530   -2.5637 C   0  0  0  0  0  0  0  0  0  0  0  0\\n   -2.9781    2.5638   -3.1021 C   0  0  0  0  0  0  0  0  0  0  0  0\\n   -1.6202    2.2680   -2.4543 C   0  0  0  0  0  0  0  0  0  0  0  0\\n   -1.7269    2.2879   -0.9977 N   0  0  0  0  0  0  0  0  0  0  0  0\\n   -2.1865    1.1197   -0.3692 C   0  0  0  0  0  0  0  0  0  0  0  0\\n   -3.2419    1.1139    0.2715 O   0  0  0  0  0  0  0  0  0  0  0  0\\n   -1.3742   -0.1873   -0.6239 C   0  0  2  0  0  0  0  0  0  0  0  0\\n   -1.4410   -1.1249    0.6067 C   0  0  0  0  0  0  0  0  0  0  0  0\\n   -2.5433   -2.1636    0.6937 C   0  0  0  0  0  0  0  0  0  0  0  0\\n   -2.5040   -3.0462    1.7859 C   0  0  0  0  0  0  0  0  0  0  0  0\\n   -3.4602   -4.0521    1.9517 C   0  0  0  0  0  0  0  0  0  0  0  0\\n   -4.4822   -4.2213    1.0122 C   0  0  0  0  0  0  0  0  0  0  0  0\\n   -5.4650   -5.1700    1.1168 O   0  0  0  0  0  0  0  0  0  0  0  0\\n   -5.6693   -5.7556    2.3962 C   0  0  0  0  0  0  0  0  0  0  0  0\\n   -4.5155   -3.3640   -0.0999 C   0  0  0  0  0  0  0  0  0  0  0  0\\n   -5.4688   -3.4114   -1.0894 O   0  0  0  0  0  0  0  0  0  0  0  0\\n   -5.6063   -4.6979   -1.6796 C   0  0  0  0  0  0  0  0  0  0  0  0\\n   -3.5788   -2.3267   -0.2335 C   0  0  0  0  0  0  0  0  0  0  0  0\\n    0.0228    0.0235   -1.0580 N   0  0  0  0  0  0  0  0  0  0  0  0\\n    0.9702    0.5694   -0.2147 C   0  0  0  0  0  0  0  0  0  0  0  0\\n    0.6477    1.0943    0.8511 O   0  0  0  0  0  0  0  0  0  0  0  0\\n    2.4329    0.6199   -0.7410 C   0  0  2  0  0  0  0  0  0  0  0  0\\n    2.8327   -0.5263   -1.6901 C   0  0  0  0  0  0  0  0  0  0  0  0\\n    4.2682   -0.4469   -2.1615 C   0  0  0  0  0  0  0  0  0  0  0  0\\n    5.2483   -1.2706   -1.5881 C   0  0  0  0  0  0  0  0  0  0  0  0\\n    6.5776   -1.1842   -2.0060 C   0  0  0  0  0  0  0  0  0  0  0  0\\n    6.9361   -0.2858   -3.0073 C   0  0  0  0  0  0  0  0  0  0  0  0\\n    5.9698    0.5320   -3.5901 C   0  0  0  0  0  0  0  0  0  0  0  0\\n    4.6404    0.4530   -3.1692 C   0  0  0  0  0  0  0  0  0  0  0  0\\n    3.3374    0.7718    0.4006 N   0  0  0  0  0  0  0  0  0  0  0  0\\n    3.5108   -0.2277    1.3341 C   0  0  0  0  0  0  0  0  0  0  0  0\\n    2.9295   -1.3053    1.2409 O   0  0  0  0  0  0  0  0  0  0  0  0\\n    4.5094    0.1009    2.4612 C   0  0  0  0  0  0  0  0  0  0  0  0\\n    5.9212    0.2548    1.8691 C   0  0  0  0  0  0  0  0  0  0  0  0\\n    4.0904    1.3906    3.1843 C   0  0  0  0  0  0  0  0  0  0  0  0\\n    4.5274   -1.0508    3.4792 C   0  0  0  0  0  0  0  0  0  0  0  0\\n   -2.4248    6.4859    2.8546 H   0  0  0  0  0  0  0  0  0  0  0  0\\n   -1.3143    5.1371    3.1131 H   0  0  0  0  0  0  0  0  0  0  0  0\\n   -3.0911    4.8998    3.3025 H   0  0  0  0  0  0  0  0  0  0  0  0\\n   -1.5325    4.3137   -0.8811 H   0  0  0  0  0  0  0  0  0  0  0  0\\n   -3.9722    4.8670   -0.7021 H   0  0  0  0  0  0  0  0  0  0  0  0\\n   -4.3689    3.1599   -0.6672 H   0  0  0  0  0  0  0  0  0  0  0  0\\n   -4.6201    3.9614   -2.9496 H   0  0  0  0  0  0  0  0  0  0  0  0\\n   -3.0275    4.7120   -2.9297 H   0  0  0  0  0  0  0  0  0  0  0  0\\n   -2.8643    2.6338   -4.1894 H   0  0  0  0  0  0  0  0  0  0  0  0\\n   -3.6653    1.7313   -2.9059 H   0  0  0  0  0  0  0  0  0  0  0  0\\n   -0.8850    3.0230   -2.7507 H   0  0  0  0  0  0  0  0  0  0  0  0\\n   -1.2671    1.2993   -2.8156 H   0  0  0  0  0  0  0  0  0  0  0  0\\n   -1.8355   -0.6597   -1.4972 H   0  0  0  0  0  0  0  0  0  0  0  0\\n   -1.4818   -0.5183    1.5245 H   0  0  0  0  0  0  0  0  0  0  0  0\\n   -0.5013   -1.6965    0.6496 H   0  0  0  0  0  0  0  0  0  0  0  0\\n   -1.7152   -2.9416    2.5339 H   0  0  0  0  0  0  0  0  0  0  0  0\\n   -3.3733   -4.6947    2.8229 H   0  0  0  0  0  0  0  0  0  0  0  0\\n   -4.8452   -6.4311    2.6538 H   0  0  0  0  0  0  0  0  0  0  0  0\\n   -5.8084   -4.9867    3.1661 H   0  0  0  0  0  0  0  0  0  0  0  0\\n   -6.5858   -6.3508    2.3440 H   0  0  0  0  0  0  0  0  0  0  0  0\\n   -5.9995   -4.5464   -2.6882 H   0  0  0  0  0  0  0  0  0  0  0  0\\n   -4.6511   -5.2239   -1.7711 H   0  0  0  0  0  0  0  0  0  0  0  0\\n   -6.3413   -5.3000   -1.1380 H   0  0  0  0  0  0  0  0  0  0  0  0\\n   -3.6911   -1.6574   -1.0800 H   0  0  0  0  0  0  0  0  0  0  0  0\\n    0.3269   -0.5574   -1.8257 H   0  0  0  0  0  0  0  0  0  0  0  0\\n    2.5060    1.5699   -1.2862 H   0  0  0  0  0  0  0  0  0  0  0  0\\n    2.6371   -1.5020   -1.2315 H   0  0  0  0  0  0  0  0  0  0  0  0\\n    2.2034   -0.5076   -2.5903 H   0  0  0  0  0  0  0  0  0  0  0  0\\n    4.9831   -1.9788   -0.8092 H   0  0  0  0  0  0  0  0  0  0  0  0\\n    7.3300   -1.8224   -1.5553 H   0  0  0  0  0  0  0  0  0  0  0  0\\n    7.9696   -0.2251   -3.3374 H   0  0  0  0  0  0  0  0  0  0  0  0\\n    6.2487    1.2254   -4.3790 H   0  0  0  0  0  0  0  0  0  0  0  0\\n    3.9027    1.0982   -3.6361 H   0  0  0  0  0  0  0  0  0  0  0  0\\n    3.9282    1.5940    0.4313 H   0  0  0  0  0  0  0  0  0  0  0  0\\n    6.2073   -0.6466    1.3103 H   0  0  0  0  0  0  0  0  0  0  0  0\\n    5.9794    1.0971    1.1697 H   0  0  0  0  0  0  0  0  0  0  0  0\\n    6.6755    0.4139    2.6500 H   0  0  0  0  0  0  0  0  0  0  0  0\\n    3.0555    1.3254    3.5410 H   0  0  0  0  0  0  0  0  0  0  0  0\\n    4.1573    2.2669    2.5329 H   0  0  0  0  0  0  0  0  0  0  0  0\\n    4.7344    1.5825    4.0533 H   0  0  0  0  0  0  0  0  0  0  0  0\\n    3.5481   -1.1903    3.9504 H   0  0  0  0  0  0  0  0  0  0  0  0\\n    5.2555   -0.8663    4.2803 H   0  0  0  0  0  0  0  0  0  0  0  0\\n    4.7979   -2.0010    3.0019 H   0  0  0  0  0  0  0  0  0  0  0  0\\n  1  2  1  0\\n  2  3  1  0\\n  3  4  2  0\\n  3  5  1  0\\n  5  6  1  0\\n  6  7  1  0\\n  7  8  1  0\\n  8  9  1  0\\n  9 10  1  0\\n 10 11  1  0\\n 11 12  2  0\\n 11 13  1  0\\n 13 14  1  0\\n 14 15  1  0\\n 15 16  2  0\\n 16 17  1  0\\n 17 18  2  0\\n 18 19  1  0\\n 19 20  1  0\\n 18 21  1  0\\n 21 22  1  0\\n 22 23  1  0\\n 21 24  2  0\\n 13 25  1  0\\n 25 26  1  0\\n 26 27  2  0\\n 26 28  1  0\\n 28 29  1  0\\n 29 30  1  0\\n 30 31  2  0\\n 31 32  1  0\\n 32 33  2  0\\n 33 34  1  0\\n 34 35  2  0\\n 28 36  1  0\\n 36 37  1  0\\n 37 38  2  0\\n 37 39  1  0\\n 39 40  1  0\\n 39 41  1  0\\n 39 42  1  0\\n 10  5  1  0\\n 24 15  1  0\\n 35 30  1  0\\n  1 43  1  0\\n  1 44  1  0\\n  1 45  1  0\\n  5 46  1  6\\n  6 47  1  0\\n  6 48  1  0\\n  7 49  1  0\\n  7 50  1  0\\n  8 51  1  0\\n  8 52  1  0\\n  9 53  1  0\\n  9 54  1  0\\n 13 55  1  6\\n 14 56  1  0\\n 14 57  1  0\\n 16 58  1  0\\n 17 59  1  0\\n 20 60  1  0\\n 20 61  1  0\\n 20 62  1  0\\n 23 63  1  0\\n 23 64  1  0\\n 23 65  1  0\\n 24 66  1  0\\n 25 67  1  0\\n 28 68  1  6\\n 29 69  1  0\\n 29 70  1  0\\n 31 71  1  0\\n 32 72  1  0\\n 33 73  1  0\\n 34 74  1  0\\n 35 75  1  0\\n 36 76  1  0\\n 40 77  1  0\\n 40 78  1  0\\n 40 79  1  0\\n 41 80  1  0\\n 41 81  1  0\\n 41 82  1  0\\n 42 83  1  0\\n 42 84  1  0\\n 42 85  1  0\\nM  END\\n\",\"mol\");\n\tviewer_1750411947334265.setStyle({\"stick\": {}});\n\tviewer_1750411947334265.zoomTo();\nviewer_1750411947334265.render();\n});\n</script>",
      "text/html": [
       "<div id=\"3dmolviewer_1750411947334265\"  style=\"position: relative; width: 400px; height: 400px;\">\n",
       "        <p id=\"3dmolwarning_1750411947334265\" style=\"background-color:#ffcccc;color:black\">3Dmol.js failed to load for some reason.  Please check your browser console for error messages.<br></p>\n",
       "        </div>\n",
       "<script>\n",
       "\n",
       "var loadScriptAsync = function(uri){\n",
       "  return new Promise((resolve, reject) => {\n",
       "    //this is to ignore the existence of requirejs amd\n",
       "    var savedexports, savedmodule;\n",
       "    if (typeof exports !== 'undefined') savedexports = exports;\n",
       "    else exports = {}\n",
       "    if (typeof module !== 'undefined') savedmodule = module;\n",
       "    else module = {}\n",
       "\n",
       "    var tag = document.createElement('script');\n",
       "    tag.src = uri;\n",
       "    tag.async = true;\n",
       "    tag.onload = () => {\n",
       "        exports = savedexports;\n",
       "        module = savedmodule;\n",
       "        resolve();\n",
       "    };\n",
       "  var firstScriptTag = document.getElementsByTagName('script')[0];\n",
       "  firstScriptTag.parentNode.insertBefore(tag, firstScriptTag);\n",
       "});\n",
       "};\n",
       "\n",
       "if(typeof $3Dmolpromise === 'undefined') {\n",
       "$3Dmolpromise = null;\n",
       "  $3Dmolpromise = loadScriptAsync('https://cdnjs.cloudflare.com/ajax/libs/3Dmol/2.4.2/3Dmol-min.js');\n",
       "}\n",
       "\n",
       "var viewer_1750411947334265 = null;\n",
       "var warn = document.getElementById(\"3dmolwarning_1750411947334265\");\n",
       "if(warn) {\n",
       "    warn.parentNode.removeChild(warn);\n",
       "}\n",
       "$3Dmolpromise.then(function() {\n",
       "viewer_1750411947334265 = $3Dmol.createViewer(document.getElementById(\"3dmolviewer_1750411947334265\"),{backgroundColor:\"white\"});\n",
       "viewer_1750411947334265.zoomTo();\n",
       "\tviewer_1750411947334265.addModel(\"\\n     RDKit          3D\\n\\n 85 87  0  0  0  0  0  0  0  0999 V2000\\n   -2.3033    5.4064    2.7322 C   0  0  0  0  0  0  0  0  0  0  0  0\\n   -2.4180    5.0968    1.3457 O   0  0  0  0  0  0  0  0  0  0  0  0\\n   -2.1251    3.7881    1.0523 C   0  0  0  0  0  0  0  0  0  0  0  0\\n   -1.7825    2.9662    1.8911 O   0  0  0  0  0  0  0  0  0  0  0  0\\n   -2.2354    3.5702   -0.4741 C   0  0  2  0  0  0  0  0  0  0  0  0\\n   -3.6287    3.8812   -1.0327 C   0  0  0  0  0  0  0  0  0  0  0  0\\n   -3.6020    3.8530   -2.5637 C   0  0  0  0  0  0  0  0  0  0  0  0\\n   -2.9781    2.5638   -3.1021 C   0  0  0  0  0  0  0  0  0  0  0  0\\n   -1.6202    2.2680   -2.4543 C   0  0  0  0  0  0  0  0  0  0  0  0\\n   -1.7269    2.2879   -0.9977 N   0  0  0  0  0  0  0  0  0  0  0  0\\n   -2.1865    1.1197   -0.3692 C   0  0  0  0  0  0  0  0  0  0  0  0\\n   -3.2419    1.1139    0.2715 O   0  0  0  0  0  0  0  0  0  0  0  0\\n   -1.3742   -0.1873   -0.6239 C   0  0  2  0  0  0  0  0  0  0  0  0\\n   -1.4410   -1.1249    0.6067 C   0  0  0  0  0  0  0  0  0  0  0  0\\n   -2.5433   -2.1636    0.6937 C   0  0  0  0  0  0  0  0  0  0  0  0\\n   -2.5040   -3.0462    1.7859 C   0  0  0  0  0  0  0  0  0  0  0  0\\n   -3.4602   -4.0521    1.9517 C   0  0  0  0  0  0  0  0  0  0  0  0\\n   -4.4822   -4.2213    1.0122 C   0  0  0  0  0  0  0  0  0  0  0  0\\n   -5.4650   -5.1700    1.1168 O   0  0  0  0  0  0  0  0  0  0  0  0\\n   -5.6693   -5.7556    2.3962 C   0  0  0  0  0  0  0  0  0  0  0  0\\n   -4.5155   -3.3640   -0.0999 C   0  0  0  0  0  0  0  0  0  0  0  0\\n   -5.4688   -3.4114   -1.0894 O   0  0  0  0  0  0  0  0  0  0  0  0\\n   -5.6063   -4.6979   -1.6796 C   0  0  0  0  0  0  0  0  0  0  0  0\\n   -3.5788   -2.3267   -0.2335 C   0  0  0  0  0  0  0  0  0  0  0  0\\n    0.0228    0.0235   -1.0580 N   0  0  0  0  0  0  0  0  0  0  0  0\\n    0.9702    0.5694   -0.2147 C   0  0  0  0  0  0  0  0  0  0  0  0\\n    0.6477    1.0943    0.8511 O   0  0  0  0  0  0  0  0  0  0  0  0\\n    2.4329    0.6199   -0.7410 C   0  0  2  0  0  0  0  0  0  0  0  0\\n    2.8327   -0.5263   -1.6901 C   0  0  0  0  0  0  0  0  0  0  0  0\\n    4.2682   -0.4469   -2.1615 C   0  0  0  0  0  0  0  0  0  0  0  0\\n    5.2483   -1.2706   -1.5881 C   0  0  0  0  0  0  0  0  0  0  0  0\\n    6.5776   -1.1842   -2.0060 C   0  0  0  0  0  0  0  0  0  0  0  0\\n    6.9361   -0.2858   -3.0073 C   0  0  0  0  0  0  0  0  0  0  0  0\\n    5.9698    0.5320   -3.5901 C   0  0  0  0  0  0  0  0  0  0  0  0\\n    4.6404    0.4530   -3.1692 C   0  0  0  0  0  0  0  0  0  0  0  0\\n    3.3374    0.7718    0.4006 N   0  0  0  0  0  0  0  0  0  0  0  0\\n    3.5108   -0.2277    1.3341 C   0  0  0  0  0  0  0  0  0  0  0  0\\n    2.9295   -1.3053    1.2409 O   0  0  0  0  0  0  0  0  0  0  0  0\\n    4.5094    0.1009    2.4612 C   0  0  0  0  0  0  0  0  0  0  0  0\\n    5.9212    0.2548    1.8691 C   0  0  0  0  0  0  0  0  0  0  0  0\\n    4.0904    1.3906    3.1843 C   0  0  0  0  0  0  0  0  0  0  0  0\\n    4.5274   -1.0508    3.4792 C   0  0  0  0  0  0  0  0  0  0  0  0\\n   -2.4248    6.4859    2.8546 H   0  0  0  0  0  0  0  0  0  0  0  0\\n   -1.3143    5.1371    3.1131 H   0  0  0  0  0  0  0  0  0  0  0  0\\n   -3.0911    4.8998    3.3025 H   0  0  0  0  0  0  0  0  0  0  0  0\\n   -1.5325    4.3137   -0.8811 H   0  0  0  0  0  0  0  0  0  0  0  0\\n   -3.9722    4.8670   -0.7021 H   0  0  0  0  0  0  0  0  0  0  0  0\\n   -4.3689    3.1599   -0.6672 H   0  0  0  0  0  0  0  0  0  0  0  0\\n   -4.6201    3.9614   -2.9496 H   0  0  0  0  0  0  0  0  0  0  0  0\\n   -3.0275    4.7120   -2.9297 H   0  0  0  0  0  0  0  0  0  0  0  0\\n   -2.8643    2.6338   -4.1894 H   0  0  0  0  0  0  0  0  0  0  0  0\\n   -3.6653    1.7313   -2.9059 H   0  0  0  0  0  0  0  0  0  0  0  0\\n   -0.8850    3.0230   -2.7507 H   0  0  0  0  0  0  0  0  0  0  0  0\\n   -1.2671    1.2993   -2.8156 H   0  0  0  0  0  0  0  0  0  0  0  0\\n   -1.8355   -0.6597   -1.4972 H   0  0  0  0  0  0  0  0  0  0  0  0\\n   -1.4818   -0.5183    1.5245 H   0  0  0  0  0  0  0  0  0  0  0  0\\n   -0.5013   -1.6965    0.6496 H   0  0  0  0  0  0  0  0  0  0  0  0\\n   -1.7152   -2.9416    2.5339 H   0  0  0  0  0  0  0  0  0  0  0  0\\n   -3.3733   -4.6947    2.8229 H   0  0  0  0  0  0  0  0  0  0  0  0\\n   -4.8452   -6.4311    2.6538 H   0  0  0  0  0  0  0  0  0  0  0  0\\n   -5.8084   -4.9867    3.1661 H   0  0  0  0  0  0  0  0  0  0  0  0\\n   -6.5858   -6.3508    2.3440 H   0  0  0  0  0  0  0  0  0  0  0  0\\n   -5.9995   -4.5464   -2.6882 H   0  0  0  0  0  0  0  0  0  0  0  0\\n   -4.6511   -5.2239   -1.7711 H   0  0  0  0  0  0  0  0  0  0  0  0\\n   -6.3413   -5.3000   -1.1380 H   0  0  0  0  0  0  0  0  0  0  0  0\\n   -3.6911   -1.6574   -1.0800 H   0  0  0  0  0  0  0  0  0  0  0  0\\n    0.3269   -0.5574   -1.8257 H   0  0  0  0  0  0  0  0  0  0  0  0\\n    2.5060    1.5699   -1.2862 H   0  0  0  0  0  0  0  0  0  0  0  0\\n    2.6371   -1.5020   -1.2315 H   0  0  0  0  0  0  0  0  0  0  0  0\\n    2.2034   -0.5076   -2.5903 H   0  0  0  0  0  0  0  0  0  0  0  0\\n    4.9831   -1.9788   -0.8092 H   0  0  0  0  0  0  0  0  0  0  0  0\\n    7.3300   -1.8224   -1.5553 H   0  0  0  0  0  0  0  0  0  0  0  0\\n    7.9696   -0.2251   -3.3374 H   0  0  0  0  0  0  0  0  0  0  0  0\\n    6.2487    1.2254   -4.3790 H   0  0  0  0  0  0  0  0  0  0  0  0\\n    3.9027    1.0982   -3.6361 H   0  0  0  0  0  0  0  0  0  0  0  0\\n    3.9282    1.5940    0.4313 H   0  0  0  0  0  0  0  0  0  0  0  0\\n    6.2073   -0.6466    1.3103 H   0  0  0  0  0  0  0  0  0  0  0  0\\n    5.9794    1.0971    1.1697 H   0  0  0  0  0  0  0  0  0  0  0  0\\n    6.6755    0.4139    2.6500 H   0  0  0  0  0  0  0  0  0  0  0  0\\n    3.0555    1.3254    3.5410 H   0  0  0  0  0  0  0  0  0  0  0  0\\n    4.1573    2.2669    2.5329 H   0  0  0  0  0  0  0  0  0  0  0  0\\n    4.7344    1.5825    4.0533 H   0  0  0  0  0  0  0  0  0  0  0  0\\n    3.5481   -1.1903    3.9504 H   0  0  0  0  0  0  0  0  0  0  0  0\\n    5.2555   -0.8663    4.2803 H   0  0  0  0  0  0  0  0  0  0  0  0\\n    4.7979   -2.0010    3.0019 H   0  0  0  0  0  0  0  0  0  0  0  0\\n  1  2  1  0\\n  2  3  1  0\\n  3  4  2  0\\n  3  5  1  0\\n  5  6  1  0\\n  6  7  1  0\\n  7  8  1  0\\n  8  9  1  0\\n  9 10  1  0\\n 10 11  1  0\\n 11 12  2  0\\n 11 13  1  0\\n 13 14  1  0\\n 14 15  1  0\\n 15 16  2  0\\n 16 17  1  0\\n 17 18  2  0\\n 18 19  1  0\\n 19 20  1  0\\n 18 21  1  0\\n 21 22  1  0\\n 22 23  1  0\\n 21 24  2  0\\n 13 25  1  0\\n 25 26  1  0\\n 26 27  2  0\\n 26 28  1  0\\n 28 29  1  0\\n 29 30  1  0\\n 30 31  2  0\\n 31 32  1  0\\n 32 33  2  0\\n 33 34  1  0\\n 34 35  2  0\\n 28 36  1  0\\n 36 37  1  0\\n 37 38  2  0\\n 37 39  1  0\\n 39 40  1  0\\n 39 41  1  0\\n 39 42  1  0\\n 10  5  1  0\\n 24 15  1  0\\n 35 30  1  0\\n  1 43  1  0\\n  1 44  1  0\\n  1 45  1  0\\n  5 46  1  6\\n  6 47  1  0\\n  6 48  1  0\\n  7 49  1  0\\n  7 50  1  0\\n  8 51  1  0\\n  8 52  1  0\\n  9 53  1  0\\n  9 54  1  0\\n 13 55  1  6\\n 14 56  1  0\\n 14 57  1  0\\n 16 58  1  0\\n 17 59  1  0\\n 20 60  1  0\\n 20 61  1  0\\n 20 62  1  0\\n 23 63  1  0\\n 23 64  1  0\\n 23 65  1  0\\n 24 66  1  0\\n 25 67  1  0\\n 28 68  1  6\\n 29 69  1  0\\n 29 70  1  0\\n 31 71  1  0\\n 32 72  1  0\\n 33 73  1  0\\n 34 74  1  0\\n 35 75  1  0\\n 36 76  1  0\\n 40 77  1  0\\n 40 78  1  0\\n 40 79  1  0\\n 41 80  1  0\\n 41 81  1  0\\n 41 82  1  0\\n 42 83  1  0\\n 42 84  1  0\\n 42 85  1  0\\nM  END\\n\",\"mol\");\n",
       "\tviewer_1750411947334265.setStyle({\"stick\": {}});\n",
       "\tviewer_1750411947334265.zoomTo();\n",
       "viewer_1750411947334265.render();\n",
       "});\n",
       "</script>"
      ]
     },
     "metadata": {},
     "output_type": "display_data"
    }
   ],
   "source": [
    "from rdkit import Chem\n",
    "from rdkit.Chem import AllChem\n",
    "import py3Dmol\n",
    "\n",
    "# Convert SMILES to an RDKit molecule and add hydrogens\n",
    "mol = Chem.MolFromSmiles(smiles)\n",
    "mol = Chem.AddHs(mol)\n",
    "\n",
    "# Generate 3D coordinates and optimize geometry\n",
    "AllChem.EmbedMolecule(mol, AllChem.ETKDG())\n",
    "AllChem.MMFFOptimizeMolecule(mol)\n",
    "\n",
    "# Function to show 3D molecule using py3Dmol\n",
    "def show_3d_molecule(mol):\n",
    "    mol_block = Chem.MolToMolBlock(mol)\n",
    "    viewer = py3Dmol.view(width=400, height=400)\n",
    "    viewer.addModel(mol_block, \"mol\")\n",
    "    viewer.setStyle({\"stick\": {}})\n",
    "    viewer.zoomTo()\n",
    "    return viewer.show()\n",
    "\n",
    "show_3d_molecule(mol)"
   ]
  },
  {
   "cell_type": "markdown",
   "id": "6e35f122",
   "metadata": {},
   "source": [
    "## Futher Reading"
   ]
  },
  {
   "cell_type": "markdown",
   "id": "ea6db999",
   "metadata": {},
   "source": [
    "# Congratulations! Time to join the Community!\n",
    "\n",
    "Congratulations on completing this tutorial notebook! If you enjoyed working through the tutorial, and want to continue working with DeepChem, we encourage you to finish the rest of the tutorials in this series. You can also help the DeepChem community in the following ways:"
   ]
  },
  {
   "cell_type": "markdown",
   "id": "9c76089e",
   "metadata": {},
   "source": [
    "## Star DeepChem on [GitHub](https://github.com/deepchem/deepchem)\n",
    "This helps build awareness of the DeepChem project and the tools for open source drug discovery that we're trying to build.\n"
   ]
  },
  {
   "cell_type": "markdown",
   "id": "82782b17",
   "metadata": {},
   "source": [
    "## Join the DeepChem Discord\n",
    "The DeepChem [Discord](https://discord.gg/cGzwCdrUqS) hosts a number of scientists, developers, and enthusiasts interested in deep learning for the life sciences. Join the conversation!"
   ]
  },
  {
   "cell_type": "markdown",
   "id": "104883b9",
   "metadata": {},
   "source": [
    "# Citing this tutorial\n",
    "If you found this tutorial useful please consider citing it using the provided BibTeX."
   ]
  }
 ],
 "metadata": {
  "kernelspec": {
   "display_name": "deepchem",
   "language": "python",
   "name": "python3"
  },
  "language_info": {
   "codemirror_mode": {
    "name": "ipython",
    "version": 3
   },
   "file_extension": ".py",
   "mimetype": "text/x-python",
   "name": "python",
   "nbconvert_exporter": "python",
   "pygments_lexer": "ipython3",
   "version": "3.8.20"
  }
 },
 "nbformat": 4,
 "nbformat_minor": 5
}
