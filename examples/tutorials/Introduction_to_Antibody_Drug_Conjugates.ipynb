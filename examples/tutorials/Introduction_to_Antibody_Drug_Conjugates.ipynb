{
 "cells": [
  {
   "cell_type": "markdown",
   "id": "4a8bc46a",
   "metadata": {},
   "source": [
    "# Introduction To AntiBody Drug-Conjugates **(ADCs)** "
   ]
  },
  {
   "cell_type": "markdown",
   "id": "59a34f53",
   "metadata": {},
   "source": [
    "In this tutorial we will explore the fundamental concepts of Antibody-Drug Conjugates(ADCs), with a focus on the key properties \n",
    "that play a crucial role in the design and development of ADCs.\n",
    "\n",
    "This tutorial is made to run without any GPU support, and can be used in Google colab. If you'd like to open this notebook in colab, you can use the following link.\n",
    "\n",
    "[![Open In Colab](https://colab.research.google.com/assets/colab-badge.svg)](https://colab.research.google.com/drive/1D9Z4GSu3shuX2aAQoeHs2_qltsHlbCoc#scrollTo=cb84bffb)"
   ]
  },
  {
   "cell_type": "markdown",
   "id": "aa3694bb",
   "metadata": {},
   "source": [
    "This tutorial is divided into following sections - \n",
    "\n",
    "## Table of Contents\n",
    "* [Introduction](#introduction)\n",
    "* [Background Literature](#background-literature)\n",
    "* [Fundamental Concepts of ADCs](#fundamental-concepts)\n",
    "* [ADC Design and Optimization](#adc-design)\n",
    "* [Computational Approaches for ADC Analysis](#computational-approaches)\n",
    "* [References](#references)"
   ]
  },
  {
   "cell_type": "markdown",
   "id": "e759aa0e",
   "metadata": {},
   "source": [
    "## Introduction <a name=\"introduction\"></a>"
   ]
  },
  {
   "cell_type": "markdown",
   "id": "2c442a40",
   "metadata": {},
   "source": [
    "### ADCs - what they are\n",
    "\n",
    "Antibody-Drug Conjugates or (ADCs) are a class of biopharmaceuticals designed for targeted cancer therapy, delivering potent cytotoxic (cell-killing) drugs directly to tumor cells while minimizing harm to healthy tissues. This targeted approach helps reduce side effects compared to traditional chemotherapy approach.\n",
    "\n",
    "ADCs are typically composed of a monoclonal antibody (mAbs) covalently attached to a cytotoxic drug via a chemical linker. It combines both the advantages of highly specific targeting ability and highly potent killing effect to achieve accurate and efficient elimination of cancer cells, which has become one of the hotspots for the research and development of anticancer drugs."
   ]
  },
  {
   "cell_type": "markdown",
   "id": "a2976c24",
   "metadata": {},
   "source": [
    "## Background Literature <a name=\"background-literature\"></a>\n",
    "\n",
    "Traditionally, the foundation of cancer treatment has been cytotoxic chemotherapy, surgery, and radiation therapy. However, in recent years, with the advent of immunotherapy and the ability to target specific molecular agents, the treatment of cancer has been revolutionized and is no longer limited only to the conventional chemotherapeutic agents. Traditional cancer chemotherapy, while effective in targeting rapidly dividing cells, often causes significant systemic toxicity due to its lack of selectivity, affecting both cancerous and healthy tissues. Antibody Drug Conjugates(ADCs) offer a promising alternative by specifically targeting tumor-associated antigens, enabling selective delivery of therapeutic agents to cancer cells. \n",
    "\n",
    "Currently, there are eleven FDA-approved ADCs available in the market. Furthermore, over 100 ADCs are in the diverse stages of development in clinical trials at the present time. Notably, a few novel ADCs have established substantial anti-tumor activity in many tumor types that share the expression of the targeted antigen, thus establishing a histology-agnostic activity of these compounds. For example, HER2 overexpressing breast, gastric and colorectal cancers, and Her-2 mutated lung cancers have demonstrated a significant response to the anti-Her2-targeting ADC, trastuzumab deruxtecan."
   ]
  },
  {
   "cell_type": "markdown",
   "id": "43a3a67a",
   "metadata": {},
   "source": [
    "### Key Components of ADC\n",
    "\n",
    "An antibody-drug conjugate (ADC) is composed of three primary components:\n",
    "\n",
    "- **Monoclonal Antibody(mAb)**: Antibody used in ADCs should be specific for a tumor-associated antigen that has restricted expression on normal cells and overexpressed on cancer cells. This allows the ADC to selectively target cancer cells while sparing normal cells.\n",
    "\n",
    "- **Cytotoxic drug payload**: Payload is designed to kill target cells when internalized and released. These payloads are often drugs that are highly toxic and require antibodies to specifically target cancer cells so they do not affect healthy cells. \n",
    "\n",
    "- **Linker molecule**: A chemical bridge linking the mAb and payload, stable in circulation but designed to release the drug in tumor cells. Linkers (cleavable, e.g., Adcetris, or non-cleavable, e.g., Kadcyla) influence ADC stability, solubility, and toxicity."
   ]
  },
  {
   "cell_type": "markdown",
   "id": "e5975275",
   "metadata": {},
   "source": [
    "<img src=\"assets/adc_components.png\" alt=\"image.png\" height=\"400\" width=\"900\">\n",
    "\n",
    "---\n",
    "\n",
    "**Fig.1** : Schematic description of an ADC. The core components including target antigen, antibody, linker, cytotoxic drug along with their key functions are demonstrated."
   ]
  },
  {
   "cell_type": "markdown",
   "id": "9769aff3",
   "metadata": {},
   "source": [
    "### Why Are ADCs Essential ?\n",
    "\n",
    "ADCs revolutionize cancer treatment in many ways. Some of them are: \n",
    "\n",
    "- **Targeted Therapy**: Unlike traditional chemotherapy, which indiscriminately targets rapidly dividing cells and causes significant toxicity, ADCs selectively deliver cytotoxic (cell-killing) payloads to cancer cells, sparing healthy tissues and improving patient outcomes .\n",
    "\n",
    "- **Enhanced Therapeutic Index**: By focusing drug action on tumor cells, ADCs achieve higher efficacy at lower doses, reducing systemic side effects compared to conventional chemotherapies. Approved ADCs like Brentuximab Vedotin and Trastuzumab Emtansine have demonstrated significant clinical success in treating lymphomas and breast cancer, respectively.\n",
    "\n",
    "- **Versatility Across Cancers**: ADCs can target a wide range of tumor-associated antigens, making them applicable to various cancers, including those resistant to standard treatments. \n",
    "\n",
    "- **Overcoming Resistance**: ADCs can address drug resistance by delivering novel payloads with distinct mechanisms of action, such as DNA-damaging agents or tubulin inhibitors, bypassing resistance pathways in cancer cells"
   ]
  },
  {
   "cell_type": "markdown",
   "id": "8e4da6d0",
   "metadata": {},
   "source": [
    "## Fundamental Concepts of ADC <a name=\"fundamental-concepts\"></a>\n",
    "\n",
    "Here we cover some properties of the key components of ADC, and mechanism of action along with the setbacks involved in the development."
   ]
  },
  {
   "cell_type": "markdown",
   "id": "27da513c",
   "metadata": {},
   "source": [
    "### 2.1 Choice of Monoclonal antibodies:\n",
    "Monoclonal antibodies (mAbs) are the guiding component of Antibody-Drug Conjugates (ADCs), acting like a GPS to deliver the drug directly to cancer cells. They are designed to recognize specific markers, called antigens, found mostly on cancer cells, such as HER2 in breast cancer or CD30 in lymphomas, while avoiding healthy cells. This selective targeting helps ADCs attack tumors without harming the rest of the body.\n",
    "\n",
    " An ideal mAb has three key features: \n",
    "  - High specificity : It binds strongly to the cancer cell’s antigen.\n",
    "  - Efficient internalization : Gets absorbed quickly into the tumor cell to deliver the drug.\n",
    "  - Low immunogenicity : Causes minimal immune reactions to keep the treatment safe. \n",
    "\n",
    "For example : trastuzumab in Kadcyla targets HER2 on breast cancer cells, and brentuximab in Adcetris targets CD30 on lymphoma cells."
   ]
  },
  {
   "cell_type": "markdown",
   "id": "15f4dc1a",
   "metadata": {},
   "source": [
    "### 2.2 Importance of Cytotoxic Payloads: \n",
    "The ADCs’ payloads play a key role in determining the efficacy of ADC drugs and thus have attracted great attention in the field. An ideal payload must be highly potent to destroy cancer cells, stable in the bloodstream to avoid premature release, and chemically adaptable to connect with the antibody via a linker . It should also have low immunogenicity to prevent unwanted immune reactions and proper solubility to ensure the ADC dissolves well in the body . \n",
    "\n",
    "Some payloads have a \"bystander effect,\" meaning they can kill nearby cancer cells, even those without the target marker, which is useful for tumors with uneven marker expression . However, payloads must be carefully designed to avoid toxicity to healthy tissues.\n",
    "\n",
    "#### 2.2.1 Classes of Payloads: \n",
    "ADC payloads are grouped into three main types based on how they attack cancer cells. Each type works differently to stop cancer cells from growing or surviving.\n",
    "| Class                     | Mechanism of Action                                              | Examples                                   |\n",
    "|---------------------------|-----------------------------------------------------------------|--------------------------------------------|\n",
    "| Tubulin Inhibitors        | Disrupt microtubule dynamics, causing mitotic arrest and cell death | Auristatins (MMAE, MMAF), Maytansinoids (DM1, DM4), Tubulysins |\n",
    "| DNA Damaging Agents       | Induce DNA strand breaks or alkylate DNA, leading to apoptosis  | Calicheamicin, Duocarmycins, Pyrrolobenzodiazepines (PBDs)     |\n",
    "| Topoisomerase I Inhibitors| Inhibit topoisomerase I, preventing DNA replication and transcription | Deruxtecan (DXd), SN-38                    |\n",
    "\n",
    "Common ADC payloads include tubulin inhibitors and DNA damaging agents, with tubulin inhibitors accounting for more than half of the ADC drugs in clinical development.\n",
    "\n",
    "\n",
    "#### 2.2.2 Mechanism of Cytotoxicity:\n",
    "\n",
    "The mechanism of action of the payload is an important factor determining the performance of the ADC (For e.g., Adverse Reactions). Once an ADC is administered, it circulates in the bloodstream until it binds to its specific antigen on the surface of a tumor cell. This binding triggers the internalization of the ADC–antigen complex, which is then transported to the lysosome inside the cell. Within the lysosome, the complex is degraded, and the cytotoxic payload is released. <br>\n",
    "\n",
    "The released payload then acts on its intracellular target-such as microtubules, DNA, or RNA-disrupting essential cellular functions and inducing cell death. Some payloads are designed to have a bystander effect, meaning they can diffuse out of the targeted cell and kill neighboring cancer cells that may not express the target antigen. This is especially useful in tumors where antigen expression is uneven. However, achieving this effect requires a careful balance, as highly membrane-permeable payloads can also increase toxicity to healthy tissues."
   ]
  },
  {
   "cell_type": "markdown",
   "id": "86fc065a",
   "metadata": {},
   "source": [
    "### 2.3 Design and Role of Linkers: \n",
    "\n",
    "Linker in ADC bridges the antibody with the cytotoxic drug. An ideal linker should not induce ADC aggregation, and it is expected to limit premature release of payloads in plasma and to promote active drugs release at desired targeted sites. Depending on the metabolic fate in cells, two types of linkers including cleavable and non-cleavable linkers have been employed in most of ADC drugs. <br>\n",
    "\n",
    "Types of Linkers : \n",
    "\n",
    "#### Cleavable Linkers:\n",
    "\n",
    "The first type is the cleavable linkers, which has a chemical trigger in its structure that can be efficiently cleaved to release the cytotoxic payload in the tumor. They are engineered to remain stable in the bloodstream but to release the payload efficiently once inside the tumor environment. This release is triggered by specific conditions unique to tumors, such as acidic pH, elevated levels of certain enzymes, or a reductive environment. These linkers often contain chemical triggers that respond to these cues, ensuring that the cytotoxic drug is delivered primarily to cancer cells. \n",
    "\n",
    "More than 80% of the clinically approved ADCs employ cleavable linkers such as,  inotuzumab ozogamicin (Besponsa) and brentuximab vedotin (Adcetris).\n",
    "\n",
    "#### Non-Cleavable Linkers:\n",
    "\n",
    " The other type of linker is noncleavable. In contrast to the cleavable linker, there are no chemical triggers in this structure, and the linker is part of the payload. This type of linker has been employed only in ado-trastuzumab emtansine (Kadcyla, T-DM1) among the approved ADCs."
   ]
  },
  {
   "cell_type": "markdown",
   "id": "cba5bf4d",
   "metadata": {},
   "source": [
    "#### Challenges involved in Linker Design:\n",
    "\n",
    "Although ADCs have made remarkable strides in targeted cancer therapy, the continued advancement of this technology is increasingly limited by the challenges associated with linker design.\n",
    "\n",
    "Before we move further, it is essential to know some of the challenges involved in Linker Design mentioned here -  \n",
    "\n",
    "- Premature release : Many classical linkers are prone to nonspecific payload release in non-tumorous tissues, which can cause off-target toxicity and restrict the therapeutic window. A prominent example is gemtuzumab ozogamicin (Mylotarg), which was withdrawn from the market in 2010 after reports of severe liver toxicity linked to its unstable N-acylhydrazone linker. Although Mylotarg was later re-approved in 2017 following a redesign, the FDA required a black-box warning due to the continued risk of liver toxicity. <br>\n",
    "\n",
    "- Secondly, the commonly used maleimide-based linkers, such as succinimidyl 4-(N-maleimidomethyl) cyclohexane-1-carboxylate (SMCC), are susceptible to retro-Michael elimination reactions. This instability can lead to a significant reduction in ADC efficacy over time. For example, studies have shown that the SMCC linker degrades to just 38% of its original form after 120 hours in mouse plasma, and Kadcyla, which contains an SMCC linker, exhibited a 29% decrease in drug-to-antibody ratio (DAR) after seven days in mice. <br>\n",
    "\n",
    "- Thirdly, the limited options for linker–payload attachment have become a bottleneck, especially as the field rapidly expands to include novel payloads for cancer treatment, antimicrobial therapy, and immune modulation. Many innovative payloads are awaiting suitable linker technologies to unlock their therapeutic potential.\n",
    "\n",
    "In response to these challenges, the past five years have seen significant progress in linker design. Key developments include the optimization of existing chemical triggers and the creation of novel triggers for highly selective linkers, the invention of new linker–antibody attachment strategies to produce more stable and homogeneous ADCs, the expansion of linker–payload attachment options to accommodate a wider range of payloads, and the refinement of linker properties to improve the absorption, distribution, metabolism, and excretion (ADME) profiles of ADCs."
   ]
  },
  {
   "cell_type": "markdown",
   "id": "83d0aaf3",
   "metadata": {},
   "source": [
    "### 2.4 Understanding and Measuring the Drug-Antibody Ratio (DAR) in ADCs:\n",
    "\n",
    "The Drug-Antibody Ratio (DAR) measures how many drug molecules are attached to each antibody in an ADC; theoretically, it should characterize the ability of an ADC to deliver drug to a tumor and thus positively correlate to effectiveness. However, the presence of large numbers of drugs (and thus large numbers of linkers) on an ADC perturbs the properties of the antibody. Lipophilic drugs and linkers increase the aggregation of ADC, preventing them from reaching their site of action; they may also hinder access to binding sites necessary for antigen recognition or binding,reducing the activity of the ADC. Reducing the lipophilicity of linker moieties has been used to reduce the negative consequences of antibody functionalization, but not the alteration in ADC properties. In addition, significant toxicity has been noted for ADC with high DAR (DAR ≥ 8) and high DAR may increase the clearance of ADC (reducing their residence time and effectiveness). DAR is an important analytical property of ADC; the ability to produce ADC with consistent DAR is likely to lead to ADC with consistent properties and biological activity and thus is likely a critical attribute for ADC synthesis and production.\n",
    "\n",
    "#### 2.4.1 Why DAR Matters:\n",
    "\n",
    "DAR is more than just a number. A higher DAR means more drug molecules, potentially increasing tumor-killing potential, but it comes with trade-offs such as:\n",
    "\n",
    "- **Aggregation Risk**: Lipophilic drugs and linkers, common in high-DAR ADCs, increase hydrophobicity, leading to aggregation that prevents ADCs from reaching their target.\n",
    "\n",
    "- **Binding Interference**: Excessive drug loading (e.g., DAR ≥ 8) can sterically block antigen-binding sites, reducing specificity and activity.\n",
    "\n",
    "- **Toxicity and Clearance**: High DAR is linked to significant toxicity and faster plasma clearance, shortening residence time and limiting efficacy.\n",
    "\n",
    "- **Consistent DAR**: Producing ADCs with uniform DAR ensures predictable biological activity, making it a critical attribute for manufacturing and therapeutic success.\n",
    "\n",
    "##### 2.4.2 Measuring DAR:\n",
    "\n",
    "DAR is usually determined using laboratory techniques like mass spectrometry or UV spectrophotometry. These methods compare the amount of drug and antibody in a sample to calculate the average DAR.\n",
    "\n",
    "The most common formula for calculating average DAR using chromatographic peak areas is:"
   ]
  },
  {
   "cell_type": "markdown",
   "id": "48f2038b",
   "metadata": {},
   "source": [
    "$$\n",
    "\\text{DAR} = \\frac{\\sum_{i=0}^{n} (i \\times P_i)}{\\sum_{i=0}^{n} P_i}\n",
    "$$\n",
    "\n",
    "where:\n",
    "\n",
    "- $i$ is the number of drugs attached\n",
    "- $P_i$ is the percentage or area of the peak corresponding to species with $i$ drugs attached"
   ]
  },
  {
   "cell_type": "markdown",
   "id": "7644ed10",
   "metadata": {},
   "source": [
    "Secondly, through UV-based analysis, the absorbance at two wavelengths is used to set up simultaneous equations:\n"
   ]
  },
  {
   "cell_type": "markdown",
   "id": "bc380b26",
   "metadata": {},
   "source": [
    "$$\n",
    "A_{280} = \\varepsilon_{A,280} C_A + \\varepsilon_{D,280} C_D\n",
    "$$\n",
    "\n",
    "$$\n",
    "A_{\\lambda(D)} = \\varepsilon_{A,\\lambda(D)} C_A + \\varepsilon_{D,\\lambda(D)} C_D\n",
    "$$\n",
    "\n",
    "where:\n",
    "\n",
    "- $A_{280}$ and $A_{\\lambda(D)}$ are absorbances at 280 nm and at the drug’s maximum absorption wavelength, respectively  \n",
    "- $\\varepsilon$ are extinction coefficients  \n",
    "- $C_A$ and $C_D$ are concentrations of antibody and drug\n",
    "\n",
    "Solve for $C_A$ and $C_D$, then:\n",
    "\n",
    "$$\n",
    "\\text{DAR} = \\frac{C_D}{C_A}\n",
    "$$"
   ]
  },
  {
   "cell_type": "markdown",
   "id": "964f9653",
   "metadata": {},
   "source": [
    "### 2.5 Mechanism of action of ADCs : \n",
    "\n",
    "This section outlines the core mechanism by which antibody-drug conjugates (ADCs) function -\n",
    "\n",
    "<img src=\"assets/mechanism_of_adc_action.png\" width= \"800\" height=\"400\"></img>\n",
    "\n",
    "**Fig.1** : Schematic description of mechanism of action of an ADC. The core components including target antigen, antibody, linker, cytotoxic drug along with their key functions are demonstrated.\n",
    "\n",
    "(1) Targeted Binding : The antibody part of the ADC sticks to a specific antigen on the cancer cell’s surface, like a key fitting into a lock. This antigen is usually more common on cancer cells, making the ADC highly selective.\n",
    "\n",
    "(2) Cell Uptake: The cancer cell swallows the ADC in a process called endocytosis, pulling it into an endosome that fuses with a lysosome.\n",
    "\n",
    "(3) Antibody Degradation: Inside the lysosome, enzymes chop up the ADC, breaking the link between the antibody and the toxic payload.\n",
    "\n",
    "(4) Payload Release: The freed toxic drug escapes the lysosome and enters the cancer cell’s cytoplasm or nucleus, ready to cause damage.\n",
    "\n",
    "(5) DNA or Microtubule Disruption: The payload attacks either the cell’s DNA (its genetic blueprint) or microtubules (its structural supports), stopping the cell from dividing.\n",
    "\n",
    "(6) Cell Death: The damage overwhelms the cancer cell, leading to its destruction through processes like programmed cell death."
   ]
  },
  {
   "cell_type": "markdown",
   "id": "b1fdaab0",
   "metadata": {},
   "source": [
    "## 3.1 ADC Design and Optimisation"
   ]
  },
  {
   "cell_type": "markdown",
   "id": "3493458d",
   "metadata": {},
   "source": [
    "Designing effective ADCs involves several critical considerations to ensure optimal therapeutic efficacy and safety.\n",
    "\n",
    "### Target Antigen Selection : \n",
    "\n",
    "Ideal antigens for ADCs show high tumor cell expression, minimal presence on healthy tissues, and low shedding rates to avoid off-target effects and ensure effective payload delivery. Uniform antigen distribution on tumors enhances binding and internalization.\n",
    "\n",
    "### Antibody Engineering : \n",
    "\n",
    "Monoclonal antibodies (mAbs) target the antigen, with engineering focused on specificity and low immunogenicity. Humanized or fully human antibodies are preferred. Affinity must be balanced—too high hinders tumor penetration, too low reduces binding.\n",
    "\n",
    "### Payload Selection :\n",
    " \n",
    "Cytotoxic payloads kill tumor cells, requiring high potency (effective at picomolar levels) due to limited ADC delivery. Common types include microtubule inhibitors (e.g., auristatins, maytansinoids), DNA-damaging agents (e.g., calicheamicin, duocarmycins), and topoisomerase inhibitors (e.g., SN-38). Stability, solubility, and bystander effects guide selection.\n",
    "\n",
    "### Linker Design\n",
    "\n",
    "Linkers connect antibodies to payloads, ensuring stability and controlled release:\n",
    "Advancements in linker technology, such as the development of hydrophilic linkers (e.g., PEGylated linkers), have improved ADC solubility and reduced aggregation, enhancing pharmacokinetics and reducing off-target toxicity .\n",
    "\n",
    "### Conjugation Methods : \n",
    "\n",
    "The method of attaching the payload to the antibody influences the Drug-Antibody Ratio (DAR) and the homogeneity of the ADC. Traditional conjugation techniques often result in heterogeneous mixtures with variable DARs, affecting efficacy and safety. Site-specific conjugation methods, such as engineered cysteine residues or enzymatic conjugation, enable the production of homogeneous ADCs with defined DARs, improving therapeutic outcomes ."
   ]
  },
  {
   "cell_type": "markdown",
   "id": "11ebd6a4",
   "metadata": {},
   "source": [
    "## 4.1 Computational Approaches for ADC Analysis <a name= \"computational-approaches\"></a>"
   ]
  },
  {
   "cell_type": "markdown",
   "id": "097c8880",
   "metadata": {},
   "source": [
    "#### Traditional approach in payload prediction:\n",
    "Traditionally, the selection and optimization of ADC payloads have depended on empirical, trial-and-error methods such as high-throughput screening and structure-activity relationship (SAR) studies. While these approaches have led to the development of several approved ADCs, they are time-consuming, resource-intensive, and often inefficient in exploring the vast chemical space. Additionally, the complex interplay between payload structure, linker chemistry, and antibody properties introduces further difficulty in using conventional predictive strategies.\n",
    "To address these challenges, there is growing momentum toward leveraging advanced computational techniques, particularly machine learning to predict ADC payload activity."
   ]
  },
  {
   "cell_type": "markdown",
   "id": "2da2c43d",
   "metadata": {},
   "source": [
    "### How can we use Machine learning ?\n",
    "\n",
    "The limitations of traditional methods for predicting ADC (Antibody-Drug Conjugate) activity have sparked increasing interest in machine learning (ML) approaches for molecular property prediction.In this section, we focus specifically on ADC payload activity prediction. But before diving into the details, it's important to understand why this aspect is so significant.\n",
    "\n",
    "The therapeutic effectiveness of ADCs fundamentally relies on three key components: the antibody, the linker, and the payload. While each plays a vital role in the overall function, the payload (typically a highly potent small-molecule cytotoxin) is especially critical in determining the efficacy of the ADC. For an ADC to be successful, the payload must demonstrate not only strong cytotoxic activity but also favorable physicochemical properties that allow for stable conjugation, efficient release, and an effective mechanism of action against target cancer cells. Because of this, the rational design, careful selection, and precise optimization of payloads have become major challenges in ADC development."
   ]
  },
  {
   "cell_type": "markdown",
   "id": "458bd56d",
   "metadata": {},
   "source": [
    "Before we proceed, let's install deepchem into our environment and setup other required dependencies."
   ]
  },
  {
   "cell_type": "code",
   "execution_count": 39,
   "id": "2fe75e50",
   "metadata": {},
   "outputs": [
    {
     "name": "stdout",
     "output_type": "stream",
     "text": [
      "Requirement already satisfied: deepchem in /home/sonali/Downloads/deepchemlatest/deepchem (2.8.1.dev20250316001040)\n",
      "Requirement already satisfied: py3Dmol in /home/sonali/anaconda3/envs/deepchem/lib/python3.8/site-packages (2.4.2)\n",
      "Requirement already satisfied: rdkit in /home/sonali/anaconda3/envs/deepchem/lib/python3.8/site-packages (2024.3.5)\n",
      "Requirement already satisfied: joblib in /home/sonali/anaconda3/envs/deepchem/lib/python3.8/site-packages (from deepchem) (1.4.2)\n",
      "Requirement already satisfied: numpy<2 in /home/sonali/anaconda3/envs/deepchem/lib/python3.8/site-packages (from deepchem) (1.24.3)\n",
      "Requirement already satisfied: pandas in /home/sonali/anaconda3/envs/deepchem/lib/python3.8/site-packages (from deepchem) (2.0.3)\n",
      "Requirement already satisfied: scikit-learn in /home/sonali/anaconda3/envs/deepchem/lib/python3.8/site-packages (from deepchem) (1.3.2)\n",
      "Requirement already satisfied: sympy in /home/sonali/anaconda3/envs/deepchem/lib/python3.8/site-packages (from deepchem) (1.13.3)\n",
      "Requirement already satisfied: scipy>=1.10.1 in /home/sonali/anaconda3/envs/deepchem/lib/python3.8/site-packages (from deepchem) (1.10.1)\n",
      "Requirement already satisfied: Pillow in /home/sonali/anaconda3/envs/deepchem/lib/python3.8/site-packages (from rdkit) (10.4.0)\n",
      "Requirement already satisfied: python-dateutil>=2.8.2 in /home/sonali/anaconda3/envs/deepchem/lib/python3.8/site-packages (from pandas->deepchem) (2.9.0)\n",
      "Requirement already satisfied: pytz>=2020.1 in /home/sonali/anaconda3/envs/deepchem/lib/python3.8/site-packages (from pandas->deepchem) (2025.1)\n",
      "Requirement already satisfied: tzdata>=2022.1 in /home/sonali/anaconda3/envs/deepchem/lib/python3.8/site-packages (from pandas->deepchem) (2025.1)\n",
      "Requirement already satisfied: threadpoolctl>=2.0.0 in /home/sonali/anaconda3/envs/deepchem/lib/python3.8/site-packages (from scikit-learn->deepchem) (3.5.0)\n",
      "Requirement already satisfied: mpmath<1.4,>=1.1.0 in /home/sonali/anaconda3/envs/deepchem/lib/python3.8/site-packages (from sympy->deepchem) (1.3.0)\n",
      "Requirement already satisfied: six>=1.5 in /home/sonali/anaconda3/envs/deepchem/lib/python3.8/site-packages (from python-dateutil>=2.8.2->pandas->deepchem) (1.16.0)\n"
     ]
    }
   ],
   "source": [
    "!pip install deepchem py3Dmol rdkit\n",
    "\n",
    "\n",
    "import deepchem as dc\n",
    "import pandas as pd\n",
    "from rdkit import Chem\n",
    "from rdkit.Chem import Draw, AllChem\n",
    "import py3Dmol\n",
    "import matplotlib.pyplot as plt\n",
    "import numpy as np\n",
    "import seaborn as sns"
   ]
  },
  {
   "cell_type": "markdown",
   "id": "0070dd53",
   "metadata": {},
   "source": [
    "Let’s first take a look at a few of the approved ADCs and their key properties.\n",
    "\n",
    "Below is a dataset containing the approved ADCs and their core properties. For a deeper dive into structural, mechanistic, and pharmacological details, explore the full listings on [ADCdb](https://adcdb.idrblab.net/)."
   ]
  },
  {
   "cell_type": "code",
   "execution_count": 3,
   "id": "09952f46",
   "metadata": {},
   "outputs": [],
   "source": [
    "# Path to dataset present in assets\n",
    "file_path = \"assets/approved_adc.csv\"\n",
    "\n",
    "# Load the dataset into a pandas DataFrame\n",
    "df = pd.read_csv(file_path, sep=\";\")"
   ]
  },
  {
   "cell_type": "code",
   "execution_count": 4,
   "id": "b355edc9",
   "metadata": {},
   "outputs": [
    {
     "data": {
      "text/html": [
       "<div>\n",
       "<style scoped>\n",
       "    .dataframe tbody tr th:only-of-type {\n",
       "        vertical-align: middle;\n",
       "    }\n",
       "\n",
       "    .dataframe tbody tr th {\n",
       "        vertical-align: top;\n",
       "    }\n",
       "\n",
       "    .dataframe thead th {\n",
       "        text-align: right;\n",
       "    }\n",
       "</style>\n",
       "<table border=\"1\" class=\"dataframe\">\n",
       "  <thead>\n",
       "    <tr style=\"text-align: right;\">\n",
       "      <th></th>\n",
       "      <th>Parent Molecule</th>\n",
       "      <th>Name</th>\n",
       "      <th>Synonyms</th>\n",
       "      <th>Research Codes</th>\n",
       "      <th>Phase</th>\n",
       "      <th>Drug Applicants</th>\n",
       "      <th>USAN Stem</th>\n",
       "      <th>USAN Year</th>\n",
       "      <th>USAN Definition</th>\n",
       "      <th>USAN Stem - Substem</th>\n",
       "      <th>...</th>\n",
       "      <th>Prodrug</th>\n",
       "      <th>Oral</th>\n",
       "      <th>Parenteral</th>\n",
       "      <th>Topical</th>\n",
       "      <th>Black Box</th>\n",
       "      <th>Availability Type</th>\n",
       "      <th>Smiles</th>\n",
       "      <th>Inchi</th>\n",
       "      <th>Withdrawn Flag</th>\n",
       "      <th>Orphan</th>\n",
       "    </tr>\n",
       "  </thead>\n",
       "  <tbody>\n",
       "    <tr>\n",
       "      <th>0</th>\n",
       "      <td>CHEMBL1743043</td>\n",
       "      <td>MOXETUMOMAB PASUDOTOX</td>\n",
       "      <td>CAT-8015|HA-22|HA22|Lumoxiti|MOXETUMOMAB PASUD...</td>\n",
       "      <td>CAT-8015|HA-22|HA22</td>\n",
       "      <td>4.0</td>\n",
       "      <td>NaN</td>\n",
       "      <td>'-mab'</td>\n",
       "      <td>2010.0</td>\n",
       "      <td>monoclonal antibodies</td>\n",
       "      <td>'-mab(-mab)'</td>\n",
       "      <td>...</td>\n",
       "      <td>0</td>\n",
       "      <td>0</td>\n",
       "      <td>1</td>\n",
       "      <td>0</td>\n",
       "      <td>1</td>\n",
       "      <td>Unknown</td>\n",
       "      <td>NaN</td>\n",
       "      <td>NaN</td>\n",
       "      <td>False</td>\n",
       "      <td>0</td>\n",
       "    </tr>\n",
       "    <tr>\n",
       "      <th>1</th>\n",
       "      <td>CHEMBL2109287</td>\n",
       "      <td>TECHNETIUM TC 99M NOFETUMOMAB MERPENTAN</td>\n",
       "      <td>NOFETUMOMAB|NOFETUMOMAB MERPENTAN 99TC|Nofetum...</td>\n",
       "      <td>NaN</td>\n",
       "      <td>4.0</td>\n",
       "      <td>NaN</td>\n",
       "      <td>'-entan; -mab'</td>\n",
       "      <td>NaN</td>\n",
       "      <td>endothelin receptor antagonists; monoclonal an...</td>\n",
       "      <td>'-entan(-entan); -mab(-mab)'</td>\n",
       "      <td>...</td>\n",
       "      <td>0</td>\n",
       "      <td>0</td>\n",
       "      <td>1</td>\n",
       "      <td>0</td>\n",
       "      <td>0</td>\n",
       "      <td>Prescription Only</td>\n",
       "      <td>NaN</td>\n",
       "      <td>NaN</td>\n",
       "      <td>False</td>\n",
       "      <td>0</td>\n",
       "    </tr>\n",
       "    <tr>\n",
       "      <th>2</th>\n",
       "      <td>CHEMBL1201506</td>\n",
       "      <td>GEMTUZUMAB OZOGAMICIN</td>\n",
       "      <td>CDP-771|CMA-676|CMC-676|GEMTUZUMAB OZOGAMICIN|...</td>\n",
       "      <td>CDP-771|CMA-676|CMC-676|L01XC05|WAY-CMA-676</td>\n",
       "      <td>4.0</td>\n",
       "      <td>Wyeth Pharmaceuticals Inc</td>\n",
       "      <td>'-mab; -micin'</td>\n",
       "      <td>2000.0</td>\n",
       "      <td>monoclonal antibodies; antibiotics (Micromonos...</td>\n",
       "      <td>'-mab(-mab); -micin(-micin)'</td>\n",
       "      <td>...</td>\n",
       "      <td>0</td>\n",
       "      <td>0</td>\n",
       "      <td>1</td>\n",
       "      <td>0</td>\n",
       "      <td>1</td>\n",
       "      <td>Withdrawn</td>\n",
       "      <td>NaN</td>\n",
       "      <td>NaN</td>\n",
       "      <td>False</td>\n",
       "      <td>1</td>\n",
       "    </tr>\n",
       "    <tr>\n",
       "      <th>3</th>\n",
       "      <td>CHEMBL4297778</td>\n",
       "      <td>LONCASTUXIMAB TESIRINE</td>\n",
       "      <td>ADCT-402|ADCT-402 TESIRINE|LONCASTUXIMAB TESIR...</td>\n",
       "      <td>ADCT-402|ADCT-402 TESIRINE</td>\n",
       "      <td>4.0</td>\n",
       "      <td>NaN</td>\n",
       "      <td>'-mab'</td>\n",
       "      <td>2017.0</td>\n",
       "      <td>monoclonal antibodies</td>\n",
       "      <td>'-mab(-mab)'</td>\n",
       "      <td>...</td>\n",
       "      <td>0</td>\n",
       "      <td>0</td>\n",
       "      <td>1</td>\n",
       "      <td>0</td>\n",
       "      <td>0</td>\n",
       "      <td>Prescription Only</td>\n",
       "      <td>NaN</td>\n",
       "      <td>NaN</td>\n",
       "      <td>False</td>\n",
       "      <td>0</td>\n",
       "    </tr>\n",
       "    <tr>\n",
       "      <th>4</th>\n",
       "      <td>CHEMBL1743091</td>\n",
       "      <td>INDIUM IN 111 SATUMOMAB PENDETIDE</td>\n",
       "      <td>B72.3|CYT-099|CYT-103|CYT-103 111 IN|INDIUM (1...</td>\n",
       "      <td>B72.3|CYT-099|CYT-103|CYT-103 111 IN</td>\n",
       "      <td>4.0</td>\n",
       "      <td>NaN</td>\n",
       "      <td>'-mab; -tide'</td>\n",
       "      <td>1993.0</td>\n",
       "      <td>monoclonal antibodies; peptides</td>\n",
       "      <td>'-mab(-mab); -tide(-tide)'</td>\n",
       "      <td>...</td>\n",
       "      <td>0</td>\n",
       "      <td>0</td>\n",
       "      <td>1</td>\n",
       "      <td>0</td>\n",
       "      <td>0</td>\n",
       "      <td>Unknown</td>\n",
       "      <td>NaN</td>\n",
       "      <td>NaN</td>\n",
       "      <td>False</td>\n",
       "      <td>0</td>\n",
       "    </tr>\n",
       "  </tbody>\n",
       "</table>\n",
       "<p>5 rows × 32 columns</p>\n",
       "</div>"
      ],
      "text/plain": [
       "  Parent Molecule                                     Name  \\\n",
       "0   CHEMBL1743043                    MOXETUMOMAB PASUDOTOX   \n",
       "1   CHEMBL2109287  TECHNETIUM TC 99M NOFETUMOMAB MERPENTAN   \n",
       "2   CHEMBL1201506                    GEMTUZUMAB OZOGAMICIN   \n",
       "3   CHEMBL4297778                   LONCASTUXIMAB TESIRINE   \n",
       "4   CHEMBL1743091        INDIUM IN 111 SATUMOMAB PENDETIDE   \n",
       "\n",
       "                                            Synonyms  \\\n",
       "0  CAT-8015|HA-22|HA22|Lumoxiti|MOXETUMOMAB PASUD...   \n",
       "1  NOFETUMOMAB|NOFETUMOMAB MERPENTAN 99TC|Nofetum...   \n",
       "2  CDP-771|CMA-676|CMC-676|GEMTUZUMAB OZOGAMICIN|...   \n",
       "3  ADCT-402|ADCT-402 TESIRINE|LONCASTUXIMAB TESIR...   \n",
       "4  B72.3|CYT-099|CYT-103|CYT-103 111 IN|INDIUM (1...   \n",
       "\n",
       "                                Research Codes  Phase  \\\n",
       "0                          CAT-8015|HA-22|HA22    4.0   \n",
       "1                                          NaN    4.0   \n",
       "2  CDP-771|CMA-676|CMC-676|L01XC05|WAY-CMA-676    4.0   \n",
       "3                   ADCT-402|ADCT-402 TESIRINE    4.0   \n",
       "4         B72.3|CYT-099|CYT-103|CYT-103 111 IN    4.0   \n",
       "\n",
       "             Drug Applicants       USAN Stem  USAN Year  \\\n",
       "0                        NaN          '-mab'     2010.0   \n",
       "1                        NaN  '-entan; -mab'        NaN   \n",
       "2  Wyeth Pharmaceuticals Inc  '-mab; -micin'     2000.0   \n",
       "3                        NaN          '-mab'     2017.0   \n",
       "4                        NaN   '-mab; -tide'     1993.0   \n",
       "\n",
       "                                     USAN Definition  \\\n",
       "0                              monoclonal antibodies   \n",
       "1  endothelin receptor antagonists; monoclonal an...   \n",
       "2  monoclonal antibodies; antibiotics (Micromonos...   \n",
       "3                              monoclonal antibodies   \n",
       "4                    monoclonal antibodies; peptides   \n",
       "\n",
       "            USAN Stem - Substem  ...  Prodrug Oral Parenteral Topical  \\\n",
       "0                  '-mab(-mab)'  ...        0    0          1       0   \n",
       "1  '-entan(-entan); -mab(-mab)'  ...        0    0          1       0   \n",
       "2  '-mab(-mab); -micin(-micin)'  ...        0    0          1       0   \n",
       "3                  '-mab(-mab)'  ...        0    0          1       0   \n",
       "4    '-mab(-mab); -tide(-tide)'  ...        0    0          1       0   \n",
       "\n",
       "  Black Box  Availability Type Smiles  Inchi Withdrawn Flag  Orphan  \n",
       "0         1            Unknown    NaN    NaN          False       0  \n",
       "1         0  Prescription Only    NaN    NaN          False       0  \n",
       "2         1          Withdrawn    NaN    NaN          False       1  \n",
       "3         0  Prescription Only    NaN    NaN          False       0  \n",
       "4         0            Unknown    NaN    NaN          False       0  \n",
       "\n",
       "[5 rows x 32 columns]"
      ]
     },
     "execution_count": 4,
     "metadata": {},
     "output_type": "execute_result"
    }
   ],
   "source": [
    "# Filter only approved ADCs i.e. (Phase == 4.0)\n",
    "approved_adcs = df[df[\"Phase\"] == 4.0]\n",
    "\n",
    "# Some Appoved ADCs\n",
    "approved_adcs.head()"
   ]
  },
  {
   "cell_type": "markdown",
   "id": "bb4ecbda",
   "metadata": {},
   "source": [
    "Before moving further into ADC payload activity prediction, Let's take a look at one of the approved adc , Brentuximab Vedotin (Adcetris) is an antibody-drug conjugate that targets **CD30**, delivering a cytotoxic MMAE payload via a cleavable linker. Approved in 2011, it has demonstrated significant efficacy in Hodgkin’s lymphoma and other CD30-positive cancers.\n",
    "\n",
    "Let's visualize the 2D structure of MMAE to gain a better understanding of its molecular connectivity, functional groups, and stereochemistry, which govern its reactivity and binding affinity."
   ]
  },
  {
   "cell_type": "code",
   "execution_count": 5,
   "id": "050184ce",
   "metadata": {},
   "outputs": [
    {
     "data": {
      "image/jpeg": "[encoded data removed]",
      "image/png": "[encoded data removed]",
      "text/plain": [
       "<PIL.PngImagePlugin.PngImageFile image mode=RGB size=300x300>"
      ]
     },
     "execution_count": 5,
     "metadata": {},
     "output_type": "execute_result"
    }
   ],
   "source": [
    "# MMAE SMILES\n",
    "smiles = \"COC(=O)[C@@H]1CCCCN1C(=O)[C@H](Cc2ccc(OC)c(OC)c2)NC(=O)[C@H](Cc3ccccc3)NC(=O)C(C)(C)C\"\n",
    "\n",
    "# Convert to molecule\n",
    "mol = Chem.MolFromSmiles(smiles)\n",
    "\n",
    "Draw.MolToImage (mol)"
   ]
  },
  {
   "cell_type": "markdown",
   "id": "24d0d388",
   "metadata": {},
   "source": [
    "Let's visualize the 3D structure of MMAE to get a better idea of its spatial arrangement, which influences its interactions with biological targets and the linker."
   ]
  },
  {
   "cell_type": "code",
   "execution_count": 7,
   "id": "6b13d7fc",
   "metadata": {},
   "outputs": [
    {
     "data": {
      "application/3dmoljs_load.v0": "<div id=\"3dmolviewer_17506029216117713\"  style=\"position: relative; width: 400px; height: 400px;\">\n        <p id=\"3dmolwarning_17506029216117713\" style=\"background-color:#ffcccc;color:black\">3Dmol.js failed to load for some reason.  Please check your browser console for error messages.<br></p>\n        </div>\n<script>\n\nvar loadScriptAsync = function(uri){\n  return new Promise((resolve, reject) => {\n    //this is to ignore the existence of requirejs amd\n    var savedexports, savedmodule;\n    if (typeof exports !== 'undefined') savedexports = exports;\n    else exports = {}\n    if (typeof module !== 'undefined') savedmodule = module;\n    else module = {}\n\n    var tag = document.createElement('script');\n    tag.src = uri;\n    tag.async = true;\n    tag.onload = () => {\n        exports = savedexports;\n        module = savedmodule;\n        resolve();\n    };\n  var firstScriptTag = document.getElementsByTagName('script')[0];\n  firstScriptTag.parentNode.insertBefore(tag, firstScriptTag);\n});\n};\n\nif(typeof $3Dmolpromise === 'undefined') {\n$3Dmolpromise = null;\n  $3Dmolpromise = loadScriptAsync('https://cdnjs.cloudflare.com/ajax/libs/3Dmol/2.4.2/3Dmol-min.js');\n}\n\nvar viewer_17506029216117713 = null;\nvar warn = document.getElementById(\"3dmolwarning_17506029216117713\");\nif(warn) {\n    warn.parentNode.removeChild(warn);\n}\n$3Dmolpromise.then(function() {\nviewer_17506029216117713 = $3Dmol.createViewer(document.getElementById(\"3dmolviewer_17506029216117713\"),{backgroundColor:\"white\"});\nviewer_17506029216117713.zoomTo();\n\tviewer_17506029216117713.addModel(\"\\n     RDKit          3D\\n\\n 85 87  0  0  0  0  0  0  0  0999 V2000\\n   -5.2724   -3.9985   -1.5837 C   0  0  0  0  0  0  0  0  0  0  0  0\\n   -4.3690   -3.5286   -0.5824 O   0  0  0  0  0  0  0  0  0  0  0  0\\n   -4.1496   -4.4145    0.4325 C   0  0  0  0  0  0  0  0  0  0  0  0\\n   -4.6945   -5.5095    0.5186 O   0  0  0  0  0  0  0  0  0  0  0  0\\n   -3.1231   -3.8858    1.4581 C   0  0  2  0  0  0  0  0  0  0  0  0\\n   -3.6455   -4.0661    2.8898 C   0  0  0  0  0  0  0  0  0  0  0  0\\n   -4.6629   -2.9966    3.2721 C   0  0  0  0  0  0  0  0  0  0  0  0\\n   -4.0595   -1.6135    3.0779 C   0  0  0  0  0  0  0  0  0  0  0  0\\n   -3.5747   -1.4226    1.6459 C   0  0  0  0  0  0  0  0  0  0  0  0\\n   -2.6713   -2.4941    1.2137 N   0  0  0  0  0  0  0  0  0  0  0  0\\n   -1.6378   -2.3243    0.2957 C   0  0  0  0  0  0  0  0  0  0  0  0\\n   -1.0264   -3.2952   -0.1718 O   0  0  0  0  0  0  0  0  0  0  0  0\\n   -1.2583   -0.9031   -0.1722 C   0  0  2  0  0  0  0  0  0  0  0  0\\n   -2.2186   -0.4376   -1.2761 C   0  0  0  0  0  0  0  0  0  0  0  0\\n   -2.0361    1.0210   -1.6246 C   0  0  0  0  0  0  0  0  0  0  0  0\\n   -2.6496    2.0202   -0.8588 C   0  0  0  0  0  0  0  0  0  0  0  0\\n   -2.4609    3.3740   -1.1642 C   0  0  0  0  0  0  0  0  0  0  0  0\\n   -1.6455    3.7525   -2.2338 C   0  0  0  0  0  0  0  0  0  0  0  0\\n   -1.3880    5.0456   -2.6080 O   0  0  0  0  0  0  0  0  0  0  0  0\\n   -2.0536    6.0767   -1.8929 C   0  0  0  0  0  0  0  0  0  0  0  0\\n   -1.0128    2.7515   -2.9859 C   0  0  0  0  0  0  0  0  0  0  0  0\\n   -0.2298    3.1219   -4.0525 O   0  0  0  0  0  0  0  0  0  0  0  0\\n    1.1196    2.6811   -3.8890 C   0  0  0  0  0  0  0  0  0  0  0  0\\n   -1.2214    1.3981   -2.6988 C   0  0  0  0  0  0  0  0  0  0  0  0\\n    0.1177   -0.9926   -0.6766 N   0  0  0  0  0  0  0  0  0  0  0  0\\n    1.1269   -0.2028   -0.1789 C   0  0  0  0  0  0  0  0  0  0  0  0\\n    0.9252    0.7098    0.6222 O   0  0  0  0  0  0  0  0  0  0  0  0\\n    2.5392   -0.5555   -0.6868 C   0  0  2  0  0  0  0  0  0  0  0  0\\n    3.0478   -1.8892   -0.1176 C   0  0  0  0  0  0  0  0  0  0  0  0\\n    3.1490   -1.9474    1.3897 C   0  0  0  0  0  0  0  0  0  0  0  0\\n    2.0981   -2.4744    2.1537 C   0  0  0  0  0  0  0  0  0  0  0  0\\n    2.1849   -2.5093    3.5457 C   0  0  0  0  0  0  0  0  0  0  0  0\\n    3.3216   -2.0208    4.1875 C   0  0  0  0  0  0  0  0  0  0  0  0\\n    4.3748   -1.5008    3.4371 C   0  0  0  0  0  0  0  0  0  0  0  0\\n    4.2899   -1.4646    2.0450 C   0  0  0  0  0  0  0  0  0  0  0  0\\n    3.4159    0.5676   -0.3525 N   0  0  0  0  0  0  0  0  0  0  0  0\\n    3.8198    1.4677   -1.3133 C   0  0  0  0  0  0  0  0  0  0  0  0\\n    3.7003    1.2367   -2.5139 O   0  0  0  0  0  0  0  0  0  0  0  0\\n    4.4269    2.7755   -0.7706 C   0  0  0  0  0  0  0  0  0  0  0  0\\n    3.3572    3.5636    0.0025 C   0  0  0  0  0  0  0  0  0  0  0  0\\n    5.6199    2.4666    0.1459 C   0  0  0  0  0  0  0  0  0  0  0  0\\n    4.9166    3.6359   -1.9484 C   0  0  0  0  0  0  0  0  0  0  0  0\\n   -6.2622   -4.1826   -1.1540 H   0  0  0  0  0  0  0  0  0  0  0  0\\n   -5.3650   -3.2214   -2.3468 H   0  0  0  0  0  0  0  0  0  0  0  0\\n   -4.8788   -4.9027   -2.0595 H   0  0  0  0  0  0  0  0  0  0  0  0\\n   -2.2566   -4.5496    1.3442 H   0  0  0  0  0  0  0  0  0  0  0  0\\n   -4.0907   -5.0578    3.0260 H   0  0  0  0  0  0  0  0  0  0  0  0\\n   -2.7976   -4.0070    3.5863 H   0  0  0  0  0  0  0  0  0  0  0  0\\n   -4.9613   -3.1269    4.3185 H   0  0  0  0  0  0  0  0  0  0  0  0\\n   -5.5687   -3.1024    2.6627 H   0  0  0  0  0  0  0  0  0  0  0  0\\n   -4.7975   -0.8442    3.3261 H   0  0  0  0  0  0  0  0  0  0  0  0\\n   -3.2155   -1.4878    3.7671 H   0  0  0  0  0  0  0  0  0  0  0  0\\n   -3.0930   -0.4463    1.5719 H   0  0  0  0  0  0  0  0  0  0  0  0\\n   -4.4294   -1.4112    0.9594 H   0  0  0  0  0  0  0  0  0  0  0  0\\n   -1.2647   -0.2273    0.6869 H   0  0  0  0  0  0  0  0  0  0  0  0\\n   -2.0853   -1.0493   -2.1788 H   0  0  0  0  0  0  0  0  0  0  0  0\\n   -3.2631   -0.5919   -0.9830 H   0  0  0  0  0  0  0  0  0  0  0  0\\n   -3.2801    1.7584   -0.0114 H   0  0  0  0  0  0  0  0  0  0  0  0\\n   -2.9589    4.1082   -0.5389 H   0  0  0  0  0  0  0  0  0  0  0  0\\n   -3.1412    5.9891   -1.9916 H   0  0  0  0  0  0  0  0  0  0  0  0\\n   -1.7575    7.0343   -2.3330 H   0  0  0  0  0  0  0  0  0  0  0  0\\n   -1.7515    6.0880   -0.8401 H   0  0  0  0  0  0  0  0  0  0  0  0\\n    1.7496    3.2756   -4.5571 H   0  0  0  0  0  0  0  0  0  0  0  0\\n    1.4776    2.8344   -2.8637 H   0  0  0  0  0  0  0  0  0  0  0  0\\n    1.2183    1.6288   -4.1783 H   0  0  0  0  0  0  0  0  0  0  0  0\\n   -0.7476    0.6389   -3.3150 H   0  0  0  0  0  0  0  0  0  0  0  0\\n    0.3503   -1.8529   -1.1638 H   0  0  0  0  0  0  0  0  0  0  0  0\\n    2.4742   -0.6490   -1.7770 H   0  0  0  0  0  0  0  0  0  0  0  0\\n    4.0386   -2.1052   -0.5389 H   0  0  0  0  0  0  0  0  0  0  0  0\\n    2.4007   -2.7087   -0.4566 H   0  0  0  0  0  0  0  0  0  0  0  0\\n    1.2046   -2.8663    1.6709 H   0  0  0  0  0  0  0  0  0  0  0  0\\n    1.3658   -2.9204    4.1302 H   0  0  0  0  0  0  0  0  0  0  0  0\\n    3.3885   -2.0494    5.2719 H   0  0  0  0  0  0  0  0  0  0  0  0\\n    5.2628   -1.1243    3.9378 H   0  0  0  0  0  0  0  0  0  0  0  0\\n    5.1211   -1.0572    1.4721 H   0  0  0  0  0  0  0  0  0  0  0  0\\n    3.2690    0.9288    0.5835 H   0  0  0  0  0  0  0  0  0  0  0  0\\n    3.0403    3.0427    0.9120 H   0  0  0  0  0  0  0  0  0  0  0  0\\n    3.7326    4.5479    0.3044 H   0  0  0  0  0  0  0  0  0  0  0  0\\n    2.4625    3.7175   -0.6105 H   0  0  0  0  0  0  0  0  0  0  0  0\\n    6.1151    3.3868    0.4740 H   0  0  0  0  0  0  0  0  0  0  0  0\\n    5.3127    1.9222    1.0455 H   0  0  0  0  0  0  0  0  0  0  0  0\\n    6.3644    1.8495   -0.3711 H   0  0  0  0  0  0  0  0  0  0  0  0\\n    5.3551    4.5773   -1.5998 H   0  0  0  0  0  0  0  0  0  0  0  0\\n    5.6783    3.1093   -2.5342 H   0  0  0  0  0  0  0  0  0  0  0  0\\n    4.0935    3.8855   -2.6287 H   0  0  0  0  0  0  0  0  0  0  0  0\\n  1  2  1  0\\n  2  3  1  0\\n  3  4  2  0\\n  3  5  1  0\\n  5  6  1  0\\n  6  7  1  0\\n  7  8  1  0\\n  8  9  1  0\\n  9 10  1  0\\n 10 11  1  0\\n 11 12  2  0\\n 11 13  1  0\\n 13 14  1  0\\n 14 15  1  0\\n 15 16  2  0\\n 16 17  1  0\\n 17 18  2  0\\n 18 19  1  0\\n 19 20  1  0\\n 18 21  1  0\\n 21 22  1  0\\n 22 23  1  0\\n 21 24  2  0\\n 13 25  1  0\\n 25 26  1  0\\n 26 27  2  0\\n 26 28  1  0\\n 28 29  1  0\\n 29 30  1  0\\n 30 31  2  0\\n 31 32  1  0\\n 32 33  2  0\\n 33 34  1  0\\n 34 35  2  0\\n 28 36  1  0\\n 36 37  1  0\\n 37 38  2  0\\n 37 39  1  0\\n 39 40  1  0\\n 39 41  1  0\\n 39 42  1  0\\n 10  5  1  0\\n 24 15  1  0\\n 35 30  1  0\\n  1 43  1  0\\n  1 44  1  0\\n  1 45  1  0\\n  5 46  1  1\\n  6 47  1  0\\n  6 48  1  0\\n  7 49  1  0\\n  7 50  1  0\\n  8 51  1  0\\n  8 52  1  0\\n  9 53  1  0\\n  9 54  1  0\\n 13 55  1  1\\n 14 56  1  0\\n 14 57  1  0\\n 16 58  1  0\\n 17 59  1  0\\n 20 60  1  0\\n 20 61  1  0\\n 20 62  1  0\\n 23 63  1  0\\n 23 64  1  0\\n 23 65  1  0\\n 24 66  1  0\\n 25 67  1  0\\n 28 68  1  6\\n 29 69  1  0\\n 29 70  1  0\\n 31 71  1  0\\n 32 72  1  0\\n 33 73  1  0\\n 34 74  1  0\\n 35 75  1  0\\n 36 76  1  0\\n 40 77  1  0\\n 40 78  1  0\\n 40 79  1  0\\n 41 80  1  0\\n 41 81  1  0\\n 41 82  1  0\\n 42 83  1  0\\n 42 84  1  0\\n 42 85  1  0\\nM  END\\n\",\"mol\");\n\tviewer_17506029216117713.setStyle({\"stick\": {}});\n\tviewer_17506029216117713.zoomTo();\nviewer_17506029216117713.render();\n});\n</script>",
      "text/html": [
       "<div id=\"3dmolviewer_17506029216117713\"  style=\"position: relative; width: 400px; height: 400px;\">\n",
       "        <p id=\"3dmolwarning_17506029216117713\" style=\"background-color:#ffcccc;color:black\">3Dmol.js failed to load for some reason.  Please check your browser console for error messages.<br></p>\n",
       "        </div>\n",
       "<script>\n",
       "\n",
       "var loadScriptAsync = function(uri){\n",
       "  return new Promise((resolve, reject) => {\n",
       "    //this is to ignore the existence of requirejs amd\n",
       "    var savedexports, savedmodule;\n",
       "    if (typeof exports !== 'undefined') savedexports = exports;\n",
       "    else exports = {}\n",
       "    if (typeof module !== 'undefined') savedmodule = module;\n",
       "    else module = {}\n",
       "\n",
       "    var tag = document.createElement('script');\n",
       "    tag.src = uri;\n",
       "    tag.async = true;\n",
       "    tag.onload = () => {\n",
       "        exports = savedexports;\n",
       "        module = savedmodule;\n",
       "        resolve();\n",
       "    };\n",
       "  var firstScriptTag = document.getElementsByTagName('script')[0];\n",
       "  firstScriptTag.parentNode.insertBefore(tag, firstScriptTag);\n",
       "});\n",
       "};\n",
       "\n",
       "if(typeof $3Dmolpromise === 'undefined') {\n",
       "$3Dmolpromise = null;\n",
       "  $3Dmolpromise = loadScriptAsync('https://cdnjs.cloudflare.com/ajax/libs/3Dmol/2.4.2/3Dmol-min.js');\n",
       "}\n",
       "\n",
       "var viewer_17506029216117713 = null;\n",
       "var warn = document.getElementById(\"3dmolwarning_17506029216117713\");\n",
       "if(warn) {\n",
       "    warn.parentNode.removeChild(warn);\n",
       "}\n",
       "$3Dmolpromise.then(function() {\n",
       "viewer_17506029216117713 = $3Dmol.createViewer(document.getElementById(\"3dmolviewer_17506029216117713\"),{backgroundColor:\"white\"});\n",
       "viewer_17506029216117713.zoomTo();\n",
       "\tviewer_17506029216117713.addModel(\"\\n     RDKit          3D\\n\\n 85 87  0  0  0  0  0  0  0  0999 V2000\\n   -5.2724   -3.9985   -1.5837 C   0  0  0  0  0  0  0  0  0  0  0  0\\n   -4.3690   -3.5286   -0.5824 O   0  0  0  0  0  0  0  0  0  0  0  0\\n   -4.1496   -4.4145    0.4325 C   0  0  0  0  0  0  0  0  0  0  0  0\\n   -4.6945   -5.5095    0.5186 O   0  0  0  0  0  0  0  0  0  0  0  0\\n   -3.1231   -3.8858    1.4581 C   0  0  2  0  0  0  0  0  0  0  0  0\\n   -3.6455   -4.0661    2.8898 C   0  0  0  0  0  0  0  0  0  0  0  0\\n   -4.6629   -2.9966    3.2721 C   0  0  0  0  0  0  0  0  0  0  0  0\\n   -4.0595   -1.6135    3.0779 C   0  0  0  0  0  0  0  0  0  0  0  0\\n   -3.5747   -1.4226    1.6459 C   0  0  0  0  0  0  0  0  0  0  0  0\\n   -2.6713   -2.4941    1.2137 N   0  0  0  0  0  0  0  0  0  0  0  0\\n   -1.6378   -2.3243    0.2957 C   0  0  0  0  0  0  0  0  0  0  0  0\\n   -1.0264   -3.2952   -0.1718 O   0  0  0  0  0  0  0  0  0  0  0  0\\n   -1.2583   -0.9031   -0.1722 C   0  0  2  0  0  0  0  0  0  0  0  0\\n   -2.2186   -0.4376   -1.2761 C   0  0  0  0  0  0  0  0  0  0  0  0\\n   -2.0361    1.0210   -1.6246 C   0  0  0  0  0  0  0  0  0  0  0  0\\n   -2.6496    2.0202   -0.8588 C   0  0  0  0  0  0  0  0  0  0  0  0\\n   -2.4609    3.3740   -1.1642 C   0  0  0  0  0  0  0  0  0  0  0  0\\n   -1.6455    3.7525   -2.2338 C   0  0  0  0  0  0  0  0  0  0  0  0\\n   -1.3880    5.0456   -2.6080 O   0  0  0  0  0  0  0  0  0  0  0  0\\n   -2.0536    6.0767   -1.8929 C   0  0  0  0  0  0  0  0  0  0  0  0\\n   -1.0128    2.7515   -2.9859 C   0  0  0  0  0  0  0  0  0  0  0  0\\n   -0.2298    3.1219   -4.0525 O   0  0  0  0  0  0  0  0  0  0  0  0\\n    1.1196    2.6811   -3.8890 C   0  0  0  0  0  0  0  0  0  0  0  0\\n   -1.2214    1.3981   -2.6988 C   0  0  0  0  0  0  0  0  0  0  0  0\\n    0.1177   -0.9926   -0.6766 N   0  0  0  0  0  0  0  0  0  0  0  0\\n    1.1269   -0.2028   -0.1789 C   0  0  0  0  0  0  0  0  0  0  0  0\\n    0.9252    0.7098    0.6222 O   0  0  0  0  0  0  0  0  0  0  0  0\\n    2.5392   -0.5555   -0.6868 C   0  0  2  0  0  0  0  0  0  0  0  0\\n    3.0478   -1.8892   -0.1176 C   0  0  0  0  0  0  0  0  0  0  0  0\\n    3.1490   -1.9474    1.3897 C   0  0  0  0  0  0  0  0  0  0  0  0\\n    2.0981   -2.4744    2.1537 C   0  0  0  0  0  0  0  0  0  0  0  0\\n    2.1849   -2.5093    3.5457 C   0  0  0  0  0  0  0  0  0  0  0  0\\n    3.3216   -2.0208    4.1875 C   0  0  0  0  0  0  0  0  0  0  0  0\\n    4.3748   -1.5008    3.4371 C   0  0  0  0  0  0  0  0  0  0  0  0\\n    4.2899   -1.4646    2.0450 C   0  0  0  0  0  0  0  0  0  0  0  0\\n    3.4159    0.5676   -0.3525 N   0  0  0  0  0  0  0  0  0  0  0  0\\n    3.8198    1.4677   -1.3133 C   0  0  0  0  0  0  0  0  0  0  0  0\\n    3.7003    1.2367   -2.5139 O   0  0  0  0  0  0  0  0  0  0  0  0\\n    4.4269    2.7755   -0.7706 C   0  0  0  0  0  0  0  0  0  0  0  0\\n    3.3572    3.5636    0.0025 C   0  0  0  0  0  0  0  0  0  0  0  0\\n    5.6199    2.4666    0.1459 C   0  0  0  0  0  0  0  0  0  0  0  0\\n    4.9166    3.6359   -1.9484 C   0  0  0  0  0  0  0  0  0  0  0  0\\n   -6.2622   -4.1826   -1.1540 H   0  0  0  0  0  0  0  0  0  0  0  0\\n   -5.3650   -3.2214   -2.3468 H   0  0  0  0  0  0  0  0  0  0  0  0\\n   -4.8788   -4.9027   -2.0595 H   0  0  0  0  0  0  0  0  0  0  0  0\\n   -2.2566   -4.5496    1.3442 H   0  0  0  0  0  0  0  0  0  0  0  0\\n   -4.0907   -5.0578    3.0260 H   0  0  0  0  0  0  0  0  0  0  0  0\\n   -2.7976   -4.0070    3.5863 H   0  0  0  0  0  0  0  0  0  0  0  0\\n   -4.9613   -3.1269    4.3185 H   0  0  0  0  0  0  0  0  0  0  0  0\\n   -5.5687   -3.1024    2.6627 H   0  0  0  0  0  0  0  0  0  0  0  0\\n   -4.7975   -0.8442    3.3261 H   0  0  0  0  0  0  0  0  0  0  0  0\\n   -3.2155   -1.4878    3.7671 H   0  0  0  0  0  0  0  0  0  0  0  0\\n   -3.0930   -0.4463    1.5719 H   0  0  0  0  0  0  0  0  0  0  0  0\\n   -4.4294   -1.4112    0.9594 H   0  0  0  0  0  0  0  0  0  0  0  0\\n   -1.2647   -0.2273    0.6869 H   0  0  0  0  0  0  0  0  0  0  0  0\\n   -2.0853   -1.0493   -2.1788 H   0  0  0  0  0  0  0  0  0  0  0  0\\n   -3.2631   -0.5919   -0.9830 H   0  0  0  0  0  0  0  0  0  0  0  0\\n   -3.2801    1.7584   -0.0114 H   0  0  0  0  0  0  0  0  0  0  0  0\\n   -2.9589    4.1082   -0.5389 H   0  0  0  0  0  0  0  0  0  0  0  0\\n   -3.1412    5.9891   -1.9916 H   0  0  0  0  0  0  0  0  0  0  0  0\\n   -1.7575    7.0343   -2.3330 H   0  0  0  0  0  0  0  0  0  0  0  0\\n   -1.7515    6.0880   -0.8401 H   0  0  0  0  0  0  0  0  0  0  0  0\\n    1.7496    3.2756   -4.5571 H   0  0  0  0  0  0  0  0  0  0  0  0\\n    1.4776    2.8344   -2.8637 H   0  0  0  0  0  0  0  0  0  0  0  0\\n    1.2183    1.6288   -4.1783 H   0  0  0  0  0  0  0  0  0  0  0  0\\n   -0.7476    0.6389   -3.3150 H   0  0  0  0  0  0  0  0  0  0  0  0\\n    0.3503   -1.8529   -1.1638 H   0  0  0  0  0  0  0  0  0  0  0  0\\n    2.4742   -0.6490   -1.7770 H   0  0  0  0  0  0  0  0  0  0  0  0\\n    4.0386   -2.1052   -0.5389 H   0  0  0  0  0  0  0  0  0  0  0  0\\n    2.4007   -2.7087   -0.4566 H   0  0  0  0  0  0  0  0  0  0  0  0\\n    1.2046   -2.8663    1.6709 H   0  0  0  0  0  0  0  0  0  0  0  0\\n    1.3658   -2.9204    4.1302 H   0  0  0  0  0  0  0  0  0  0  0  0\\n    3.3885   -2.0494    5.2719 H   0  0  0  0  0  0  0  0  0  0  0  0\\n    5.2628   -1.1243    3.9378 H   0  0  0  0  0  0  0  0  0  0  0  0\\n    5.1211   -1.0572    1.4721 H   0  0  0  0  0  0  0  0  0  0  0  0\\n    3.2690    0.9288    0.5835 H   0  0  0  0  0  0  0  0  0  0  0  0\\n    3.0403    3.0427    0.9120 H   0  0  0  0  0  0  0  0  0  0  0  0\\n    3.7326    4.5479    0.3044 H   0  0  0  0  0  0  0  0  0  0  0  0\\n    2.4625    3.7175   -0.6105 H   0  0  0  0  0  0  0  0  0  0  0  0\\n    6.1151    3.3868    0.4740 H   0  0  0  0  0  0  0  0  0  0  0  0\\n    5.3127    1.9222    1.0455 H   0  0  0  0  0  0  0  0  0  0  0  0\\n    6.3644    1.8495   -0.3711 H   0  0  0  0  0  0  0  0  0  0  0  0\\n    5.3551    4.5773   -1.5998 H   0  0  0  0  0  0  0  0  0  0  0  0\\n    5.6783    3.1093   -2.5342 H   0  0  0  0  0  0  0  0  0  0  0  0\\n    4.0935    3.8855   -2.6287 H   0  0  0  0  0  0  0  0  0  0  0  0\\n  1  2  1  0\\n  2  3  1  0\\n  3  4  2  0\\n  3  5  1  0\\n  5  6  1  0\\n  6  7  1  0\\n  7  8  1  0\\n  8  9  1  0\\n  9 10  1  0\\n 10 11  1  0\\n 11 12  2  0\\n 11 13  1  0\\n 13 14  1  0\\n 14 15  1  0\\n 15 16  2  0\\n 16 17  1  0\\n 17 18  2  0\\n 18 19  1  0\\n 19 20  1  0\\n 18 21  1  0\\n 21 22  1  0\\n 22 23  1  0\\n 21 24  2  0\\n 13 25  1  0\\n 25 26  1  0\\n 26 27  2  0\\n 26 28  1  0\\n 28 29  1  0\\n 29 30  1  0\\n 30 31  2  0\\n 31 32  1  0\\n 32 33  2  0\\n 33 34  1  0\\n 34 35  2  0\\n 28 36  1  0\\n 36 37  1  0\\n 37 38  2  0\\n 37 39  1  0\\n 39 40  1  0\\n 39 41  1  0\\n 39 42  1  0\\n 10  5  1  0\\n 24 15  1  0\\n 35 30  1  0\\n  1 43  1  0\\n  1 44  1  0\\n  1 45  1  0\\n  5 46  1  1\\n  6 47  1  0\\n  6 48  1  0\\n  7 49  1  0\\n  7 50  1  0\\n  8 51  1  0\\n  8 52  1  0\\n  9 53  1  0\\n  9 54  1  0\\n 13 55  1  1\\n 14 56  1  0\\n 14 57  1  0\\n 16 58  1  0\\n 17 59  1  0\\n 20 60  1  0\\n 20 61  1  0\\n 20 62  1  0\\n 23 63  1  0\\n 23 64  1  0\\n 23 65  1  0\\n 24 66  1  0\\n 25 67  1  0\\n 28 68  1  6\\n 29 69  1  0\\n 29 70  1  0\\n 31 71  1  0\\n 32 72  1  0\\n 33 73  1  0\\n 34 74  1  0\\n 35 75  1  0\\n 36 76  1  0\\n 40 77  1  0\\n 40 78  1  0\\n 40 79  1  0\\n 41 80  1  0\\n 41 81  1  0\\n 41 82  1  0\\n 42 83  1  0\\n 42 84  1  0\\n 42 85  1  0\\nM  END\\n\",\"mol\");\n",
       "\tviewer_17506029216117713.setStyle({\"stick\": {}});\n",
       "\tviewer_17506029216117713.zoomTo();\n",
       "viewer_17506029216117713.render();\n",
       "});\n",
       "</script>"
      ]
     },
     "metadata": {},
     "output_type": "display_data"
    }
   ],
   "source": [
    "from rdkit import Chem\n",
    "from rdkit.Chem import AllChem\n",
    "import py3Dmol\n",
    "\n",
    "# Convert SMILES to an RDKit molecule and add hydrogens\n",
    "mol = Chem.MolFromSmiles(smiles)\n",
    "mol = Chem.AddHs(mol)\n",
    "\n",
    "# Generate 3D coordinates and optimize geometry\n",
    "AllChem.EmbedMolecule(mol, AllChem.ETKDG())\n",
    "AllChem.MMFFOptimizeMolecule(mol)\n",
    "\n",
    "# Function to show 3D molecule using py3Dmol\n",
    "def show_3d_molecule(mol):\n",
    "    mol_block = Chem.MolToMolBlock(mol)\n",
    "    viewer = py3Dmol.view(width=400, height=400)\n",
    "    viewer.addModel(mol_block, \"mol\")\n",
    "    viewer.setStyle({\"stick\": {}})\n",
    "    viewer.zoomTo()\n",
    "    return viewer.show()\n",
    "\n",
    "show_3d_molecule(mol)"
   ]
  },
  {
   "cell_type": "markdown",
   "id": "4402f92c",
   "metadata": {},
   "source": [
    "So far, we have gained a foundational understanding of Antibody-Drug Conjugates (ADCs) and their key properties by visualizing the 2D and 3D structures of their payloads.\n",
    "\n",
    "Now, it’s time to explore and predict ADC payload activity using a comprehensive dataset from ChEMBL, which contains detailed information on molecules targeting DNA topoisomerase I, an enzyme often inhibited by ADC payloads."
   ]
  },
  {
   "cell_type": "code",
   "execution_count": 8,
   "id": "d1e42b82",
   "metadata": {},
   "outputs": [],
   "source": [
    "# loading data\n",
    "\n",
    "url = \"https://tutorial-fast-loader.s3.ap-south-1.amazonaws.com/ADC/ChEMBL.csv\"\n",
    "adc_db = pd.read_csv(url, sep = \";\")"
   ]
  },
  {
   "cell_type": "code",
   "execution_count": 18,
   "id": "38f20fa8",
   "metadata": {},
   "outputs": [
    {
     "data": {
      "text/html": [
       "<div>\n",
       "<style scoped>\n",
       "    .dataframe tbody tr th:only-of-type {\n",
       "        vertical-align: middle;\n",
       "    }\n",
       "\n",
       "    .dataframe tbody tr th {\n",
       "        vertical-align: top;\n",
       "    }\n",
       "\n",
       "    .dataframe thead th {\n",
       "        text-align: right;\n",
       "    }\n",
       "</style>\n",
       "<table border=\"1\" class=\"dataframe\">\n",
       "  <thead>\n",
       "    <tr style=\"text-align: right;\">\n",
       "      <th></th>\n",
       "      <th>Molecule ChEMBL ID</th>\n",
       "      <th>Molecule Name</th>\n",
       "      <th>Molecule Max Phase</th>\n",
       "      <th>Molecular Weight</th>\n",
       "      <th>#RO5 Violations</th>\n",
       "      <th>AlogP</th>\n",
       "      <th>Compound Key</th>\n",
       "      <th>Smiles</th>\n",
       "      <th>Standard Type</th>\n",
       "      <th>Standard Relation</th>\n",
       "      <th>...</th>\n",
       "      <th>Document ChEMBL ID</th>\n",
       "      <th>Source ID</th>\n",
       "      <th>Source Description</th>\n",
       "      <th>Document Journal</th>\n",
       "      <th>Document Year</th>\n",
       "      <th>Cell ChEMBL ID</th>\n",
       "      <th>Properties</th>\n",
       "      <th>Action Type</th>\n",
       "      <th>Standard Text Value</th>\n",
       "      <th>Value</th>\n",
       "    </tr>\n",
       "  </thead>\n",
       "  <tbody>\n",
       "    <tr>\n",
       "      <th>0</th>\n",
       "      <td>CHEMBL540569</td>\n",
       "      <td>NaN</td>\n",
       "      <td>NaN</td>\n",
       "      <td>500.90</td>\n",
       "      <td>0.0</td>\n",
       "      <td>0.71</td>\n",
       "      <td>7d</td>\n",
       "      <td>CCC1(O)C(=O)OCc2c1cc1n(c2=O)Cc2cc3c(NC(=O)CN)c...</td>\n",
       "      <td>IC50</td>\n",
       "      <td>'='</td>\n",
       "      <td>...</td>\n",
       "      <td>CHEMBL1126797</td>\n",
       "      <td>1</td>\n",
       "      <td>Scientific Literature</td>\n",
       "      <td>J Med Chem</td>\n",
       "      <td>1993</td>\n",
       "      <td>CHEMBL3307654</td>\n",
       "      <td>NaN</td>\n",
       "      <td>NaN</td>\n",
       "      <td>NaN</td>\n",
       "      <td>0.26</td>\n",
       "    </tr>\n",
       "    <tr>\n",
       "      <th>1</th>\n",
       "      <td>CHEMBL3953305</td>\n",
       "      <td>NaN</td>\n",
       "      <td>NaN</td>\n",
       "      <td>646.88</td>\n",
       "      <td>2.0</td>\n",
       "      <td>8.45</td>\n",
       "      <td>8</td>\n",
       "      <td>C#CCOCCCCCCCCCCCCOc1ccc(-c2nc3ccc(-c4nc5ccc(N6...</td>\n",
       "      <td>IC50</td>\n",
       "      <td>'&gt;'</td>\n",
       "      <td>...</td>\n",
       "      <td>CHEMBL4014329</td>\n",
       "      <td>1</td>\n",
       "      <td>Scientific Literature</td>\n",
       "      <td>J Med Chem</td>\n",
       "      <td>2017</td>\n",
       "      <td>NaN</td>\n",
       "      <td>NaN</td>\n",
       "      <td>NaN</td>\n",
       "      <td>NaN</td>\n",
       "      <td>50.00</td>\n",
       "    </tr>\n",
       "    <tr>\n",
       "      <th>2</th>\n",
       "      <td>CHEMBL88605</td>\n",
       "      <td>NaN</td>\n",
       "      <td>NaN</td>\n",
       "      <td>558.64</td>\n",
       "      <td>1.0</td>\n",
       "      <td>3.53</td>\n",
       "      <td>5an</td>\n",
       "      <td>CCC1(O)C(=O)OCc2c1cc1n(c2=O)Cc2cc3cc(OC(=O)N4C...</td>\n",
       "      <td>IC50</td>\n",
       "      <td>'='</td>\n",
       "      <td>...</td>\n",
       "      <td>CHEMBL1126797</td>\n",
       "      <td>1</td>\n",
       "      <td>Scientific Literature</td>\n",
       "      <td>J Med Chem</td>\n",
       "      <td>1993</td>\n",
       "      <td>CHEMBL3307654</td>\n",
       "      <td>NaN</td>\n",
       "      <td>NaN</td>\n",
       "      <td>NaN</td>\n",
       "      <td>21.00</td>\n",
       "    </tr>\n",
       "    <tr>\n",
       "      <th>3</th>\n",
       "      <td>CHEMBL80138</td>\n",
       "      <td>NaN</td>\n",
       "      <td>NaN</td>\n",
       "      <td>318.37</td>\n",
       "      <td>0.0</td>\n",
       "      <td>3.25</td>\n",
       "      <td>table 2</td>\n",
       "      <td>CCCCCC(O)c1cc(OC)c2c(c1OC)C(=O)C=CC2=O</td>\n",
       "      <td>Concentration</td>\n",
       "      <td>'='</td>\n",
       "      <td>...</td>\n",
       "      <td>CHEMBL1131845</td>\n",
       "      <td>1</td>\n",
       "      <td>Scientific Literature</td>\n",
       "      <td>Bioorg Med Chem Lett</td>\n",
       "      <td>1999</td>\n",
       "      <td>NaN</td>\n",
       "      <td>NaN</td>\n",
       "      <td>NaN</td>\n",
       "      <td>NaN</td>\n",
       "      <td>0.28</td>\n",
       "    </tr>\n",
       "    <tr>\n",
       "      <th>4</th>\n",
       "      <td>CHEMBL1806550</td>\n",
       "      <td>NaN</td>\n",
       "      <td>NaN</td>\n",
       "      <td>331.40</td>\n",
       "      <td>1.0</td>\n",
       "      <td>5.63</td>\n",
       "      <td>33</td>\n",
       "      <td>c1csc(-c2cc(-c3ccoc3)c3c(n2)-c2ccccc2OC3)c1</td>\n",
       "      <td>Inhibition</td>\n",
       "      <td>'='</td>\n",
       "      <td>...</td>\n",
       "      <td>CHEMBL1806416</td>\n",
       "      <td>1</td>\n",
       "      <td>Scientific Literature</td>\n",
       "      <td>Eur J Med Chem</td>\n",
       "      <td>2011</td>\n",
       "      <td>NaN</td>\n",
       "      <td>NaN</td>\n",
       "      <td>NaN</td>\n",
       "      <td>NaN</td>\n",
       "      <td>0.00</td>\n",
       "    </tr>\n",
       "  </tbody>\n",
       "</table>\n",
       "<p>5 rows × 48 columns</p>\n",
       "</div>"
      ],
      "text/plain": [
       "  Molecule ChEMBL ID Molecule Name  Molecule Max Phase  Molecular Weight  \\\n",
       "0       CHEMBL540569           NaN                 NaN            500.90   \n",
       "1      CHEMBL3953305           NaN                 NaN            646.88   \n",
       "2        CHEMBL88605           NaN                 NaN            558.64   \n",
       "3        CHEMBL80138           NaN                 NaN            318.37   \n",
       "4      CHEMBL1806550           NaN                 NaN            331.40   \n",
       "\n",
       "   #RO5 Violations  AlogP Compound Key  \\\n",
       "0              0.0   0.71           7d   \n",
       "1              2.0   8.45            8   \n",
       "2              1.0   3.53          5an   \n",
       "3              0.0   3.25      table 2   \n",
       "4              1.0   5.63           33   \n",
       "\n",
       "                                              Smiles  Standard Type  \\\n",
       "0  CCC1(O)C(=O)OCc2c1cc1n(c2=O)Cc2cc3c(NC(=O)CN)c...           IC50   \n",
       "1  C#CCOCCCCCCCCCCCCOc1ccc(-c2nc3ccc(-c4nc5ccc(N6...           IC50   \n",
       "2  CCC1(O)C(=O)OCc2c1cc1n(c2=O)Cc2cc3cc(OC(=O)N4C...           IC50   \n",
       "3             CCCCCC(O)c1cc(OC)c2c(c1OC)C(=O)C=CC2=O  Concentration   \n",
       "4        c1csc(-c2cc(-c3ccoc3)c3c(n2)-c2ccccc2OC3)c1     Inhibition   \n",
       "\n",
       "  Standard Relation  ...  Document ChEMBL ID Source ID     Source Description  \\\n",
       "0               '='  ...       CHEMBL1126797         1  Scientific Literature   \n",
       "1               '>'  ...       CHEMBL4014329         1  Scientific Literature   \n",
       "2               '='  ...       CHEMBL1126797         1  Scientific Literature   \n",
       "3               '='  ...       CHEMBL1131845         1  Scientific Literature   \n",
       "4               '='  ...       CHEMBL1806416         1  Scientific Literature   \n",
       "\n",
       "       Document Journal Document Year Cell ChEMBL ID  Properties  Action Type  \\\n",
       "0            J Med Chem          1993  CHEMBL3307654         NaN          NaN   \n",
       "1            J Med Chem          2017            NaN         NaN          NaN   \n",
       "2            J Med Chem          1993  CHEMBL3307654         NaN          NaN   \n",
       "3  Bioorg Med Chem Lett          1999            NaN         NaN          NaN   \n",
       "4        Eur J Med Chem          2011            NaN         NaN          NaN   \n",
       "\n",
       "   Standard Text Value  Value  \n",
       "0                  NaN   0.26  \n",
       "1                  NaN  50.00  \n",
       "2                  NaN  21.00  \n",
       "3                  NaN   0.28  \n",
       "4                  NaN   0.00  \n",
       "\n",
       "[5 rows x 48 columns]"
      ]
     },
     "execution_count": 18,
     "metadata": {},
     "output_type": "execute_result"
    }
   ],
   "source": [
    "# Viewing the first few rows of the dataset\n",
    "\n",
    "adc_db.head() "
   ]
  },
  {
   "cell_type": "markdown",
   "id": "ffac6875",
   "metadata": {},
   "source": [
    "Let's drop where missing values exist in important parameters."
   ]
  },
  {
   "cell_type": "code",
   "execution_count": 22,
   "id": "6c9e8f42",
   "metadata": {},
   "outputs": [],
   "source": [
    "df_clean = adc_db.dropna(subset=['Smiles']) "
   ]
  },
  {
   "cell_type": "markdown",
   "id": "a2e2a0e0",
   "metadata": {},
   "source": [
    "Let's validate SMILES strings to ensure they are correct, as this will be required further."
   ]
  },
  {
   "cell_type": "code",
   "execution_count": 23,
   "id": "8e38c204",
   "metadata": {},
   "outputs": [
    {
     "name": "stdout",
     "output_type": "stream",
     "text": [
      "Rows with valid SMILES: 7637\n"
     ]
    }
   ],
   "source": [
    "def is_valid_smiles(smiles):\n",
    "    try:\n",
    "        return Chem.MolFromSmiles(smiles) is not None\n",
    "    except:\n",
    "        return False\n",
    "\n",
    "adc_db[\"valid_smiles\"] = adc_db[\"Smiles\"].apply(is_valid_smiles)\n",
    "adc_db = adc_db[adc_db[\"valid_smiles\"]].drop(columns=[\"valid_smiles\"])\n",
    "\n",
    "print(f\"Rows with valid SMILES: {len(adc_db)}\")"
   ]
  },
  {
   "cell_type": "code",
   "execution_count": 25,
   "id": "c5eb7d52",
   "metadata": {},
   "outputs": [],
   "source": [
    "adc_db['Activity'] = adc_db['Standard Value'].fillna(adc_db['Value'])"
   ]
  },
  {
   "cell_type": "code",
   "execution_count": 26,
   "id": "0801e832",
   "metadata": {},
   "outputs": [],
   "source": [
    "adc_db = adc_db.dropna(subset=['Activity'])"
   ]
  },
  {
   "cell_type": "markdown",
   "id": "9a0444bc",
   "metadata": {},
   "source": [
    "In our ADC dataset, we compile a variety of physicochemical and biochemical properties essential for evaluating cytotoxic payloads. Some of them include IC50, which represents the concentration of a compound required to inhibit 50% of the target’s activity in an assay, typically expressed in nanomolar (nM) units. AlogP,is a lipophilicity estimate that must be balanced to ensure adequate cell permeability without excessive aggregation and avoid off‑target toxicity; Ro5 Violations, the number of Lipinski “Rule of Five” infractions that often predict poor solubility or bioavailability when too many are present; and molecular weight, since most ADC warheads fall within a tight size window and any outliers can flag potential synthesis or delivery challenges."
   ]
  },
  {
   "cell_type": "markdown",
   "id": "77c71a56",
   "metadata": {},
   "source": [
    "In the context of ADC development, IC50 is critical for evaluating the potency of cytotoxic payloads. A lower IC50 value indicates higher potency, meaning the compound is effective at a lower concentration. We are using IC50 because it directly correlates with the cytotoxic potency required for ADC payloads. \n",
    "\n",
    "To gain deeper insights into the dataset, we will visualize the distribution of these properties, beginning with IC50 values"
   ]
  },
  {
   "cell_type": "code",
   "execution_count": 29,
   "id": "ff92871a",
   "metadata": {},
   "outputs": [],
   "source": [
    "adc_db[\"IC50_nM\"] = pd.to_numeric(adc_db[\"Standard Value\"], errors=\"coerce\")\n",
    "adc_db = adc_db[adc_db[\"IC50_nM\"].notnull()].copy()"
   ]
  },
  {
   "cell_type": "markdown",
   "id": "0c96dae1",
   "metadata": {},
   "source": [
    "Since IC50 values are typically expressed in nanomolar (nM) units for ADC payload analysis, let’s convert all IC50 measurements to nM."
   ]
  },
  {
   "cell_type": "code",
   "execution_count": 31,
   "id": "f082c3c8",
   "metadata": {},
   "outputs": [],
   "source": [
    "def convert_to_nM(value, units):\n",
    "    if pd.isna(units) or pd.isna(value):\n",
    "        return value\n",
    "    units = units.strip().lower()\n",
    "    if units == 'um':\n",
    "        return value * 1_000\n",
    "    elif units == 'mm':\n",
    "        return value * 1_000_000\n",
    "    else:\n",
    "        return value\n",
    "\n",
    "adc_db['Activity_nM'] = adc_db.apply(\n",
    "    lambda row: convert_to_nM(row['Activity'], row['Standard Units'])\n",
    "    if row['Standard Type'] == 'IC50' else row['Activity'],\n",
    "    axis=1\n",
    ")"
   ]
  },
  {
   "cell_type": "markdown",
   "id": "07384317",
   "metadata": {},
   "source": [
    "Before we proceed, let’s visualize the distribution of IC50 values to gain a better understanding of the potency profile in our payload dataset."
   ]
  },
  {
   "cell_type": "code",
   "execution_count": 35,
   "id": "7b8a08cb",
   "metadata": {},
   "outputs": [
    {
     "data": {
      "image/png": "[encoded data removed]",
      "text/plain": [
       "<Figure size 640x480 with 1 Axes>"
      ]
     },
     "metadata": {},
     "output_type": "display_data"
    }
   ],
   "source": [
    "plt.hist(adc_db[\"IC50_nM\"], bins=50, log=True)\n",
    "plt.xlabel(\"IC50 (nM)\")\n",
    "plt.ylabel(\"Frequency\")\n",
    "plt.title(\"Distribution of IC50 Values\")\n",
    "plt.show()"
   ]
  },
  {
   "cell_type": "markdown",
   "id": "7b50ed02",
   "metadata": {},
   "source": [
    "Let’s examine the distribution of IC50 values around the 0.2 nM range. Since there are outliers, we will apply log normalization."
   ]
  },
  {
   "cell_type": "code",
   "execution_count": 36,
   "id": "228df8e4",
   "metadata": {},
   "outputs": [
    {
     "name": "stderr",
     "output_type": "stream",
     "text": [
      "/home/sonali/anaconda3/envs/deepchem/lib/python3.8/site-packages/pandas/core/arraylike.py:396: RuntimeWarning: divide by zero encountered in log10\n",
      "  result = getattr(ufunc, method)(*inputs, **kwargs)\n"
     ]
    }
   ],
   "source": [
    "log_ic50 = np.log10(adc_db[\"IC50_nM\"])"
   ]
  },
  {
   "cell_type": "code",
   "execution_count": 70,
   "id": "e99cf447",
   "metadata": {},
   "outputs": [
    {
     "data": {
      "image/png": "[encoded data removed]",
      "text/plain": [
       "<Figure size 640x480 with 1 Axes>"
      ]
     },
     "metadata": {},
     "output_type": "display_data"
    }
   ],
   "source": [
    "plt.hist(log_ic50, bins=50)\n",
    "plt.xlabel(\"log10(IC50) (nM)\")\n",
    "plt.ylabel(\"Frequency\")\n",
    "plt.title(\"Distribution of log10(IC50) Values\")\n",
    "plt.show()"
   ]
  },
  {
   "cell_type": "markdown",
   "id": "e6c615f9",
   "metadata": {},
   "source": [
    "Let's now examine the AlogP values, which estimate each payload's lipophilicity, a key driver of cell permeability, solubility, and off-target risks. A well-balanced log P helps ensure a payload can cross cell membranes without precipitating or sticking nonspecifically to proteins, minimizing aggregation and unintended toxicity."
   ]
  },
  {
   "cell_type": "code",
   "execution_count": 40,
   "id": "0d62eb34",
   "metadata": {},
   "outputs": [
    {
     "data": {
      "image/png": "[encoded data removed]",
      "text/plain": [
       "<Figure size 800x500 with 1 Axes>"
      ]
     },
     "metadata": {},
     "output_type": "display_data"
    }
   ],
   "source": [
    "adc_db['AlogP'] = pd.to_numeric(adc_db['AlogP'], errors='coerce')\n",
    "\n",
    "adc_db = adc_db[adc_db['AlogP'].notnull()]\n",
    "\n",
    "\n",
    "plt.figure(figsize=(8, 5))\n",
    "sns.histplot(adc_db['AlogP'], bins=30, kde=True, color='steelblue')\n",
    "plt.title('Distribution of AlogP Values in ADC Payloads')\n",
    "plt.xlabel('AlogP')\n",
    "plt.ylabel('Frequency')\n",
    "plt.grid(True)\n",
    "plt.show()"
   ]
  },
  {
   "cell_type": "markdown",
   "id": "f0d6471c",
   "metadata": {},
   "source": [
    "As the distribution is centered around 5, not too high (which would indicate excessive lipophilicity and potential solubility issues) and not too low (which could suggest poor membrane permeability), this indicates that many payloads maintain a balanced lipophilic profile, making them suitable for cellular uptake."
   ]
  },
  {
   "cell_type": "code",
   "execution_count": null,
   "id": "90de6901",
   "metadata": {},
   "outputs": [],
   "source": []
  },
  {
   "cell_type": "markdown",
   "id": "6e35f122",
   "metadata": {},
   "source": [
    "## References <a name=\"references\"></a>"
   ]
  },
  {
   "cell_type": "markdown",
   "id": "ea6db999",
   "metadata": {},
   "source": [
    "# Congratulations! Time to join the Community!\n",
    "\n",
    "Congratulations on completing this tutorial notebook! If you enjoyed working through the tutorial, and want to continue working with DeepChem, we encourage you to finish the rest of the tutorials in this series. You can also help the DeepChem community in the following ways:"
   ]
  },
  {
   "cell_type": "markdown",
   "id": "9c76089e",
   "metadata": {},
   "source": [
    "## Star DeepChem on [GitHub](https://github.com/deepchem/deepchem)\n",
    "This helps build awareness of the DeepChem project and the tools for open source drug discovery that we're trying to build.\n"
   ]
  },
  {
   "cell_type": "markdown",
   "id": "82782b17",
   "metadata": {},
   "source": [
    "## Join the DeepChem Discord\n",
    "The DeepChem [Discord](https://discord.gg/cGzwCdrUqS) hosts a number of scientists, developers, and enthusiasts interested in deep learning for the life sciences. Join the conversation!"
   ]
  },
  {
   "cell_type": "markdown",
   "id": "104883b9",
   "metadata": {},
   "source": [
    "# Citing this tutorial\n",
    "If you found this tutorial useful please consider citing it using the provided BibTeX."
   ]
  },
  {
   "cell_type": "code",
   "execution_count": null,
   "id": "e7074b4c",
   "metadata": {},
   "outputs": [],
   "source": []
  },
  {
   "cell_type": "markdown",
   "id": "f97c37ce",
   "metadata": {},
   "source": [
    "```\n",
    "@manual{Molecular Machine Learning,\n",
    " title={Introduction to Antibody Drug Conjugates},\n",
    " organization={DeepChem},\n",
    " author={Patra,Sonali Lipsa, Bisoi,Ankita, Singh, Rakshit Kr.,}\n",
    " howpublished = {\\url{https://github.com/deepchem/deepchem/blob/master/examples/tutorials/Introduction_to_Antibody_Drug_Conjugates.ipynb}},\n",
    " year={2025},\n",
    "}\n",
    "```"
   ]
  }
 ],
 "metadata": {
  "kernelspec": {
   "display_name": "deepchem",
   "language": "python",
   "name": "python3"
  },
  "language_info": {
   "codemirror_mode": {
    "name": "ipython",
    "version": 3
   },
   "file_extension": ".py",
   "mimetype": "text/x-python",
   "name": "python",
   "nbconvert_exporter": "python",
   "pygments_lexer": "ipython3",
   "version": "3.8.20"
  }
 },
 "nbformat": 4,
 "nbformat_minor": 5
}
