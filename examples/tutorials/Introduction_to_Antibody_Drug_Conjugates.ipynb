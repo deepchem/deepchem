{
 "cells": [
  {
   "cell_type": "markdown",
   "id": "4a8bc46a",
   "metadata": {},
   "source": [
    "# Introduction To AntiBody Drug-Conjugates **(ADCs)** "
   ]
  },
  {
   "cell_type": "markdown",
   "id": "59a34f53",
   "metadata": {},
   "source": [
    "Antibody−drug conjugates (ADCs) are currently among the most promising drug modality in oncology. This is because of their ability to deliver cytotoxic agents to specific tumor sites, combining the selectivity of monoclonal antibodies (mAbs) and the efficacy of chemotherapeutic drugs. With ongoing innovations, ADCs are poised to remain at the forefront of oncology, offering new hope for patients with difficult-to-treat malignancies."
   ]
  },
  {
   "cell_type": "markdown",
   "id": "cb84bffb",
   "metadata": {},
   "source": [
    "## Background Literature\n",
    "\n",
    "Traditional cancer chemotherapy is often accompanied by systemic toxicity to the patient. Monoclonal antibodies against antigens on cancer cells offer an alternative tumor-selective treatment approach. However, most monoclonal antibodies are not sufficiently potent to be therapeutically active on their own. Antibody-drug conjugates (ADCs) use antibodies to deliver a potent cytotoxic compound selectively to tumor cells, thus improving the therapeutic index of chemotherapeutic agents."
   ]
  },
  {
   "cell_type": "markdown",
   "id": "aa3694bb",
   "metadata": {},
   "source": [
    "In this tutorial we will explore the fundamental concepts of Antibody-Drug Conjugates(ADCs), with a focus on the key properties \n",
    "that play a crucial role in the design and development of safe and stable ADCs. This tutorial is divided into following sections - \n",
    "\n",
    "#### Table of Contents:\n",
    "* [Introduction](#introduction)\n",
    "* [Fundamental Concepts of ADCs](#fundamental-concepts)\n",
    "* [Design and Development](#adc-design)\n",
    "* [Computational Approaches to study ADCs](#computational-approaches)\n",
    "* [Further Reading](#further-reading)"
   ]
  },
  {
   "cell_type": "markdown",
   "id": "e759aa0e",
   "metadata": {},
   "source": [
    "## Introduction <a name=\"introduction\"></a>"
   ]
  },
  {
   "cell_type": "markdown",
   "id": "2c442a40",
   "metadata": {},
   "source": [
    "### ADCs - what they are\n",
    "\n",
    "Antibody–drug conjugates or ADCs are a class of biopharmaceutical drugs designed as a targeted therapy for treating cancer.Unlike chemotherapy, ADCs are intended to target and kill tumor cells while sparing healthy cells. As of 2019, some 56 pharmaceutical companies were developing ADCs. ADCs are complex molecules composed of an antibody linked to a biologically active cytotoxic (anticancer) payload or drug. Antibody-drug conjugates are examples of bioconjugates and immunoconjugates. ADCs combine the targeting properties of monoclonal antibodies with the cancer-killing capabilities of cytotoxic drugs, designed to discriminate between healthy and diseased tissue."
   ]
  },
  {
   "cell_type": "markdown",
   "id": "43a3a67a",
   "metadata": {},
   "source": [
    "##### Key Components of ADC\n",
    "\n",
    "The structure of an ADC consists of three main components: \n",
    "\n",
    "- **Monoclonal Antibody(mAb)** : The antibody used in ADCs should be specific for a tumor-associated antigen that has restricted expression on normal cells and overexpressed on cancer cells. This allows the ADC to selectively target cancer cells while sparing normal cells.\n",
    "\n",
    "- **Cytotoxic drug payload** : The payload is designed to kill target cells when internalized and released. These payloads are often drugs that are highly toxic and require antibodies to specifically target cancer cells so they do not affect healthy cells. \n",
    "\n",
    "- **Linker molecule** : The linker molecule attaches the cytotoxic drug to the antibody,that is stable in circulation, but releases the cytotoxic agent in target cells. Linkers can have many characteristics (e.g., cleavable vs. non-cleavable) and can affect ADC solubility, stability, toxicity, and other factors."
   ]
  },
  {
   "cell_type": "markdown",
   "id": "e5975275",
   "metadata": {},
   "source": [
    "<img src=\"https://media.springernature.com/full/springer-static/image/art%3A10.1038%2Fs41392-022-00947-7/MediaObjects/41392_2022_947_Fig2_HTML.png?as=webp\" alt=\"image.png\" height=\"400\" width=\"900\">\n",
    "\n",
    "---\n",
    "\n",
    "**Fig.1** : Schematic description of an ADC. The core components including target antigen, antibody, linker, cytotoxic drug along with their key functions are demonstrated."
   ]
  },
  {
   "cell_type": "markdown",
   "id": "8e4da6d0",
   "metadata": {},
   "source": [
    "## Fundamental Concepts of ADC <a name=\"fundamental-concepts\"></a>\n",
    "\n",
    "Here we cover some properties of the key components of ADC, and mechanism of action along with the setbacks involved in the development."
   ]
  },
  {
   "cell_type": "markdown",
   "id": "27da513c",
   "metadata": {},
   "source": [
    "### 2.1 Choice of Monoclonal antibodies :\n",
    "mAbs serve as the targeting moiety of ADCs, enabling selective binding to tumor-associated antigens. These antibodies are engineered to recognize antigens expressed predominantly on cancer cells, such as HER2 (breast cancer) or CD30 (lymphomas), while minimizing off-target effects on healthy tissues. The ideal mAb for ADCs exhibits high antigen affinity, efficient internalization upon binding, and low immunogenicity. <br>\n",
    "\n",
    "For example, trastuzumab (used in Kadcyla) targets HER2-positive breast cancer cells, while brentuximab (in Adcetris) binds CD30 on lymphoma cells. Advances in antibody engineering, including humanization and affinity maturation, have significantly improved tumor specificity and reduced immune responses."
   ]
  },
  {
   "cell_type": "markdown",
   "id": "15f4dc1a",
   "metadata": {},
   "source": [
    "### 2.2 Importance of Cytotoxic Payloads : \n",
    "The ADCs’ payloads play a key role in determining the efficacy of ADC drugs and thus have attracted great attention in the field. An ideal ADC payload should possess sufficient toxicity, low immunogenicity, stability in drug preparation and blood circulation and modifiable functional groups. Other characteristics including proper water solubility or bystander killing effect, though generally less essential, still have significant impacts on the effectiveness of an ADC. \n",
    "\n",
    "#### 2.2.1 Classes of Payloads : \n",
    "ADC payloads are primarily categorized into three major classes based on their mechanism of action:\n",
    "\n",
    "| Class                     | Mechanism of Action                                              | Examples                                   |\n",
    "|---------------------------|-----------------------------------------------------------------|--------------------------------------------|\n",
    "| Tubulin Inhibitors        | Disrupt microtubule dynamics, causing mitotic arrest and cell death | Auristatins (MMAE, MMAF), Maytansinoids (DM1, DM4), Tubulysins |\n",
    "| DNA Damaging Agents       | Induce DNA strand breaks or alkylate DNA, leading to apoptosis  | Calicheamicin, Duocarmycins, Pyrrolobenzodiazepines (PBDs)     |\n",
    "| Topoisomerase I Inhibitors| Inhibit topoisomerase I, preventing DNA replication and transcription | Deruxtecan (DXd), SN-38                    |\n",
    "\n",
    "Common ADC payloads include tubulin inhibitors and DNA damaging agents, with tubulin inhibitors accounting for more than half of the ADC drugs in clinical development.\n",
    "\n",
    "\n",
    "#### 2.2.2 Mechanism of Cytotoxicity :\n",
    "\n",
    "The mechanism of action of the payload is an important factor determining the performance of the ADC (For e.g., Adverse Reactions). Once an ADC is administered, it circulates in the bloodstream until it binds to its specific antigen on the surface of a tumor cell. This binding triggers the internalization of the ADC–antigen complex, which is then transported to the lysosome inside the cell. Within the lysosome, the complex is degraded, and the cytotoxic payload is released. <br>\n",
    "\n",
    "The released payload then acts on its intracellular target-such as microtubules, DNA, or RNA-disrupting essential cellular functions and inducing cell death. Some payloads are designed to have a bystander effect, meaning they can diffuse out of the targeted cell and kill neighboring cancer cells that may not express the target antigen. This is especially useful in tumors where antigen expression is uneven. However, achieving this effect requires a careful balance, as highly membrane-permeable payloads can also increase toxicity to healthy tissues."
   ]
  },
  {
   "cell_type": "markdown",
   "id": "86fc065a",
   "metadata": {},
   "source": [
    "### 2.3 Linkers : \n",
    "\n",
    "The linker connects the antibody and the cytotoxic payload and is a key component in the function of ADCs.<br>\n",
    "\n",
    "To be effective, a linker should be stable in plasma. It should not alter the behavior ofeither the drug or the antibody to which it is attached. The linker should be sufficiently hydrophilic to moderate or mitigate thesolubility effects of warheads, which, in most cases, are lipophilic.The linkers should not aggregate; since aggregation is likely to impair the activity of the antibody and may reduce the stability ofthe ADC. Finally, the linker should release the drug completelyand selectively under appropriate conditions. The choice oflinker will be determined by the functionality present on thedrug and the antibody. <br>\n",
    "\n",
    "Linkers can be divided into two majorclasses: \n",
    "\n",
    "#### Cleavable Linkers :\n",
    "\n",
    "The first type is the cleavable linkers, which has a chemical trigger in its structure that can be efficiently cleaved to release the cytotoxic payload in the tumor. They are engineered to remain stable in the bloodstream but to release the payload efficiently once inside the tumor environment. This release is triggered by specific conditions unique to tumors, such as acidic pH, elevated levels of certain enzymes, or a reductive environment. These linkers often contain chemical triggers that respond to these cues, ensuring that the cytotoxic drug is delivered primarily to cancer cells. \n",
    "\n",
    "More than 80% of the clinically approved ADCs employ cleavable linkers such as,  inotuzumab ozogamicin (Besponsa) and brentuximab vedotin (Adcetris).\n",
    "\n",
    "#### Non-Cleavable Linkers :\n",
    "\n",
    " The other type of linker is noncleavable. In contrast to the cleavable linker, there are no chemical triggers in this structure, and the linker is part of the payload. This type of linker has been employed only in ado-trastuzumab emtansine (Kadcyla, T-DM1) among the approved ADCs."
   ]
  },
  {
   "cell_type": "markdown",
   "id": "cba5bf4d",
   "metadata": {},
   "source": [
    "#### Challenges involved in Linker Design :\n",
    "\n",
    "Although ADCs have made remarkable strides in targeted cancer therapy, the continued advancement of this technology is increasingly limited by the challenges associated with linker design. Traditional linkers used in marketed ADCs present several significant drawbacks. \n",
    "\n",
    "Before we move further, it is essential to know some of the challenges involved in Linker Design mentioned here -  \n",
    "\n",
    "- Firstly, many classical linkers are prone to nonspecific payload release in non-tumorous tissues, which can cause off-target toxicity and restrict the therapeutic window. A prominent example is gemtuzumab ozogamicin (Mylotarg), which was withdrawn from the market in 2010 after reports of severe liver toxicity linked to its unstable N-acylhydrazone linker. Although Mylotarg was later re-approved in 2017 following a redesign, the FDA required a black-box warning due to the continued risk of liver toxicity. <br>\n",
    "\n",
    "- Secondly, the commonly used maleimide-based linkers, such as succinimidyl 4-(N-maleimidomethyl) cyclohexane-1-carboxylate (SMCC), are susceptible to retro-Michael elimination reactions. This instability can lead to a significant reduction in ADC efficacy over time. For example, studies have shown that the SMCC linker degrades to just 38% of its original form after 120 hours in mouse plasma, and Kadcyla, which contains an SMCC linker, exhibited a 29% decrease in drug-to-antibody ratio (DAR) after seven days in mice. <br>\n",
    "\n",
    "- Thirdly, the limited options for linker–payload attachment have become a bottleneck, especially as the field rapidly expands to include novel payloads for cancer treatment, antimicrobial therapy, and immune modulation. Many innovative payloads are awaiting suitable linker technologies to unlock their therapeutic potential.\n",
    "\n",
    "In response to these challenges, the past five years have seen significant progress in linker design. Key developments include the optimization of existing chemical triggers and the creation of novel triggers for highly selective linkers, the invention of new linker–antibody attachment strategies to produce more stable and homogeneous ADCs, the expansion of linker–payload attachment options to accommodate a wider range of payloads, and the refinement of linker properties to improve the absorption, distribution, metabolism, and excretion (ADME) profiles of ADCs."
   ]
  },
  {
   "cell_type": "markdown",
   "id": "83d0aaf3",
   "metadata": {},
   "source": [
    "### 2.4 Appropriate Drug To AntiBody Ratio (DAR) of ADC:\n",
    "\n",
    "Drug−antibody ratio (DAR) characterizes how many drug molecules an ADC can carry; theoretically, it should characterize the ability of an ADC to deliver drug to a tumor and thus positively correlate to effectiveness. However, the presence of large numbers of drugs (and thus large numbers of linkers) on an ADC perturbs the properties of the antibody. Lipophilic drugs and linkers increase the aggregation of ADC, preventing them from reaching their site of action; they may also hinder access to binding sites necessary for antigen recognition or binding, reducing the activity of the ADC. Reducing the lipophilicity of linker moieties has been used to reduce the negative consequences of antibody functionalization, but not the alteration in ADC properties. In addition, significant toxicity has been noted for ADC with high DAR (DAR ≥ 8) and high DAR may increase the clearance of ADC (reducing their residencetime and effectiveness). DAR is an important analytical property of ADC; the ability to produce ADC with consistent DAR is likely to lead to ADC with consistent properties and biological activity and thus is likely a critical attribute for ADC synthesis and production.\n",
    "\n",
    "##### Let's take a look into how DAR is measured :\n",
    "\n",
    "DAR is usually determined using laboratory techniques like mass spectrometry or UV spectrophotometry. These methods compare the amount of drug and antibody in a sample to calculate the average DAR.\n",
    "\n",
    "The most common formula for calculating average DAR using chromatographic peak areas is:"
   ]
  },
  {
   "cell_type": "markdown",
   "id": "79736a1c",
   "metadata": {},
   "source": [
    "\n",
    "$$\n",
    "\\text{DAR} = 2 \\times \\frac{\\sum (\\text{Weighted Peak Area of Heavy Chain}) + \\sum (\\text{Weighted Peak Area of Light Chain})}{100}\n",
    "$$\n",
    "\n",
    "or simply, "
   ]
  },
  {
   "cell_type": "markdown",
   "id": "48f2038b",
   "metadata": {},
   "source": [
    "$$\n",
    "\\text{DAR} = \\frac{\\sum_{i=0}^{n} (i \\times P_i)}{\\sum_{i=0}^{n} P_i}\n",
    "$$\n",
    "\n",
    "where:\n",
    "\n",
    "- $i$ is the number of drugs attached (e.g., 0, 2, 4, 6, 8)\n",
    "- $P_i$ is the percentage or area of the peak corresponding to species with $i$ drugs attached"
   ]
  },
  {
   "cell_type": "markdown",
   "id": "7644ed10",
   "metadata": {},
   "source": [
    "Second method through UV-based analysis, the absorbance at two wavelengths is used to set up simultaneous equations:\n"
   ]
  },
  {
   "cell_type": "markdown",
   "id": "bc380b26",
   "metadata": {},
   "source": [
    "$$\n",
    "A_{280} = \\varepsilon_{A,280} C_A + \\varepsilon_{D,280} C_D\n",
    "$$\n",
    "\n",
    "$$\n",
    "A_{\\lambda(D)} = \\varepsilon_{A,\\lambda(D)} C_A + \\varepsilon_{D,\\lambda(D)} C_D\n",
    "$$\n",
    "\n",
    "where:\n",
    "\n",
    "- $A_{280}$ and $A_{\\lambda(D)}$ are absorbances at 280 nm and at the drug’s maximum absorption wavelength, respectively  \n",
    "- $\\varepsilon$ are extinction coefficients  \n",
    "- $C_A$ and $C_D$ are concentrations of antibody and drug\n",
    "\n",
    "Solve for $C_A$ and $C_D$, then:\n",
    "\n",
    "$$\n",
    "\\text{DAR} = \\frac{C_D}{C_A}\n",
    "$$"
   ]
  },
  {
   "cell_type": "markdown",
   "id": "6df87ebc",
   "metadata": {},
   "source": [
    "#### Let's have a look, by plotting DAR values of some ADCs of - low, optimal, and highh DAR range with their specificity"
   ]
  },
  {
   "cell_type": "code",
   "execution_count": 12,
   "id": "93573589",
   "metadata": {},
   "outputs": [],
   "source": [
    "import deepchem as dc\n",
    "import numpy as np\n",
    "import matplotlib.pyplot as plt\n",
    "from sklearn.linear_model import LinearRegression"
   ]
  },
  {
   "cell_type": "code",
   "execution_count": 13,
   "id": "c7e11342",
   "metadata": {},
   "outputs": [],
   "source": [
    "\n",
    "# Features: [conjugation_type, linker_type, payload_hydrophobicity, stoichiometry, reaction_time]\n",
    "X = np.array([\n",
    "    [0, 1, 0.65, 2, 24],   # Low DAR\n",
    "    [1, 0, 0.87, 6, 24],   # Optimal DAR (T-DM1)\n",
    "    [1, 1, 0.92, 8, 24]    # High DAR (Brentuximab vedotin)\n",
    "])\n",
    "y = np.array([2.0, 3.5, 8.0])  # Actual DARs"
   ]
  },
  {
   "cell_type": "code",
   "execution_count": 14,
   "id": "6018162d",
   "metadata": {},
   "outputs": [],
   "source": [
    "dataset = dc.data.NumpyDataset(X, y)\n",
    "\n",
    "# Training a simple regression model\n",
    "model = dc.models.SklearnModel(LinearRegression())\n",
    "model.fit(dataset)"
   ]
  },
  {
   "cell_type": "code",
   "execution_count": null,
   "id": "857b5684",
   "metadata": {},
   "outputs": [],
   "source": [
    "\n",
    "# Predicting DARs of ADCs\n",
    "\n",
    "y_pred = model.predict(dataset).flatten()"
   ]
  },
  {
   "cell_type": "code",
   "execution_count": null,
   "id": "542fe068",
   "metadata": {},
   "outputs": [
    {
     "data": {
      "image/png": "[encoded data removed]",
      "text/plain": [
       "<Figure size 600x400 with 1 Axes>"
      ]
     },
     "metadata": {},
     "output_type": "display_data"
    }
   ],
   "source": [
    "# actual vs predicted DAR \n",
    "\n",
    "plt.figure(figsize=(6,4))\n",
    "plt.scatter(y, y_pred, color='blue', s=60)\n",
    "plt.plot([min(y), max(y)], [min(y), max(y)], 'r--', label='Ideal')\n",
    "for i, label in enumerate(['Low DAR', 'Optimal DAR', 'High DAR']):\n",
    "    plt.annotate(label, (y[i], y_pred[i]), textcoords=\"offset points\", xytext=(5,5), ha='left')\n",
    "plt.xlabel('Actual DAR')\n",
    "plt.ylabel('Predicted DAR')\n",
    "plt.title('Actual vs Predicted DAR for Three ADCs')\n",
    "plt.legend()\n",
    "plt.show()"
   ]
  },
  {
   "cell_type": "code",
   "execution_count": 18,
   "id": "0f3d8660",
   "metadata": {},
   "outputs": [
    {
     "name": "stdout",
     "output_type": "stream",
     "text": [
      "Mean Squared Error: 0.00\n",
      "R^2 Score: 1.00\n"
     ]
    }
   ],
   "source": [
    "# Evaluating model performance\n",
    "from sklearn.metrics import mean_squared_error, r2_score\n",
    "mse = mean_squared_error(y, y_pred)\n",
    "r2 = r2_score(y, y_pred)\n",
    "print(f'Mean Squared Error: {mse:.2f}')\n",
    "print(f'R^2 Score: {r2:.2f}')"
   ]
  }
 ],
 "metadata": {
  "kernelspec": {
   "display_name": "deepchem",
   "language": "python",
   "name": "python3"
  },
  "language_info": {
   "codemirror_mode": {
    "name": "ipython",
    "version": 3
   },
   "file_extension": ".py",
   "mimetype": "text/x-python",
   "name": "python",
   "nbconvert_exporter": "python",
   "pygments_lexer": "ipython3",
   "version": "3.8.20"
  }
 },
 "nbformat": 4,
 "nbformat_minor": 5
}
