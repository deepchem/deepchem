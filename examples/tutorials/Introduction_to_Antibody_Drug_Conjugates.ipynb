{
 "cells": [
  {
   "cell_type": "markdown",
   "id": "4a8bc46a",
   "metadata": {},
   "source": [
    "# Introduction To AntiBody Drug-Conjugates **(ADCs)** "
   ]
  },
  {
   "cell_type": "markdown",
   "id": "59a34f53",
   "metadata": {},
   "source": [
    "Antibody-Drug Conjugates, or ADCs are innovative cancer therapies designed to deliver powerful drugs directly to cancer cells, much like guided missiles. By leveraging monoclonal antibodies (mAbs)- proteins that precisely target tumor-specific markers, ADCs deliver cytotoxic (cell-killing) agents to tumor sites, minimizing harm to healthy cells. This targeted approach makes ADCs a promising tool in oncology, offering hope for patients with hard-to-treat cancers. With ongoing advancements, ADCs combine the selectivity of mAbs with the potency of chemotherapeutic drugs, positioning them at the forefront of cancer treatment innovation.\n",
    "\n",
    "This tutorial is made to run without any GPU support, and can be used in Google colab. If you'd like to open this notebook in colab, you can use the following link.\n",
    "\n",
    "[![Open In Colab](https://colab.research.google.com/assets/colab-badge.svg)](https://colab.research.google.com/drive/1D9Z4GSu3shuX2aAQoeHs2_qltsHlbCoc#scrollTo=cb84bffb)"
   ]
  },
  {
   "cell_type": "markdown",
   "id": "aa3694bb",
   "metadata": {},
   "source": [
    "In this tutorial we will explore the fundamental concepts of Antibody-Drug Conjugates(ADCs), with a focus on the key properties \n",
    "that play a crucial role in the design and development of safe and stable ADCs. This tutorial is divided into following sections - \n",
    "\n",
    "## Table of Contents\n",
    "* [Background Literature](#background-literature)\n",
    "* [Introduction](#introduction)\n",
    "* [Fundamental Concepts of ADCs](#fundamental-concepts)\n",
    "* [ADC Design and Optimization](#adc-design)\n",
    "* [Computational Approaches for ADC Analysis](#computational-approaches)\n",
    "* [Further Reading](#further-reading)"
   ]
  },
  {
   "cell_type": "markdown",
   "id": "0f5788ba",
   "metadata": {},
   "source": [
    "## Background Literature <a name=\"background-literature\"></a>\n",
    "\n",
    "Traditional cancer chemotherapy, while effective in targeting rapidly dividing cells, often causes significant systemic toxicity due to its lack of selectivity, affecting both cancerous and healthy tissues. Monoclonal antibodies (mAbs) offer a promising alternative by specifically targeting tumor-associated antigens, enabling selective delivery of therapeutic agents to cancer cells. \n",
    "\n",
    "However, mAbs alone typically lack sufficient potency to eradicate tumors effectively. Antibody-Drug Conjugates (ADCs) address this limitation by combining the specificity of mAbs with the cytotoxic potency of chemotherapeutic drugs, delivering highly potent cytotoxic (cell-killing) payloads directly to tumor cells . This targeted approach enhances the therapeutic index of chemotherapeutic agents, minimizing off-target effects and improving patient outcomes."
   ]
  },
  {
   "cell_type": "markdown",
   "id": "e759aa0e",
   "metadata": {},
   "source": [
    "## Introduction <a name=\"introduction\"></a>"
   ]
  },
  {
   "cell_type": "markdown",
   "id": "2c442a40",
   "metadata": {},
   "source": [
    "### ADCs - what they are\n",
    "\n",
    "Antibody-Drug Conjugates (ADCs) are a class of biopharmaceuticals designed for targeted cancer therapy, delivering potent cytotoxic (cell-killing) drugs directly to tumor cells while minimizing harm to healthy tissues. Unlike traditional chemotherapy, which often causes systemic toxicity due to non-specific action, ADCs leverage the precision of monoclonal antibodies (mAbs) to selectively bind tumor-associated antigens, ensuring the cytotoxic payload is released primarily within cancer cells. As of 2025, over 60 pharmaceutical companies are actively developing ADCs, with several, such as Brentuximab Vedotin and Trastuzumab Emtansine, approved for clinical use in treating hematological and solid tumors."
   ]
  },
  {
   "cell_type": "markdown",
   "id": "43a3a67a",
   "metadata": {},
   "source": [
    "### Key Components of ADC\n",
    "\n",
    "The structure of an ADC consists of three main components: \n",
    "\n",
    "- **Monoclonal Antibody(mAb)** : The antibody used in ADCs should be specific for a tumor-associated antigen that has restricted expression on normal cells and overexpressed on cancer cells. This allows the ADC to selectively target cancer cells while sparing normal cells.\n",
    "\n",
    "- **Cytotoxic drug payload** : The payload is designed to kill target cells when internalized and released. These payloads are often drugs that are highly toxic and require antibodies to specifically target cancer cells so they do not affect healthy cells. \n",
    "\n",
    "- **Linker molecule** : A chemical bridge linking the mAb and payload, stable in circulation but designed to release the drug in tumor cells. Linkers (cleavable, e.g., Adcetris, or non-cleavable, e.g., Kadcyla) influence ADC stability, solubility, and toxicity."
   ]
  },
  {
   "cell_type": "markdown",
   "id": "9769aff3",
   "metadata": {},
   "source": [
    "### Why Are ADCs Essential ?\n",
    "\n",
    "ADCs revolutionize cancer treatment in many ways. Some of them are : \n",
    "\n",
    "- **Targeted Therapy**: Unlike traditional chemotherapy, which indiscriminately targets rapidly dividing cells and causes significant toxicity, ADCs selectively deliver cytotoxic (cell-killing) payloads to cancer cells, sparing healthy tissues and improving patient outcomes .\n",
    "\n",
    "- **Enhanced Therapeutic Index**: By focusing drug action on tumor cells, ADCs achieve higher efficacy at lower doses, reducing systemic side effects compared to conventional chemotherapies. Approved ADCs like Brentuximab Vedotin and Trastuzumab Emtansine have demonstrated significant clinical success in treating lymphomas and breast cancer, respectively.\n",
    "\n",
    "- **Versatility Across Cancers**: ADCs can target a wide range of tumor-associated antigens, making them applicable to various cancers, including those resistant to standard treatments. \n",
    "\n",
    "- **Overcoming Resistance**: ADCs can address drug resistance by delivering novel payloads with distinct mechanisms of action, such as DNA-damaging agents or tubulin inhibitors, bypassing resistance pathways in cancer cells"
   ]
  },
  {
   "cell_type": "markdown",
   "id": "e5975275",
   "metadata": {},
   "source": [
    "<img src=\"https://media.springernature.com/full/springer-static/image/art%3A10.1038%2Fs41392-022-00947-7/MediaObjects/41392_2022_947_Fig2_HTML.png?as=webp\" alt=\"image.png\" height=\"400\" width=\"900\">\n",
    "\n",
    "---\n",
    "\n",
    "**Fig.1** : Schematic description of an ADC. The core components including target antigen, antibody, linker, cytotoxic drug along with their key functions are demonstrated."
   ]
  },
  {
   "cell_type": "markdown",
   "id": "8e4da6d0",
   "metadata": {},
   "source": [
    "## Fundamental Concepts of ADC <a name=\"fundamental-concepts\"></a>\n",
    "\n",
    "Here we cover some properties of the key components of ADC, and mechanism of action along with the setbacks involved in the development."
   ]
  },
  {
   "cell_type": "markdown",
   "id": "27da513c",
   "metadata": {},
   "source": [
    "### 2.1 Choice of Monoclonal antibodies :\n",
    "Monoclonal antibodies (mAbs) are the guiding component of Antibody-Drug Conjugates (ADCs), acting like a GPS to deliver the drug directly to cancer cells. They are designed to recognize specific markers, called antigens, found mostly on cancer cells, such as HER2 in breast cancer or CD30 in lymphomas, while avoiding healthy cells. This selective targeting helps ADCs attack tumors without harming the rest of the body.\n",
    "\n",
    " An ideal mAb has three key features: \n",
    "  - It binds strongly to the cancer cell’s antigen,\n",
    "  - Gets absorbed quickly into the tumor cell to deliver the drug, and\n",
    "  - Causes minimal immune reactions to keep the treatment safe. \n",
    "\n",
    "For instance : trastuzumab in Kadcyla targets HER2 on breast cancer cells, and brentuximab in Adcetris targets CD30 on lymphoma cells. Thanks to advances in antibody engineering, like humanization (making antibodies more like those in the human body), mAbs are now more precise and less likely to trigger unwanted immune responses, making ADCs safer and more effective."
   ]
  },
  {
   "cell_type": "markdown",
   "id": "15f4dc1a",
   "metadata": {},
   "source": [
    "### 2.2 Importance of Cytotoxic Payloads : \n",
    "The ADCs’ payloads play a key role in determining the efficacy of ADC drugs and thus have attracted great attention in the field. An ideal payload must be highly potent to destroy cancer cells, stable in the bloodstream to avoid premature release, and chemically adaptable to connect with the antibody via a linker . It should also have low immunogenicity to prevent unwanted immune reactions and proper solubility to ensure the ADC dissolves well in the body . \n",
    "\n",
    "Some payloads have a \"bystander effect,\" meaning they can kill nearby cancer cells, even those without the target marker, which is useful for tumors with uneven marker expression . However, payloads must be carefully designed to avoid toxicity to healthy tissues.\n",
    "\n",
    "#### 2.2.1 Classes of Payloads : \n",
    "ADC payloads are grouped into three main types based on how they attack cancer cells. Each type works differently to stop cancer cells from growing or surviving.\n",
    "| Class                     | Mechanism of Action                                              | Examples                                   |\n",
    "|---------------------------|-----------------------------------------------------------------|--------------------------------------------|\n",
    "| Tubulin Inhibitors        | Disrupt microtubule dynamics, causing mitotic arrest and cell death | Auristatins (MMAE, MMAF), Maytansinoids (DM1, DM4), Tubulysins |\n",
    "| DNA Damaging Agents       | Induce DNA strand breaks or alkylate DNA, leading to apoptosis  | Calicheamicin, Duocarmycins, Pyrrolobenzodiazepines (PBDs)     |\n",
    "| Topoisomerase I Inhibitors| Inhibit topoisomerase I, preventing DNA replication and transcription | Deruxtecan (DXd), SN-38                    |\n",
    "\n",
    "Common ADC payloads include tubulin inhibitors and DNA damaging agents, with tubulin inhibitors accounting for more than half of the ADC drugs in clinical development.\n",
    "\n",
    "\n",
    "#### 2.2.2 Mechanism of Cytotoxicity :\n",
    "\n",
    "The mechanism of action of the payload is an important factor determining the performance of the ADC (For e.g., Adverse Reactions). Once an ADC is administered, it circulates in the bloodstream until it binds to its specific antigen on the surface of a tumor cell. This binding triggers the internalization of the ADC–antigen complex, which is then transported to the lysosome inside the cell. Within the lysosome, the complex is degraded, and the cytotoxic payload is released. <br>\n",
    "\n",
    "The released payload then acts on its intracellular target-such as microtubules, DNA, or RNA-disrupting essential cellular functions and inducing cell death. Some payloads are designed to have a bystander effect, meaning they can diffuse out of the targeted cell and kill neighboring cancer cells that may not express the target antigen. This is especially useful in tumors where antigen expression is uneven. However, achieving this effect requires a careful balance, as highly membrane-permeable payloads can also increase toxicity to healthy tissues."
   ]
  },
  {
   "cell_type": "markdown",
   "id": "86fc065a",
   "metadata": {},
   "source": [
    "### 2.3 Linkers : \n",
    "\n",
    "Linker in ADC bridges the antibody with the cytotoxic drug. It is one of the key factors related to the stability of ADC and payload release profiles, and is therefore important for the ultimate therapeutic index of ADCs. An ideal linker should not induce ADC aggregation, and it is expected to limit premature release of payloads in plasma and to promote active drugs release at desired targeted sites. Depending on the metabolic fate in cells, two types of linkers including cleavable and non-cleavable linkers have been employed in most of ADC drugs. <br>\n",
    "\n",
    "Linkers can be divided into two majorclasses: \n",
    "\n",
    "#### Cleavable Linkers :\n",
    "\n",
    "The first type is the cleavable linkers, which has a chemical trigger in its structure that can be efficiently cleaved to release the cytotoxic payload in the tumor. They are engineered to remain stable in the bloodstream but to release the payload efficiently once inside the tumor environment. This release is triggered by specific conditions unique to tumors, such as acidic pH, elevated levels of certain enzymes, or a reductive environment. These linkers often contain chemical triggers that respond to these cues, ensuring that the cytotoxic drug is delivered primarily to cancer cells. \n",
    "\n",
    "More than 80% of the clinically approved ADCs employ cleavable linkers such as,  inotuzumab ozogamicin (Besponsa) and brentuximab vedotin (Adcetris).\n",
    "\n",
    "#### Non-Cleavable Linkers :\n",
    "\n",
    " The other type of linker is noncleavable. In contrast to the cleavable linker, there are no chemical triggers in this structure, and the linker is part of the payload. This type of linker has been employed only in ado-trastuzumab emtansine (Kadcyla, T-DM1) among the approved ADCs."
   ]
  },
  {
   "cell_type": "markdown",
   "id": "cba5bf4d",
   "metadata": {},
   "source": [
    "#### Challenges involved in Linker Design :\n",
    "\n",
    "Although ADCs have made remarkable strides in targeted cancer therapy, the continued advancement of this technology is increasingly limited by the challenges associated with linker design. Traditional linkers used in marketed ADCs present several significant drawbacks. \n",
    "\n",
    "Before we move further, it is essential to know some of the challenges involved in Linker Design mentioned here -  \n",
    "\n",
    "- Firstly, many classical linkers are prone to nonspecific payload release in non-tumorous tissues, which can cause off-target toxicity and restrict the therapeutic window. A prominent example is gemtuzumab ozogamicin (Mylotarg), which was withdrawn from the market in 2010 after reports of severe liver toxicity linked to its unstable N-acylhydrazone linker. Although Mylotarg was later re-approved in 2017 following a redesign, the FDA required a black-box warning due to the continued risk of liver toxicity. <br>\n",
    "\n",
    "- Secondly, the commonly used maleimide-based linkers, such as succinimidyl 4-(N-maleimidomethyl) cyclohexane-1-carboxylate (SMCC), are susceptible to retro-Michael elimination reactions. This instability can lead to a significant reduction in ADC efficacy over time. For example, studies have shown that the SMCC linker degrades to just 38% of its original form after 120 hours in mouse plasma, and Kadcyla, which contains an SMCC linker, exhibited a 29% decrease in drug-to-antibody ratio (DAR) after seven days in mice. <br>\n",
    "\n",
    "- Thirdly, the limited options for linker–payload attachment have become a bottleneck, especially as the field rapidly expands to include novel payloads for cancer treatment, antimicrobial therapy, and immune modulation. Many innovative payloads are awaiting suitable linker technologies to unlock their therapeutic potential.\n",
    "\n",
    "In response to these challenges, the past five years have seen significant progress in linker design. Key developments include the optimization of existing chemical triggers and the creation of novel triggers for highly selective linkers, the invention of new linker–antibody attachment strategies to produce more stable and homogeneous ADCs, the expansion of linker–payload attachment options to accommodate a wider range of payloads, and the refinement of linker properties to improve the absorption, distribution, metabolism, and excretion (ADME) profiles of ADCs."
   ]
  },
  {
   "cell_type": "markdown",
   "id": "83d0aaf3",
   "metadata": {},
   "source": [
    "### 2.4 Understanding and Measuring the Drug-Antibody Ratio (DAR) in ADCs :\n",
    "\n",
    "The Drug-Antibody Ratio (DAR) measures how many drug molecules are attached to each antibody in an ADC; theoretically, it should characterize the ability of an ADC to deliver drug to a tumor and thus positively correlate to effectiveness. However, the presence of large numbers of drugs (and thus large numbers of linkers) on an ADC perturbs the properties of the antibody. Lipophilic drugs and linkers increase the aggregation of ADC, preventing them from reaching their site of action; they may also hinder access to binding sites necessary for antigen recognition or binding,reducing the activity of the ADC. Reducing the lipophilicity of linker moieties has been used to reduce the negative consequences of antibody functionalization, but not the alteration in ADC properties. In addition, significant toxicity has been noted for ADC with high DAR (DAR ≥ 8) and high DAR may increase the clearance of ADC (reducing their residence time and effectiveness). DAR is an important analytical property of ADC; the ability to produce ADC with consistent DAR is likely to lead to ADC with consistent properties and biological activity and thus is likely a critical attribute for ADC synthesis and production.\n",
    "\n",
    "#### 2.4.1 Why DAR Matters:\n",
    "\n",
    "DAR is more than just a number. A higher DAR means more drug molecules, potentially increasing tumor-killing potential, but it comes with trade-offs such as:\n",
    "\n",
    "- **Aggregation Risk**: Lipophilic drugs and linkers, common in high-DAR ADCs, increase hydrophobicity, leading to aggregation that prevents ADCs from reaching their target.\n",
    "\n",
    "- **Binding Interference**: Excessive drug loading (e.g., DAR ≥ 8) can sterically block antigen-binding sites, reducing specificity and activity.\n",
    "\n",
    "- **Toxicity and Clearance**: High DAR is linked to significant toxicity and faster plasma clearance, shortening residence time and limiting efficacy.\n",
    "\n",
    "- **Consistency is Key**: Producing ADCs with uniform DAR ensures predictable biological activity, making it a critical attribute for manufacturing and therapeutic success.\n",
    "\n",
    "##### 2.4.2 Measuring DAR :\n",
    "\n",
    "DAR is usually determined using laboratory techniques like mass spectrometry or UV spectrophotometry. These methods compare the amount of drug and antibody in a sample to calculate the average DAR.\n",
    "\n",
    "The most common formula for calculating average DAR using chromatographic peak areas is:"
   ]
  },
  {
   "cell_type": "markdown",
   "id": "79736a1c",
   "metadata": {},
   "source": [
    "$$\n",
    "\\text{DAR} = 2 \\times \\frac{\\sum (\\text{Weighted Peak Area of Heavy Chain}) + \\sum (\\text{Weighted Peak Area of Light Chain})}{100}\n",
    "$$\n",
    "\n",
    "or simply, "
   ]
  },
  {
   "cell_type": "markdown",
   "id": "48f2038b",
   "metadata": {},
   "source": [
    "$$\n",
    "\\text{DAR} = \\frac{\\sum_{i=0}^{n} (i \\times P_i)}{\\sum_{i=0}^{n} P_i}\n",
    "$$\n",
    "\n",
    "where:\n",
    "\n",
    "- $i$ is the number of drugs attached\n",
    "- $P_i$ is the percentage or area of the peak corresponding to species with $i$ drugs attached"
   ]
  },
  {
   "cell_type": "markdown",
   "id": "7644ed10",
   "metadata": {},
   "source": [
    "Secondly, through UV-based analysis, the absorbance at two wavelengths is used to set up simultaneous equations:\n"
   ]
  },
  {
   "cell_type": "markdown",
   "id": "bc380b26",
   "metadata": {},
   "source": [
    "$$\n",
    "A_{280} = \\varepsilon_{A,280} C_A + \\varepsilon_{D,280} C_D\n",
    "$$\n",
    "\n",
    "$$\n",
    "A_{\\lambda(D)} = \\varepsilon_{A,\\lambda(D)} C_A + \\varepsilon_{D,\\lambda(D)} C_D\n",
    "$$\n",
    "\n",
    "where:\n",
    "\n",
    "- $A_{280}$ and $A_{\\lambda(D)}$ are absorbances at 280 nm and at the drug’s maximum absorption wavelength, respectively  \n",
    "- $\\varepsilon$ are extinction coefficients  \n",
    "- $C_A$ and $C_D$ are concentrations of antibody and drug\n",
    "\n",
    "Solve for $C_A$ and $C_D$, then:\n",
    "\n",
    "$$\n",
    "\\text{DAR} = \\frac{C_D}{C_A}\n",
    "$$"
   ]
  },
  {
   "cell_type": "markdown",
   "id": "43f4263e",
   "metadata": {},
   "source": [
    "### 2.5 Mechanism of action of ADC : \n",
    "\n",
    "This section explains the core mechanism of ADCs working.\n",
    "\n",
    "<img src=\"https://www.musechem.com/wp-content/uploads/2023/08/img_256.png\" width= \"800\" height=\"400\"></img>\n",
    "\n",
    "**Fig.1** : Schematic description of mechanism of action of an ADC. The core components including target antigen, antibody, linker, cytotoxic drug along with their key functions are demonstrated.\n",
    "\n",
    "Initially, following its introduction into the body, the ADC binds to the target cell antigen after traversing numerous barriers. This interaction culminates in the creation of an ADC-antigen complex that gains entry into the cell via plectin-facilitated endocytosis. Once inside the cell, the complex experiences fusion between the lysosome and endosome, leading to the cleavage of the intracellular linker. This action results in the liberation and activation of the small-molecule cytotoxic drug. Upon release into the cytoplasm, the drug exerts its effects, which encompass DNA insertion or the inhibition of microtubule polymerization. Consequently, tumor cells are eliminated, prompting apoptosis in the targeted cells. Notably, the potent payload’s impact may extend to neighboring tumor cells upon the demise of the target cell, a phenomenon known as the bystander effect."
   ]
  },
  {
   "cell_type": "markdown",
   "id": "0c610dfa",
   "metadata": {},
   "source": [
    "## ADC Design and Optimization <a name= \"adc-design\"></a>"
   ]
  },
  {
   "cell_type": "markdown",
   "id": "a331f12c",
   "metadata": {},
   "source": [
    "### 3.1 Selection and Optimization of Antibodies\n",
    "\n",
    "The selection and optimization of antibodies have been extremely relevant in the ADC design. For direct delivery of cytotoxic drugs to tumour cells, the humanized and/or fully human mAbs with high target-affinity and target-specificity to the same antigen determinant are preferentially used to minimize immunogenicity issues. The ideal antibody also needs to target well-characterized and tumour-specific or tumour-associated antigens with sufficient binding affinity and specificity. In addition, the antigen-binding characteristics of antibodies are needed to be maintained when connected to the required number of cytotoxic drug molecules via linker."
   ]
  },
  {
   "cell_type": "markdown",
   "id": "2a9c5ae0",
   "metadata": {},
   "source": [
    "### 3.2 Target Antigen Selection\n",
    "\n",
    "The success of Antibody-Drug Conjugates (ADCs) hinges on selecting the right target antigen to ensure precise delivery of the cytotoxic payload to tumor cells. Effective antigens are uniformly expressed on cancer cells or within the tumor microenvironment, with minimal presence on healthy tissues to avoid off-target effects. \n",
    "Over 50 antigens, such as CD19, HER2, CD22, CD30, CD33, CD79b, and Mesothelin, have been validated as ADC targets across clinical stages. Optimal antigen selection considers tumor type, size, and antigen concentration, balancing antibody-antigen binding affinity with internalization kinetics. Rapid internalization enhances payload delivery via endosomes to lysosomes, where linkers are cleaved or antibodies degraded to release the drug. However, overly strong binding can limit penetration in solid tumors due to a “binding site barrier,” trapping ADCs near blood vessels. Cleavable linkers allow payloads to escape and kill nearby antigen-negative cells via the bystander effect, while noncleavable linkers rely on proteolysis, producing charged drug residues that struggle to diffuse out. Lipophilicity impacts this process, as charged residues resist membrane crossing and ABC transporter export, affecting efficacy. Targeting functional antigens like HER2, as in T-DM1 and T-DXd, boosts antitumor activity by blocking signaling. Ongoing research explores stromal and vascular antigens to broaden ADC potential, leveraging the bystander-killing effect to tackle heterogeneous expression in solid tumors."
   ]
  },
  {
   "cell_type": "markdown",
   "id": "ea488fe6",
   "metadata": {},
   "source": [
    "### 3.3 Linker stability and safety considerations"
   ]
  },
  {
   "cell_type": "markdown",
   "id": "11ebd6a4",
   "metadata": {},
   "source": [
    "## Computational Approaches for ADC Analysis <a name= \"computational-approaches\"></a>"
   ]
  },
  {
   "cell_type": "markdown",
   "id": "67e58d78",
   "metadata": {},
   "source": [
    "3D Modeling Brentuximab vedotin with cytoxin payload of monomethyl auristatin E (MMAE)"
   ]
  },
  {
   "cell_type": "code",
   "execution_count": null,
   "id": "caaff16e",
   "metadata": {},
   "outputs": [
    {
     "data": {
      "image/jpeg": "[encoded data removed]",
      "image/png": "[encoded data removed]",
      "text/plain": [
       "<PIL.PngImagePlugin.PngImageFile image mode=RGB size=300x300>"
      ]
     },
     "execution_count": 2,
     "metadata": {},
     "output_type": "execute_result"
    }
   ],
   "source": [
    "from rdkit import Chem\n",
    "from rdkit.Chem import Draw\n",
    "\n",
    "smiles = \"CC(C)Cc1ccc(cc1)C(C)C(=O)O\"  # Ex: Ibuprofen\n",
    "molecule = Chem.MolFromSmiles(smiles)\n",
    "Draw.MolToImage(molecule)"
   ]
  },
  {
   "cell_type": "markdown",
   "id": "6e35f122",
   "metadata": {},
   "source": [
    "## Futher Reading"
   ]
  },
  {
   "cell_type": "markdown",
   "id": "ea6db999",
   "metadata": {},
   "source": [
    "# Congratulations! Time to join the Community!\n",
    "\n",
    "Congratulations on completing this tutorial notebook! If you enjoyed working through the tutorial, and want to continue working with DeepChem, we encourage you to finish the rest of the tutorials in this series. You can also help the DeepChem community in the following ways:"
   ]
  },
  {
   "cell_type": "markdown",
   "id": "9c76089e",
   "metadata": {},
   "source": [
    "## Star DeepChem on [GitHub](https://github.com/deepchem/deepchem)\n",
    "This helps build awareness of the DeepChem project and the tools for open source drug discovery that we're trying to build.\n"
   ]
  },
  {
   "cell_type": "markdown",
   "id": "82782b17",
   "metadata": {},
   "source": [
    "## Join the DeepChem Discord\n",
    "The DeepChem [Discord](https://discord.gg/cGzwCdrUqS) hosts a number of scientists, developers, and enthusiasts interested in deep learning for the life sciences. Join the conversation!"
   ]
  },
  {
   "cell_type": "markdown",
   "id": "104883b9",
   "metadata": {},
   "source": [
    "# Citing this tutorial\n",
    "If you found this tutorial useful please consider citing it using the provided BibTeX."
   ]
  }
 ],
 "metadata": {
  "kernelspec": {
   "display_name": "deepchem",
   "language": "python",
   "name": "python3"
  },
  "language_info": {
   "codemirror_mode": {
    "name": "ipython",
    "version": 3
   },
   "file_extension": ".py",
   "mimetype": "text/x-python",
   "name": "python",
   "nbconvert_exporter": "python",
   "pygments_lexer": "ipython3",
   "version": "3.8.20"
  }
 },
 "nbformat": 4,
 "nbformat_minor": 5
}
