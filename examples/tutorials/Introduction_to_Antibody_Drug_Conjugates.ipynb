{
 "cells": [
  {
   "cell_type": "markdown",
   "id": "4a8bc46a",
   "metadata": {},
   "source": [
    "# Introduction To AntiBody Drug-Conjugates **(ADCs)** "
   ]
  },
  {
   "cell_type": "markdown",
   "id": "59a34f53",
   "metadata": {},
   "source": [
    "Antibody−drug conjugates (ADCs) are currently among the most promising drug modality in oncology. This is because of their ability to deliver cytotoxic agents to specific tumor sites, combining the selectivity of monoclonal antibodies (mAbs) and the efficacy of chemotherapeutic drugs. With ongoing innovations, ADCs are poised to remain at the forefront of oncology, offering new hope for patients with difficult-to-treat malignancies."
   ]
  },
  {
   "cell_type": "markdown",
   "id": "cb84bffb",
   "metadata": {},
   "source": [
    "## Background Literature\n",
    "\n",
    "Traditional cancer chemotherapy is often accompanied by systemic toxicity to the patient. Monoclonal antibodies against antigens on cancer cells offer an alternative tumor-selective treatment approach. However, most monoclonal antibodies are not sufficiently potent to be therapeutically active on their own. Antibody-drug conjugates (ADCs) use antibodies to deliver a potent cytotoxic compound selectively to tumor cells, thus improving the therapeutic index of chemotherapeutic agents."
   ]
  },
  {
   "cell_type": "markdown",
   "id": "aa3694bb",
   "metadata": {},
   "source": [
    "In this tutorial we will explore the fundamental concepts of Antibody-Drug Conjugates(ADCs), with a focus on the key properties \n",
    "that play a crucial role in the design and development of safe and stable ADCs. This tutorial is divided into following sections - \n",
    "\n",
    "#### Table of Contents:\n",
    "* [Introduction](#introduction)\n",
    "* [Fundamental Concepts of ADCs](#fundamental-concepts)\n",
    "* [Design and Development](#adc-design)\n",
    "* [Computational Approaches to study ADCs](#computational-approaches)\n",
    "* [Further Reading](#further-reading)\n",
    "\n",
    "This tutorial is made to run without any GPU support, and can be used in Google colab. If you'd like to open this notebook in colab, you can use the following link.\n",
    "\n",
    "[![Open In Colab](https://colab.research.google.com/assets/colab-badge.svg)](https://colab.research.google.com/github/deepchem/deepchem/blob/master/examples/tutorials/Introduction_to_Antibody_Drug_Conjugates.ipynb)"
   ]
  },
  {
   "cell_type": "markdown",
   "id": "e759aa0e",
   "metadata": {},
   "source": [
    "## Introduction <a name=\"introduction\"></a>"
   ]
  },
  {
   "cell_type": "markdown",
   "id": "2c442a40",
   "metadata": {},
   "source": [
    "### ADCs - what they are\n",
    "\n",
    "Antibody–drug conjugates or ADCs are a class of biopharmaceutical drugs designed as a targeted therapy for treating cancer.Unlike chemotherapy, ADCs are intended to target and kill tumor cells while sparing healthy cells. As of 2019, some 56 pharmaceutical companies were developing ADCs. ADCs are complex molecules composed of an antibody linked to a biologically active cytotoxic (anticancer) payload or drug. Antibody-drug conjugates are examples of bioconjugates and immunoconjugates. ADCs combine the targeting properties of monoclonal antibodies with the cancer-killing capabilities of cytotoxic drugs, designed to discriminate between healthy and diseased tissue."
   ]
  },
  {
   "cell_type": "markdown",
   "id": "43a3a67a",
   "metadata": {},
   "source": [
    "##### Key Components of ADC\n",
    "\n",
    "The structure of an ADC consists of three main components: \n",
    "\n",
    "- **Monoclonal Antibody(mAb)** : The antibody used in ADCs should be specific for a tumor-associated antigen that has restricted expression on normal cells and overexpressed on cancer cells. This allows the ADC to selectively target cancer cells while sparing normal cells.\n",
    "\n",
    "- **Cytotoxic drug payload** : The payload is designed to kill target cells when internalized and released. These payloads are often drugs that are highly toxic and require antibodies to specifically target cancer cells so they do not affect healthy cells. \n",
    "\n",
    "- **Linker molecule** : The linker molecule attaches the cytotoxic drug to the antibody,that is stable in circulation, but releases the cytotoxic agent in target cells. Linkers can have many characteristics (e.g., cleavable vs. non-cleavable) and can affect ADC solubility, stability, toxicity, and other factors."
   ]
  },
  {
   "cell_type": "markdown",
   "id": "e5975275",
   "metadata": {},
   "source": [
    "<img src=\"https://media.springernature.com/full/springer-static/image/art%3A10.1038%2Fs41392-022-00947-7/MediaObjects/41392_2022_947_Fig2_HTML.png?as=webp\" alt=\"image.png\" height=\"400\" width=\"900\">\n",
    "\n",
    "---\n",
    "\n",
    "**Fig.1** : Schematic description of an ADC. The core components including target antigen, antibody, linker, cytotoxic drug along with their key functions are demonstrated."
   ]
  },
  {
   "cell_type": "markdown",
   "id": "8e4da6d0",
   "metadata": {},
   "source": [
    "## Fundamental Concepts of ADC <a name=\"fundamental-concepts\"></a>\n",
    "\n",
    "Here we cover some properties of the key components of ADC, and mechanism of action along with the setbacks involved in the development."
   ]
  },
  {
   "cell_type": "markdown",
   "id": "27da513c",
   "metadata": {},
   "source": [
    "### 2.1 Monoclonal antibodies :\n",
    "mAbs serve as the targeting moiety of ADCs, enabling selective binding to tumor-associated antigens. These antibodies are engineered to recognize antigens expressed predominantly on cancer cells, such as HER2 (breast cancer) or CD30 (lymphomas), while minimizing off-target effects on healthy tissues. The ideal mAb for ADCs exhibits high antigen affinity, efficient internalization upon binding, and low immunogenicity. <br>\n",
    "\n",
    "For example, trastuzumab (used in Kadcyla) targets HER2-positive breast cancer cells, while brentuximab (in Adcetris) binds CD30 on lymphoma cells. Advances in antibody engineering, including humanization and affinity maturation, have significantly improved tumor specificity and reduced immune responses."
   ]
  },
  {
   "cell_type": "markdown",
   "id": "15f4dc1a",
   "metadata": {},
   "source": [
    "### 2.2 Importance of Cytotoxic Payloads : \n",
    "The ADCs’ payloads play a key role in determining the efficacy of ADC drugs and thus have attracted great attention in the field. An ideal ADC payload should possess sufficient toxicity, low immunogenicity, stability in drug preparation and blood circulation and modifiable functional groups. Other characteristics including proper water solubility or bystander killing effect, though generally less essential, still have significant impacts on the effectiveness of an ADC. \n",
    "\n",
    "#### 2.2.1 Classes of Payloads : \n",
    "ADC payloads are primarily categorized into three major classes based on their mechanism of action:\n",
    "\n",
    "| Class                     | Mechanism of Action                                              | Examples                                   |\n",
    "|---------------------------|-----------------------------------------------------------------|--------------------------------------------|\n",
    "| Tubulin Inhibitors        | Disrupt microtubule dynamics, causing mitotic arrest and cell death | Auristatins (MMAE, MMAF), Maytansinoids (DM1, DM4), Tubulysins |\n",
    "| DNA Damaging Agents       | Induce DNA strand breaks or alkylate DNA, leading to apoptosis  | Calicheamicin, Duocarmycins, Pyrrolobenzodiazepines (PBDs)     |\n",
    "| Topoisomerase I Inhibitors| Inhibit topoisomerase I, preventing DNA replication and transcription | Deruxtecan (DXd), SN-38                    |\n",
    "\n",
    "Common ADC payloads include tubulin inhibitors and DNA damaging agents, with tubulin inhibitors accounting for more than half of the ADC drugs in clinical development.\n",
    "\n",
    "\n",
    "#### 2.2.2 Mechanism of Cytotoxicity :\n",
    "\n",
    "The mechanism of action of the payload is an important factor determining the performance of the ADC (For e.g., Adverse Reactions). Once an ADC is administered, it circulates in the bloodstream until it binds to its specific antigen on the surface of a tumor cell. This binding triggers the internalization of the ADC–antigen complex, which is then transported to the lysosome inside the cell. Within the lysosome, the complex is degraded, and the cytotoxic payload is released. <br>\n",
    "\n",
    "The released payload then acts on its intracellular target-such as microtubules, DNA, or RNA-disrupting essential cellular functions and inducing cell death. Some payloads are designed to have a bystander effect, meaning they can diffuse out of the targeted cell and kill neighboring cancer cells that may not express the target antigen. This is especially useful in tumors where antigen expression is uneven. However, achieving this effect requires a careful balance, as highly membrane-permeable payloads can also increase toxicity to healthy tissues."
   ]
  },
  {
   "cell_type": "markdown",
   "id": "86fc065a",
   "metadata": {},
   "source": [
    "### 2.3 Linkers - Key to Safe and Effective ADC Delivery: "
   ]
  },
  {
   "cell_type": "markdown",
   "id": "522e6ac6",
   "metadata": {},
   "source": [
    "## ADC Design <a name=\"\"></a>\n",
    "\n",
    "The fundamental components of an ADC are a mAb directed against a tumor-associated antigen, a cytotoxic agent called payload, and a connecting linker. Each component and their interactions play crucial roles in determining the efficacy and toxicity profiles of an ADC."
   ]
  }
 ],
 "metadata": {
  "language_info": {
   "name": "python"
  }
 },
 "nbformat": 4,
 "nbformat_minor": 5
}
