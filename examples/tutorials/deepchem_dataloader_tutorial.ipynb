{
 "cells": [
  {
   "cell_type": "markdown",
   "id": "fd60dad7-cce8-4afb-aae5-ad4691f1a320",
   "metadata": {},
   "source": [
    "# 🧪 DeepChem Dataloaders Tutorial\n",
    "\n",
    "This tutorial demonstrates how to use DeepChem with PyTorch-style `DataLoader`s.  \n",
    "We'll load a molecular dataset, featurize it using circular fingerprints, and process it in batches for training using `torch.utils.data.DataLoader`.\n"
   ]
  },
  {
   "cell_type": "code",
   "execution_count": null,
   "id": "7bc1c23b-c0d8-48ea-8047-11463fd156f9",
   "metadata": {},
   "outputs": [],
   "source": [
    "import deepchem as dc\n",
    "import pandas as pd\n",
    "import numpy as np\n",
    "import torch\n",
    "from torch.utils.data import DataLoader\n"
   ]
  },
  {
   "cell_type": "markdown",
   "id": "094ee464-c071-4b47-80e7-747063030bfd",
   "metadata": {},
   "source": [
    "## 📥 Step 1: Load the Delaney Dataset\n",
    "\n",
    "The Delaney dataset contains molecular solubility values. We'll use DeepChem's `load_delaney` utility.\n"
   ]
  },
  {
   "cell_type": "code",
   "execution_count": null,
   "id": "a65b9314-e35b-4f8c-b6c8-9bca0e2754d8",
   "metadata": {},
   "outputs": [],
   "source": [
    "# Load Delaney dataset with CircularFingerprint featurizer\n",
    "featurizer = dc.feat.CircularFingerprint(radius=2, size=1024)\n",
    "tasks, datasets, transformers = dc.molnet.load_delaney(featurizer=featurizer, splitter='random')\n",
    "\n",
    "train_dataset, valid_dataset, test_dataset = datasets\n",
    "print(\"Number of training examples:\", len(train_dataset))\n",
    "print(\"Feature shape:\", train_dataset.X.shape)\n"
   ]
  },
  {
   "cell_type": "markdown",
   "id": "42a99c1e-068a-4c90-a6e6-bf9568a44a62",
   "metadata": {},
   "source": [
    "## 🧰 Step 2: Create a Custom Collate Function\n",
    "\n",
    "We'll define a simple collate function that takes a batch of DeepChem datapoints and stacks them into PyTorch tensors.\n"
   ]
  },
  {
   "cell_type": "code",
   "execution_count": null,
   "id": "c9f6348b-4fb0-4f6b-8553-70f1d730230a",
   "metadata": {},
   "outputs": [],
   "source": [
    "def collate_fn(batch):\n",
    "    X = torch.tensor([example[0] for example in batch], dtype=torch.float32)\n",
    "    y = torch.tensor([example[1] for example in batch], dtype=torch.float32)\n",
    "    w = torch.tensor([example[2] for example in batch], dtype=torch.float32)\n",
    "    ids = [example[3] for example in batch]\n",
    "    return X, y, w, ids\n"
   ]
  },
  {
   "cell_type": "markdown",
   "id": "898a8e35-5e80-41bb-844b-b4e1bc86b57b",
   "metadata": {},
   "source": [
    "## 📦 Step 3: Load the Dataset in Batches\n",
    "\n",
    "We'll now use PyTorch's `DataLoader` with our custom collate function to iterate over the `train_dataset` in batches.\n"
   ]
  },
  {
   "cell_type": "code",
   "execution_count": null,
   "id": "403fccd3-5509-49cd-80e2-5b61e0f8f712",
   "metadata": {},
   "outputs": [],
   "source": [
    "# Loop directly through the generator returned by iterbatches\n",
    "for X_batch, y_batch, w_batch, ids_batch in train_dataset.iterbatches(batch_size=4, deterministic=True):\n",
    "    print(\"Batch X shape:\", X_batch.shape)\n",
    "    print(\"Batch y shape:\", y_batch.shape)\n",
    "    break  # just print one batch"
   ]
  },
  {
   "cell_type": "markdown",
   "id": "251a8e5f-34a4-4332-81c0-eb639635f053",
   "metadata": {},
   "source": [
    "## ✅ Tutorial Complete\n",
    "\n",
    "You now know how to:\n",
    "- Load and featurize a dataset using DeepChem\n",
    "- Wrap the dataset in a `DataLoader`\n",
    "- Use a custom collate function to work with batches\n",
    "\n",
    "This setup is perfect for training PyTorch models on molecular datasets.\n"
   ]
  }
 ],
 "metadata": {
  "kernelspec": {
   "display_name": "Python 3 (ipykernel)",
   "language": "python",
   "name": "python3"
  },
  "language_info": {
   "codemirror_mode": {
    "name": "ipython",
    "version": 3
   },
   "file_extension": ".py",
   "mimetype": "text/x-python",
   "name": "python",
   "nbconvert_exporter": "python",
   "pygments_lexer": "ipython3",
   "version": "3.9.21"
  }
 },
 "nbformat": 4,
 "nbformat_minor": 5
}
