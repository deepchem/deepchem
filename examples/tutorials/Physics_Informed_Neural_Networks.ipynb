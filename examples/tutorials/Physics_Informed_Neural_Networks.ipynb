{
  "nbformat": 4,
  "nbformat_minor": 0,
  "metadata": {
    "colab": {
      "provenance": [],
      "toc_visible": true
    },
    "kernelspec": {
      "name": "python3",
      "display_name": "Python 3"
    },
    "language_info": {
      "name": "python"
    }
  },
  "cells": [
    {
      "cell_type": "markdown",
      "metadata": {
        "id": "QtfeQrPnBpLe"
      },
      "source": [
        "# Tutorial 33: Physics Informed Neural Networks using JaxModel & PINN_Model\n",
        " - [Vignesh Venkataraman](https://github.com/VIGNESHinZONE)\n",
        "\n",
        "\n",
        "## Contents\n",
        "\n",
        "- Physics Informed Neural Networks\n",
        "- Setup\n",
        "- Brief about Jax and Autodiff\n",
        "- Burger's Equation\n",
        "- Data Visualisation\n",
        "- Explanation of the Solution using Jax\n",
        "- Usage of PINN Model\n",
        "- Visualize the final results"
      ]
    },
    {
      "cell_type": "markdown",
      "metadata": {
        "id": "zQcs3Oz1m1ud"
      },
      "source": [
        "#Physics Informed Neural Networks\n",
        "\n",
        "PINNs was introduced by Maziar Raissi et. al in their paper [Physics Informed Deep Learning (Part I): Data-driven\n",
        "Solutions of Nonlinear Partial Differential Equations](https://arxiv.org/abs/1711.10561) which are used for solving supervised learning tasks and also follow an underlying differential equation derived from understanding the Physics. In more simple terms, we try solving a differential equation with a neural network and using the differential equation as the regulariser in the loss function.\n",
        "\n",
        "<br>\n",
        "\n",
        "---\n",
        "\n",
        "### Here is an illustration of PINNs using a simple differential equation-\n",
        "\n",
        "\n",
        "$\\quad \\quad \\quad \\frac{df}{dt} = f(u, t), \\quad  $ where initial condition is $\\ \\ u(t=0) = u_0$\n",
        "\n",
        "<br>\n",
        "\n",
        "\n",
        "We approximate function $u(t)$ using a Neural Network as $NN(t)$ and apply the following loss function -\n",
        "\n",
        "<br>\n",
        "\n",
        "\n",
        "  Initial Loss: $\\quad  L_0 = (NN(t=0) - u_0)^2$\n",
        "\n",
        "  Regulariser Loss:= $\\quad L_r = | \\frac{d NN (t) }{d t} - f(NN(t), t) |$\n",
        "\n",
        "<br>\n",
        "\n",
        "\n",
        "And we minimise the $Total Loss$ using Backpropagation-\n",
        "\n",
        "<br>\n",
        "\n",
        "\n",
        "  Total Loss = Initial Loss + Regulariser Loss\n",
        "\n",
        "<br>\n",
        "\n",
        "\n",
        "### Here is a technical definition of PINNs taken from the author's official blog-\n",
        "\n",
        "  $\\quad \\quad u_t + \\mathcal{N}[u] = 0,\\ x \\in \\Omega, \\ t\\in[0,T],$\n",
        "\n",
        "<br>\n",
        "\n",
        "\n",
        "where $\\ u(t,x) \\ $ denotes the latent (hidden) solution, $\\ N[⋅] \\ $ is a nonlinear differential operator, and $Ω$ is a subset of $\\ \\mathbb{R}^D \\ $ , and proceed by approximating $u(t,x)$ by a deep neural network. We define $\\ f(t,x) \\ $ to be given by\n",
        "\n",
        "<br>\n",
        "\n",
        "  $\\quad \\quad f := u_t + \\mathcal{N}[u],$\n",
        "\n",
        "<br>\n",
        "\n",
        "This assumption results in a physics informed neural network $ \\ f(t,x) \\ $. This network can be derived by the calculus on computational graphs: Backpropagation.\n",
        "\n",
        "<br>\n",
        "\n",
        "---\n",
        "\n",
        "### Useful Resources to learn more about PINNs\n",
        "\n",
        "\n",
        "- [Maziar Raissi et. al. official blog on PINNs](https://maziarraissi.github.io/PINNs/)\n",
        "- [Chris Rackauckas's lecture on PINNs lecture 3](https://github.com/mitmath/18337#lecture-3-introduction-to-scientific-machine-learning-through-physics-informed-neural-networks): these lectures are in Julia programming language but still are a great source of learning."
      ]
    },
    {
      "cell_type": "markdown",
      "metadata": {
        "id": "YoZLoq3mB1HJ"
      },
      "source": [
        "# Setup\n"
      ]
    },
    {
      "cell_type": "code",
      "metadata": {
        "colab": {
          "base_uri": "https://localhost:8080/"
        },
        "id": "k74sLLulvo1P",
        "outputId": "69f9da73-5d23-4d23-b4dd-b9768fbb8d4f"
      },
      "source": [
        "### In case if you are running this notebook in Local Machine and have CUDA installed then uncomment this below line. ###\n",
        "### Change the cuda version depending on your setup. Here Cuda 11.x is represented as `cuda111`\n",
        "# !pip install --upgrade pip\n",
        "# !pip install --upgrade \"jax[cuda111]\" -f https://storage.googleapis.com/jax-releases/jax_releases.html\n",
        "!pip install deepchem[jax]\n",
        "!pip install pyDOE"
      ],
      "execution_count": null,
      "outputs": [
        {
          "output_type": "stream",
          "text": [
            "Collecting deepchem[jax]\n",
            "  Downloading deepchem-2.5.0-py3-none-any.whl (552 kB)\n",
            "\u001b[K     |████████████████████████████████| 552 kB 5.4 MB/s \n",
            "\u001b[33mWARNING: deepchem 2.5.0 does not provide the extra 'jax'\u001b[0m\n",
            "\u001b[?25hRequirement already satisfied: joblib in /usr/local/lib/python3.7/dist-packages (from deepchem[jax]) (1.0.1)\n",
            "Requirement already satisfied: pandas in /usr/local/lib/python3.7/dist-packages (from deepchem[jax]) (1.1.5)\n",
            "Requirement already satisfied: scipy in /usr/local/lib/python3.7/dist-packages (from deepchem[jax]) (1.4.1)\n",
            "Requirement already satisfied: numpy in /usr/local/lib/python3.7/dist-packages (from deepchem[jax]) (1.19.5)\n",
            "Requirement already satisfied: scikit-learn in /usr/local/lib/python3.7/dist-packages (from deepchem[jax]) (0.22.2.post1)\n",
            "Requirement already satisfied: python-dateutil>=2.7.3 in /usr/local/lib/python3.7/dist-packages (from pandas->deepchem[jax]) (2.8.2)\n",
            "Requirement already satisfied: pytz>=2017.2 in /usr/local/lib/python3.7/dist-packages (from pandas->deepchem[jax]) (2018.9)\n",
            "Requirement already satisfied: six>=1.5 in /usr/local/lib/python3.7/dist-packages (from python-dateutil>=2.7.3->pandas->deepchem[jax]) (1.15.0)\n",
            "Installing collected packages: deepchem\n",
            "Successfully installed deepchem-2.5.0\n",
            "Collecting pyDOE\n",
            "  Downloading pyDOE-0.3.8.zip (22 kB)\n",
            "Requirement already satisfied: numpy in /usr/local/lib/python3.7/dist-packages (from pyDOE) (1.19.5)\n",
            "Requirement already satisfied: scipy in /usr/local/lib/python3.7/dist-packages (from pyDOE) (1.4.1)\n",
            "Building wheels for collected packages: pyDOE\n",
            "  Building wheel for pyDOE (setup.py) ... \u001b[?25l\u001b[?25hdone\n",
            "  Created wheel for pyDOE: filename=pyDOE-0.3.8-py3-none-any.whl size=18184 sha256=4da795f38a3c13631115b175ca51b0cca2ebc9226d122d2f90ddf4975609baaf\n",
            "  Stored in directory: /root/.cache/pip/wheels/83/ce/8a/87b25c685bfeca1872d13b8dc101e087a9c6e3fb5ebb47022a\n",
            "Successfully built pyDOE\n",
            "Installing collected packages: pyDOE\n",
            "Successfully installed pyDOE-0.3.8\n"
          ],
          "name": "stdout"
        }
      ]
    },
    {
      "cell_type": "code",
      "metadata": {
        "id": "rrP1qEA5odct"
      },
      "source": [
        "import deepchem as dc\n",
        "import os\n",
        "\n",
        "PINNs_URL = \"https://deepchemdata.s3.us-west-1.amazonaws.com/datasets/raissi_pinns_data.tar.gz\"\n",
        "dc.utils.data_utils.download_url(\n",
        "    url=PINNs_URL, dest_dir=os.getcwd())\n",
        "targz_file = os.path.join(os.getcwd(), 'raissi_pinns_data.tar.gz')\n",
        "dc.utils.data_utils.untargz_file(targz_file, os.getcwd())\n",
        "\n"
      ],
      "execution_count": null,
      "outputs": []
    },
    {
      "cell_type": "markdown",
      "metadata": {
        "id": "781N6-jNCobR"
      },
      "source": [
        "# Brief about Jax and Autodiff\n",
        "\n",
        "- Mention the usage of jax and its functional style\n",
        "- Mention about the Autodiff cookbook from Jax\n",
        "- Asking them to take a look at Haiku and optax library\n",
        "- About the JaxModel and PINN_Model superclass\n",
        "\n",
        "Deepchem has recently introduced Jax support for building models and `JaxModel` superclass is the main API for building"
      ]
    },
    {
      "cell_type": "markdown",
      "metadata": {
        "id": "A9aeJa8HC_e9"
      },
      "source": [
        "# Burgers Equation\n",
        "\n",
        "Burgers’ equation is a partial differential equation that was originally proposed as a simplified model of turbulence as exhibited by the full-fledged Navier-Stokes equations. It is a nonlinear equation for which exact solutions are known and is therefore important as a benchmark problem for numerical methods. [More Refrence](https://www.azimuthproject.org/azimuth/show/Burgers%27+equation)\n",
        "\n",
        "<br>\n",
        "\n",
        "Here is the differential Equation we are trying to solve\n",
        "\n",
        "  $\\begin{array}{l}\n",
        "  \\ \\ \\ u_t + u u_x - (0.01/\\pi) u_{xx} = 0,\\ \\ \\ x \\in [-1,1],\\ \\ \\ t \\in [0,1]\n",
        "  \\end{array}$\n",
        "\n",
        "<br>\n",
        "\n",
        "Here are the initial conditions\n",
        "\n",
        "  $\\ \\ \\ u(x, 0) = -\\sin(\\pi x),$\n",
        "\n",
        "  $\\ \\ \\ u(-1, t) = u(1, t) = 0.0$\n",
        "\n",
        "<br>\n",
        "\n",
        "Now let us define:\n",
        "\n",
        "  $\n",
        "  \\ \\ \\ f := u_t + u u_x - (0.01/\\pi) u_{xx},\n",
        "  $\n",
        "\n",
        "and we approximate $u(x, t)$ using Neural Network as $NN(\\theta, x, t)$ where $\\theta$ are the weights of neural networks\n",
        "\n",
        "<br>\n",
        "\n",
        "---\n",
        "\n",
        "</br>\n",
        "Now here are the three main data points that will be used for training our Neural Network to approximate $u(x,t)$\n",
        "\n",
        "\n",
        "</br>\n",
        "\n",
        "1.   We will train points lying between $x \\in [-1,1]$ and $t=0$ to follow as part of the L2 Loss\n",
        "\n",
        "  $$\\min_\\theta (NN(\\theta, x, t) + \\sin(\\pi x))^2$$\n",
        "\n",
        "\n",
        "</br>\n",
        "\n",
        "\n",
        "2.   We will train points lying between $t \\in [0,1]$ and $x= \\pm1 $ as part of the L2 Loss\n",
        "\n",
        "  $$\\min_\\theta \\left( NN(\\theta, x, t) + \\sin(\\pi x) \\right)^2$$\n",
        "\n",
        "\n",
        "</br>\n",
        "\n",
        "3.   We will train points lying between $x \\in [-1,1],\\ \\ \\ t \\in [0,1]$ as part of the regulariser loss\n",
        "\n",
        "  $$f(\\theta, x, t) := \\frac{\\partial NN(\\theta, x, t)}{\\partial t} + NN(\\theta, x, t)\\frac{\\partial NN(\\theta, x, t)}{\\partial x} - \\frac{0.01}{\\pi}\\frac{\\partial^2 NN(\\theta, x, t)}{\\partial^2 x}$$\n",
        "\n",
        "\n",
        "   $$\\min_\\theta f(\\theta, x, t)$$\n",
        "\n",
        "\n",
        "</br>\n",
        "\n",
        "In this tutorial, we will be combing data conditions 1 and 2 under the same L2Loss"
      ]
    },
    {
      "cell_type": "markdown",
      "metadata": {
        "id": "5naU_8Q7DMVE"
      },
      "source": [
        "# Data Visualisation of the Burgers Equation\n",
        "\n",
        "Now lets load the Burger's Data provided from the author. `pre_process_shock_data ` is used to load the data in a format suitable for Neural Networks. Understanding this function is not neccesary for working through the tutorials.\n"
      ]
    },
    {
      "cell_type": "code",
      "metadata": {
        "id": "BPCYI5A302F5"
      },
      "source": [
        "## Data Preprocessing\n",
        "\n",
        "# Create Dataset\n",
        "\n",
        "import scipy.io\n",
        "from scipy.interpolate import griddata\n",
        "from pyDOE import lhs\n",
        "import numpy as np\n",
        "import random\n",
        "random.seed(0)\n",
        "np.random.seed(0)\n",
        "\n",
        "def pre_process_shock_data(data):\n",
        "\n",
        "  N_u = 100\n",
        "  N_f = 10000\n",
        "\n",
        "  t = data['t'].flatten()[:,None]\n",
        "  x = data['x'].flatten()[:,None]\n",
        "  Exact = np.real(data['usol']).T\n",
        "\n",
        "  X, T = np.meshgrid(x,t)\n",
        "\n",
        "  X_star = np.hstack((X.flatten()[:,None], T.flatten()[:,None]))\n",
        "  u_star = Exact.flatten()[:,None]\n",
        "\n",
        "  # Doman bounds\n",
        "  lb = X_star.min(0)\n",
        "  ub = X_star.max(0)\n",
        "\n",
        "  xx1 = np.hstack((X[0:1,:].T, T[0:1,:].T))\n",
        "  uu1 = Exact[0:1,:].T\n",
        "  xx2 = np.hstack((X[:,0:1], T[:,0:1]))\n",
        "  uu2 = Exact[:,0:1]\n",
        "  xx3 = np.hstack((X[:,-1:], T[:,-1:]))\n",
        "  uu3 = Exact[:,-1:]\n",
        "\n",
        "  X_u_train = np.vstack([xx1, xx2, xx3])\n",
        "  X_f_train = lb + (ub-lb)*lhs(2, N_f)\n",
        "  X_f_train = np.vstack((X_f_train, X_u_train))\n",
        "  u_train = np.vstack([uu1, uu2, uu3])\n",
        "\n",
        "  idx = np.random.choice(X_u_train.shape[0], N_u, replace=False)\n",
        "  X_u_train = X_u_train[idx, :]\n",
        "  u_train = u_train[idx,:]\n",
        "  return X_u_train, u_train, X_f_train, X_star\n",
        "\n",
        "mat_data = scipy.io.loadmat(os.path.join(os.getcwd(), 'PINNs/burgers_shock.mat'))\n",
        "labeled_X, labeled_y, unlabeled_X, full_domain = pre_process_shock_data(mat_data)"
      ],
      "execution_count": null,
      "outputs": []
    },
    {
      "cell_type": "markdown",
      "metadata": {
        "id": "rVJL8882R3_-"
      },
      "source": [
        "We have three Numpy arrays `labeled_X`, `labeled_y` and `unlabeled_X` which will be used for training our neural network,\n",
        "\n",
        "1) `labeled_X` consists of  $x \\in [-1,1]$ & $t=0$ and $t \\in [0,1]$ & $x= \\pm1 $. `labeled_y` has the value of $u(x, t)$:\n",
        "\n",
        "Let us verify that `labeled_X` & `labeled_y` also consists of data points satisfying the condition of\n",
        "\n",
        "  $\\ \\ \\ u(x, 0) = -\\sin(\\pi x), \\quad \\quad x \\in [-1,1]$ & $t=0$\n",
        "\n"
      ]
    },
    {
      "cell_type": "code",
      "metadata": {
        "colab": {
          "base_uri": "https://localhost:8080/",
          "height": 282
        },
        "id": "gm6Grl0M9xee",
        "outputId": "31b8aac4-da13-4cfe-e764-1c77c046811b"
      },
      "source": [
        "import matplotlib.pyplot as plt\n",
        "ind = labeled_X[:, 1] == 0.0\n",
        "print(f\"Number of Datapoints with with t = 0 is {len(labeled_X[labeled_X[:, 1] == 0.0])}\")\n",
        "plt.scatter(labeled_X[ind][:, 0], labeled_y[ind], color = 'red', marker = \"o\", alpha = 0.3)\n"
      ],
      "execution_count": null,
      "outputs": [
        {
          "output_type": "execute_result",
          "data": {
            "text/plain": [
              "<matplotlib.collections.PathCollection at 0x7f721a00b390>"
            ]
          },
          "metadata": {
            "tags": []
          },
          "execution_count": 8
        },
        {
          "output_type": "display_data",
          "data": {
            "image/png": "[encoded data removed]",
            "text/plain": [
              "<Figure size 432x288 with 1 Axes>"
            ]
          },
          "metadata": {
            "tags": [],
            "needs_background": "light"
          }
        }
      ]
    },
    {
      "cell_type": "markdown",
      "metadata": {
        "id": "YSUzLfi5VUUA"
      },
      "source": [
        "\n",
        "\n",
        "Let us verify that at `labeled_X` & `labeled_y` also consists of datapoints satisfying the condition of\n",
        "\n",
        "  $\\ \\ \\ u(-1, t) = u(1, t) = 0.0, \\quad \\quad t \\in [0,1]$ & $x= \\pm1$\n"
      ]
    },
    {
      "cell_type": "code",
      "metadata": {
        "colab": {
          "base_uri": "https://localhost:8080/"
        },
        "id": "gnbzgRQb-3NC",
        "outputId": "6cdf59b8-6a31-494b-ee7a-c0ab3208c7f4"
      },
      "source": [
        "ind = np.abs(labeled_X[:, 0]) == 1.0\n",
        "print(f\"Number of Datapoints with with |x| = 1 is {len(labeled_X[np.abs(labeled_X[:, 0]) == 1.0])}\")\n",
        "np.max(labeled_y[ind]), np.min(labeled_y[ind]), np.mean(labeled_y[ind])\n"
      ],
      "execution_count": null,
      "outputs": [
        {
          "output_type": "execute_result",
          "data": {
            "text/plain": [
              "(2.326502818752141e-16, -1.0854441803149965e-16, 8.236830416577723e-17)"
            ]
          },
          "metadata": {
            "tags": []
          },
          "execution_count": 29
        }
      ]
    },
    {
      "cell_type": "markdown",
      "metadata": {
        "id": "ndR7ndNLDbiz"
      },
      "source": [
        "# Explanation of the solution\n",
        "\n",
        "We will be using Deepchem's `PINNModel` class to solve Burger's Equation which is based out of `Jax` library. We will approximate $u(x, t)$ using a Neural Network represented as $NN(\\theta, x, t)$\n",
        "\n",
        "For our purpose, we will be using the Haiku library for building neural networks. Due to the functional nature of Jax, we define neural network with two things\n",
        "\n",
        "- Parameters - which act as the weight matrices, upon which Backpropagation is applied for optimisation.\n",
        "- forward_fn - This defines how the weights are used for computing the outputs. Ex- Feedforward, Convolution, etc\n",
        "\n",
        "\n"
      ]
    },
    {
      "cell_type": "code",
      "metadata": {
        "id": "ht0fLWSQkMW2"
      },
      "source": [
        "import jax\n",
        "import jax.numpy as jnp\n",
        "import haiku as hk\n",
        "\n",
        "def f(x, y, z, t):\n",
        "  x = jnp.hstack([x, t])\n",
        "  net = hk.nets.MLP(output_sizes = [20, 20, 20, 20, 20, 20, 20, 20, 1],\n",
        "                    activation = jnp.tanh)\n",
        "  return net(x)\n",
        "\n",
        "init_params, forward_fn = hk.transform(f)\n",
        "rng = jax.random.PRNGKey(500)\n",
        "x_init, t_init = jnp.split(X_u_train, 2, 1)\n",
        "params = init_params(rng, x_init, t_init)\n"
      ],
      "execution_count": null,
      "outputs": []
    },
    {
      "cell_type": "markdown",
      "metadata": {
        "id": "-fTsxSnEkYoe"
      },
      "source": [
        "As per the docstrings of PINNModel, we require two additional functions in the given format -\n",
        "\n",
        "1. Create a gradient_fn which tells us about how to compute the gradients of the function-\n",
        "```\n",
        "  >>>\n",
        "  >> def gradient_fn(forward_fn, loss_outputs, initial_data):\n",
        "  >>  def model_loss(params, target, weights, rng, ...):\n",
        "  >>    # write code using the arguments.\n",
        "  >>    # ... indicates the variable number of positional arguments.\n",
        "  >>    return\n",
        "  >>  return model_loss\n",
        "```\n",
        "\n",
        "And to understand more about PINNModel, you can see that the same gradient_fn gets called in the code for computing the gradients.\n",
        "\n",
        "For our purpose, we have two variables $(x, t)$ and we need to tell the PINN Model how to compute the final gradient. For carrying out this process we will be using these main features from jax library for calculating the loss -\n",
        "\n",
        "1. [vmap](https://jax.readthedocs.io/en/latest/jax-101/03-vectorization.html) - This for parallelising computations in batches. We will process each row of the dataset, but it will get batched automatically using this feature.\n",
        "2. [jacrev](https://jax.readthedocs.io/en/latest/notebooks/autodiff_cookbook.html#jacobians-and-hessians-using-jacfwd-and-jacrev) - This is used to calculate the jacobian matrix. In our case, the output is a single dimension and hence it can be thought of as the gradient function. We could directly use jax's [grad](https://jax.readthedocs.io/en/latest/jax-101/01-jax-basics.html?highlight=grad#jax-first-transformation-grad) function but using `jacrev` simplifies the array shapes and hence is easier.\n",
        "\n",
        "\n",
        "We need to compute two losses for solving our differential equation-\n",
        "\n",
        "1. Initial Loss\n",
        "\n",
        "```\n",
        "u_pred = forward_fn(params, rng, x_b, t_b)\n",
        "initial_loss = jnp.mean((u_pred - boundary_target) ** 2)\n",
        "```\n",
        "\n",
        "2. Regulariser Loss\n",
        "\n",
        "This is slightly complicated as we need to compute\n",
        "\n",
        "$f(\\theta, x, t):= \\ \\ \\frac{\\partial NN(\\theta, x, t)}{\\partial t} + NN(\\theta, x, t)\\frac{\\partial NN(\\theta, x, t)}{\\partial x} - (0.01/\\pi)\\frac{\\partial^2 NN(\\theta, x, t)}{\\partial^2 x} $\n",
        "\n",
        "The partial derivative operation in the first and second terms can be calculated using `jacrev` function-\n",
        "```\n",
        "u_x, u_t = jacrev(forward_fn, argnums=(2, 3))(params, rng, x, t)\n",
        "```\n",
        "\n",
        "The second partial derivative operation in the third term can be applying `jacrev` twice-\n",
        "\n",
        "```\n",
        "u_xx = jacrev(jacrev(forward_fn, argnums=2), argnums=2)(params, rng, x, t)\n",
        "```\n"
      ]
    },
    {
      "cell_type": "code",
      "metadata": {
        "id": "SwTIEBChD87J"
      },
      "source": [
        "from jax import jit, vmap, jacrev\n",
        "\n",
        "def gradient_fn(forward_fn, loss_outputs, initial_data):\n",
        "  \"\"\"\n",
        "  This function calls the gradient function, to implement the backpropogation\n",
        "  \"\"\"\n",
        "  boundary_data_x = initial_data['labeled_x']\n",
        "  boundary_data_t = initial_data['labeled_t']\n",
        "\n",
        "  boundary_target = initial_data['labeled_u']\n",
        "\n",
        "  @jax.jit\n",
        "  def model_loss(params, target, weights, rng, x_train, t_train):\n",
        "\n",
        "    @functools.partial(jax.vmap, in_axes=(None, 0, 0))\n",
        "    def small_loss(params, x, t):\n",
        "      u = forward_fn(params, rng, x, t)\n",
        "      u_x, u_t = jacrev(forward_fn, argnums=(2, 3))(params, rng, x, y, z, t)\n",
        "      u_xx = jacrev(jacrev(forward_fn, argnums=2), argnums=2)(params, rng, x, t)\n",
        "      con = 0.01/np.pi\n",
        "      return u_t + u * u_x - con * u_xx\n",
        "\n",
        "    u_pred = forward_fn(params, rng, boundary_data_x, boundary_data_t)\n",
        "    f_pred = small_loss(params, x_train, t_train)\n",
        "    loss_u = jnp.mean((u_pred - boundary_target) ** 2)\n",
        "    loss_f = jnp.mean((f_pred) ** 2)\n",
        "\n",
        "    return loss_u + loss_f\n",
        "\n",
        "  return model_loss\n",
        "\n"
      ],
      "execution_count": null,
      "outputs": []
    },
    {
      "cell_type": "markdown",
      "metadata": {
        "id": "PzW60NtNpqH9"
      },
      "source": [
        "2. We also need to provide an eval_fn in the below-given format for computing the weights\n",
        "```\n",
        "  >>>\n",
        "  >> def create_eval_fn(forward_fn, params):\n",
        "  >>  def eval_model(..., rng=None):\n",
        "  >>    # write code here using arguments\n",
        "  >>\n",
        "  >>    return\n",
        "  >>  return eval_model\n",
        "```\n",
        "\n",
        "Like previously we have two arguments for our model $(x, t)$ which get passed in function"
      ]
    },
    {
      "cell_type": "code",
      "metadata": {
        "id": "8etgNQlNpplJ"
      },
      "source": [
        "# Tells the neural network on how to perform calculation during inference\n",
        "def create_eval_fn(forward_fn, params):\n",
        "  \"\"\"\n",
        "  Calls the function to evaluate the model\n",
        "  \"\"\"\n",
        "  @jax.jit\n",
        "  def eval_model(x, t, rng=None):\n",
        "\n",
        "    res = forward_fn(params, rng, x, t)\n",
        "    return jnp.squeeze(res)\n",
        "  return eval_model\n"
      ],
      "execution_count": null,
      "outputs": []
    },
    {
      "cell_type": "markdown",
      "metadata": {
        "id": "tDOgmtzmD9lp"
      },
      "source": [
        "# Usage of PINN Model\n",
        "\n",
        "We will be using optax library for performing the optimisations. PINNModel executes the codes for training the models."
      ]
    },
    {
      "cell_type": "code",
      "metadata": {
        "id": "KOHKt00FEX1H"
      },
      "source": [
        "import optax\n",
        "scheduler = optax.piecewise_constant_schedule(\n",
        "    init_value=1e-2,\n",
        "    boundaries_and_scales={5000: 0.1, 10000: 0.1, 15000: 0.1})\n",
        "\n",
        "opt = optax.chain(\n",
        "    optax.clip_by_global_norm(1.00),\n",
        "    optax.scale_by_adam(b1=0.9, b2=0.99),\n",
        "    optax.scale_by_schedule(scheduler),\n",
        "    optax.scale(-1.0))\n",
        "\n",
        "labeled_x, labeled_t = jnp.split(labeled_X, 2, 1)\n",
        "\n",
        "boundary_data = {\n",
        "    'labeled_x': labeled_x, 'labeled_t':labeled_t, 'labeled_u': labeled_y\n",
        "}\n",
        "\n",
        "  boundary_data_x = initial_data['labeled_x']\n",
        "  boundary_data_t = initial_data['labeled_t']\n",
        "\n",
        "  boundary_target = initial_data['labeled_u']\n",
        "\n",
        "j_m = PINN_Model(\n",
        "    forward_fn = forward_fn,\n",
        "    params = params,\n",
        "    boundary_data = boundary_data,\n",
        "    batch_size = 1000,\n",
        "    optimizer = opt,\n",
        "    grad_fn = gradient_fn,\n",
        "    eval_fn = create_eval_fn,\n",
        "    deterministic = True,\n",
        "    log_frequency = 1000\n",
        "    )\n",
        "\n",
        "dataset = dc.data.NumpyDataset(unlabeled_X)\n",
        "val = j_m.fit(dataset, nb_epochs=4000)\n"
      ],
      "execution_count": null,
      "outputs": []
    },
    {
      "cell_type": "markdown",
      "metadata": {
        "id": "eJ2tq2dBEYcU"
      },
      "source": [
        "# Visualize the final results\n",
        "\n",
        "- Code taken from authors for visualisation\n",
        "- show both graphs"
      ]
    },
    {
      "cell_type": "code",
      "metadata": {
        "id": "Wir3ADrnEfBu"
      },
      "source": [
        "test_dataset = dc.data.NumpyDataset(full_domain)\n",
        "u_pred = j_m.predict(test_dataset)\n",
        "U_pred = griddata(X_star, u_pred.flatten(), (X, T), method='cubic')\n",
        "Error = np.abs(Exact - U_pred)"
      ],
      "execution_count": null,
      "outputs": []
    },
    {
      "cell_type": "code",
      "metadata": {
        "id": "hJT0lSyQ7Q4N"
      },
      "source": [
        "import numpy as np\n",
        "import matplotlib.pyplot as plt\n",
        "import scipy.io\n",
        "from scipy.interpolate import griddata\n",
        "from mpl_toolkits.axes_grid1 import make_axes_locatable\n",
        "import matplotlib.gridspec as gridspec\n",
        "\n",
        "\n",
        "fig = plt.figure(figsize=(9, 5))\n",
        "ax = fig.add_subplot(111)\n",
        "\n",
        "h = ax.imshow(U_pred.T, interpolation='nearest', cmap='rainbow',\n",
        "              extent=[t.min(), t.max(), x.min(), x.max()],\n",
        "              origin='lower', aspect='auto')\n",
        "divider = make_axes_locatable(ax)\n",
        "cax = divider.append_axes(\"right\", size=\"5%\", pad=0.10)\n",
        "cbar = fig.colorbar(h, cax=cax)\n",
        "cbar.ax.tick_params(labelsize=15)\n",
        "\n",
        "ax.plot(\n",
        "    X_u_train[:,1],\n",
        "    X_u_train[:,0],\n",
        "    'kx', label = 'Data (%d points)' % (u_train.shape[0]),\n",
        "    markersize = 4,  # marker size doubled\n",
        "    clip_on = False,\n",
        "    alpha=1.0\n",
        ")\n",
        "\n",
        "line = np.linspace(x.min(), x.max(), 2)[:,None]\n",
        "ax.plot(t[25]*np.ones((2,1)), line, 'w-', linewidth = 1)\n",
        "ax.plot(t[50]*np.ones((2,1)), line, 'w-', linewidth = 1)\n",
        "ax.plot(t[75]*np.ones((2,1)), line, 'w-', linewidth = 1)\n",
        "\n",
        "ax.set_xlabel('$t$', size=20)\n",
        "ax.set_ylabel('$x$', size=20)\n",
        "ax.legend(\n",
        "    loc='upper center',\n",
        "    bbox_to_anchor=(0.9, -0.05),\n",
        "    ncol=5,\n",
        "    frameon=False,\n",
        "    prop={'size': 15}\n",
        ")\n",
        "ax.set_title('$u(t,x)$', fontsize = 20) # font size doubled\n",
        "ax.tick_params(labelsize=15)\n",
        "\n",
        "plt.show()\n",
        "\n",
        "\n",
        "fig = plt.figure(figsize=(14, 10))\n",
        "ax = fig.add_subplot(111)\n",
        "\n",
        "gs1 = gridspec.GridSpec(1, 3)\n",
        "gs1.update(top=1-1.0/3.0-0.1, bottom=1.0-2.0/3.0, left=0.1, right=0.9, wspace=0.5)\n",
        "\n",
        "ax = plt.subplot(gs1[0, 0])\n",
        "ax.plot(x,Exact[25,:], 'b-', linewidth = 2, label = 'Exact')\n",
        "ax.plot(x,U_pred[25,:], 'r--', linewidth = 2, label = 'Prediction')\n",
        "ax.set_xlabel('$x$')\n",
        "ax.set_ylabel('$u(t,x)$')\n",
        "ax.set_title('$t = 0.25$', fontsize = 15)\n",
        "ax.axis('square')\n",
        "ax.set_xlim([-1.1,1.1])\n",
        "ax.set_ylim([-1.1,1.1])\n",
        "\n",
        "for item in ([ax.title, ax.xaxis.label, ax.yaxis.label] +\n",
        "             ax.get_xticklabels() + ax.get_yticklabels()):\n",
        "    item.set_fontsize(15)\n",
        "\n",
        "ax = plt.subplot(gs1[0, 1])\n",
        "ax.plot(x,Exact[50,:], 'b-', linewidth = 2, label = 'Exact')\n",
        "ax.plot(x,U_pred[50,:], 'r--', linewidth = 2, label = 'Prediction')\n",
        "ax.set_xlabel('$x$')\n",
        "ax.set_ylabel('$u(t,x)$')\n",
        "ax.axis('square')\n",
        "ax.set_xlim([-1.1,1.1])\n",
        "ax.set_ylim([-1.1,1.1])\n",
        "ax.set_title('$t = 0.50$', fontsize = 15)\n",
        "ax.legend(\n",
        "    loc='upper center',\n",
        "    bbox_to_anchor=(0.5, -0.15),\n",
        "    ncol=5,\n",
        "    frameon=False,\n",
        "    prop={'size': 15}\n",
        ")\n",
        "\n",
        "for item in ([ax.title, ax.xaxis.label, ax.yaxis.label] +\n",
        "             ax.get_xticklabels() + ax.get_yticklabels()):\n",
        "    item.set_fontsize(15)\n",
        "\n",
        "ax = plt.subplot(gs1[0, 2])\n",
        "ax.plot(x,Exact[75,:], 'b-', linewidth = 2, label = 'Exact')\n",
        "ax.plot(x,U_pred[75,:], 'r--', linewidth = 2, label = 'Prediction')\n",
        "ax.set_xlabel('$x$')\n",
        "ax.set_ylabel('$u(t,x)$')\n",
        "ax.axis('square')\n",
        "ax.set_xlim([-1.1,1.1])\n",
        "ax.set_ylim([-1.1,1.1])\n",
        "ax.set_title('$t = 0.75$', fontsize = 15)\n",
        "\n",
        "for item in ([ax.title, ax.xaxis.label, ax.yaxis.label] +\n",
        "             ax.get_xticklabels() + ax.get_yticklabels()):\n",
        "    item.set_fontsize(15)\n",
        "\n",
        "plt.show()\n",
        "\n"
      ],
      "execution_count": null,
      "outputs": []
    }
  ]
}