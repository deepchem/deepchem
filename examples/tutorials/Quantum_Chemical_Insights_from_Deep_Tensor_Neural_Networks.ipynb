{
 "cells": [
  {
   "cell_type": "markdown",
   "metadata": {},
   "source": [
    "# Quantum-Chemical Insights from Deep Tensor Neural Networks\n",
    "By: [Rakshit Singh](https://github.com/GreatRSingh) | [LinkedIn](https://www.linkedin.com/in/rakshit-singh-ai/)"
   ]
  },
  {
   "cell_type": "markdown",
   "metadata": {},
   "source": [
    "### Brief Introduction of Deep Tensor Neural Network"
   ]
  },
  {
   "cell_type": "markdown",
   "metadata": {},
   "source": [
    "  Deep Tensor Neural Network provide an efficient way to represent chemical environments allowing for chemically accurate predictions.\n",
    "\n",
    "  DTNN is based on the many-body Hamiltonian concept, which is a fundamental principle in quantum mechanics. The DTNN recieves a molecule's distance matrix and membership of its atom from its Coulomb Matrix representation. Then, it iteratively refines the representation of each atom by considering its interactions with neighboring atoms. Finally, it predicts the energy of the molecule by summing up the energies of the individual atoms.\n",
    "\n",
    "#### References\n",
    "- Schütt, Kristof T., et al. \"Quantum-chemical insights from deep tensor neural networks.\" Nature communications 8.1 (2017): 1-8."
   ]
  },
  {
   "cell_type": "markdown",
   "metadata": {},
   "source": [
    "### Setup"
   ]
  },
  {
   "cell_type": "code",
   "execution_count": 3,
   "metadata": {},
   "outputs": [],
   "source": [
    "#!pip install --pre deepchem\n",
    "import deepchem as dc\n",
    "import torch"
   ]
  },
  {
   "cell_type": "markdown",
   "metadata": {},
   "source": [
    "### Loading Dataset\n",
    "We will use a shorter version of QM9 Dataset.\n",
    "\n",
    "CoulombMatrix Featurizer is used with this model, because we want (sort of) relationship between the atoms in the molecule."
   ]
  },
  {
   "cell_type": "code",
   "execution_count": 4,
   "metadata": {},
   "outputs": [
    {
     "name": "stderr",
     "output_type": "stream",
     "text": [
      "/home/greatrsingh/deepchem/deepchem/feat/molecule_featurizers/coulomb_matrices.py:151: RuntimeWarning: divide by zero encountered in divide\n",
      "  m = np.outer(z, z) / d\n"
     ]
    }
   ],
   "source": [
    "from deepchem.data import SDFLoader\n",
    "from deepchem.feat import CoulombMatrix\n",
    "\n",
    "dataset_file = \"assets/qm9_mini.sdf\"\n",
    "TASKS = [\"alpha\", \"homo\"]\n",
    "loader = SDFLoader(tasks=TASKS, featurizer=CoulombMatrix(29), sanitize=True)\n",
    "data = loader.create_dataset(dataset_file, shard_size=100)"
   ]
  },
  {
   "cell_type": "markdown",
   "metadata": {},
   "source": [
    "### Initialize the Model\n",
    "We are using ExponentialDecay here because it gives stable results."
   ]
  },
  {
   "cell_type": "code",
   "execution_count": 8,
   "metadata": {},
   "outputs": [],
   "source": [
    "from deepchem.models.torch_models import DTNNModel\n",
    "from deepchem.models.optimizers import ExponentialDecay\n",
    "\n",
    "batch_size=100\n",
    "batches_per_epoch = len(data)/batch_size\n",
    "\n",
    "model = DTNNModel(data.y.shape[1],\n",
    "                  n_embedding=1000,\n",
    "                  n_distance=100,\n",
    "                  learning_rate=ExponentialDecay(0.8, 0.9, batches_per_epoch),\n",
    "                  mode=\"regression\")"
   ]
  },
  {
   "cell_type": "markdown",
   "metadata": {},
   "source": [
    "### Training the Model"
   ]
  },
  {
   "cell_type": "code",
   "execution_count": 9,
   "metadata": {},
   "outputs": [
    {
     "data": {
      "text/plain": [
       "0.17182926177978516"
      ]
     },
     "execution_count": 9,
     "metadata": {},
     "output_type": "execute_result"
    }
   ],
   "source": [
    "model.fit(data, nb_epoch=1000)"
   ]
  },
  {
   "cell_type": "markdown",
   "metadata": {},
   "source": [
    "### Evaluating model on train"
   ]
  },
  {
   "cell_type": "code",
   "execution_count": 14,
   "metadata": {},
   "outputs": [
    {
     "data": {
      "text/plain": [
       "0.08530692395014842"
      ]
     },
     "execution_count": 14,
     "metadata": {},
     "output_type": "execute_result"
    }
   ],
   "source": [
    "import numpy as np\n",
    "\n",
    "pred = model.predict(data)\n",
    "mean_rel_error = np.mean(np.abs(1 - pred / (data.y)))\n",
    "mean_rel_error"
   ]
  },
  {
   "cell_type": "markdown",
   "metadata": {},
   "source": [
    "# Congratulations! Time to join the Community!\n",
    "\n",
    "Congratulations on completing this tutorial notebook! If you enjoyed working through the tutorial, and want to continue working with DeepChem, we encourage you to finish the rest of the tutorials in this series. You can also help the DeepChem community in the following ways:\n",
    "\n",
    "## Star DeepChem on [GitHub](https://github.com/deepchem/deepchem)\n",
    "This helps build awareness of the DeepChem project and the tools for open source drug discovery that we're trying to build.\n",
    "\n",
    "## Join the DeepChem Gitter\n",
    "The DeepChem [Gitter](https://gitter.im/deepchem/Lobby) hosts a number of scientists, developers, and enthusiasts interested in deep learning for the life sciences. Join the conversation!"
   ]
  },
  {
   "cell_type": "markdown",
   "metadata": {},
   "source": [
    "## Citing This Tutorial\n",
    "If you found this tutorial useful please consider citing it using the provided BibTeX."
   ]
  },
  {
   "cell_type": "code",
   "execution_count": null,
   "metadata": {},
   "outputs": [],
   "source": [
    "@manual{Intro3,\n",
    " title={Quantum Chemical Insights from Deep Tensor Neural Networks},\n",
    " organization={DeepChem},\n",
    " author={Singh, Rakshit},\n",
    " howpublished = {\\url{https://github.com/deepchem/deepchem/blob/master/examples/tutorials/examples/tutorials/Quantum_Chemical_Insights_from_Deep_Tensor_Neural_Networks.ipynb}},\n",
    " year={2023}, \n",
    "}"
   ]
  }
 ],
 "metadata": {
  "kernelspec": {
   "display_name": "dc_torch",
   "language": "python",
   "name": "python3"
  },
  "language_info": {
   "codemirror_mode": {
    "name": "ipython",
    "version": 3
   },
   "file_extension": ".py",
   "mimetype": "text/x-python",
   "name": "python",
   "nbconvert_exporter": "python",
   "pygments_lexer": "ipython3",
   "version": "3.8.18"
  }
 },
 "nbformat": 4,
 "nbformat_minor": 2
}
