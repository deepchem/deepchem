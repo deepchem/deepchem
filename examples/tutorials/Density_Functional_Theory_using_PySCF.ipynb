{
 "cells": [
  {
   "cell_type": "markdown",
   "metadata": {},
   "source": [
    "# DENSITY FUNCTIONAL THEORY USING PYSCF \n",
    "\n",
    "In this tutorial we will discuss how to perform Density Functional Theory calculations for various molecules using the PySCF library.\n"
   ]
  },
  {
   "cell_type": "markdown",
   "metadata": {},
   "source": [
    "## Colab\n",
    "\n",
    "This tutorial and the rest in this sequence can be done in Google colab. If you'd like to open this notebook in colab, you can use the following link\n",
    "\n",
    "[![Open In Colab](https://colab.research.google.com/assets/colab-badge.svg)](https://colab.research.google.com/github/deepchem/deepchem/blob/master/examples/tutorials/Density_Functional_Theory_using_PySCF.ipynb)"
   ]
  },
  {
   "cell_type": "markdown",
   "metadata": {},
   "source": [
    "## Setup \n",
    "\n",
    "### Installing libraries"
   ]
  },
  {
   "cell_type": "code",
   "execution_count": 1,
   "metadata": {},
   "outputs": [
    {
     "name": "stdout",
     "output_type": "stream",
     "text": [
      "\u001b[33mDEPRECATION: Configuring installation scheme with distutils config files is deprecated and will no longer work in the near future. If you are using a Homebrew or Linuxbrew Python, please see discussion at https://github.com/Homebrew/homebrew-core/issues/76621\u001b[0m\u001b[33m\n",
      "\u001b[0mRequirement already satisfied: pyscf in /usr/local/lib/python3.8/site-packages (2.0.1)\n",
      "Requirement already satisfied: h5py>=2.7 in /usr/local/lib/python3.8/site-packages (from pyscf) (3.7.0)\n",
      "Requirement already satisfied: numpy!=1.16,!=1.17,>=1.13 in /usr/local/lib/python3.8/site-packages (from pyscf) (1.22.4)\n",
      "Requirement already satisfied: scipy!=1.5.0,!=1.5.1 in /usr/local/lib/python3.8/site-packages (from pyscf) (1.5.4)\n",
      "\u001b[33mDEPRECATION: Configuring installation scheme with distutils config files is deprecated and will no longer work in the near future. If you are using a Homebrew or Linuxbrew Python, please see discussion at https://github.com/Homebrew/homebrew-core/issues/76621\u001b[0m\u001b[33m\n",
      "\u001b[0m"
     ]
    }
   ],
   "source": [
    "! pip install pyscf "
   ]
  },
  {
   "cell_type": "markdown",
   "metadata": {},
   "source": [
    "### Import required modules"
   ]
  },
  {
   "cell_type": "code",
   "execution_count": 2,
   "metadata": {},
   "outputs": [],
   "source": [
    "import pyscf \n",
    "from pyscf import gto\n",
    "from pyscf import dft\n",
    "import matplotlib\n",
    "import matplotlib.pyplot as plt \n",
    "import math "
   ]
  },
  {
   "cell_type": "markdown",
   "metadata": {},
   "source": [
    "## Introduction to DFT\n",
    "\n",
    "\n",
    "### Uses of DFT\n",
    "\n",
    "Density functional theory (DFT) is a type of electronic structure calculation that is becoming increasingly popular. It can be used to predict a material's crystal structure. It can also be used to calculate transport properties such as optical conductivity (such as dielectric constant), thermodynamic properties (such as specific heat). Spectroscopic properties, such as the photoemission spectra, may also be calculated using the DFT framework. \n",
    "\n",
    "\n",
    "### The many body problem \n",
    "\n",
    "The wave function is a useful mathematical construct for calculating the total energy of atoms and molecules, as well as other features. These Schrodinger's wave equations can be solved very easily for a single particle system, by solving the differential equations using well known methods such as finite element method (FEM).\n",
    "\n",
    "However, it can be very computationally expensive to compute even for few particle systems. \n",
    "\n",
    "![poteq.jpg](https://github.com/deepchem/deepchem/blob/master/examples/tutorials/assets/poteq.jpg) \n",
    "\n",
    "This is the potential energy term of the Schodinger's equation of a many particle system. \n",
    "\n",
    "![kineq.jpg](https://github.com/deepchem/deepchem/blob/master/examples/tutorials/assets/kineq.jpg) \n",
    "\n",
    "This is the kinetic energy term of the Schodinger's equation of a many particle system.\n",
    "\n",
    "As we can see from the equations, the summation is over all electrons and ions in the system. If the potential energy term is ignored then the problem becomes exactly solvable because the particles don't interact with each other, and the many-body problem splits into many single-particle problems. \n",
    "Reference: [1]"
   ]
  },
  {
   "cell_type": "markdown",
   "metadata": {},
   "source": [
    "### Kohn Sham Density Functional Theory \n",
    "\n",
    "The first Hohenberg–Kohn theorem states that 'the ground state of any interacting many particle system with a given fixed inter-particle interaction is a unique functional of the electron density i.e. n(r)'. (Here, r is the position in space and n(r) is the density of the electron at that position, it is in fact an expectation value.)\n",
    "\n",
    "i.e  E[n(r)] where E is the ground state energy. (It's a property of all electrons in the system)\n",
    "(Which is where the term \"Density Functional\" is derived from) \n",
    "\n",
    "The minimization of this energy term is used to calculate the ground state energy. In order to derive the equation, we will start by looking at the basic Schrodinger's equation:\n",
    "![schrodinger1.jpg](https://github.com/deepchem/deepchem/blob/master/examples/tutorials/assets/schrodinger1.jpg) \n",
    "\n",
    "Here,  $ \\Psi $ is the wave function, H is the Hamiltonian Operator, and E is the Eigen Energy. The minimisation of this energy gives us the Ground state energy; \n",
    "\n",
    "![minimizationeq.jpg](https://github.com/deepchem/deepchem/blob/master/examples/tutorials/assets/minimizationeq.jpg) \n",
    "\n",
    "On combining the equations and the theorem we get the following equations:\n",
    "\n",
    "![ks1.jpg](https://github.com/deepchem/deepchem/blob/master/examples/tutorials/assets/ks1.jpg) \n",
    "\n",
    "![ks2.jpg](https://github.com/deepchem/deepchem/blob/master/examples/tutorials/assets/ks2.jpg) \n",
    "\n",
    "The density function can be calculated using the following formula, where $ \\Phi $ (r) is the normalized trial function:\n",
    "\n",
    "![densityfn.jpg](https://github.com/deepchem/deepchem/blob/master/examples/tutorials/assets/densityfn.jpg)\n",
    "\n",
    "This leads to the final derivation of the Kohn-Sham energy equation:\n",
    "\n",
    "![KSeq1.jpg](https://github.com/deepchem/deepchem/blob/master/examples/tutorials/assets/KSeq1.jpg)\n",
    "\n",
    "Where Exc and vxc are the 'Exchange Correlational' energy, and potential respectively. We will discuss this in the next section of this tutorial. "
   ]
  },
  {
   "cell_type": "markdown",
   "metadata": {},
   "source": [
    "### Exchange Correlation Functional \n",
    "\n",
    "The exchange correlation energy approximation used in the Kohn-Sham DFT approach can be defined as the difference between the true functional and the remaining terms, and the exchange correlation potential is defined as the difference between the fermi potential and pauli potential. [Reference:5] There are a many existing Exchange correlation functionals such as the LDA and the GGA, which are also classes of functionals. (Read more about them from [Reference:4]) In this tutorial we are using the Perdew–Burke–Ernzerhof exchange-correlation functional. \n"
   ]
  },
  {
   "cell_type": "markdown",
   "metadata": {},
   "source": [
    "## Building the Molecule \n",
    "\n",
    "- The 'gto' command is used to initialise the molecule.\n",
    "- The three numbers beside the atom determine it's coordinates in the basis system. \n",
    "\n",
    "NOTE: The choice of a suitable basis is an important aspect of the calculations.\n",
    "For molecules, a localized basis set is appropriate, while for bulk periodic systems or metallic systems, extended plane wave basis sets are suitable. For molecular systems, a basis set that better represents molecular orbitals would result in an optimal number of Kohn Sham equations, and hence the computational expense depends on the choice of the basis. \n",
    "\n",
    "We can read more on basis sets from the reference below:\n",
    "\n",
    "\n",
    "[ Basis Sets in Quantum Chemistry](http://vergil.chemistry.gatech.edu/courses/chem6485/pdf/basis-sets.pdf)\n",
    "\n",
    "\n",
    "### The example shown below is for a water molecule "
   ]
  },
  {
   "cell_type": "code",
   "execution_count": 3,
   "metadata": {},
   "outputs": [],
   "source": [
    "mol = gto.M(\n",
    "    atom = '''\n",
    "    O  0.   0.       0.\n",
    "    H  0.   2.       0.\n",
    "    H  0.   0.       2. ''',\n",
    "    basis = 'ccpvdz')"
   ]
  },
  {
   "cell_type": "markdown",
   "metadata": {},
   "source": [
    "### Numerical Grids\n",
    "\n",
    "Either rectangular or radial grids may be used depending on the problem. The examples in this tutorial use radial grids. An example below (where the molecule is the water molecule built above) shows the difference between two slightly difference grids being used, just for reference."
   ]
  },
  {
   "cell_type": "code",
   "execution_count": 4,
   "metadata": {},
   "outputs": [
    {
     "name": "stdout",
     "output_type": "stream",
     "text": [
      "converged SCF energy = -75.5217424548572\n",
      "Default DFT(LDA).  E = -75.521742454857\n",
      "converged SCF energy = -75.5217423020953\n",
      "Changed radial grids for DFT.  E = -75.521742302095\n"
     ]
    }
   ],
   "source": [
    "method = dft.KS(mol)\n",
    "print('Default DFT(LDA).  E = %.12f' % method.kernel())\n",
    "method = dft.KS(mol)\n",
    "method.grids.radi_method = dft.mura_knowles\n",
    "print('Changed radial grids for DFT.  E = %.12f' % method.kernel())"
   ]
  },
  {
   "cell_type": "markdown",
   "metadata": {},
   "source": [
    "## Example - Hydrogen Fluoride:\n",
    "\n",
    "This example shows how to calculate the molecular orbital energy using the Kohn Shahm Density Functional theory. Here we are using a pre defined basis and xc functional known as the \n",
    "\n",
    "### Calculating Minimum SCF Energy\n",
    "\n",
    "In the code below, we are generating molecules based on an initial molecule wrt a given displacement (here we have chosen 0.02 Angstrom). On running DFT calculations on these molecules, we can find the bond length at which the SCF energy is the lowest; hence the molecule is more stable. \n",
    "\n",
    "First, we define the parameters such as the displacement: "
   ]
  },
  {
   "cell_type": "code",
   "execution_count": null,
   "metadata": {},
   "outputs": [],
   "source": [
    "en_v=[]\n",
    "l_v=[]\n",
    "ne=75 #number of points we wish to generate"
   ]
  },
  {
   "cell_type": "markdown",
   "metadata": {},
   "source": [
    "Here, we redifine the molecule with a new bond length, with every iteration and run the DFT calculations for the same; "
   ]
  },
  {
   "cell_type": "code",
   "execution_count": 18,
   "metadata": {},
   "outputs": [
    {
     "name": "stdout",
     "output_type": "stream",
     "text": [
      "converged SCF energy = -99.5649748350062\n",
      "converged SCF energy = -99.6794657909909\n",
      "converged SCF energy = -99.7773689747609\n",
      "converged SCF energy = -99.8611074577248\n",
      "converged SCF energy = -99.9327275939047\n",
      "converged SCF energy = -99.9939559466994\n",
      "converged SCF energy = -100.046257356604\n",
      "converged SCF energy = -100.0908802554\n",
      "converged SCF energy = -100.128885129547\n",
      "converged SCF energy = -100.161177699425\n",
      "converged SCF energy = -100.188536593543\n",
      "converged SCF energy = -100.211628718739\n",
      "converged SCF energy = -100.231026553529\n",
      "converged SCF energy = -100.247224911665\n",
      "converged SCF energy = -100.260650702047\n",
      "converged SCF energy = -100.271671748792\n",
      "converged SCF energy = -100.280606571176\n",
      "converged SCF energy = -100.287731115805\n",
      "converged SCF energy = -100.293283727241\n",
      "converged SCF energy = -100.297470906768\n",
      "converged SCF energy = -100.300472270102\n",
      "converged SCF energy = -100.302443617309\n",
      "converged SCF energy = -100.303519881093\n",
      "converged SCF energy = -100.303818588257\n",
      "converged SCF energy = -100.303442632836\n",
      "converged SCF energy = -100.302481843783\n",
      "converged SCF energy = -100.30101446584\n",
      "converged SCF energy = -100.299108986382\n",
      "converged SCF energy = -100.296825776222\n",
      "converged SCF energy = -100.294218112394\n",
      "converged SCF energy = -100.291332797603\n",
      "converged SCF energy = -100.288210942113\n",
      "converged SCF energy = -100.284888794659\n",
      "converged SCF energy = -100.281398455264\n",
      "converged SCF energy = -100.277768353522\n",
      "converged SCF energy = -100.274023565669\n",
      "converged SCF energy = -100.270186151366\n",
      "converged SCF energy = -100.266275506181\n",
      "converged SCF energy = -100.262308713043\n",
      "converged SCF energy = -100.258300842029\n",
      "converged SCF energy = -100.254265178709\n",
      "converged SCF energy = -100.250213399483\n",
      "converged SCF energy = -100.246155707259\n",
      "converged SCF energy = -100.242100999132\n",
      "converged SCF energy = -100.238057057985\n",
      "converged SCF energy = -100.234030714037\n",
      "converged SCF energy = -100.230027988245\n",
      "converged SCF energy = -100.22605417265\n",
      "converged SCF energy = -100.222113886938\n",
      "converged SCF energy = -100.218211137376\n",
      "converged SCF energy = -100.21434942077\n",
      "converged SCF energy = -100.210531803479\n",
      "converged SCF energy = -100.206760988827\n",
      "converged SCF energy = -100.203039374111\n",
      "converged SCF energy = -100.199369063659\n",
      "converged SCF energy = -100.19575186147\n",
      "converged SCF energy = -100.19218930462\n",
      "converged SCF energy = -100.188682703245\n",
      "converged SCF energy = -100.185233167837\n",
      "converged SCF energy = -100.181841635788\n",
      "converged SCF energy = -100.178508891582\n",
      "converged SCF energy = -100.175235574188\n",
      "converged SCF energy = -100.172022184499\n",
      "converged SCF energy = -100.16886909812\n",
      "converged SCF energy = -100.165776567227\n",
      "converged SCF energy = -100.162744720009\n",
      "converged SCF energy = -100.1597735568\n",
      "converged SCF energy = -100.15686294234\n",
      "converged SCF energy = -100.154012606225\n",
      "converged SCF energy = -100.15122216995\n",
      "converged SCF energy = -100.148491200682\n",
      "converged SCF energy = -100.145819164278\n",
      "converged SCF energy = -100.14320550049\n",
      "converged SCF energy = -100.14064958543\n",
      "converged SCF energy = -100.138150801971\n"
     ]
    }
   ],
   "source": [
    "for k in range(ne):\n",
    "    l=0.5+k*0.02 #displacement value\n",
    "    atstr='H 0 0 0; F 0 0 '+str(l)\n",
    "    mol = pyscf.M(\n",
    "        atom = atstr, \n",
    "        basis = '631g',\n",
    "        symmetry = True,\n",
    "    )\n",
    "    mf = mol.KS() #Kohn Sham calculation \n",
    "    mf.xc = 'pbe'\n",
    "    en=mf.kernel()\n",
    "    en_v.append(en)\n",
    "    l_v.append(l)"
   ]
  },
  {
   "cell_type": "markdown",
   "metadata": {},
   "source": [
    "### Results \n",
    "\n",
    "On plotting the Bond length in Angstrom versus the SCF Energy in eV, we can identify the bond length at which minimum energy is required. Hence making the molecule most stable at that bond length. (Under these specific periodic boundary conditions.)"
   ]
  },
  {
   "cell_type": "code",
   "execution_count": 21,
   "metadata": {},
   "outputs": [
    {
     "data": {
      "image/png": "[encoded data removed]",
      "text/plain": [
       "<Figure size 432x288 with 1 Axes>"
      ]
     },
     "metadata": {
      "needs_background": "light"
     },
     "output_type": "display_data"
    }
   ],
   "source": [
    "enl=en_v[ne-1]\n",
    "en_v-=enl\n",
    "plt.plot(l_v,en_v)\n",
    "plt.xlabel(\"Bond length in Angstrom\")\n",
    "plt.ylabel(\"Energy in eV\")\n",
    "plt.show()"
   ]
  },
  {
   "cell_type": "markdown",
   "metadata": {},
   "source": [
    "\n",
    "**As seen from the output, the lowest SCF energy is at about 0.96 Angstrom bond length.** The experimental value is about 0.91 Angstrom. \n",
    "\n",
    "(Reference; NIST Computational Chemistry Comparison and Benchmark Database\n",
    "NIST Standard Reference Database Number 101\n",
    "Release 22, May 2022, Editor: Russell D. Johnson III\n",
    "http://cccbdb.nist.gov/\n",
    "DOI:10.18434/T47C7Z)\n",
    "\n",
    "NOTE: The calculations are not accurate beyond 2 Angstrom as the SCF energies do not converge. \n"
   ]
  },
  {
   "cell_type": "markdown",
   "metadata": {},
   "source": [
    "## Self Consistency of the Kohn Sham DFT\n",
    "\n",
    "From this tutorial we can see, that we are able to write the ground state energy of a many particle system as a functional of electron densities. Using this density we calculate the potential energy (potentials) of the system by minimization the energy term, which in turn can be used to solve the many body Schrodinger's equations and build a new set of wave functions. This way, a many particle system is treated as several single-particle systems. Hence, the many body problem can be solved using the Density Functional Theory."
   ]
  },
  {
   "cell_type": "markdown",
   "metadata": {},
   "source": [
    "## Citations:\n",
    " - [1] Clark, S., 2012. The Many-Electron Schrödinger Equation. [online] Cmt.dur.ac.uk. Available at: <http://cmt.dur.ac.uk/sjc/thesis_mcg/node161.html> [Accessed 10 June 2022].\n",
    " - [2] Baseden, Kyle A., and Jesse W. Tye. \"Introduction to density functional theory: calculations by hand on the helium atom.\" Journal of Chemical Education 91.12 (2014): 2116-2123.\n",
    " - [3] Jinnouchi, Ryosuke, and Ryoji Asahi. \"Predicting catalytic activity of nanoparticles by a DFT-aided machine-learning algorithm.\" The journal of physical chemistry letters 8.17 (2017): 4279-4283.\n",
    " - [4] Kohn, Walter, and Lu Jeu Sham. \"Self-consistent equations including exchange and correlation effects.\" Physical review 140.4A (1965): A1133.\n",
    " - [5] Paier, Joachim, et al. \"The Perdew–Burke–Ernzerhof exchange-correlation functional applied to the G2-1 test set using a plane-wave basis set.\" The Journal of chemical physics 122.23 (2005): 234102."
   ]
  }
 ],
 "metadata": {
  "interpreter": {
   "hash": "aee8b7b246df8f9039afb4144a1f6fd8d2ca17a180786b69acc140d282b71a49"
  },
  "kernelspec": {
   "display_name": "Python 3.8.5 64-bit",
   "language": "python",
   "name": "python3"
  },
  "language_info": {
   "codemirror_mode": {
    "name": "ipython",
    "version": 3
   },
   "file_extension": ".py",
   "mimetype": "text/x-python",
   "name": "python",
   "nbconvert_exporter": "python",
   "pygments_lexer": "ipython3",
   "version": "3.8.5"
  },
  "orig_nbformat": 4
 },
 "nbformat": 4,
 "nbformat_minor": 2
}
