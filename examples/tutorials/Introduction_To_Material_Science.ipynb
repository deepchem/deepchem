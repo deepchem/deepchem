{
  "cells": [
    {
      "cell_type": "markdown",
      "id": "e4cc07ed",
      "metadata": {
        "id": "e4cc07ed"
      },
      "source": [
        "#  Introduction To Material Science\n",
        "\n",
        "## Table of Contents:\n",
        "* [Introduction](#introduction)\n",
        "* [Setup](#setup)\n",
        "* [Featurizers](#featurizers)\n",
        "    - [Crystal Featurizers](#crystal-featurizers)\n",
        "    - [Compound Featurizers](#compound-featurizers)\n",
        "* [Datasets](#datasets)\n",
        "* [Predicting structural properties of a crystal](#pred-props)\n",
        "* [Further Reading](#further-reading)\n",
        "\n",
        "## Introduction <a class=\"anchor\" id=\"introduction\"></a>\n",
        "\n",
        "One of the most exciting applications of machine learning in the recent time is it's application to material science domain. DeepChem helps in development and application of machine learning to solid-state systems. As a starting point of applying machine learning to material science domain, DeepChem provides material science datasets as part of the MoleculeNet suite of datasets, data featurizers and implementation of popular machine learning algorithms specific to material science domain. This tutorial serves as an introduction of using DeepChem for machine learning related tasks in material science domain.\n",
        "\n",
        "Traditionally, experimental research were used to find and characterize new materials. But traditional methods have high limitations by constraints of required resources and equipments. Material science is one of the booming areas where machine learning is making new in-roads. The discovery of new material properties holds key to lot of problems like climate change, development of new semi-conducting materials etc. DeepChem acts as a toolbox for using machine learning in material science.\n",
        "\n",
        "This tutorial can also be used in Google colab. If you'd like to open this notebook in colab, you can use the following link. This notebook is made to run without any GPU support.\n",
        "\n",
        "[![Open In Colab](https://colab.research.google.com/assets/colab-badge.svg)](https://colab.research.google.com/github/deepchem/deepchem/blob/master/examples/tutorials/Introduction_To_Material_Science.ipynb)"
      ]
    },
    {
      "cell_type": "code",
      "execution_count": null,
      "id": "b3a2e5d4",
      "metadata": {
        "colab": {
          "base_uri": "https://localhost:8080/"
        },
        "id": "b3a2e5d4",
        "outputId": "f07fa8ce-3f57-4e0d-e1c5-d14cdbdd3989"
      },
      "outputs": [],
      "source": [
        "!pip install --pre deepchem"
      ]
    },
    {
      "cell_type": "markdown",
      "id": "cbec9313",
      "metadata": {
        "id": "cbec9313"
      },
      "source": [
        "DeepChem for material science will also require the additiona libraries [`pymatgen`](https://pymatgen.org/) and [`matminer`](https://hackingmaterials.lbl.gov/matminer/). These two libraries assist machine learning in material science. For graph neural network models which we will be used in the backend, DeepChem requires [`dgl`](https://www.dgl.ai/) library. All these can be installed using `pip`. **Note** when using locally, install a higher version of the jupyter notebook (>6.5.5, here on colab)."
      ]
    },
    {
      "cell_type": "code",
      "execution_count": 2,
      "id": "f162536e",
      "metadata": {
        "id": "f162536e"
      },
      "outputs": [],
      "source": [
        "!pip install -q pymatgen==2023.12.18\n",
        "!pip install -q matminer==0.9.0\n",
        "!pip install -q dgl\n",
        "!pip install -q tqdm"
      ]
    },
    {
      "cell_type": "code",
      "execution_count": null,
      "id": "3335e96f",
      "metadata": {
        "colab": {
          "base_uri": "https://localhost:8080/",
          "height": 288
        },
        "id": "3335e96f",
        "outputId": "7c898cfc-a9dc-4f07-8b8d-ee290b493a8c"
      },
      "outputs": [],
      "source": [
        "import deepchem as dc\n",
        "dc.__version__"
      ]
    },
    {
      "cell_type": "code",
      "execution_count": 4,
      "id": "6f76f7a5",
      "metadata": {
        "id": "6f76f7a5"
      },
      "outputs": [],
      "source": [
        "from tqdm import tqdm\n",
        "import matplotlib.pyplot as plt\n",
        "\n",
        "import pymatgen as mg\n",
        "from pymatgen import core as core\n",
        "\n",
        "import os\n",
        "os.environ['DEEPCHEM_DATA_DIR'] = os.getcwd()"
      ]
    },
    {
      "cell_type": "markdown",
      "id": "d43c4bc3",
      "metadata": {
        "id": "d43c4bc3"
      },
      "source": [
        "## Featurizers <a class=\"anchor\" id=\"featurizers\"></a>\n",
        "\n",
        "### Material Structure Featurizers <a class=\"anchor\" id=\"crystal-featurizers\"></a>\n",
        "\n",
        "Crystal are geometric structures which has to be featurized for using in machine learning algorithms.  The following featurizers provided by DeepChem helps in featurizing crystals:\n",
        "\n",
        "- The [SineCoulombMatrix](https://deepchem.readthedocs.io/en/latest/api_reference/featurizers.html#sinecoulombmatrix) featurizer a crystal by calculating sine coulomb matrix for the crystals. It can be called using `dc.featurizers.SineCoulombMatrix` function. [1]\n",
        "- The [CGCNNFeaturizer](https://deepchem.readthedocs.io/en/latest/api_reference/featurizers.html#cgcnnfeaturizer) calculates structure graph features of crystals. It can be called using `dc.featurizers.CGCNNFeaturizer` function. [2]\n",
        "- The [LCNNFeaturizer](https://deepchem.readthedocs.io/en/latest/api_reference/featurizers.html#lcnnfeaturizer) calculates the 2-D Surface graph features in 6 different permutations. It can be used using the utility `dc.feat.LCNNFeaturizer`. [3]\n",
        "\n",
        "[1] Faber et al. “Crystal Structure Representations for Machine Learning Models of Formation Energies”, Inter. J. Quantum Chem. 115, 16, 2015. https://arxiv.org/abs/1503.07406\n",
        "\n",
        "[2] T. Xie and J. C. Grossman, “Crystal graph convolutional neural networks for an accurate and interpretable prediction of material properties”, Phys. Rev. Lett. 120, 2018, https://arxiv.org/abs/1710.10324\n",
        "\n",
        "[3] Jonathan Lym, Geun Ho Gu, Yousung Jung, and Dionisios G. Vlachos, Lattice Convolutional Neural Network Modeling of Adsorbate Coverage Effects, J. Phys. Chem. C 2019 https://pubs.acs.org/doi/10.1021/acs.jpcc.9b03370"
      ]
    },
    {
      "cell_type": "markdown",
      "id": "cbfd1c09",
      "metadata": {
        "id": "cbfd1c09"
      },
      "source": [
        "#### Example: Featurizing a crystal\n",
        "\n",
        "In this part, we will be using `pymatgen` for representing the crystal structure of Caesium Chloride and calculate structure graph features using `CGCNNFeaturizer`.\n",
        "\n",
        "The `CsCl` crystal is a cubic lattice with the chloride atoms lying upon the lattice points at the edges of the cube, while the caesium atoms lie in the holes in the center of the cubes. The green colored atoms are the caesium atoms in this crystal structure and chloride atoms are the grey ones.\n",
        "\n",
        "<img src=\"https://github.com/deepchem/deepchem/blob/master/examples/tutorials/assets/CsCl_crystal_structure.png?raw=1\">\n",
        "\n",
        "Source: [Wikipedia](https://en.wikipedia.org/wiki/Caesium_chloride)"
      ]
    },
    {
      "cell_type": "code",
      "execution_count": null,
      "id": "592737b4",
      "metadata": {
        "colab": {
          "base_uri": "https://localhost:8080/"
        },
        "id": "592737b4",
        "outputId": "0237d60c-ee21-4b54-ce63-c245d30261e8"
      },
      "outputs": [
        {
          "data": {
            "text/plain": [
              "Structure Summary\n",
              "Lattice\n",
              "    abc : 4.2 4.2 4.2\n",
              " angles : 90.0 90.0 90.0\n",
              " volume : 74.08800000000001\n",
              "      A : 4.2 0.0 0.0\n",
              "      B : 0.0 4.2 0.0\n",
              "      C : 0.0 0.0 4.2\n",
              "    pbc : True True True\n",
              "PeriodicSite: Cs (0.0, 0.0, 0.0) [0.0, 0.0, 0.0]\n",
              "PeriodicSite: Cl (2.1, 2.1, 2.1) [0.5, 0.5, 0.5]"
            ]
          },
          "execution_count": 5,
          "metadata": {},
          "output_type": "execute_result"
        }
      ],
      "source": [
        "# the lattice parameter of a cubic cell\n",
        "a = 4.2\n",
        "lattice = core.Lattice.cubic(a)\n",
        "\n",
        "# Atoms in a crystal\n",
        "atomic_species = [\"Cs\", \"Cl\"]\n",
        "# Coordinates of atoms in a crystal\n",
        "cs_coords = [0, 0, 0]\n",
        "cl_coords = [0.5, 0.5, 0.5]\n",
        "structure = mg.core.Structure(lattice, atomic_species, [cs_coords, cl_coords])\n",
        "structure"
      ]
    },
    {
      "cell_type": "markdown",
      "id": "5ab7f770",
      "metadata": {
        "id": "5ab7f770"
      },
      "source": [
        "In above code sample, we first defined a cubic lattice using the cubic lattice parameter `a`. Then, we created a structure with atoms in the crystal and their coordinates as features. A nice introduction to crystallographic coordinates can be found [here](https://www.youtube.com/watch?v=dP3LjWtoeMU). Once a structure is defined, it can be featurized using CGCNN Featurizer. Featurization of a crystal using `CGCNNFeaturizer` returns a DeepChem GraphData object which can be used for machine learning tasks."
      ]
    },
    {
      "cell_type": "code",
      "execution_count": 6,
      "id": "c31ebc0a",
      "metadata": {
        "colab": {
          "base_uri": "https://localhost:8080/"
        },
        "id": "c31ebc0a",
        "outputId": "da508e82-fd31-4162-ed2d-5fd81479c52c"
      },
      "outputs": [
        {
          "data": {
            "text/plain": [
              "GraphData(node_features=[2, 92], edge_index=[2, 24], edge_features=[24, 41])"
            ]
          },
          "execution_count": 6,
          "metadata": {},
          "output_type": "execute_result"
        }
      ],
      "source": [
        "featurizer = dc.feat.CGCNNFeaturizer()\n",
        "features = featurizer.featurize([structure])\n",
        "features[0]"
      ]
    },
    {
      "cell_type": "markdown",
      "id": "8f7e8c58",
      "metadata": {
        "id": "8f7e8c58"
      },
      "source": [
        "### Material Composition Featurizers  <a class=\"anchor\" id=\"compound-featurizers\"></a>\n",
        "\n",
        "The above part discussed about using DeepChem for featurizing crystal structures. Here, we will be seeing about featurizing material compositions. DeepChem supports the following material composition featurizers:\n",
        "\n",
        "- The [ElementPropertyFingerprint](https://deepchem.readthedocs.io/en/latest/api_reference/featurizers.html#molecule-tokenizers) can be used to find fingerprint of elements based on elemental stoichiometry. It can be used using a call to `dc.featurizers.ElementPropertyFingerprint`. [4]\n",
        "- The [ElemNetFeaturizer](https://deepchem.readthedocs.io/en/latest/api_reference/featurizers.html#elemnetfeaturizer) returns a vector containing fractional compositions of each element in the compound. It can be used using a call to `dc.feat.ElemNetFeaturizer`. [5]\n",
        "\n",
        "[4] Ward, L., Agrawal, A., Choudhary, A. et al. A general-purpose machine learning framework for predicting properties of inorganic materials. npj Comput Mater 2, 16028 (2016). https://doi.org/10.1038/npjcompumats.2016.28\n",
        "\n",
        "[5] Jha, D., Ward, L., Paul, A. et al. \"ElemNet: Deep Learning the Chemistry of Materials From Only Elemental Composition\", Sci Rep 8, 17593 (2018). https://doi.org/10.1038/s41598-018-35934-y\n",
        "\n",
        "#### Example: Featurizing a compund\n",
        "\n",
        "In the below example, we featurize Ferric Oxide (Fe2O3) using `ElementPropertyFingerprint` featurizer . The featurizer returns the compounds elemental stoichoimetry properties as features."
      ]
    },
    {
      "cell_type": "code",
      "execution_count": 7,
      "id": "5c7ed055",
      "metadata": {
        "colab": {
          "base_uri": "https://localhost:8080/"
        },
        "id": "5c7ed055",
        "outputId": "fa1d6652-4a4b-475f-dbd8-b0258d8cc8c2"
      },
      "outputs": [
        {
          "name": "stderr",
          "output_type": "stream",
          "text": [
            "/usr/local/lib/python3.10/dist-packages/pymatgen/core/periodic_table.py:186: UserWarning: No data available for electrical_resistivity for O\n",
            "  warnings.warn(f\"No data available for {item} for {self.symbol}\")\n",
            "/usr/local/lib/python3.10/dist-packages/pymatgen/core/periodic_table.py:186: UserWarning: No data available for bulk_modulus for O\n",
            "  warnings.warn(f\"No data available for {item} for {self.symbol}\")\n",
            "/usr/local/lib/python3.10/dist-packages/pymatgen/core/periodic_table.py:186: UserWarning: No data available for coefficient_of_linear_thermal_expansion for O\n",
            "  warnings.warn(f\"No data available for {item} for {self.symbol}\")\n"
          ]
        },
        {
          "data": {
            "text/plain": [
              "array([1.83000000e+00, 3.44000000e+00, 1.61000000e+00, 2.79600000e+00,\n",
              "       1.13844192e+00, 2.00000000e+00, 4.00000000e+00, 2.00000000e+00,\n",
              "       2.80000000e+00, 1.41421356e+00, 8.00000000e+00, 1.60000000e+01,\n",
              "       8.00000000e+00, 1.28000000e+01, 5.65685425e+00, 2.00000000e+00,\n",
              "       3.00000000e+00, 1.00000000e+00, 2.40000000e+00, 7.07106781e-01,\n",
              "       1.59994000e+01, 5.58450000e+01, 3.98456000e+01, 3.19376400e+01,\n",
              "       2.81750940e+01, 6.00000000e-01, 1.40000000e+00, 8.00000000e-01,\n",
              "       9.20000000e-01, 5.65685425e-01, 6.10000000e+01, 1.01000000e+02,\n",
              "       4.00000000e+01, 8.50000000e+01, 2.82842712e+01, 0.00000000e+00,\n",
              "       0.00000000e+00, 0.00000000e+00, 0.00000000e+00, 0.00000000e+00,\n",
              "       3.17500000e+02, 4.91000000e+03, 4.59250000e+03, 2.15450000e+03,\n",
              "       3.24738789e+03, 2.65800000e-02, 8.00000000e+01, 7.99734200e+01,\n",
              "       3.20159480e+01, 5.65497476e+01, 5.48000000e+01, 1.81100000e+03,\n",
              "       1.75620000e+03, 7.57280000e+02, 1.24182093e+03, 0.00000000e+00,\n",
              "       0.00000000e+00, 0.00000000e+00, 0.00000000e+00, 0.00000000e+00,\n",
              "       0.00000000e+00, 0.00000000e+00, 0.00000000e+00, 0.00000000e+00,\n",
              "       0.00000000e+00])"
            ]
          },
          "execution_count": 7,
          "metadata": {},
          "output_type": "execute_result"
        }
      ],
      "source": [
        "comp = core.Composition(\"Fe2O3\")\n",
        "featurizer = dc.feat.ElementPropertyFingerprint()\n",
        "features = featurizer.featurize([comp])\n",
        "features[0]"
      ]
    },
    {
      "cell_type": "markdown",
      "id": "f25f1177",
      "metadata": {
        "id": "f25f1177"
      },
      "source": [
        "## Datasets  <a class=\"anchor\" id=\"datasets\"></a>\n",
        "\n",
        "DeepChem has the following material properties dataset as part of MoleculeNet suite of datasets. These datasets can be used for a variety of tasks in material science like predicting structure formation energy, metallicity of a compound etc.\n",
        "\n",
        "- The [Band Gap dataset](https://deepchem.readthedocs.io/en/latest/moleculenet.html#deepchem.molnet.load_bandgap) contains 4604 experimentally measured band gaps for inorganic crystal structure compositions. The dataset can be loaded using `dc.molnet.load_bandgap` utility.\n",
        "- The [Perovskite dataset](https://deepchem.readthedocs.io/en/latest/moleculenet.html#deepchem.molnet.load_perovskite) contains 18928 perovskite structures and their formation energies. It can be loaded using a call to `dc.molnet.load_perovskite`.\n",
        "- The [Formation Energy dataset](https://deepchem.readthedocs.io/en/latest/moleculenet.html#deepchem.molnet.load_mp_formation_energy) contains 132752 calculated formation energies and inorganic crystal structures from the Materials Project database. It can be loaded using a call to `dc.molnet.load_mp_formation_energy`.\n",
        "- The [Metallicity dataset](https://deepchem.readthedocs.io/en/latest/moleculenet.html#deepchem.molnet.load_mp_metallicity) contains 106113 inorganic crystal structures from the Materials Project database labeled as metals or nonmetals. It can be loaded using `dc.molnet.load_mp_metallicity` utility.\n",
        "\n",
        "In the below example, we will demonstrate loading *perovskite* dataset and use it to predict *formation energy* of new crystals. Perovskite structures are structures adopted by many oxides. Ideally it is a cubic structure but non-cubic variants also exists. Each datapoint in the `perovskite` dataset contains the lattice structure as a `pymatgen.core.Structure` object and the formation energy of the corresponding structure. It can be used by calling for machine learning tasks by calling `dc.molnet.load_perovskite` utility. The utility takes care of loading, featurizing and splitting the dataset for machine learning tasks."
      ]
    },
    {
      "cell_type": "code",
      "execution_count": 8,
      "id": "d6c18dd9",
      "metadata": {
        "id": "d6c18dd9"
      },
      "outputs": [],
      "source": [
        "dataset_config = {\"reload\": True, \"featurizer\": dc.feat.CGCNNFeaturizer(), \"transformers\": []}\n",
        "tasks, datasets, transformers = dc.molnet.load_perovskite(**dataset_config)\n",
        "train_dataset, valid_dataset, test_dataset = datasets"
      ]
    },
    {
      "cell_type": "code",
      "execution_count": 9,
      "id": "129229ed",
      "metadata": {
        "colab": {
          "base_uri": "https://localhost:8080/",
          "height": 121
        },
        "id": "129229ed",
        "outputId": "b7e94a4c-3925-4227-fb66-254d4e472897"
      },
      "outputs": [
        {
          "data": {
            "text/html": [
              "<div style=\"max-width:800px; border: 1px solid var(--colab-border-color);\"><style>\n",
              "      pre.function-repr-contents {\n",
              "        overflow-x: auto;\n",
              "        padding: 8px 12px;\n",
              "        max-height: 500px;\n",
              "      }\n",
              "\n",
              "      pre.function-repr-contents.function-repr-contents-collapsed {\n",
              "        cursor: pointer;\n",
              "        max-height: 100px;\n",
              "      }\n",
              "    </style>\n",
              "    <pre style=\"white-space: initial; background:\n",
              "         var(--colab-secondary-surface-color); padding: 8px 12px;\n",
              "         border-bottom: 1px solid var(--colab-border-color);\"><b>deepchem.data.datasets.DiskDataset.get_data_shape</b><br/>def get_data_shape() -&gt; Shape</pre><pre class=\"function-repr-contents function-repr-contents-collapsed\" style=\"\"><a class=\"filepath\" style=\"display:none\" href=\"#\">/usr/local/lib/python3.10/dist-packages/deepchem/data/datasets.py</a>Gets array shape of datapoints in this dataset.</pre>\n",
              "      <script>\n",
              "      if (google.colab.kernel.accessAllowed && google.colab.files && google.colab.files.view) {\n",
              "        for (const element of document.querySelectorAll('.filepath')) {\n",
              "          element.style.display = 'block'\n",
              "          element.onclick = (event) => {\n",
              "            event.preventDefault();\n",
              "            event.stopPropagation();\n",
              "            google.colab.files.view(element.textContent, 1570);\n",
              "          };\n",
              "        }\n",
              "      }\n",
              "      for (const element of document.querySelectorAll('.function-repr-contents')) {\n",
              "        element.onclick = (event) => {\n",
              "          event.preventDefault();\n",
              "          event.stopPropagation();\n",
              "          element.classList.toggle('function-repr-contents-collapsed');\n",
              "        };\n",
              "      }\n",
              "      </script>\n",
              "      </div>"
            ],
            "text/plain": [
              "<bound method DiskDataset.get_data_shape of <DiskDataset X.shape: (15142,), y.shape: (15142,), w.shape: (15142, 1), task_names: ['formation_energy']>>"
            ]
          },
          "execution_count": 9,
          "metadata": {},
          "output_type": "execute_result"
        }
      ],
      "source": [
        "train_dataset.get_data_shape"
      ]
    },
    {
      "cell_type": "markdown",
      "id": "d36a9822",
      "metadata": {
        "id": "d36a9822"
      },
      "source": [
        "## Predicting Formation Energy  <a class=\"anchor\" id=\"pred-props\"></a>\n",
        "\n",
        "Along with the dataset and featurizers, DeepChem also provide implementation of various machine learning algorithms which can be used on the fly for material science applications. For predicting formation energy, we use `CGCNNModel` as described in the paper [1]."
      ]
    },
    {
      "cell_type": "code",
      "execution_count": 10,
      "id": "4217a819",
      "metadata": {
        "colab": {
          "base_uri": "https://localhost:8080/",
          "height": 468
        },
        "id": "4217a819",
        "outputId": "c38976f8-9662-40cd-b1d7-7a22db032407"
      },
      "outputs": [
        {
          "name": "stderr",
          "output_type": "stream",
          "text": [
            "Training: 100%|██████████| 10/10 [11:26<00:00, 68.65s/it]\n"
          ]
        },
        {
          "data": {
            "text/plain": [
              "[<matplotlib.lines.Line2D at 0x7967a9a126e0>]"
            ]
          },
          "execution_count": 10,
          "metadata": {},
          "output_type": "execute_result"
        },
        {
          "data": {
            "image/png": "[encoded data removed]",
            "text/plain": [
              "<Figure size 640x480 with 1 Axes>"
            ]
          },
          "metadata": {},
          "output_type": "display_data"
        }
      ],
      "source": [
        "model = dc.models.CGCNNModel(mode='regression', batch_size=256, learning_rate=0.0008)\n",
        "\n",
        "losses = []\n",
        "\n",
        "for _ in tqdm(range(10), desc=\"Training\"):\n",
        "    loss = model.fit(train_dataset, nb_epoch=1)\n",
        "    losses.append(loss)\n",
        "\n",
        "plt.plot(losses)"
      ]
    },
    {
      "cell_type": "markdown",
      "id": "3a41acc6",
      "metadata": {
        "id": "3a41acc6"
      },
      "source": [
        "Once fitting the model, we evaluate the performance of the model using mean squared error metric since it is a regression task. For selection a metric, `dc.metrics.mean_squared_error` function can be used and we evaluate the model by calling `dc.model.evaluate`.`"
      ]
    },
    {
      "cell_type": "code",
      "execution_count": 11,
      "id": "57f3a654",
      "metadata": {
        "colab": {
          "base_uri": "https://localhost:8080/"
        },
        "id": "57f3a654",
        "outputId": "1feb548a-6518-410c-cf1d-4e2bf39b8a7f"
      },
      "outputs": [
        {
          "name": "stdout",
          "output_type": "stream",
          "text": [
            "Training set score: {'mean_absolute_error': 0.1310973839991837}\n",
            "Test set score: {'mean_absolute_error': 0.13470105945654667}\n"
          ]
        }
      ],
      "source": [
        "metric = dc.metrics.Metric(dc.metrics.mean_absolute_error)\n",
        "print(\"Training set score:\", model.evaluate(train_dataset, [metric], transformers))\n",
        "print(\"Test set score:\", model.evaluate(test_dataset, [metric], transformers))"
      ]
    },
    {
      "cell_type": "markdown",
      "id": "9dQ_Ug0iRTwP",
      "metadata": {
        "id": "9dQ_Ug0iRTwP"
      },
      "source": [
        "The original paper achieved a MAE of 0.130 eV/atom on the same dataset (with a 60:20:20 split, instead of the 80:10:10 being used in this tutorial). "
      ]
    },
    {
      "cell_type": "markdown",
      "id": "7379397d",
      "metadata": {
        "id": "7379397d"
      },
      "source": [
        "## Further Reading <a class=\"anchor\" id=\"further-reading\"></a>\n",
        "\n",
        "For further reading on getting started on using machine learning for material science, here are two great resources:\n",
        "- [Getting Started in Material Informatics](https://towardsdatascience.com/getting-started-in-materials-informatics-41ee34d5ccfe)\n",
        "- [A Collection of Open Source Material Informatics Resources](https://github.com/ncfrey/resources)"
      ]
    },
    {
      "cell_type": "markdown",
      "id": "df2e9207",
      "metadata": {
        "id": "df2e9207"
      },
      "source": [
        "# Congratulations! Time to join the Community!\n",
        "\n",
        "Congratulations on completing this tutorial notebook! If you enjoyed working through the tutorial, and want to continue working with DeepChem, we encourage you to finish the rest of the tutorials in this series. You can also help the DeepChem community in the following ways:\n",
        "\n",
        "## Star DeepChem on [GitHub](https://github.com/deepchem/deepchem)\n",
        "This helps build awareness of the DeepChem project and the tools for open source drug discovery that we're trying to build.\n",
        "\n",
        "## Join the DeepChem Gitter\n",
        "The DeepChem [Gitter](https://gitter.im/deepchem/Lobby) hosts a number of scientists, developers, and enthusiasts interested in deep learning for the life sciences. Join the conversation!\n"
      ]
    }
  ],
  "metadata": {
    "accelerator": "GPU",
    "colab": {
      "gpuType": "T4",
      "provenance": []
    },
    "kernelspec": {
      "display_name": "Python 3",
      "name": "python3"
    },
    "language_info": {
      "codemirror_mode": {
        "name": "ipython",
        "version": 3
      },
      "file_extension": ".py",
      "mimetype": "text/x-python",
      "name": "python",
      "nbconvert_exporter": "python",
      "pygments_lexer": "ipython3",
      "version": "3.10.13"
    }
  },
  "nbformat": 4,
  "nbformat_minor": 5
}
