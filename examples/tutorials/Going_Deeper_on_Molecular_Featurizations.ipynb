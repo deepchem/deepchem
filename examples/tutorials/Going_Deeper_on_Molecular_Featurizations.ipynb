{
 "cells": [
  {
   "cell_type": "markdown",
   "metadata": {
    "colab_type": "text",
    "id": "tTuYGOlnh117"
   },
   "source": [
    "#  Going Deeper On Molecular Featurizations\n",
    "\n",
    "One of the most important steps of doing machine learning on molecular data is transforming the data into a form amenable to the application of learning algorithms. This process is broadly called \"featurization\" and involves turning a molecule into a vector or tensor of some sort. There are a number of different ways of doing that, and the choice of featurization is often dependent on the problem at hand. We have already seen two such methods: molecular fingerprints, and `ConvMol` objects for use with graph convolutions. In this tutorial we will look at some of the others.\n",
    "\n",
    "## Colab\n",
    "\n",
    "This tutorial and the rest in this sequence can be done in Google colab. If you'd like to open this notebook in colab, you can use the following link.\n",
    "\n",
    "[![Open In Colab](https://colab.research.google.com/assets/colab-badge.svg)](https://colab.research.google.com/github/deepchem/deepchem/blob/master/examples/tutorials/Going_Deeper_on_Molecular_Featurizations.ipynb)\n",
    "\n"
   ]
  },
  {
   "cell_type": "code",
   "execution_count": 41,
   "metadata": {
    "colab": {
     "base_uri": "https://localhost:8080/",
     "height": 188
    },
    "colab_type": "code",
    "id": "D43MbibL_EK0",
    "outputId": "e7b205ae-9962-4089-d49a-6d0ebe4c8430"
   },
   "outputs": [
    {
     "name": "stderr",
     "output_type": "stream",
     "text": [
      "'DOSKEY' is not recognized as an internal or external command,\n",
      "operable program or batch file.\n"
     ]
    },
    {
     "data": {
      "text/plain": [
       "'2.6.0.dev'"
      ]
     },
     "execution_count": 41,
     "metadata": {},
     "output_type": "execute_result"
    }
   ],
   "source": [
    "!pip install -qq --pre deepchem\n",
    "import deepchem\n",
    "import warnings\n",
    "warnings.filterwarnings('ignore')\n",
    "deepchem.__version__"
   ]
  },
  {
   "cell_type": "markdown",
   "metadata": {
    "colab_type": "text",
    "id": "omxBgQVDh12B"
   },
   "source": [
    "## Featurizers\n",
    "\n",
    "In DeepChem, a method of featurizing a molecule (or any other sort of input) is defined by a `Featurizer` object.  There are three different ways of using featurizers.\n",
    "\n",
    "1. When using the MoleculeNet loader functions, you simply pass the name of the featurization method to use.  We have seen examples of this in earlier tutorials, such as `featurizer='ECFP'` or `featurizer='GraphConv'`.\n",
    "\n",
    "2. You also can create a Featurizer and directly apply it to molecules.  For example:"
   ]
  },
  {
   "cell_type": "code",
   "execution_count": 42,
   "metadata": {
    "colab": {},
    "colab_type": "code",
    "id": "Sp5Hbb4nh12C"
   },
   "outputs": [
    {
     "name": "stderr",
     "output_type": "stream",
     "text": [
      "[21:56:25] DEPRECATION WARNING: please use MorganGenerator\n",
      "[21:56:25] DEPRECATION WARNING: please use MorganGenerator\n",
      "[21:56:25] DEPRECATION WARNING: please use MorganGenerator\n"
     ]
    },
    {
     "name": "stdout",
     "output_type": "stream",
     "text": [
      "[[0. 0. 0. ... 0. 0. 0.]\n",
      " [0. 0. 0. ... 0. 0. 0.]\n",
      " [0. 0. 0. ... 0. 0. 0.]]\n"
     ]
    }
   ],
   "source": [
    "import deepchem as dc\n",
    "\n",
    "featurizer = dc.feat.CircularFingerprint()\n",
    "print(featurizer(['CC', 'CCC', 'CCO']))"
   ]
  },
  {
   "cell_type": "markdown",
   "metadata": {
    "colab_type": "text",
    "id": "_bC1mPM4h12F"
   },
   "source": [
    "3. When creating a new dataset with the DataLoader framework, you can specify a Featurizer to use for processing the data.  We will see this in a future tutorial.\n",
    "\n",
    "We use propane (CH<sub>3</sub>CH<sub>2</sub>CH<sub>3</sub>, represented by the SMILES string `'CCC'`) as a running example throughout this tutorial. Many of the featurization methods use conformers of the molecules. A conformer can be generated using the `ConformerGenerator` class in `deepchem.utils.conformers`. "
   ]
  },
  {
   "cell_type": "markdown",
   "metadata": {
    "colab_type": "text",
    "id": "4D9z0slLh12G"
   },
   "source": [
    "### RDKitDescriptors"
   ]
  },
  {
   "cell_type": "markdown",
   "metadata": {
    "colab_type": "text",
    "id": "oCfATWYIh12H"
   },
   "source": [
    "`RDKitDescriptors` featurizes a molecule by using RDKit to compute values for a list of descriptors. These are basic physical and chemical properties: molecular weight, polar surface area, numbers of hydrogen bond donors and acceptors, etc. This is most useful for predicting things that depend on these high level properties rather than on detailed molecular structure.\n",
    "\n",
    "Intrinsic to the featurizer is a set of allowed descriptors, which can be accessed using `RDKitDescriptors.allowedDescriptors`. The featurizer uses the descriptors in `rdkit.Chem.Descriptors.descList`, checks if they are in the list of allowed descriptors, and computes the descriptor value for the molecule.\n",
    "\n",
    "Let's print the values of the first ten descriptors for propane."
   ]
  },
  {
   "cell_type": "code",
   "execution_count": 43,
   "metadata": {
    "colab": {
     "base_uri": "https://localhost:8080/",
     "height": 1000
    },
    "colab_type": "code",
    "id": "3dt_vjtXh12N",
    "outputId": "c6f73232-0765-479c-93b0-ba18cbf6f33a"
   },
   "outputs": [
    {
     "name": "stdout",
     "output_type": "stream",
     "text": [
      "MaxAbsEStateIndex 2.125\n",
      "MaxEStateIndex 2.125\n",
      "MinAbsEStateIndex 1.25\n",
      "MinEStateIndex 1.25\n",
      "qed 0.3854706587740357\n",
      "SPS 6.0\n",
      "MolWt 44.097\n",
      "HeavyAtomMolWt 36.033\n",
      "ExactMolWt 44.062600255999996\n",
      "NumValenceElectrons 20.0\n"
     ]
    }
   ],
   "source": [
    "from rdkit.Chem.Descriptors import descList\n",
    "rdkit_featurizer = dc.feat.RDKitDescriptors()\n",
    "features = rdkit_featurizer(['CCC'])[0]\n",
    "descriptors = [i[0] for i in descList]\n",
    "for feature, descriptor in zip(features[:10], descriptors):\n",
    "    print(descriptor, feature)"
   ]
  },
  {
   "cell_type": "markdown",
   "metadata": {},
   "source": [
    "Of course, there are many more descriptors than this."
   ]
  },
  {
   "cell_type": "code",
   "execution_count": 44,
   "metadata": {
    "colab": {
     "base_uri": "https://localhost:8080/",
     "height": 34
    },
    "colab_type": "code",
    "id": "KfyDpE81h12Q",
    "outputId": "46673131-c504-48ca-db35-5d689e218069"
   },
   "outputs": [
    {
     "name": "stdout",
     "output_type": "stream",
     "text": [
      "The number of descriptors present is:  217\n"
     ]
    }
   ],
   "source": [
    "print('The number of descriptors present is: ', len(features))"
   ]
  },
  {
   "cell_type": "markdown",
   "metadata": {
    "colab_type": "text",
    "id": "41RwzbTth12U"
   },
   "source": [
    "### WeaveFeaturizer and MolGraphConvFeaturizer\n",
    "\n",
    "We previously looked at graph convolutions, which use `ConvMolFeaturizer` to convert molecules into `ConvMol` objects.  Graph convolutions are a special case of a large class of architectures that represent molecules as graphs.  They work in similar ways but vary in the details.  For example, they may associate data vectors with the atoms, the bonds connecting them, or both.  They may use a variety of techniques to calculate new data vectors from those in the previous layer, and a variety of techniques to compute molecule level properties at the end.\n",
    "\n",
    "DeepChem supports lots of different graph based models.  Some of them require molecules to be featurized in slightly different ways.  Because of this, there are two other featurizers called `WeaveFeaturizer` and `MolGraphConvFeaturizer`.  They each convert molecules into a different type of Python object that is used by particular models.  When using any graph based model, just check the documentation to see what featurizer you need to use with it."
   ]
  },
  {
   "cell_type": "markdown",
   "metadata": {
    "colab_type": "text",
    "id": "SF3l5yJ4h12f"
   },
   "source": [
    "### CoulombMatrix\n",
    "\n",
    "All the models we have looked at so far consider only the intrinsic properties of a molecule: the list of atoms that compose it and the bonds connecting them.  When working with flexible molecules, you may also want to consider the different conformations the molecule can take on.  For example, when a drug molecule binds to a protein, the strength of the binding depends on specific interactions between pairs of atoms.  To predict binding strength, you probably want to consider a variety of possible conformations and use a model that takes them into account when making predictions.\n",
    "\n",
    "The Coulomb matrix is one popular featurization for molecular conformations.  Recall that the electrostatic Coulomb interaction between two charges is proportional to $q_1 q_2/r$ where $q_1$ and $q_2$ are the charges and $r$ is the distance between them.  For a molecule with $N$ atoms, the Coulomb matrix is a $N \\times N$ matrix where each element gives the strength of the electrostatic interaction between two atoms.  It contains information both about the charges on the atoms and the distances between them.  More information on the functional forms used can be found [here](https://journals.aps.org/prl/pdf/10.1103/PhysRevLett.108.058301).\n",
    "\n",
    "To apply this featurizer, we first need a set of conformations for the molecule.  We can use the `ConformerGenerator` class to do this.  It takes a RDKit molecule, generates a set of energy minimized conformers, and prunes the set to only include ones that are significantly different from each other.  Let's try running it for propane."
   ]
  },
  {
   "cell_type": "code",
   "execution_count": 45,
   "metadata": {
    "colab": {
     "base_uri": "https://localhost:8080/",
     "height": 34
    },
    "colab_type": "code",
    "id": "evLPEI6mh12g",
    "outputId": "c0895d51-a38d-494e-d161-31ce5c421fb3"
   },
   "outputs": [
    {
     "name": "stdout",
     "output_type": "stream",
     "text": [
      "Number of available conformers for propane:  1\n"
     ]
    }
   ],
   "source": [
    "from rdkit import Chem\n",
    "\n",
    "generator = dc.utils.ConformerGenerator(max_conformers=5)\n",
    "propane_mol = generator.generate_conformers(Chem.MolFromSmiles('CCC'))\n",
    "print(\"Number of available conformers for propane: \", len(propane_mol.GetConformers()))"
   ]
  },
  {
   "cell_type": "markdown",
   "metadata": {},
   "source": [
    "It only found a single conformer.  This shouldn't be surprising, since propane is a very small molecule with hardly any flexibility.  Let's try adding another carbon."
   ]
  },
  {
   "cell_type": "code",
   "execution_count": 46,
   "metadata": {},
   "outputs": [
    {
     "name": "stdout",
     "output_type": "stream",
     "text": [
      "Number of available conformers for butane:  3\n"
     ]
    }
   ],
   "source": [
    "butane_mol = generator.generate_conformers(Chem.MolFromSmiles('CCCC'))\n",
    "print(\"Number of available conformers for butane: \", len(butane_mol.GetConformers()))"
   ]
  },
  {
   "cell_type": "markdown",
   "metadata": {},
   "source": [
    "Now we can create a Coulomb matrix for our molecule."
   ]
  },
  {
   "cell_type": "code",
   "execution_count": 47,
   "metadata": {
    "colab": {
     "base_uri": "https://localhost:8080/",
     "height": 51
    },
    "colab_type": "code",
    "id": "pPIqy39Ih12i",
    "outputId": "ca7b18b3-cfa4-44e8-a907-cbffd4e65364"
   },
   "outputs": [
    {
     "name": "stdout",
     "output_type": "stream",
     "text": [
      "[[[36.8581052  12.48684436  7.56196875  2.85804542  2.85945164\n",
      "    2.85804541  1.46740143  1.46740146  0.91279488  1.14239695\n",
      "    1.14239686  0.          0.          0.          0.\n",
      "    0.          0.          0.          0.          0.        ]\n",
      "  [12.48684436 36.8581052  12.48684457  1.45850729  1.46551208\n",
      "    1.45850733  2.856895    2.85689499  1.46551214  1.45850729\n",
      "    1.45850735  0.          0.          0.          0.\n",
      "    0.          0.          0.          0.          0.        ]\n",
      "  [ 7.56196875 12.48684457 36.8581052   1.14239716  0.91279487\n",
      "    1.14239667  1.46740155  1.46740152  2.8594516   2.85804528\n",
      "    2.85804531  0.          0.          0.          0.\n",
      "    0.          0.          0.          0.          0.        ]\n",
      "  [ 2.85804542  1.45850729  1.14239716  0.5         0.29325368\n",
      "    0.29200274  0.17113412  0.21092508  0.13960187  0.16800025\n",
      "    0.20540035  0.          0.          0.          0.\n",
      "    0.          0.          0.          0.          0.        ]\n",
      "  [ 2.85945164  1.46551208  0.91279487  0.29325368  0.5\n",
      "    0.29325366  0.21256971  0.21256981  0.1226839   0.13960185\n",
      "    0.13960187  0.          0.          0.          0.\n",
      "    0.          0.          0.          0.          0.        ]\n",
      "  [ 2.85804541  1.45850733  1.14239667  0.29200274  0.29325366\n",
      "    0.5         0.21092517  0.17113413  0.13960185  0.20540026\n",
      "    0.16800012  0.          0.          0.          0.\n",
      "    0.          0.          0.          0.          0.        ]\n",
      "  [ 1.46740143  2.856895    1.46740155  0.17113412  0.21256971\n",
      "    0.21092517  0.5         0.293513    0.2125698   0.21092512\n",
      "    0.17113413  0.          0.          0.          0.\n",
      "    0.          0.          0.          0.          0.        ]\n",
      "  [ 1.46740146  2.85689499  1.46740152  0.21092508  0.21256981\n",
      "    0.17113413  0.293513    0.5         0.21256977  0.17113412\n",
      "    0.21092515  0.          0.          0.          0.\n",
      "    0.          0.          0.          0.          0.        ]\n",
      "  [ 0.91279488  1.46551214  2.8594516   0.13960187  0.1226839\n",
      "    0.13960185  0.2125698   0.21256977  0.5         0.29325367\n",
      "    0.29325366  0.          0.          0.          0.\n",
      "    0.          0.          0.          0.          0.        ]\n",
      "  [ 1.14239695  1.45850729  2.85804528  0.16800025  0.13960185\n",
      "    0.20540026  0.21092512  0.17113412  0.29325367  0.5\n",
      "    0.2920027   0.          0.          0.          0.\n",
      "    0.          0.          0.          0.          0.        ]\n",
      "  [ 1.14239686  1.45850735  2.85804531  0.20540035  0.13960187\n",
      "    0.16800012  0.17113413  0.21092515  0.29325366  0.2920027\n",
      "    0.5         0.          0.          0.          0.\n",
      "    0.          0.          0.          0.          0.        ]\n",
      "  [ 0.          0.          0.          0.          0.\n",
      "    0.          0.          0.          0.          0.\n",
      "    0.          0.          0.          0.          0.\n",
      "    0.          0.          0.          0.          0.        ]\n",
      "  [ 0.          0.          0.          0.          0.\n",
      "    0.          0.          0.          0.          0.\n",
      "    0.          0.          0.          0.          0.\n",
      "    0.          0.          0.          0.          0.        ]\n",
      "  [ 0.          0.          0.          0.          0.\n",
      "    0.          0.          0.          0.          0.\n",
      "    0.          0.          0.          0.          0.\n",
      "    0.          0.          0.          0.          0.        ]\n",
      "  [ 0.          0.          0.          0.          0.\n",
      "    0.          0.          0.          0.          0.\n",
      "    0.          0.          0.          0.          0.\n",
      "    0.          0.          0.          0.          0.        ]\n",
      "  [ 0.          0.          0.          0.          0.\n",
      "    0.          0.          0.          0.          0.\n",
      "    0.          0.          0.          0.          0.\n",
      "    0.          0.          0.          0.          0.        ]\n",
      "  [ 0.          0.          0.          0.          0.\n",
      "    0.          0.          0.          0.          0.\n",
      "    0.          0.          0.          0.          0.\n",
      "    0.          0.          0.          0.          0.        ]\n",
      "  [ 0.          0.          0.          0.          0.\n",
      "    0.          0.          0.          0.          0.\n",
      "    0.          0.          0.          0.          0.\n",
      "    0.          0.          0.          0.          0.        ]\n",
      "  [ 0.          0.          0.          0.          0.\n",
      "    0.          0.          0.          0.          0.\n",
      "    0.          0.          0.          0.          0.\n",
      "    0.          0.          0.          0.          0.        ]\n",
      "  [ 0.          0.          0.          0.          0.\n",
      "    0.          0.          0.          0.          0.\n",
      "    0.          0.          0.          0.          0.\n",
      "    0.          0.          0.          0.          0.        ]]]\n"
     ]
    }
   ],
   "source": [
    "coulomb_mat = dc.feat.CoulombMatrix(max_atoms=20)\n",
    "features = coulomb_mat(propane_mol)\n",
    "print(features)"
   ]
  },
  {
   "cell_type": "markdown",
   "metadata": {
    "colab_type": "text",
    "id": "Uyq3Xk3sh12l"
   },
   "source": [
    "Notice that many elements are 0.  To combine multiple molecules in a batch we need all the Coulomb matrices to be the same size, even if the molecules have different numbers of atoms.  We specified `max_atoms=20`, so the returned matrix  has size (20, 20).  The molecule only has 11 atoms, so only an 11 by 11 submatrix is nonzero."
   ]
  },
  {
   "cell_type": "markdown",
   "metadata": {
    "colab_type": "text",
    "id": "P-sGs7W2h12p"
   },
   "source": [
    "### CoulombMatrixEig"
   ]
  },
  {
   "cell_type": "markdown",
   "metadata": {
    "colab_type": "text",
    "id": "9NTjtDUzh12p"
   },
   "source": [
    "An important feature of Coulomb matrices is that they are invariant to molecular rotation and translation, since the interatomic distances and atomic numbers do not change.  Respecting symmetries like this makes learning easier.  Rotating a molecule does not change its physical properties.  If the featurization does change, then the model is forced to learn that rotations are not important, but if the featurization is invariant then the model gets this property automatically.\n",
    "\n",
    "Coulomb matrices are not invariant under another important symmetry: permutations of the atoms' indices.  A molecule's physical properties do not depend on which atom we call \"atom 1\", but the Coulomb matrix does.  To deal with this, the `CoulumbMatrixEig` featurizer was introduced, which uses the eigenvalue spectrum of the Coulumb matrix and is invariant to random permutations of the atom's indices.  The disadvantage of this featurization is that it contains much less information ($N$ eigenvalues instead of an $N \\times N$ matrix), so models will be more limited in what they can learn.\n",
    "\n",
    "`CoulombMatrixEig` inherits from `CoulombMatrix` and featurizes a molecule by first computing the Coulomb matrices for different conformers of the molecule and then computing the eigenvalues for each Coulomb matrix. These eigenvalues are then padded to account for variation in number of atoms across molecules."
   ]
  },
  {
   "cell_type": "code",
   "execution_count": 48,
   "metadata": {
    "colab": {
     "base_uri": "https://localhost:8080/",
     "height": 51
    },
    "colab_type": "code",
    "id": "ga1-nNiWh12t",
    "outputId": "2df3163c-6808-49e6-dba8-282ddd7fa3c4"
   },
   "outputs": [
    {
     "name": "stdout",
     "output_type": "stream",
     "text": [
      "[[60.07620356 29.62963145 22.75497727  0.57137861  0.28781334  0.28548339\n",
      "   0.27558185  0.18163797  0.17460999  0.17059716  0.16640101  0.\n",
      "   0.          0.          0.          0.          0.          0.\n",
      "   0.          0.        ]]\n"
     ]
    }
   ],
   "source": [
    "coulomb_mat_eig = dc.feat.CoulombMatrixEig(max_atoms=20)\n",
    "features = coulomb_mat_eig(propane_mol)\n",
    "print(features)"
   ]
  },
  {
   "cell_type": "markdown",
   "metadata": {},
   "source": [
    "### SMILES Tokenization and Numericalization\n"
   ]
  },
  {
   "cell_type": "markdown",
   "metadata": {},
   "source": [
    "So far, we have looked at featurization techniques that translate the implicit structural and physical information in SMILES data into more explicit features that help our models learn and make predictions. In this section, we will preprocess SMILES strings into a format that can be fed to sequence models, such as 1D convolutional neural networks and transformers, and enables these models to learn their own representations of molecular properties.\n",
    "\n",
    "To prepare SMILES strings for a sequence model, we break them down into lists of substrings (called tokens) and turn them into lists of integer values (numericalization). Sequence models use those integer values as indices of an embedding matrix, which contains a vector of floating-point numbers for each token in the vocabulary. These embedding vectors are updated during model training. This process allows the sequence model to learn its own representations of the molecular properties implicit in the training data.\n",
    "\n",
    "We will use DeepChem's `BasicSmilesTokenizer` and the Tox21 dataset from MoleculeNet to demonstrate the process of tokenizing SMILES."
   ]
  },
  {
   "cell_type": "code",
   "execution_count": 49,
   "metadata": {},
   "outputs": [],
   "source": [
    "import numpy as np"
   ]
  },
  {
   "cell_type": "code",
   "execution_count": 50,
   "metadata": {},
   "outputs": [
    {
     "name": "stderr",
     "output_type": "stream",
     "text": [
      "[21:57:01] WARNING: not removing hydrogen atom without neighbors\n",
      "[21:57:07] Explicit valence for atom # 8 Al, 6, is greater than permitted\n",
      "Failed to featurize datapoint 1322, None. Appending empty array\n",
      "Exception message: Python argument types in\n",
      "    rdkit.Chem.rdmolfiles.CanonicalRankAtoms(NoneType)\n",
      "did not match C++ signature:\n",
      "    CanonicalRankAtoms(class RDKit::ROMol mol, bool breakTies=True, bool includeChirality=True, bool includeIsotopes=True, bool includeAtomMaps=True, bool includeChiralPresence=False)\n",
      "[21:57:11] Explicit valence for atom # 3 Al, 6, is greater than permitted\n",
      "Failed to featurize datapoint 2290, None. Appending empty array\n",
      "Exception message: Python argument types in\n",
      "    rdkit.Chem.rdmolfiles.CanonicalRankAtoms(NoneType)\n",
      "did not match C++ signature:\n",
      "    CanonicalRankAtoms(class RDKit::ROMol mol, bool breakTies=True, bool includeChirality=True, bool includeIsotopes=True, bool includeAtomMaps=True, bool includeChiralPresence=False)\n",
      "[21:57:11] Explicit valence for atom # 4 Al, 6, is greater than permitted\n",
      "Failed to featurize datapoint 2297, None. Appending empty array\n",
      "Exception message: Python argument types in\n",
      "    rdkit.Chem.rdmolfiles.CanonicalRankAtoms(NoneType)\n",
      "did not match C++ signature:\n",
      "    CanonicalRankAtoms(class RDKit::ROMol mol, bool breakTies=True, bool includeChirality=True, bool includeIsotopes=True, bool includeAtomMaps=True, bool includeChiralPresence=False)\n",
      "[21:57:18] Explicit valence for atom # 4 Al, 6, is greater than permitted\n",
      "Failed to featurize datapoint 3558, None. Appending empty array\n",
      "Exception message: Python argument types in\n",
      "    rdkit.Chem.rdmolfiles.CanonicalRankAtoms(NoneType)\n",
      "did not match C++ signature:\n",
      "    CanonicalRankAtoms(class RDKit::ROMol mol, bool breakTies=True, bool includeChirality=True, bool includeIsotopes=True, bool includeAtomMaps=True, bool includeChiralPresence=False)\n",
      "[21:57:23] Explicit valence for atom # 9 Al, 6, is greater than permitted\n",
      "Failed to featurize datapoint 4565, None. Appending empty array\n",
      "Exception message: Python argument types in\n",
      "    rdkit.Chem.rdmolfiles.CanonicalRankAtoms(NoneType)\n",
      "did not match C++ signature:\n",
      "    CanonicalRankAtoms(class RDKit::ROMol mol, bool breakTies=True, bool includeChirality=True, bool includeIsotopes=True, bool includeAtomMaps=True, bool includeChiralPresence=False)\n",
      "[21:57:23] Explicit valence for atom # 5 Al, 6, is greater than permitted\n",
      "Failed to featurize datapoint 4649, None. Appending empty array\n",
      "Exception message: Python argument types in\n",
      "    rdkit.Chem.rdmolfiles.CanonicalRankAtoms(NoneType)\n",
      "did not match C++ signature:\n",
      "    CanonicalRankAtoms(class RDKit::ROMol mol, bool breakTies=True, bool includeChirality=True, bool includeIsotopes=True, bool includeAtomMaps=True, bool includeChiralPresence=False)\n",
      "[21:57:27] Explicit valence for atom # 16 Al, 6, is greater than permitted\n",
      "Failed to featurize datapoint 5538, None. Appending empty array\n",
      "Exception message: Python argument types in\n",
      "    rdkit.Chem.rdmolfiles.CanonicalRankAtoms(NoneType)\n",
      "did not match C++ signature:\n",
      "    CanonicalRankAtoms(class RDKit::ROMol mol, bool breakTies=True, bool includeChirality=True, bool includeIsotopes=True, bool includeAtomMaps=True, bool includeChiralPresence=False)\n",
      "[21:57:31] Explicit valence for atom # 20 Al, 6, is greater than permitted\n",
      "Failed to featurize datapoint 6723, None. Appending empty array\n",
      "Exception message: Python argument types in\n",
      "    rdkit.Chem.rdmolfiles.CanonicalRankAtoms(NoneType)\n",
      "did not match C++ signature:\n",
      "    CanonicalRankAtoms(class RDKit::ROMol mol, bool breakTies=True, bool includeChirality=True, bool includeIsotopes=True, bool includeAtomMaps=True, bool includeChiralPresence=False)\n"
     ]
    },
    {
     "ename": "ValueError",
     "evalue": "setting an array element with a sequence. The requested array has an inhomogeneous shape after 1 dimensions. The detected shape was (7831,) + inhomogeneous part.",
     "output_type": "error",
     "traceback": [
      "\u001b[1;31m---------------------------------------------------------------------------\u001b[0m",
      "\u001b[1;31mValueError\u001b[0m                                Traceback (most recent call last)",
      "Cell \u001b[1;32mIn[50], line 1\u001b[0m\n\u001b[1;32m----> 1\u001b[0m tasks, datasets, transformers \u001b[38;5;241m=\u001b[39m \u001b[43mdc\u001b[49m\u001b[38;5;241;43m.\u001b[39;49m\u001b[43mmolnet\u001b[49m\u001b[38;5;241;43m.\u001b[39;49m\u001b[43mload_tox21\u001b[49m\u001b[43m(\u001b[49m\u001b[43mfeaturizer\u001b[49m\u001b[38;5;241;43m=\u001b[39;49m\u001b[38;5;124;43m\"\u001b[39;49m\u001b[38;5;124;43mRaw\u001b[39;49m\u001b[38;5;124;43m\"\u001b[39;49m\u001b[43m)\u001b[49m\n\u001b[0;32m      2\u001b[0m train_dataset, valid_dataset, test_dataset \u001b[38;5;241m=\u001b[39m datasets\n\u001b[0;32m      3\u001b[0m \u001b[38;5;28mprint\u001b[39m(train_dataset)\n",
      "File \u001b[1;32mc:\\Users\\varsh\\AppData\\Local\\Programs\\Python\\Python312\\Lib\\site-packages\\deepchem\\molnet\\load_function\\tox21_datasets.py:83\u001b[0m, in \u001b[0;36mload_tox21\u001b[1;34m(featurizer, splitter, transformers, reload, data_dir, save_dir, **kwargs)\u001b[0m\n\u001b[0;32m     37\u001b[0m \u001b[38;5;250m\u001b[39m\u001b[38;5;124;03m\"\"\"Load Tox21 dataset\u001b[39;00m\n\u001b[0;32m     38\u001b[0m \n\u001b[0;32m     39\u001b[0m \u001b[38;5;124;03mThe \"Toxicology in the 21st Century\" (Tox21) initiative created a public\u001b[39;00m\n\u001b[1;32m   (...)\u001b[0m\n\u001b[0;32m     79\u001b[0m \u001b[38;5;124;03m.. [1] Tox21 Challenge. https://tripod.nih.gov/tox21/challenge/\u001b[39;00m\n\u001b[0;32m     80\u001b[0m \u001b[38;5;124;03m\"\"\"\u001b[39;00m\n\u001b[0;32m     81\u001b[0m loader \u001b[38;5;241m=\u001b[39m _Tox21Loader(featurizer, splitter, transformers, TOX21_TASKS,\n\u001b[0;32m     82\u001b[0m                       data_dir, save_dir, \u001b[38;5;241m*\u001b[39m\u001b[38;5;241m*\u001b[39mkwargs)\n\u001b[1;32m---> 83\u001b[0m \u001b[38;5;28;01mreturn\u001b[39;00m \u001b[43mloader\u001b[49m\u001b[38;5;241;43m.\u001b[39;49m\u001b[43mload_dataset\u001b[49m\u001b[43m(\u001b[49m\u001b[38;5;124;43m'\u001b[39;49m\u001b[38;5;124;43mtox21\u001b[39;49m\u001b[38;5;124;43m'\u001b[39;49m\u001b[43m,\u001b[49m\u001b[43m \u001b[49m\u001b[43mreload\u001b[49m\u001b[43m)\u001b[49m\n",
      "File \u001b[1;32mc:\\Users\\varsh\\AppData\\Local\\Programs\\Python\\Python312\\Lib\\site-packages\\deepchem\\molnet\\load_function\\molnet_loader.py:177\u001b[0m, in \u001b[0;36m_MolnetLoader.load_dataset\u001b[1;34m(self, name, reload)\u001b[0m\n\u001b[0;32m    174\u001b[0m \u001b[38;5;66;03m# Create the dataset\u001b[39;00m\n\u001b[0;32m    176\u001b[0m logger\u001b[38;5;241m.\u001b[39minfo(\u001b[38;5;124m\"\u001b[39m\u001b[38;5;124mAbout to featurize \u001b[39m\u001b[38;5;132;01m%s\u001b[39;00m\u001b[38;5;124m dataset.\u001b[39m\u001b[38;5;124m\"\u001b[39m \u001b[38;5;241m%\u001b[39m name)\n\u001b[1;32m--> 177\u001b[0m dataset \u001b[38;5;241m=\u001b[39m \u001b[38;5;28;43mself\u001b[39;49m\u001b[38;5;241;43m.\u001b[39;49m\u001b[43mcreate_dataset\u001b[49m\u001b[43m(\u001b[49m\u001b[43m)\u001b[49m\n\u001b[0;32m    179\u001b[0m \u001b[38;5;66;03m# Split and transform the dataset.\u001b[39;00m\n\u001b[0;32m    181\u001b[0m \u001b[38;5;28;01mif\u001b[39;00m \u001b[38;5;28mself\u001b[39m\u001b[38;5;241m.\u001b[39msplitter \u001b[38;5;129;01mis\u001b[39;00m \u001b[38;5;28;01mNone\u001b[39;00m:\n",
      "File \u001b[1;32mc:\\Users\\varsh\\AppData\\Local\\Programs\\Python\\Python312\\Lib\\site-packages\\deepchem\\molnet\\load_function\\tox21_datasets.py:25\u001b[0m, in \u001b[0;36m_Tox21Loader.create_dataset\u001b[1;34m(self)\u001b[0m\n\u001b[0;32m     22\u001b[0m   dc\u001b[38;5;241m.\u001b[39mutils\u001b[38;5;241m.\u001b[39mdata_utils\u001b[38;5;241m.\u001b[39mdownload_url(url\u001b[38;5;241m=\u001b[39mTOX21_URL, dest_dir\u001b[38;5;241m=\u001b[39m\u001b[38;5;28mself\u001b[39m\u001b[38;5;241m.\u001b[39mdata_dir)\n\u001b[0;32m     23\u001b[0m loader \u001b[38;5;241m=\u001b[39m dc\u001b[38;5;241m.\u001b[39mdata\u001b[38;5;241m.\u001b[39mCSVLoader(\n\u001b[0;32m     24\u001b[0m     tasks\u001b[38;5;241m=\u001b[39m\u001b[38;5;28mself\u001b[39m\u001b[38;5;241m.\u001b[39mtasks, feature_field\u001b[38;5;241m=\u001b[39m\u001b[38;5;124m\"\u001b[39m\u001b[38;5;124msmiles\u001b[39m\u001b[38;5;124m\"\u001b[39m, featurizer\u001b[38;5;241m=\u001b[39m\u001b[38;5;28mself\u001b[39m\u001b[38;5;241m.\u001b[39mfeaturizer)\n\u001b[1;32m---> 25\u001b[0m \u001b[38;5;28;01mreturn\u001b[39;00m \u001b[43mloader\u001b[49m\u001b[38;5;241;43m.\u001b[39;49m\u001b[43mcreate_dataset\u001b[49m\u001b[43m(\u001b[49m\u001b[43mdataset_file\u001b[49m\u001b[43m,\u001b[49m\u001b[43m \u001b[49m\u001b[43mshard_size\u001b[49m\u001b[38;5;241;43m=\u001b[39;49m\u001b[38;5;241;43m8192\u001b[39;49m\u001b[43m)\u001b[49m\n",
      "File \u001b[1;32mc:\\Users\\varsh\\AppData\\Local\\Programs\\Python\\Python312\\Lib\\site-packages\\deepchem\\data\\data_loader.py:227\u001b[0m, in \u001b[0;36mDataLoader.create_dataset\u001b[1;34m(self, inputs, data_dir, shard_size)\u001b[0m\n\u001b[0;32m    223\u001b[0m     logger\u001b[38;5;241m.\u001b[39minfo(\u001b[38;5;124m\"\u001b[39m\u001b[38;5;124mTIMING: featurizing shard \u001b[39m\u001b[38;5;132;01m%d\u001b[39;00m\u001b[38;5;124m took \u001b[39m\u001b[38;5;132;01m%0.3f\u001b[39;00m\u001b[38;5;124m s\u001b[39m\u001b[38;5;124m\"\u001b[39m \u001b[38;5;241m%\u001b[39m\n\u001b[0;32m    224\u001b[0m                 (shard_num, time2 \u001b[38;5;241m-\u001b[39m time1))\n\u001b[0;32m    225\u001b[0m     \u001b[38;5;28;01myield\u001b[39;00m X, y, w, ids\n\u001b[1;32m--> 227\u001b[0m \u001b[38;5;28;01mreturn\u001b[39;00m \u001b[43mDiskDataset\u001b[49m\u001b[38;5;241;43m.\u001b[39;49m\u001b[43mcreate_dataset\u001b[49m\u001b[43m(\u001b[49m\u001b[43mshard_generator\u001b[49m\u001b[43m(\u001b[49m\u001b[43m)\u001b[49m\u001b[43m,\u001b[49m\u001b[43m \u001b[49m\u001b[43mdata_dir\u001b[49m\u001b[43m,\u001b[49m\u001b[43m \u001b[49m\u001b[38;5;28;43mself\u001b[39;49m\u001b[38;5;241;43m.\u001b[39;49m\u001b[43mtasks\u001b[49m\u001b[43m)\u001b[49m\n",
      "File \u001b[1;32mc:\\Users\\varsh\\AppData\\Local\\Programs\\Python\\Python312\\Lib\\site-packages\\deepchem\\data\\datasets.py:1214\u001b[0m, in \u001b[0;36mDiskDataset.create_dataset\u001b[1;34m(shard_generator, data_dir, tasks)\u001b[0m\n\u001b[0;32m   1212\u001b[0m metadata_rows \u001b[38;5;241m=\u001b[39m []\n\u001b[0;32m   1213\u001b[0m time1 \u001b[38;5;241m=\u001b[39m time\u001b[38;5;241m.\u001b[39mtime()\n\u001b[1;32m-> 1214\u001b[0m \u001b[43m\u001b[49m\u001b[38;5;28;43;01mfor\u001b[39;49;00m\u001b[43m \u001b[49m\u001b[43mshard_num\u001b[49m\u001b[43m,\u001b[49m\u001b[43m \u001b[49m\u001b[43m(\u001b[49m\u001b[43mX\u001b[49m\u001b[43m,\u001b[49m\u001b[43m \u001b[49m\u001b[43my\u001b[49m\u001b[43m,\u001b[49m\u001b[43m \u001b[49m\u001b[43mw\u001b[49m\u001b[43m,\u001b[49m\u001b[43m \u001b[49m\u001b[43mids\u001b[49m\u001b[43m)\u001b[49m\u001b[43m \u001b[49m\u001b[38;5;129;43;01min\u001b[39;49;00m\u001b[43m \u001b[49m\u001b[38;5;28;43menumerate\u001b[39;49m\u001b[43m(\u001b[49m\u001b[43mshard_generator\u001b[49m\u001b[43m)\u001b[49m\u001b[43m:\u001b[49m\n\u001b[0;32m   1215\u001b[0m \u001b[43m  \u001b[49m\u001b[43mbasename\u001b[49m\u001b[43m \u001b[49m\u001b[38;5;241;43m=\u001b[39;49m\u001b[43m \u001b[49m\u001b[38;5;124;43m\"\u001b[39;49m\u001b[38;5;124;43mshard-\u001b[39;49m\u001b[38;5;132;43;01m%d\u001b[39;49;00m\u001b[38;5;124;43m\"\u001b[39;49m\u001b[43m \u001b[49m\u001b[38;5;241;43m%\u001b[39;49m\u001b[43m \u001b[49m\u001b[43mshard_num\u001b[49m\n\u001b[0;32m   1216\u001b[0m \u001b[43m  \u001b[49m\u001b[43mmetadata_rows\u001b[49m\u001b[38;5;241;43m.\u001b[39;49m\u001b[43mappend\u001b[49m\u001b[43m(\u001b[49m\n\u001b[0;32m   1217\u001b[0m \u001b[43m      \u001b[49m\u001b[43mDiskDataset\u001b[49m\u001b[38;5;241;43m.\u001b[39;49m\u001b[43mwrite_data_to_disk\u001b[49m\u001b[43m(\u001b[49m\u001b[43mdata_dir\u001b[49m\u001b[43m,\u001b[49m\u001b[43m \u001b[49m\u001b[43mbasename\u001b[49m\u001b[43m,\u001b[49m\u001b[43m \u001b[49m\u001b[43mX\u001b[49m\u001b[43m,\u001b[49m\u001b[43m \u001b[49m\u001b[43my\u001b[49m\u001b[43m,\u001b[49m\u001b[43m \u001b[49m\u001b[43mw\u001b[49m\u001b[43m,\u001b[49m\u001b[43m \u001b[49m\u001b[43mids\u001b[49m\u001b[43m)\u001b[49m\u001b[43m)\u001b[49m\n",
      "File \u001b[1;32mc:\\Users\\varsh\\AppData\\Local\\Programs\\Python\\Python312\\Lib\\site-packages\\deepchem\\data\\data_loader.py:207\u001b[0m, in \u001b[0;36mDataLoader.create_dataset.<locals>.shard_generator\u001b[1;34m()\u001b[0m\n\u001b[0;32m    205\u001b[0m \u001b[38;5;28;01mfor\u001b[39;00m shard_num, shard \u001b[38;5;129;01min\u001b[39;00m \u001b[38;5;28menumerate\u001b[39m(\u001b[38;5;28mself\u001b[39m\u001b[38;5;241m.\u001b[39m_get_shards(inputs, shard_size)):\n\u001b[0;32m    206\u001b[0m   time1 \u001b[38;5;241m=\u001b[39m time\u001b[38;5;241m.\u001b[39mtime()\n\u001b[1;32m--> 207\u001b[0m   X, valid_inds \u001b[38;5;241m=\u001b[39m \u001b[38;5;28;43mself\u001b[39;49m\u001b[38;5;241;43m.\u001b[39;49m\u001b[43m_featurize_shard\u001b[49m\u001b[43m(\u001b[49m\u001b[43mshard\u001b[49m\u001b[43m)\u001b[49m\n\u001b[0;32m    208\u001b[0m   ids \u001b[38;5;241m=\u001b[39m shard[\u001b[38;5;28mself\u001b[39m\u001b[38;5;241m.\u001b[39mid_field]\u001b[38;5;241m.\u001b[39mvalues\n\u001b[0;32m    209\u001b[0m   ids \u001b[38;5;241m=\u001b[39m ids[valid_inds]\n",
      "File \u001b[1;32mc:\\Users\\varsh\\AppData\\Local\\Programs\\Python\\Python312\\Lib\\site-packages\\deepchem\\data\\data_loader.py:396\u001b[0m, in \u001b[0;36mCSVLoader._featurize_shard\u001b[1;34m(self, shard)\u001b[0m\n\u001b[0;32m    393\u001b[0m \u001b[38;5;28;01mif\u001b[39;00m \u001b[38;5;28mself\u001b[39m\u001b[38;5;241m.\u001b[39mfeaturizer \u001b[38;5;129;01mis\u001b[39;00m \u001b[38;5;28;01mNone\u001b[39;00m:\n\u001b[0;32m    394\u001b[0m   \u001b[38;5;28;01mraise\u001b[39;00m \u001b[38;5;167;01mValueError\u001b[39;00m(\n\u001b[0;32m    395\u001b[0m       \u001b[38;5;124m\"\u001b[39m\u001b[38;5;124mfeaturizer must be specified in constructor to featurizer data/\u001b[39m\u001b[38;5;124m\"\u001b[39m)\n\u001b[1;32m--> 396\u001b[0m features \u001b[38;5;241m=\u001b[39m [elt \u001b[38;5;28;01mfor\u001b[39;00m elt \u001b[38;5;129;01min\u001b[39;00m \u001b[38;5;28;43mself\u001b[39;49m\u001b[38;5;241;43m.\u001b[39;49m\u001b[43mfeaturizer\u001b[49m\u001b[43m(\u001b[49m\u001b[43mshard\u001b[49m\u001b[43m[\u001b[49m\u001b[38;5;28;43mself\u001b[39;49m\u001b[38;5;241;43m.\u001b[39;49m\u001b[43mfeature_field\u001b[49m\u001b[43m]\u001b[49m\u001b[43m)\u001b[49m]\n\u001b[0;32m    397\u001b[0m valid_inds \u001b[38;5;241m=\u001b[39m np\u001b[38;5;241m.\u001b[39marray(\n\u001b[0;32m    398\u001b[0m     [\u001b[38;5;241m1\u001b[39m \u001b[38;5;28;01mif\u001b[39;00m np\u001b[38;5;241m.\u001b[39marray(elt)\u001b[38;5;241m.\u001b[39msize \u001b[38;5;241m>\u001b[39m \u001b[38;5;241m0\u001b[39m \u001b[38;5;28;01melse\u001b[39;00m \u001b[38;5;241m0\u001b[39m \u001b[38;5;28;01mfor\u001b[39;00m elt \u001b[38;5;129;01min\u001b[39;00m features], dtype\u001b[38;5;241m=\u001b[39m\u001b[38;5;28mbool\u001b[39m)\n\u001b[0;32m    399\u001b[0m features \u001b[38;5;241m=\u001b[39m [\n\u001b[0;32m    400\u001b[0m     elt \u001b[38;5;28;01mfor\u001b[39;00m (is_valid, elt) \u001b[38;5;129;01min\u001b[39;00m \u001b[38;5;28mzip\u001b[39m(valid_inds, features) \u001b[38;5;28;01mif\u001b[39;00m is_valid\n\u001b[0;32m    401\u001b[0m ]\n",
      "File \u001b[1;32mc:\\Users\\varsh\\AppData\\Local\\Programs\\Python\\Python312\\Lib\\site-packages\\deepchem\\feat\\base_classes.py:70\u001b[0m, in \u001b[0;36mFeaturizer.__call__\u001b[1;34m(self, datapoints, **kwargs)\u001b[0m\n\u001b[0;32m     60\u001b[0m \u001b[38;5;28;01mdef\u001b[39;00m \u001b[38;5;21m__call__\u001b[39m(\u001b[38;5;28mself\u001b[39m, datapoints: Iterable[Any], \u001b[38;5;241m*\u001b[39m\u001b[38;5;241m*\u001b[39mkwargs):\n\u001b[0;32m     61\u001b[0m \u001b[38;5;250m  \u001b[39m\u001b[38;5;124;03m\"\"\"Calculate features for datapoints.\u001b[39;00m\n\u001b[0;32m     62\u001b[0m \n\u001b[0;32m     63\u001b[0m \u001b[38;5;124;03m  `**kwargs` will get passed directly to `Featurizer.featurize`\u001b[39;00m\n\u001b[1;32m   (...)\u001b[0m\n\u001b[0;32m     68\u001b[0m \u001b[38;5;124;03m    Any blob of data you like. Subclasss should instantiate this.\u001b[39;00m\n\u001b[0;32m     69\u001b[0m \u001b[38;5;124;03m  \"\"\"\u001b[39;00m\n\u001b[1;32m---> 70\u001b[0m   \u001b[38;5;28;01mreturn\u001b[39;00m \u001b[38;5;28;43mself\u001b[39;49m\u001b[38;5;241;43m.\u001b[39;49m\u001b[43mfeaturize\u001b[49m\u001b[43m(\u001b[49m\u001b[43mdatapoints\u001b[49m\u001b[43m,\u001b[49m\u001b[43m \u001b[49m\u001b[38;5;241;43m*\u001b[39;49m\u001b[38;5;241;43m*\u001b[39;49m\u001b[43mkwargs\u001b[49m\u001b[43m)\u001b[49m\n",
      "File \u001b[1;32mc:\\Users\\varsh\\AppData\\Local\\Programs\\Python\\Python312\\Lib\\site-packages\\deepchem\\feat\\base_classes.py:305\u001b[0m, in \u001b[0;36mMolecularFeaturizer.featurize\u001b[1;34m(self, datapoints, log_every_n, **kwargs)\u001b[0m\n\u001b[0;32m    302\u001b[0m     logger\u001b[38;5;241m.\u001b[39mwarning(\u001b[38;5;124m\"\u001b[39m\u001b[38;5;124mException message: \u001b[39m\u001b[38;5;132;01m{}\u001b[39;00m\u001b[38;5;124m\"\u001b[39m\u001b[38;5;241m.\u001b[39mformat(e))\n\u001b[0;32m    303\u001b[0m     features\u001b[38;5;241m.\u001b[39mappend(np\u001b[38;5;241m.\u001b[39marray([]))\n\u001b[1;32m--> 305\u001b[0m \u001b[38;5;28;01mreturn\u001b[39;00m \u001b[43mnp\u001b[49m\u001b[38;5;241;43m.\u001b[39;49m\u001b[43masarray\u001b[49m\u001b[43m(\u001b[49m\u001b[43mfeatures\u001b[49m\u001b[43m)\u001b[49m\n",
      "\u001b[1;31mValueError\u001b[0m: setting an array element with a sequence. The requested array has an inhomogeneous shape after 1 dimensions. The detected shape was (7831,) + inhomogeneous part."
     ]
    }
   ],
   "source": [
    "tasks, datasets, transformers = dc.molnet.load_tox21(featurizer=\"Raw\")\n",
    "train_dataset, valid_dataset, test_dataset = datasets\n",
    "print(train_dataset)"
   ]
  },
  {
   "cell_type": "markdown",
   "metadata": {},
   "source": [
    "We loaded the datasets with `featurizer=\"Raw\"`. Now we obtain the SMILES from their `ids` attributes."
   ]
  },
  {
   "cell_type": "code",
   "execution_count": null,
   "metadata": {},
   "outputs": [
    {
     "name": "stdout",
     "output_type": "stream",
     "text": [
      "['CC(O)(P(=O)(O)O)P(=O)(O)O' 'CC(C)(C)OOC(C)(C)CCC(C)(C)OOC(C)(C)C'\n",
      " 'OC[C@H](O)[C@@H](O)[C@H](O)CO'\n",
      " 'CCCCCCCC(=O)[O-].CCCCCCCC(=O)[O-].[Zn+2]' 'CC(C)COC(=O)C(C)C']\n"
     ]
    }
   ],
   "source": [
    "train_smiles = train_dataset.ids\n",
    "valid_smiles = valid_dataset.ids\n",
    "test_smiles = test_dataset.ids\n",
    "print(train_smiles[:5])"
   ]
  },
  {
   "cell_type": "markdown",
   "metadata": {},
   "source": [
    "Next we define our tokenizer and `map` it onto all our data to convert the SMILES strings into lists of tokens. The `BasicSmilesTokenizer` breaks down SMILES roughly at atom level."
   ]
  },
  {
   "cell_type": "code",
   "execution_count": null,
   "metadata": {},
   "outputs": [
    {
     "name": "stdout",
     "output_type": "stream",
     "text": [
      "['C', 'C', '(', 'O', ')', '(', 'P', '(', '=', 'O', ')', '(', 'O', ')', 'O', ')', 'P', '(', '=', 'O', ')', '(', 'O', ')', 'O']\n"
     ]
    },
    {
     "data": {
      "text/plain": [
       "6264"
      ]
     },
     "execution_count": 12,
     "metadata": {},
     "output_type": "execute_result"
    }
   ],
   "source": [
    "tokenizer = dc.feat.smiles_tokenizer.BasicSmilesTokenizer()\n",
    "\n",
    "train_tok = list(map(tokenizer.tokenize, train_smiles))\n",
    "valid_tok = list(map(tokenizer.tokenize, valid_smiles))\n",
    "test_tok = list(map(tokenizer.tokenize, test_smiles))\n",
    "print(train_tok[0])\n",
    "len(train_tok)"
   ]
  },
  {
   "cell_type": "markdown",
   "metadata": {},
   "source": [
    "Now we have tokenized versions of all SMILES strings in our dataset. To convert those into lists of integer values we first need to create a list of all possible tokens in our dataset. That list is called the vocabulary. We also add the empty string `\"\"` to our vocabulary in order to correctly handle trailing zeros when decoding zero-padded numericalized SMILES."
   ]
  },
  {
   "cell_type": "code",
   "execution_count": null,
   "metadata": {},
   "outputs": [
    {
     "name": "stdout",
     "output_type": "stream",
     "text": [
      "['', '#', '(', ')', '-', '.', '/', '1', '2', '3', '4', '5'] ... ['[n+]', '[n-]', '[nH+]', '[nH]', '[o+]', '[s+]', '[se]', '\\\\', 'c', 'n', 'o', 's']\n"
     ]
    },
    {
     "data": {
      "text/plain": [
       "128"
      ]
     },
     "execution_count": 13,
     "metadata": {},
     "output_type": "execute_result"
    }
   ],
   "source": [
    "flatten = lambda l: [item for items in l for item in items]\n",
    "\n",
    "all_toks = flatten(train_tok) + flatten(valid_tok) + flatten(test_tok)\n",
    "vocab = sorted(set(all_toks + [\"\"]))\n",
    "print(vocab[:12], \"...\", vocab[-12:])\n",
    "len(vocab)"
   ]
  },
  {
   "cell_type": "markdown",
   "metadata": {},
   "source": [
    "To numericalize tokenized SMILES strings we create a `str2int` dictionary which assigns a number to each token in the dictionary. We also create the reverse `int2str` dictionary and define the corresponding `encode` and `decode` functions. Finally we `map` the `encode` function on the tokenized data to obtain numericalized SMILES data."
   ]
  },
  {
   "cell_type": "code",
   "execution_count": null,
   "metadata": {},
   "outputs": [
    {
     "name": "stdout",
     "output_type": "stream",
     "text": [
      "str2int: {'': 0, '#': 1, '(': 2, ')': 3, '-': 4} ...\n",
      "int2str: {0: '', 1: '#', 2: '(', 3: ')', 4: '-'} ...\n"
     ]
    }
   ],
   "source": [
    "str2int = {s:i for i, s in enumerate(vocab)}\n",
    "int2str = {i:s for i, s in enumerate(vocab)}\n",
    "print(f\"str2int: {dict(list(str2int.items())[:5])} ...\")\n",
    "print(f\"int2str: {dict(list(int2str.items())[:5])} ...\")"
   ]
  },
  {
   "cell_type": "code",
   "execution_count": null,
   "metadata": {},
   "outputs": [
    {
     "name": "stdout",
     "output_type": "stream",
     "text": [
      "CC(O)(P(=O)(O)O)P(=O)(O)O\n",
      "[19, 19, 2, 24, 3, 2, 25, 2, 16, 24, 3, 2, 24, 3, 24, 3, 25, 2, 16, 24, 3, 2, 24, 3, 24]\n",
      "CC(O)(P(=O)(O)O)P(=O)(O)O\n"
     ]
    }
   ],
   "source": [
    "encode = lambda s: [str2int[tok] for tok in s]\n",
    "decode = lambda i: [int2str[num] for num in i]\n",
    "print(train_smiles[0])\n",
    "print(encode(train_tok[0]))\n",
    "print(\"\".join(decode(encode(train_tok[0]))))"
   ]
  },
  {
   "cell_type": "code",
   "execution_count": null,
   "metadata": {},
   "outputs": [
    {
     "name": "stdout",
     "output_type": "stream",
     "text": [
      "[19, 19, 2, 24, 3, 2, 25, 2, 16, 24, 3, 2, 24, 3, 24, 3, 25, 2, 16, 24, 3, 2, 24, 3, 24]\n"
     ]
    }
   ],
   "source": [
    "train_num = list(map(encode, train_tok))\n",
    "valid_num = list(map(encode, valid_tok))\n",
    "test_num = list(map(encode, test_tok))\n",
    "print(train_num[0])"
   ]
  },
  {
   "cell_type": "markdown",
   "metadata": {},
   "source": [
    "Lastly, we would like to combine all molecules in a dataset in an `np.array` so they can be served to a model in batches. To achieve that, all sequences have to be of the same length. As in the CoulombMatrix section, we achieve that by appending zeros up to a fixed value."
   ]
  },
  {
   "cell_type": "code",
   "execution_count": null,
   "metadata": {},
   "outputs": [
    {
     "data": {
      "text/plain": [
       "240"
      ]
     },
     "execution_count": 17,
     "metadata": {},
     "output_type": "execute_result"
    }
   ],
   "source": [
    "max_len = max(map(len, train_num + valid_num + test_num))\n",
    "max_len"
   ]
  },
  {
   "cell_type": "markdown",
   "metadata": {},
   "source": [
    "The longest sequence across all Tox21 datasets has length `240`, so we use that as our fixed length. We create a `zero_pad` function,  `map` it to all numericalized SMILES, and turn them into `np.array`s."
   ]
  },
  {
   "cell_type": "code",
   "execution_count": null,
   "metadata": {},
   "outputs": [
    {
     "data": {
      "text/plain": [
       "array([[19, 19,  2, ...,  0,  0,  0],\n",
       "       [19, 19,  2, ...,  0,  0,  0],\n",
       "       [24, 19, 42, ...,  0,  0,  0],\n",
       "       ...,\n",
       "       [24, 16, 19, ...,  0,  0,  0],\n",
       "       [19, 19,  2, ...,  0,  0,  0],\n",
       "       [19, 19,  2, ...,  0,  0,  0]])"
      ]
     },
     "execution_count": 18,
     "metadata": {},
     "output_type": "execute_result"
    }
   ],
   "source": [
    "zero_pad = lambda x: x + [0] * (max_len - len(x))\n",
    "\n",
    "train_numpad = np.array(list(map(zero_pad, train_num)))\n",
    "valid_numpad = np.array(list(map(zero_pad, valid_num)))\n",
    "test_numpad = np.array(list(map(zero_pad, test_num)))\n",
    "train_numpad"
   ]
  },
  {
   "cell_type": "markdown",
   "metadata": {},
   "source": [
    "We can check that the zero-padded data still converts back to the correct SMILES string using the `decode` function on a random datapoint."
   ]
  },
  {
   "cell_type": "code",
   "execution_count": null,
   "metadata": {},
   "outputs": [
    {
     "name": "stdout",
     "output_type": "stream",
     "text": [
      "Cc1cc(C(C)(C)c2ccc(O)c(C)c2)ccc1O\n",
      "Cc1cc(C(C)(C)c2ccc(O)c(C)c2)ccc1O\n"
     ]
    }
   ],
   "source": [
    "idx = np.random.randint(0, train_numpad.shape[0], 1).item()\n",
    "print(train_smiles[idx])\n",
    "print(\"\".join(decode(train_numpad[idx])))"
   ]
  },
  {
   "cell_type": "markdown",
   "metadata": {},
   "source": [
    "The padded data passes the test. It is now in the correct format to be used for training of a sequence model, but it doesn't yet interface nicely with DeepChem's training framework. To change that, we define a `tokenize_smiles` function that combines all the steps spelled out above to process a single datapoint. Additionally, we define a `SmilesFeaturizer` that uses our custom `tokenize_smiles` function in its `_featurize` method and instanciate it as `smiles_featurizer` passing it our `vocab` and `max_len`."
   ]
  },
  {
   "cell_type": "code",
   "execution_count": null,
   "metadata": {},
   "outputs": [],
   "source": [
    "def tokenize_smiles(x, vocab, max_len):\n",
    "    tokenizer = dc.feat.smiles_tokenizer.BasicSmilesTokenizer()\n",
    "    str2int = {s:i for i, s in enumerate(vocab)}\n",
    "    encode = lambda s: [str2int[tok] for tok in s]\n",
    "    zero_pad = lambda x: x + [0] * (max_len - len(x))\n",
    "    x = tokenizer.tokenize(x)\n",
    "    x = encode(x)\n",
    "    x = zero_pad(x)\n",
    "    return np.array(x)\n",
    "\n",
    "class SmilesFeaturizer(dc.feat.Featurizer):\n",
    "    def __init__(self, feat_func, vocab, max_len):\n",
    "        self.feat_func = feat_func\n",
    "        self.vocab = vocab\n",
    "        self.max_len = max_len\n",
    "        \n",
    "    def _featurize(self, x):\n",
    "        return self.feat_func(x, self.vocab, self.max_len)\n",
    "    \n",
    "smiles_featurizer = SmilesFeaturizer(tokenize_smiles, vocab, max_len)"
   ]
  },
  {
   "cell_type": "markdown",
   "metadata": {},
   "source": [
    "Finally, we use the `smiles_featurizer` to create new Tox21 datasets that contain tokenized and numericalized SMILES in their `X` attribute."
   ]
  },
  {
   "cell_type": "code",
   "execution_count": null,
   "metadata": {},
   "outputs": [
    {
     "name": "stderr",
     "output_type": "stream",
     "text": [
      "[09:24:48] WARNING: not removing hydrogen atom without neighbors\n"
     ]
    },
    {
     "name": "stdout",
     "output_type": "stream",
     "text": [
      "[[19 19  2 ...  0  0  0]\n",
      " [19 19  2 ...  0  0  0]\n",
      " [24 19 42 ...  0  0  0]\n",
      " ...\n",
      " [24 16 19 ...  0  0  0]\n",
      " [19 19  2 ...  0  0  0]\n",
      " [19 19  2 ...  0  0  0]]\n"
     ]
    }
   ],
   "source": [
    "tasks, datasets, transformers = dc.molnet.load_tox21(featurizer=smiles_featurizer)\n",
    "print(datasets[0].X)"
   ]
  },
  {
   "cell_type": "markdown",
   "metadata": {},
   "source": [
    "The datasets are now ready to be used with your custom DeepChem sequence model. Don't forget to wrap your model into the appropriate DeepChem model class."
   ]
  },
  {
   "cell_type": "markdown",
   "metadata": {},
   "source": [
    "# **BERTFEATURIZER**"
   ]
  },
  {
   "cell_type": "markdown",
   "metadata": {},
   "source": [
    "**Scope**: This tutorial provides a comprehensive overview of BERTFeaturizer, covering its core principles, how it processes molecular sequences, and the interpretation of its output."
   ]
  },
  {
   "cell_type": "markdown",
   "metadata": {},
   "source": [
    "BERT Featurizer, in DeepChem is used to convert sequential molecular representations (Amino acid sequences / SMILES) into dense numerical embeddings. This is useful to captures contextual and semantic meaning in molecular sequences.\n",
    "\n",
    "How It Works:\n",
    "\n",
    "1.Tokenizes molecular sequences .\n",
    "\n",
    "2.Converts tokens into numerical vector representations using huggingface's BertTokenizerFast"
   ]
  },
  {
   "cell_type": "markdown",
   "metadata": {},
   "source": [
    "# Import necessary libraries\n",
    "\n",
    "Load pretrained BertTokenizerfast and BERTFeaturizer"
   ]
  },
  {
   "cell_type": "code",
   "execution_count": 52,
   "metadata": {},
   "outputs": [],
   "source": [
    "\n",
    "from deepchem.feat import BertFeaturizer\n",
    "from transformers import BertTokenizerFast"
   ]
  },
  {
   "cell_type": "markdown",
   "metadata": {},
   "source": [
    "# **1. Processing One Sequence at a Time**\n",
    "\n",
    "Observe that in the molecular sequence taken below, characters are separated by spaces because BERT tokenizers operate at the token level rather than character level, and spaces help distinguish individual tokens in molecular sequences.\n",
    "\n",
    "Also observe that it has a [MASK] in it.\n",
    "\n",
    "BERT models are trained using the Masked Language Model (MLM) objective, where some tokens in the input are randomly replaced with [MASK]. The model predicts them based on surrounding context. This helps in learning meaningful representations of molecular sequences.\n",
    "\n",
    "To explore how the model predicts masked tokens, visit: https://deepchem.io/tutorials/transfer-learning-with-chemberta-transformers/"
   ]
  },
  {
   "cell_type": "code",
   "execution_count": 53,
   "metadata": {},
   "outputs": [
    {
     "data": {
      "text/plain": [
       "array([[[ 2, 14,  5, 11, 16,  4,  5,  8, 15,  3],\n",
       "        [ 0,  0,  0,  0,  0,  0,  0,  0,  0,  0],\n",
       "        [ 1,  1,  1,  1,  1,  1,  1,  1,  1,  1]]])"
      ]
     },
     "execution_count": 53,
     "metadata": {},
     "output_type": "execute_result"
    }
   ],
   "source": [
    "tokenizer = BertTokenizerFast.from_pretrained(\"Rostlab/prot_bert\", do_lower_case=False)\n",
    "featurizer = BertFeaturizer(tokenizer)\n",
    "sequences = ['D L I P [MASK] L V T']\n",
    "feats = featurizer.featurize(sequences)\n",
    "feats"
   ]
  },
  {
   "cell_type": "markdown",
   "metadata": {},
   "source": [
    "**Output Feature vector** is a NumPy array consisting of three components:\n",
    "\n",
    "1.   Input IDs → A numerical representation of the tokenized sequence, where each token is mapped to a unique ID from the BERT vocabulary.\n",
    "\n",
    "2.   Token Type IDs →  It will not be utilized in this tutorial.\n",
    "\n",
    "3.  Attention Mask → A binary mask that differentiates actual input tokens (1) from padding tokens (0), allowing the model to focus only on relevant tokens while ignoring padded positions during learning."
   ]
  },
  {
   "cell_type": "markdown",
   "metadata": {},
   "source": [
    "# **Understanding Input IDs**\n",
    "\n",
    "So far, we have seen the output feature vector generated. Now, let's dive deeper into how these input IDs are actually generated.\n",
    "\n",
    "1. Tokenization: The input sequence is split into subwords using WordPiece (e.g., [CLS], D, L, I, P, [MASK], L, V, T, [SEP]).\n",
    "2. MAPPING: Maps each token to a unique index from BERT’s vocabulary.\n",
    "3. Padding/Truncation: Sequences are padded or truncated to maintain a fixed length.\n",
    "\n",
    "\n",
    "\\\n",
    "Here's an example of how a character based vocabulary might look like. Notice that each unique character has a unique numerical id assigned to it."
   ]
  },
  {
   "cell_type": "markdown",
   "metadata": {},
   "source": [
    "![bert_vocab.jpg](data:image/jpeg;base64,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)"
   ]
  },
  {
   "cell_type": "markdown",
   "metadata": {},
   "source": [
    "\n",
    "The BertTokenizerFast class handles tokenization and input ID mapping. It inherits from:\n",
    "\n",
    "\n",
    "\n",
    "*   PreTrainedTokenizerBase (Base Class) → Defines tokenization logic for all transformer models.\n",
    "\n",
    "\n",
    "*  BertTokenizer (Intermediate Class) → Implements BERT-specific tokenization rules; adds special tokens ( [CLS] -start token, [SEP] - seperator token added after every sequence) ; generates token_type_ids\n",
    "\n",
    "\n",
    "*   BertTokenizerFast (Optimized Class) → Uses Rust-based fast tokenization for efficiency. This ensures faster and more efficient tokenization while maintaining compatibility with standard BERT\n",
    "\n",
    "You can look at these classes at https://github.com/huggingface/transformers/blob/main/src/transformers/\n",
    "\n",
    "\n",
    "\\\n",
    "# **2️. Processing multiple sequences at a time**\n",
    "\n",
    "The featurizer can also be used with multiple input sequences. In such a case, the BERT tokenizer processes them simultaneously, reducing overhead compared to processing them one by one.\n",
    "\n",
    "OUTPUT:\n",
    "\n",
    "Output: The result includes separate arrays for input IDs, attention masks, and token type IDs.\n",
    "(Here, we will focus only on input ids and attention masks i.e., first and third rows)"
   ]
  },
  {
   "cell_type": "markdown",
   "metadata": {},
   "source": [
    "# **Extending to SMILES Representation**\n",
    "\n",
    "Now that we have understood how BERT processes amino acid sequences, we will apply the same concept to SMILES (Simplified Molecular Input Line Entry System), which represents chemical structures as text.\n",
    "\n",
    "We will now featurize SMILES sequences using BertFeaturizer, ensuring that each token (atoms, bonds, rings) is properly mapped to numerical IDs, just like in amino acid sequences.\n",
    "\n",
    "Make sure to add spaces between characters in the SMILES strings to ensure proper tokenization and accurate feature extraction."
   ]
  },
  {
   "cell_type": "code",
   "execution_count": 54,
   "metadata": {},
   "outputs": [
    {
     "name": "stdout",
     "output_type": "stream",
     "text": [
      "[[[[ 2 23 23  1  1 29  1 29  1  1  1  1  1  1 23  1  1 29  1 29  3  0\n",
      "     0  0  0  0  0  0  0  0  0  0]]\n",
      "\n",
      "  [[ 1  1  1  1  1  1  1  1  1  1  1  1  1  1  1  1  1  1  1  1  1  0\n",
      "     0  0  0  0  0  0  0  0  0  0]]]\n",
      "\n",
      "\n",
      " [[[ 2 23 23  1  1 29  1 17  1  1  1  1  1 29  1  1  1  3  0  0  0  0\n",
      "     0  0  0  0  0  0  0  0  0  0]]\n",
      "\n",
      "  [[ 1  1  1  1  1  1  1  1  1  1  1  1  1  1  1  1  1  1  0  0  0  0\n",
      "     0  0  0  0  0  0  0  0  0  0]]]]\n"
     ]
    }
   ],
   "source": [
    "# Example SMILES dataset\n",
    "smile_sequences = [\"C C ( = O ) O c1 c c c c c1 C ( = O ) O\", \"C C ( = O ) N c1 c c c ( O ) c c1\"]\n",
    "\n",
    "# Tokenize with padding and truncation\n",
    "smile_feats = featurizer.featurize(\n",
    "    smile_sequences,\n",
    "    padding=\"max_length\",  # Ensures all sequences are of the same length\n",
    "    truncation=True,       # Truncates if sequence is too long\n",
    "    max_length=32,         # Set a reasonable max sequence length\n",
    "    return_tensors=\"np\"    # Convert output to NumPy arrays\n",
    ")\n",
    "\n",
    "print(smile_feats[:, [0, 2], :])"
   ]
  },
  {
   "cell_type": "markdown",
   "metadata": {},
   "source": [
    "## BindingPocketFeaturizer\n",
    "In computational drug discovery, understanding how a ligand binds to a protein's active site is crucial. DeepChem’s `BindingPocketFeaturizer` helps extract numerical features from binding pockets, which can be used in machine learning models to predict interactions.\n",
    "\n",
    "`BindingPocketFeaturizer` is a featurizer in DeepChem that extracts structural and chemical information from a protein's binding pockets.\n",
    "\n",
    "## How it works?\n",
    " The BindingPocketFeaturizer in DeepChem is designed to extract numerical features from binding pockets in a protein. These features are useful for Virtual Screening, Binding Pose Prediction in drug discovery.\n",
    "\n",
    "**Input Requirements**\n",
    "\n",
    "The featurizer requires:\n",
    "\n",
    "1. A macromolecule (protein structure) – Typically loaded from a PDB file.\n",
    "\n",
    "2. A list of binding pockets – These pockets are regions on the protein surface where small molecules (ligands) can bind.\n",
    "\n",
    "3. Pocket Format – The pockets should be in the form of `dc.utils.CoordinateBox` objects, which are 3D bounding boxes that enclose the binding sites.\n"
   ]
  },
  {
   "cell_type": "code",
   "execution_count": 2,
   "metadata": {},
   "outputs": [
    {
     "name": "stdout",
     "output_type": "stream",
     "text": [
      "Collecting mdtraj\n",
      "  Downloading mdtraj-1.10.3-cp311-cp311-macosx_11_0_arm64.whl.metadata (1.9 kB)\n",
      "Requirement already satisfied: numpy<3,>=1.25.0 in /opt/anaconda3/envs/jtvae/lib/python3.11/site-packages (from mdtraj) (2.2.4)\n",
      "Requirement already satisfied: scipy in /opt/anaconda3/envs/jtvae/lib/python3.11/site-packages (from mdtraj) (1.15.2)\n",
      "Collecting pyparsing (from mdtraj)\n",
      "  Using cached pyparsing-3.2.3-py3-none-any.whl.metadata (5.0 kB)\n",
      "Requirement already satisfied: packaging in /opt/anaconda3/envs/jtvae/lib/python3.11/site-packages (from mdtraj) (24.2)\n",
      "Collecting netCDF4 (from mdtraj)\n",
      "  Downloading netCDF4-1.7.2-cp311-cp311-macosx_14_0_arm64.whl.metadata (1.8 kB)\n",
      "Collecting cftime (from netCDF4->mdtraj)\n",
      "  Downloading cftime-1.6.4.post1-cp311-cp311-macosx_11_0_arm64.whl.metadata (8.7 kB)\n",
      "Requirement already satisfied: certifi in /opt/anaconda3/envs/jtvae/lib/python3.11/site-packages (from netCDF4->mdtraj) (2025.1.31)\n",
      "Downloading mdtraj-1.10.3-cp311-cp311-macosx_11_0_arm64.whl (1.3 MB)\n",
      "\u001b[2K   \u001b[90m━━━━━━━━━━━━━━━━━━━━━━━━━━━━━━━━━━━━━━━━\u001b[0m \u001b[32m1.3/1.3 MB\u001b[0m \u001b[31m3.1 MB/s\u001b[0m eta \u001b[36m0:00:00\u001b[0ma \u001b[36m0:00:01\u001b[0m\n",
      "\u001b[?25hDownloading netCDF4-1.7.2-cp311-cp311-macosx_14_0_arm64.whl (2.5 MB)\n",
      "\u001b[2K   \u001b[90m━━━━━━━━━━━━━━━━━━━━━━━━━━━━━━━━━━━━━━━━\u001b[0m \u001b[32m2.5/2.5 MB\u001b[0m \u001b[31m4.8 MB/s\u001b[0m eta \u001b[36m0:00:00\u001b[0ma \u001b[36m0:00:01\u001b[0m\n",
      "\u001b[?25hUsing cached pyparsing-3.2.3-py3-none-any.whl (111 kB)\n",
      "Downloading cftime-1.6.4.post1-cp311-cp311-macosx_11_0_arm64.whl (214 kB)\n",
      "Installing collected packages: pyparsing, cftime, netCDF4, mdtraj\n",
      "Successfully installed cftime-1.6.4.post1 mdtraj-1.10.3 netCDF4-1.7.2 pyparsing-3.2.3\n"
     ]
    }
   ],
   "source": [
    "! pip install mdtraj"
   ]
  },
  {
   "cell_type": "code",
   "execution_count": 3,
   "metadata": {},
   "outputs": [],
   "source": [
    "import deepchem as dc\n",
    "import mdtraj as md\n",
    "from deepchem.dock import ConvexHullPocketFinder"
   ]
  },
  {
   "cell_type": "markdown",
   "metadata": {},
   "source": [
    "We will start by downloading the `1HSB.pdb` protein structure and use DeepChem’s BindingPocketFeaturizer to extract meaningful features from its binding pockets.\n",
    "\n",
    "Before featurizing, we need to locate the binding pockets within the protein. This can be done using the `find_pockets()` method, which scan the protein surface and detect potential ligand-binding sites.\n",
    "\n",
    "**Note:** ConexHullPocketFinder() is the child class of BindingPocketFeaturizer()"
   ]
  },
  {
   "cell_type": "code",
   "execution_count": null,
   "metadata": {},
   "outputs": [
    {
     "name": "stdout",
     "output_type": "stream",
     "text": [
      "Found 54 potential binding pockets.\n"
     ]
    }
   ],
   "source": [
    "#Example for linking PDB file. Change the path according to your directory and then uncomment the code \n",
    "#pdb_id = \"1HSB\"\n",
    "#traj = md.load_pdb(f\"http://files.rcsb.org/download/{pdb_id}.pdb\")\n",
    "protein_file = f\"/content/sample_protien.pdb\"\n",
    "traj.save(protein_file)\n",
    "pocket_finder = ConvexHullPocketFinder()\n",
    "pockets = pocket_finder.find_pockets(protein_file)\n",
    "print(f\"Found {len(pockets)} potential binding pockets.\")"
   ]
  },
  {
   "cell_type": "markdown",
   "metadata": {},
   "source": [
    "Once the pockets are identified, `BindingPocketFeaturizer` extracts numerical features such as amino acid composition, geometric properties, and chemical characteristics"
   ]
  },
  {
   "cell_type": "code",
   "execution_count": null,
   "metadata": {},
   "outputs": [
    {
     "name": "stdout",
     "output_type": "stream",
     "text": [
      "Shape of features array: (54, 24)\n",
      "[[20. 31. 16. ... 22.  0.  0.]\n",
      " [ 5. 42.  7. ...  6.  0.  0.]\n",
      " [15. 68.  0. ... 19.  0.  0.]\n",
      " ...\n",
      " [ 8. 41.  0. ...  9.  0.  0.]\n",
      " [28. 31.  8. ... 13.  0.  0.]\n",
      " [ 5. 50.  0. ... 12.  0.  0.]]\n"
     ]
    }
   ],
   "source": [
    "binding_featurizer = dc.feat.BindingPocketFeaturizer()\n",
    "features = binding_featurizer.featurize(protein_file, pockets)\n",
    "print(\"Shape of features array:\", features.shape)\n",
    "print(features)"
   ]
  },
  {
   "cell_type": "markdown",
   "metadata": {},
   "source": [
    "The `BindingPocketFeaturizer` successfully identified 54 potential binding pockets in the given protein structure. The generated feature array of shape (54, 24) encapsulates essential properties of each pocket, making it suitable for downstream tasks such as binding affinity prediction, virtual screening, and drug discovery.\n",
    "\n",
    "\n",
    "\n"
   ]
  },
  {
   "cell_type": "markdown",
   "metadata": {
    "colab_type": "text",
    "id": "wssi6cBmh12z"
   },
   "source": [
    "# Congratulations! Time to join the Community!\n",
    "\n",
    "Congratulations on completing this tutorial notebook! If you enjoyed working through the tutorial, and want to continue working with DeepChem, we encourage you to finish the rest of the tutorials in this series. You can also help the DeepChem community in the following ways:\n",
    "\n",
    "## Star DeepChem on [GitHub](https://github.com/deepchem/deepchem)\n",
    "This helps build awareness of the DeepChem project and the tools for open source drug discovery that we're trying to build.\n",
    "\n",
    "## Join the DeepChem Gitter\n",
    "The DeepChem [Gitter](https://gitter.im/deepchem/Lobby) hosts a number of scientists, developers, and enthusiasts interested in deep learning for the life sciences. Join the conversation!"
   ]
  },
  {
   "cell_type": "markdown",
   "metadata": {
    "id": "pOBd6-YdQSvF"
   },
   "source": [
    "## Citing This Tutorial\n",
    "If you found this tutorial useful please consider citing it using the provided BibTeX. "
   ]
  },
  {
   "cell_type": "code",
   "execution_count": null,
   "metadata": {
    "id": "KZUk_9yIYw0c"
   },
   "outputs": [],
   "source": [
    "@manual{Intro7, \n",
    " title={Going Deeper on Molecular Featurizations}, \n",
    " organization={DeepChem},\n",
    " author={Ramsundar, Bharath}, \n",
    " howpublished = {\\url{https://github.com/deepchem/deepchem/blob/master/examples/tutorials/Going_Deeper_on_Molecular_Featurizations.ipynb}}, \n",
    " year={2021}, \n",
    "} "
   ]
  }
 ],
 "metadata": {
  "colab": {
   "name": "06_Going_Deeper_on_Molecular_Featurizations.ipynb",
   "provenance": []
  },
  "kernelspec": {
   "display_name": "Python 3",
   "language": "python",
   "name": "python3"
  },
  "language_info": {
   "codemirror_mode": {
    "name": "ipython",
    "version": 3
   },
   "file_extension": ".py",
   "mimetype": "text/x-python",
   "name": "python",
   "nbconvert_exporter": "python",
   "pygments_lexer": "ipython3",
   "version": "3.11.11"
  }
 },
 "nbformat": 4,
 "nbformat_minor": 1
}
